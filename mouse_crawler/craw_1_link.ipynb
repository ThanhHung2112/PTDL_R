{
 "cells": [
  {
   "cell_type": "code",
   "execution_count": 1,
   "id": "c96ba1af",
   "metadata": {},
   "outputs": [],
   "source": [
    "from selenium import webdriver\n",
    "import random\n",
    "from selenium.webdriver.common.keys import Keys\n",
    "from time import sleep\n",
    "import pandas as pd"
   ]
  },
  {
   "cell_type": "code",
   "execution_count": 2,
   "id": "2c6ecb9e",
   "metadata": {},
   "outputs": [
    {
     "name": "stderr",
     "output_type": "stream",
     "text": [
      "<ipython-input-2-128502d92428>:1: DeprecationWarning: executable_path has been deprecated, please pass in a Service object\n",
      "  browser = webdriver.Chrome(executable_path=\"chromedriver.exe\")\n"
     ]
    }
   ],
   "source": [
    "browser = webdriver.Chrome(executable_path=\"chromedriver.exe\")\n",
    "browser.get(\"https://tiki.vn/chuot-may-tinh-co-day-g5-es-chuot-gaming-dpi-4-cap-do-hieu-ung-den-nen-7-mau-hang-nhap-khau-p75614175.html?spid=91088172\")"
   ]
  },
  {
   "cell_type": "code",
   "execution_count": 3,
   "id": "a699d261",
   "metadata": {},
   "outputs": [],
   "source": [
    "browser.execute_script(\"window.scrollTo(0, document.body.scrollHeight);\")"
   ]
  },
  {
   "cell_type": "code",
   "execution_count": 4,
   "id": "14b4982f",
   "metadata": {},
   "outputs": [
    {
     "name": "stderr",
     "output_type": "stream",
     "text": [
      "<ipython-input-4-76acf42e0f80>:1: DeprecationWarning: find_element_by_* commands are deprecated. Please use find_element() instead\n",
      "  name = browser.find_element_by_class_name(\"title\")\n"
     ]
    },
    {
     "data": {
      "text/plain": [
       "'Chuột máy tính có dây G5 ES, chuột gaming DPI 4 cấp độ, hiệu ứng đèn nền 7 màu- Hàng nhập khẩu'"
      ]
     },
     "execution_count": 4,
     "metadata": {},
     "output_type": "execute_result"
    }
   ],
   "source": [
    "name = browser.find_element_by_class_name(\"title\")\n",
    "name.text"
   ]
  },
  {
   "cell_type": "code",
   "execution_count": 5,
   "id": "89b52f9c",
   "metadata": {},
   "outputs": [
    {
     "name": "stderr",
     "output_type": "stream",
     "text": [
      "<ipython-input-5-6dcaf1626ebd>:1: DeprecationWarning: find_element_by_* commands are deprecated. Please use find_element() instead\n",
      "  price = browser.find_element_by_class_name(\"product-price__current-price\")\n"
     ]
    },
    {
     "data": {
      "text/plain": [
       "'112.000 ₫'"
      ]
     },
     "execution_count": 5,
     "metadata": {},
     "output_type": "execute_result"
    }
   ],
   "source": [
    "price = browser.find_element_by_class_name(\"product-price__current-price\")\n",
    "price.text"
   ]
  },
  {
   "cell_type": "code",
   "execution_count": 6,
   "id": "b231ce22",
   "metadata": {},
   "outputs": [
    {
     "name": "stderr",
     "output_type": "stream",
     "text": [
      "<ipython-input-6-3bf5a754946e>:1: DeprecationWarning: find_element_by_* commands are deprecated. Please use find_element() instead\n",
      "  sold = browser.find_element_by_xpath(\"/html/body/div[1]/div[1]/main/div[3]/div[1]/div[3]/div[1]/div[2]/div[2]\")\n"
     ]
    },
    {
     "data": {
      "text/plain": [
       "'Đã bán 166'"
      ]
     },
     "execution_count": 6,
     "metadata": {},
     "output_type": "execute_result"
    }
   ],
   "source": [
    "sold = browser.find_element_by_xpath(\"/html/body/div[1]/div[1]/main/div[3]/div[1]/div[3]/div[1]/div[2]/div[2]\")\n",
    "sold.text"
   ]
  },
  {
   "cell_type": "code",
   "execution_count": 7,
   "id": "945f78aa",
   "metadata": {},
   "outputs": [
    {
     "name": "stdout",
     "output_type": "stream",
     "text": [
      "4.6\n"
     ]
    },
    {
     "name": "stderr",
     "output_type": "stream",
     "text": [
      "<ipython-input-7-0feda77d4dbc>:1: DeprecationWarning: find_element_by_* commands are deprecated. Please use find_element() instead\n",
      "  rate = browser.find_element_by_class_name('review-rating__point')\n"
     ]
    }
   ],
   "source": [
    "rate = browser.find_element_by_class_name('review-rating__point')\n",
    "print(rate.text)"
   ]
  },
  {
   "cell_type": "code",
   "execution_count": 8,
   "id": "4c91007c",
   "metadata": {},
   "outputs": [
    {
     "name": "stdout",
     "output_type": "stream",
     "text": [
      "58 nhận xét\n"
     ]
    },
    {
     "name": "stderr",
     "output_type": "stream",
     "text": [
      "<ipython-input-8-9ec92bc511e9>:1: DeprecationWarning: find_element_by_* commands are deprecated. Please use find_element() instead\n",
      "  review = browser.find_element_by_class_name('review-rating__total')\n"
     ]
    }
   ],
   "source": [
    "review = browser.find_element_by_class_name('review-rating__total')\n",
    "print(review.text)"
   ]
  },
  {
   "cell_type": "code",
   "execution_count": 9,
   "id": "21df23b7",
   "metadata": {},
   "outputs": [
    {
     "name": "stderr",
     "output_type": "stream",
     "text": [
      "<ipython-input-9-d2a1e6bbf2fb>:1: DeprecationWarning: find_elements_by_* commands are deprecated. Please use find_elements() instead\n",
      "  star = browser.find_elements_by_class_name(\"review-rating__number\")\n"
     ]
    }
   ],
   "source": [
    "star = browser.find_elements_by_class_name(\"review-rating__number\")\n",
    "star5 = star[0].text\n",
    "star4 = star[1].text\n",
    "star3 = star[2].text\n",
    "star2 = star[3].text\n",
    "star1 = star[4].text"
   ]
  },
  {
   "cell_type": "code",
   "execution_count": 10,
   "id": "aa04167c",
   "metadata": {},
   "outputs": [],
   "source": [
    "def rate_star(star1,star2,star3,star4,star5):\n",
    "    print(\"5 star :\",star5,\"\\n\"\n",
    "         \"4 star :\",star4,\"\\n\"\n",
    "         \"3 star :\",star3,\"\\n\"\n",
    "          \"2 star :\",star2,\"\\n\"\n",
    "          \"1 star :\",star1,\"\\n\")"
   ]
  },
  {
   "cell_type": "code",
   "execution_count": 11,
   "id": "25165722",
   "metadata": {},
   "outputs": [
    {
     "name": "stdout",
     "output_type": "stream",
     "text": [
      "5 star : 47 \n",
      "4 star : 7 \n",
      "3 star : 0 \n",
      "2 star : 1 \n",
      "1 star : 3 \n",
      "\n"
     ]
    }
   ],
   "source": [
    "rate_star(star1,star2,star3,star4,star5)"
   ]
  },
  {
   "cell_type": "code",
   "execution_count": 18,
   "id": "ecd91d71",
   "metadata": {},
   "outputs": [],
   "source": [
    "browser.execute_script(\"window.scrollTo(0, 2400)\") "
   ]
  },
  {
   "cell_type": "code",
   "execution_count": null,
   "id": "097a53df",
   "metadata": {},
   "outputs": [],
   "source": []
  }
 ],
 "metadata": {
  "kernelspec": {
   "display_name": "Python 3",
   "language": "python",
   "name": "python3"
  },
  "language_info": {
   "codemirror_mode": {
    "name": "ipython",
    "version": 3
   },
   "file_extension": ".py",
   "mimetype": "text/x-python",
   "name": "python",
   "nbconvert_exporter": "python",
   "pygments_lexer": "ipython3",
   "version": "3.9.5"
  }
 },
 "nbformat": 4,
 "nbformat_minor": 5
}
