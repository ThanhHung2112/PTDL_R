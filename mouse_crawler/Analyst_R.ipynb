{
 "cells": [
  {
   "cell_type": "code",
   "execution_count": 5,
   "id": "e72bd53d",
   "metadata": {},
   "outputs": [],
   "source": [
    "# packages\n",
    "#install.packages(\"ggcharts\")\n",
    "#install.packages(\"rhandsontable\")\n",
    "#install.packages(\"gridExtra\")\n",
    "#install.packages(\"Hmisc\")\n",
    "#install.packages(\"tidyverse\")\n",
    "#install.packages(\"plyr\")\n",
    "#install.packages(\"corrplot\")\n",
    "#install.packages(\"ggpubr\")\n",
    "#install.packages(\"ggstatsplot\")\n",
    "#install.packages(\"palmerpenguins\")\n",
    "library(ggstatsplot)\n",
    "library(palmerpenguins)\n",
    "library(ggpubr)\n",
    "library(tidyverse)\n",
    "library(Hmisc)\n",
    "library(rhandsontable)\n",
    "library(readxl)\n",
    "library(plyr)\n",
    "library(corrplot)\n",
    "# turn off warning\n",
    "options(warn=0)"
   ]
  },
  {
   "cell_type": "markdown",
   "id": "75c8b908",
   "metadata": {},
   "source": [
    "Tôi đã đưa file dữ liệu này lên github nên ở đây tôi sẽ đọc trực tiếp nó từ github, như vậy thì bất cứ ai khi tải source code này về đều có thể đọc ngay được mà không cần tải file dữ liệu.\n",
    " "
   ]
  },
  {
   "cell_type": "code",
   "execution_count": 6,
   "id": "bcc6e62e",
   "metadata": {},
   "outputs": [],
   "source": [
    "url <-\"https://raw.githubusercontent.com/ThanhHung2112/PTDL_R/main/mouse_crawler/Ecommer_tiki(mouse).csv\"\n",
    "df <- read.csv('Ecommer_tiki(mouse).csv', header = TRUE, quote = \"\\\"\",  fill = TRUE, comment.char = \"\", encoding = \"UTF-8\")"
   ]
  },
  {
   "cell_type": "code",
   "execution_count": 7,
   "id": "b943c60d",
   "metadata": {},
   "outputs": [
    {
     "data": {
      "text/html": [
       "<table class=\"dataframe\">\n",
       "<caption>A data.frame: 6 × 19</caption>\n",
       "<thead>\n",
       "\t<tr><th></th><th scope=col>X</th><th scope=col>Name</th><th scope=col>Product_price</th><th scope=col>Discount</th><th scope=col>Sale_price</th><th scope=col>Shop</th><th scope=col>Brand</th><th scope=col>Warranty</th><th scope=col>Warranty_way</th><th scope=col>Warranty_place</th><th scope=col>Sold</th><th scope=col>Rate</th><th scope=col>Comment</th><th scope=col>X5</th><th scope=col>X4</th><th scope=col>X3</th><th scope=col>X2</th><th scope=col>X1</th><th scope=col>m_link</th></tr>\n",
       "\t<tr><th></th><th scope=col>&lt;int&gt;</th><th scope=col>&lt;chr&gt;</th><th scope=col>&lt;dbl&gt;</th><th scope=col>&lt;dbl&gt;</th><th scope=col>&lt;dbl&gt;</th><th scope=col>&lt;chr&gt;</th><th scope=col>&lt;chr&gt;</th><th scope=col>&lt;int&gt;</th><th scope=col>&lt;chr&gt;</th><th scope=col>&lt;chr&gt;</th><th scope=col>&lt;int&gt;</th><th scope=col>&lt;dbl&gt;</th><th scope=col>&lt;int&gt;</th><th scope=col>&lt;int&gt;</th><th scope=col>&lt;int&gt;</th><th scope=col>&lt;int&gt;</th><th scope=col>&lt;int&gt;</th><th scope=col>&lt;int&gt;</th><th scope=col>&lt;chr&gt;</th></tr>\n",
       "</thead>\n",
       "<tbody>\n",
       "\t<tr><th scope=row>1</th><td>0</td><td><span style=white-space:pre-wrap>Chu&lt;U+1ED9&gt;t máy vi tính Bosston D608 led - Hàng Chính Hãng                                                                                                      </span></td><td> 60</td><td>0.05</td><td> 57.1</td><td><span style=white-space:pre-wrap>                   </span></td><td>Bossto</td><td> 0</td><td><span style=white-space:pre-wrap>0                  </span></td><td><span style=white-space:pre-wrap>0                                                     </span></td><td> 364</td><td>4.7</td><td> 93</td><td> 78</td><td> 8</td><td>5</td><td>0</td><td>2</td><td><span style=white-space:pre-wrap>https://tiki.vn/chuot-may-vi-tinh-bosston-d608-led-hang-chinh-hang-p9355345.html?spid=56764717                                            </span></td></tr>\n",
       "\t<tr><th scope=row>2</th><td>1</td><td><span style=white-space:pre-wrap>Chu&lt;U+1ED9&gt;t máy tính có dây EDRA EM602 Ð&lt;U+1ED9&gt; Phân Gi&lt;U+1EA3&gt;i 1200 DPI, choi game, cho Laptop hàng chính hãng                                               </span></td><td>148</td><td>0.00</td><td>148.0</td><td>Extreme Zero Online</td><td>E-DRA </td><td>24</td><td>Tem b&lt;U+1EA3&gt;o hành</td><td><span style=white-space:pre-wrap>B&lt;U+1EA3&gt;o hành chính hãng                            </span></td><td><span style=white-space:pre-wrap>  85</span></td><td>4.9</td><td> 24</td><td> 22</td><td> 2</td><td>0</td><td>0</td><td>0</td><td><span style=white-space:pre-wrap>https://tiki.vn/chuot-may-tinh-co-day-edra-em602-do-phan-giai-1200-dpi-choi-game-cho-laptop-hang-chinh-hang-p74463237.html?spid=90107321  </span></td></tr>\n",
       "\t<tr><th scope=row>3</th><td>2</td><td><span style=white-space:pre-wrap>Chu&lt;U+1ED9&gt;t máy tính có dây G5 ES, chu&lt;U+1ED9&gt;t gaming DPI 4 c&lt;U+1EA5&gt;p d&lt;U+1ED9&gt;, hi&lt;U+1EC7&gt;u &lt;U+1EE9&gt;ng dèn n&lt;U+1EC1&gt;n 7 màu- Hàng nh&lt;U+1EAD&gt;p kh&lt;U+1EA9&gt;u    </span></td><td>129</td><td>0.00</td><td>129.0</td><td>HOÀNG NHÂN COMPUTER</td><td>Zealot</td><td> 3</td><td>Tem b&lt;U+1EA3&gt;o hành</td><td>B&lt;U+1EA3&gt;o hành b&lt;U+1EDF&gt;i nhà bán hàng thông qua Tiki</td><td> 185</td><td>4.7</td><td> 64</td><td> 53</td><td> 7</td><td>0</td><td>1</td><td>3</td><td><span style=white-space:pre-wrap>https://tiki.vn/chuot-may-tinh-co-day-g5-es-chuot-gaming-dpi-4-cap-do-hieu-ung-den-nen-7-mau-hang-nhap-khau-p75614175.html?spid=91088172  </span></td></tr>\n",
       "\t<tr><th scope=row>4</th><td>3</td><td><span style=white-space:pre-wrap>Chu&lt;U+1ED9&gt;t máy tính Newmen G10 - Hàng Chính Hãng                                                                                                               </span></td><td>145</td><td>0.00</td><td>145.0</td><td><span style=white-space:pre-wrap>Vi Tính Lê Huy     </span></td><td>Newme </td><td> 0</td><td><span style=white-space:pre-wrap>0                  </span></td><td><span style=white-space:pre-wrap>0                                                     </span></td><td>1000</td><td>4.7</td><td>135</td><td>106</td><td>20</td><td>6</td><td>0</td><td>3</td><td><span style=white-space:pre-wrap>https://tiki.vn/chuot-may-tinh-newmen-g10-hang-chinh-hang-p7975728.html?spid=7975732                                                      </span></td></tr>\n",
       "\t<tr><th scope=row>5</th><td>4</td><td><span style=white-space:pre-wrap>Chu&lt;U+1ED9&gt;t máy tính van phòng T&lt;U+1EB7&gt;ng lót chu&lt;U+1ED9&gt;t cao c&lt;U+1EA5&gt;p                                                                                      </span></td><td>158</td><td>0.00</td><td>158.0</td><td><span style=white-space:pre-wrap>VLC6 Store         </span></td><td><span style=white-space:pre-wrap>OEM   </span></td><td> 0</td><td><span style=white-space:pre-wrap>0                  </span></td><td><span style=white-space:pre-wrap>0                                                     </span></td><td><span style=white-space:pre-wrap>  55</span></td><td>5.0</td><td><span style=white-space:pre-wrap>  9</span></td><td><span style=white-space:pre-wrap>  9</span></td><td> 0</td><td>0</td><td>0</td><td>0</td><td><span style=white-space:pre-wrap>https://tiki.vn/chuot-may-tinh-van-phong-tang-lot-chuot-cao-cap-p86900816.html?spid=120777689                                             </span></td></tr>\n",
       "\t<tr><th scope=row>6</th><td>5</td><td>Chu&lt;U+1ED9&gt;t van phòng có dây, chu&lt;U+1ED9&gt;t Game HXSJ A885 DPI 5500, RGB d&lt;U+1ED5&gt;i 7 màu liên t&lt;U+1EE5&gt;c, chuyên dùng cho laptop, máy tính, pc - Hàng chính hãng</td><td>299</td><td>0.36</td><td>192.0</td><td>HXSJ Official Store</td><td><span style=white-space:pre-wrap>HXSJ  </span></td><td> 6</td><td><span style=white-space:pre-wrap>Hóa don            </span></td><td>B&lt;U+1EA3&gt;o hành b&lt;U+1EDF&gt;i nhà bán hàng thông qua Tiki</td><td><span style=white-space:pre-wrap>  39</span></td><td>5.0</td><td> 13</td><td> 13</td><td> 0</td><td>0</td><td>0</td><td>0</td><td>https://tiki.vn/chuot-van-phong-co-day-chuot-game-hxsj-a885-dpi-5500-rgb-doi-7-mau-lien-tuc-hang-chinh-hang-p121169235.html?spid=121169237</td></tr>\n",
       "</tbody>\n",
       "</table>\n"
      ],
      "text/latex": [
       "A data.frame: 6 × 19\n",
       "\\begin{tabular}{r|lllllllllllllllllll}\n",
       "  & X & Name & Product\\_price & Discount & Sale\\_price & Shop & Brand & Warranty & Warranty\\_way & Warranty\\_place & Sold & Rate & Comment & X5 & X4 & X3 & X2 & X1 & m\\_link\\\\\n",
       "  & <int> & <chr> & <dbl> & <dbl> & <dbl> & <chr> & <chr> & <int> & <chr> & <chr> & <int> & <dbl> & <int> & <int> & <int> & <int> & <int> & <int> & <chr>\\\\\n",
       "\\hline\n",
       "\t1 & 0 & Chu<U+1ED9>t máy vi tính Bosston D608 led - Hàng Chính Hãng                                                                                                       &  60 & 0.05 &  57.1 &                     & Bossto &  0 & 0                   & 0                                                      &  364 & 4.7 &  93 &  78 &  8 & 5 & 0 & 2 & https://tiki.vn/chuot-may-vi-tinh-bosston-d608-led-hang-chinh-hang-p9355345.html?spid=56764717                                            \\\\\n",
       "\t2 & 1 & Chu<U+1ED9>t máy tính có dây EDRA EM602 Ð<U+1ED9> Phân Gi<U+1EA3>i 1200 DPI, choi game, cho Laptop hàng chính hãng                                                & 148 & 0.00 & 148.0 & Extreme Zero Online & E-DRA  & 24 & Tem b<U+1EA3>o hành & B<U+1EA3>o hành chính hãng                             &   85 & 4.9 &  24 &  22 &  2 & 0 & 0 & 0 & https://tiki.vn/chuot-may-tinh-co-day-edra-em602-do-phan-giai-1200-dpi-choi-game-cho-laptop-hang-chinh-hang-p74463237.html?spid=90107321  \\\\\n",
       "\t3 & 2 & Chu<U+1ED9>t máy tính có dây G5 ES, chu<U+1ED9>t gaming DPI 4 c<U+1EA5>p d<U+1ED9>, hi<U+1EC7>u <U+1EE9>ng dèn n<U+1EC1>n 7 màu- Hàng nh<U+1EAD>p kh<U+1EA9>u     & 129 & 0.00 & 129.0 & HOÀNG NHÂN COMPUTER & Zealot &  3 & Tem b<U+1EA3>o hành & B<U+1EA3>o hành b<U+1EDF>i nhà bán hàng thông qua Tiki &  185 & 4.7 &  64 &  53 &  7 & 0 & 1 & 3 & https://tiki.vn/chuot-may-tinh-co-day-g5-es-chuot-gaming-dpi-4-cap-do-hieu-ung-den-nen-7-mau-hang-nhap-khau-p75614175.html?spid=91088172  \\\\\n",
       "\t4 & 3 & Chu<U+1ED9>t máy tính Newmen G10 - Hàng Chính Hãng                                                                                                                & 145 & 0.00 & 145.0 & Vi Tính Lê Huy      & Newme  &  0 & 0                   & 0                                                      & 1000 & 4.7 & 135 & 106 & 20 & 6 & 0 & 3 & https://tiki.vn/chuot-may-tinh-newmen-g10-hang-chinh-hang-p7975728.html?spid=7975732                                                      \\\\\n",
       "\t5 & 4 & Chu<U+1ED9>t máy tính van phòng T<U+1EB7>ng lót chu<U+1ED9>t cao c<U+1EA5>p                                                                                       & 158 & 0.00 & 158.0 & VLC6 Store          & OEM    &  0 & 0                   & 0                                                      &   55 & 5.0 &   9 &   9 &  0 & 0 & 0 & 0 & https://tiki.vn/chuot-may-tinh-van-phong-tang-lot-chuot-cao-cap-p86900816.html?spid=120777689                                             \\\\\n",
       "\t6 & 5 & Chu<U+1ED9>t van phòng có dây, chu<U+1ED9>t Game HXSJ A885 DPI 5500, RGB d<U+1ED5>i 7 màu liên t<U+1EE5>c, chuyên dùng cho laptop, máy tính, pc - Hàng chính hãng & 299 & 0.36 & 192.0 & HXSJ Official Store & HXSJ   &  6 & Hóa don             & B<U+1EA3>o hành b<U+1EDF>i nhà bán hàng thông qua Tiki &   39 & 5.0 &  13 &  13 &  0 & 0 & 0 & 0 & https://tiki.vn/chuot-van-phong-co-day-chuot-game-hxsj-a885-dpi-5500-rgb-doi-7-mau-lien-tuc-hang-chinh-hang-p121169235.html?spid=121169237\\\\\n",
       "\\end{tabular}\n"
      ],
      "text/markdown": [
       "\n",
       "A data.frame: 6 × 19\n",
       "\n",
       "| <!--/--> | X &lt;int&gt; | Name &lt;chr&gt; | Product_price &lt;dbl&gt; | Discount &lt;dbl&gt; | Sale_price &lt;dbl&gt; | Shop &lt;chr&gt; | Brand &lt;chr&gt; | Warranty &lt;int&gt; | Warranty_way &lt;chr&gt; | Warranty_place &lt;chr&gt; | Sold &lt;int&gt; | Rate &lt;dbl&gt; | Comment &lt;int&gt; | X5 &lt;int&gt; | X4 &lt;int&gt; | X3 &lt;int&gt; | X2 &lt;int&gt; | X1 &lt;int&gt; | m_link &lt;chr&gt; |\n",
       "|---|---|---|---|---|---|---|---|---|---|---|---|---|---|---|---|---|---|---|---|\n",
       "| 1 | 0 | Chu&lt;U+1ED9&gt;t máy vi tính Bosston D608 led - Hàng Chính Hãng                                                                                                       |  60 | 0.05 |  57.1 | <!----> | Bossto |  0 | 0                   | 0                                                      |  364 | 4.7 |  93 |  78 |  8 | 5 | 0 | 2 | https://tiki.vn/chuot-may-vi-tinh-bosston-d608-led-hang-chinh-hang-p9355345.html?spid=56764717                                             |\n",
       "| 2 | 1 | Chu&lt;U+1ED9&gt;t máy tính có dây EDRA EM602 Ð&lt;U+1ED9&gt; Phân Gi&lt;U+1EA3&gt;i 1200 DPI, choi game, cho Laptop hàng chính hãng                                                | 148 | 0.00 | 148.0 | Extreme Zero Online | E-DRA  | 24 | Tem b&lt;U+1EA3&gt;o hành | B&lt;U+1EA3&gt;o hành chính hãng                             |   85 | 4.9 |  24 |  22 |  2 | 0 | 0 | 0 | https://tiki.vn/chuot-may-tinh-co-day-edra-em602-do-phan-giai-1200-dpi-choi-game-cho-laptop-hang-chinh-hang-p74463237.html?spid=90107321   |\n",
       "| 3 | 2 | Chu&lt;U+1ED9&gt;t máy tính có dây G5 ES, chu&lt;U+1ED9&gt;t gaming DPI 4 c&lt;U+1EA5&gt;p d&lt;U+1ED9&gt;, hi&lt;U+1EC7&gt;u &lt;U+1EE9&gt;ng dèn n&lt;U+1EC1&gt;n 7 màu- Hàng nh&lt;U+1EAD&gt;p kh&lt;U+1EA9&gt;u     | 129 | 0.00 | 129.0 | HOÀNG NHÂN COMPUTER | Zealot |  3 | Tem b&lt;U+1EA3&gt;o hành | B&lt;U+1EA3&gt;o hành b&lt;U+1EDF&gt;i nhà bán hàng thông qua Tiki |  185 | 4.7 |  64 |  53 |  7 | 0 | 1 | 3 | https://tiki.vn/chuot-may-tinh-co-day-g5-es-chuot-gaming-dpi-4-cap-do-hieu-ung-den-nen-7-mau-hang-nhap-khau-p75614175.html?spid=91088172   |\n",
       "| 4 | 3 | Chu&lt;U+1ED9&gt;t máy tính Newmen G10 - Hàng Chính Hãng                                                                                                                | 145 | 0.00 | 145.0 | Vi Tính Lê Huy      | Newme  |  0 | 0                   | 0                                                      | 1000 | 4.7 | 135 | 106 | 20 | 6 | 0 | 3 | https://tiki.vn/chuot-may-tinh-newmen-g10-hang-chinh-hang-p7975728.html?spid=7975732                                                       |\n",
       "| 5 | 4 | Chu&lt;U+1ED9&gt;t máy tính van phòng T&lt;U+1EB7&gt;ng lót chu&lt;U+1ED9&gt;t cao c&lt;U+1EA5&gt;p                                                                                       | 158 | 0.00 | 158.0 | VLC6 Store          | OEM    |  0 | 0                   | 0                                                      |   55 | 5.0 |   9 |   9 |  0 | 0 | 0 | 0 | https://tiki.vn/chuot-may-tinh-van-phong-tang-lot-chuot-cao-cap-p86900816.html?spid=120777689                                              |\n",
       "| 6 | 5 | Chu&lt;U+1ED9&gt;t van phòng có dây, chu&lt;U+1ED9&gt;t Game HXSJ A885 DPI 5500, RGB d&lt;U+1ED5&gt;i 7 màu liên t&lt;U+1EE5&gt;c, chuyên dùng cho laptop, máy tính, pc - Hàng chính hãng | 299 | 0.36 | 192.0 | HXSJ Official Store | HXSJ   |  6 | Hóa don             | B&lt;U+1EA3&gt;o hành b&lt;U+1EDF&gt;i nhà bán hàng thông qua Tiki |   39 | 5.0 |  13 |  13 |  0 | 0 | 0 | 0 | https://tiki.vn/chuot-van-phong-co-day-chuot-game-hxsj-a885-dpi-5500-rgb-doi-7-mau-lien-tuc-hang-chinh-hang-p121169235.html?spid=121169237 |\n",
       "\n"
      ],
      "text/plain": [
       "  X\n",
       "1 0\n",
       "2 1\n",
       "3 2\n",
       "4 3\n",
       "5 4\n",
       "6 5\n",
       "  Name                                                                                                                                                             \n",
       "1 Chu<U+1ED9>t máy vi tính Bosston D608 led - Hàng Chính Hãng                                                                                                      \n",
       "2 Chu<U+1ED9>t máy tính có dây EDRA EM602 Ð<U+1ED9> Phân Gi<U+1EA3>i 1200 DPI, choi game, cho Laptop hàng chính hãng                                               \n",
       "3 Chu<U+1ED9>t máy tính có dây G5 ES, chu<U+1ED9>t gaming DPI 4 c<U+1EA5>p d<U+1ED9>, hi<U+1EC7>u <U+1EE9>ng dèn n<U+1EC1>n 7 màu- Hàng nh<U+1EAD>p kh<U+1EA9>u    \n",
       "4 Chu<U+1ED9>t máy tính Newmen G10 - Hàng Chính Hãng                                                                                                               \n",
       "5 Chu<U+1ED9>t máy tính van phòng T<U+1EB7>ng lót chu<U+1ED9>t cao c<U+1EA5>p                                                                                      \n",
       "6 Chu<U+1ED9>t van phòng có dây, chu<U+1ED9>t Game HXSJ A885 DPI 5500, RGB d<U+1ED5>i 7 màu liên t<U+1EE5>c, chuyên dùng cho laptop, máy tính, pc - Hàng chính hãng\n",
       "  Product_price Discount Sale_price Shop                Brand  Warranty\n",
       "1  60           0.05      57.1                          Bossto  0      \n",
       "2 148           0.00     148.0      Extreme Zero Online E-DRA  24      \n",
       "3 129           0.00     129.0      HOÀNG NHÂN COMPUTER Zealot  3      \n",
       "4 145           0.00     145.0      Vi Tính Lê Huy      Newme   0      \n",
       "5 158           0.00     158.0      VLC6 Store          OEM     0      \n",
       "6 299           0.36     192.0      HXSJ Official Store HXSJ    6      \n",
       "  Warranty_way        Warranty_place                                        \n",
       "1 0                   0                                                     \n",
       "2 Tem b<U+1EA3>o hành B<U+1EA3>o hành chính hãng                            \n",
       "3 Tem b<U+1EA3>o hành B<U+1EA3>o hành b<U+1EDF>i nhà bán hàng thông qua Tiki\n",
       "4 0                   0                                                     \n",
       "5 0                   0                                                     \n",
       "6 Hóa don             B<U+1EA3>o hành b<U+1EDF>i nhà bán hàng thông qua Tiki\n",
       "  Sold Rate Comment X5  X4 X3 X2 X1\n",
       "1  364 4.7   93      78  8 5  0  2 \n",
       "2   85 4.9   24      22  2 0  0  0 \n",
       "3  185 4.7   64      53  7 0  1  3 \n",
       "4 1000 4.7  135     106 20 6  0  3 \n",
       "5   55 5.0    9       9  0 0  0  0 \n",
       "6   39 5.0   13      13  0 0  0  0 \n",
       "  m_link                                                                                                                                    \n",
       "1 https://tiki.vn/chuot-may-vi-tinh-bosston-d608-led-hang-chinh-hang-p9355345.html?spid=56764717                                            \n",
       "2 https://tiki.vn/chuot-may-tinh-co-day-edra-em602-do-phan-giai-1200-dpi-choi-game-cho-laptop-hang-chinh-hang-p74463237.html?spid=90107321  \n",
       "3 https://tiki.vn/chuot-may-tinh-co-day-g5-es-chuot-gaming-dpi-4-cap-do-hieu-ung-den-nen-7-mau-hang-nhap-khau-p75614175.html?spid=91088172  \n",
       "4 https://tiki.vn/chuot-may-tinh-newmen-g10-hang-chinh-hang-p7975728.html?spid=7975732                                                      \n",
       "5 https://tiki.vn/chuot-may-tinh-van-phong-tang-lot-chuot-cao-cap-p86900816.html?spid=120777689                                             \n",
       "6 https://tiki.vn/chuot-van-phong-co-day-chuot-game-hxsj-a885-dpi-5500-rgb-doi-7-mau-lien-tuc-hang-chinh-hang-p121169235.html?spid=121169237"
      ]
     },
     "metadata": {},
     "output_type": "display_data"
    }
   ],
   "source": [
    "head(df)"
   ]
  },
  {
   "cell_type": "markdown",
   "id": "2454ef65",
   "metadata": {},
   "source": [
    "# Data Information( Thông số dữ liệu)\n",
    "\n",
    "Sau khi mở file dữ liệu chúng ta sử dụng một số hàm để kiểm tra dữ liệu và xác định tính chất của dữ liệu\n",
    "\n",
    "Các hàm sau đây sẽ cho chúng ta thông tin về việc:\n",
    " + Missing data( thiếu dữ liệu)\n",
    " + Số cột, dòng\n",
    " + Thuộc tính dữ liệu( số, ký tự)\n",
    "\n",
    "Từ đó, ta có thể dễ dàng xác định các biến định tính và định lượng"
   ]
  },
  {
   "cell_type": "code",
   "execution_count": 8,
   "id": "cef02656",
   "metadata": {},
   "outputs": [
    {
     "name": "stdout",
     "output_type": "stream",
     "text": [
      "'data.frame':\t252 obs. of  19 variables:\n",
      " $ X             : int  0 1 2 3 4 5 6 7 8 9 ...\n",
      " $ Name          : chr  \"Chu<U+1ED9>t máy vi tính Bosston D608 led - Hàng Chính Hãng\" \"Chu<U+1ED9>t máy tính có dây EDRA EM602 Ð<U+1ED9> Phân Gi<U+1EA3>i 1200 DPI, choi game, cho Laptop hàng chính hãng\" \"Chu<U+1ED9>t máy tính có dây G5 ES, chu<U+1ED9>t gaming DPI 4 c<U+1EA5>p d<U+1ED9>, hi<U+1EC7>u <U+1EE9>ng dèn \"| __truncated__ \"Chu<U+1ED9>t máy tính Newmen G10 - Hàng Chính Hãng\" ...\n",
      " $ Product_price : num  60 148 129 145 158 ...\n",
      " $ Discount      : num  0.05 0 0 0 0 0.36 0 0.26 0 0 ...\n",
      " $ Sale_price    : num  57.1 148 129 145 158 ...\n",
      " $ Shop          : chr  \"\" \"Extreme Zero Online\" \"HOÀNG NHÂN COMPUTER\" \"Vi Tính Lê Huy\" ...\n",
      " $ Brand         : chr  \"Bossto\" \"E-DRA\" \"Zealot\" \"Newme\" ...\n",
      " $ Warranty      : int  0 24 3 0 0 6 1 12 0 3 ...\n",
      " $ Warranty_way  : chr  \"0\" \"Tem b<U+1EA3>o hành\" \"Tem b<U+1EA3>o hành\" \"0\" ...\n",
      " $ Warranty_place: chr  \"0\" \"B<U+1EA3>o hành chính hãng\" \"B<U+1EA3>o hành b<U+1EDF>i nhà bán hàng thông qua Tiki\" \"0\" ...\n",
      " $ Sold          : int  364 85 185 1000 55 39 204 15 111 35 ...\n",
      " $ Rate          : num  4.7 4.9 4.7 4.7 5 5 4.5 5 4.7 4.4 ...\n",
      " $ Comment       : int  93 24 64 135 9 13 79 4 29 11 ...\n",
      " $ X5            : int  78 22 53 106 9 13 51 4 22 7 ...\n",
      " $ X4            : int  8 2 7 20 0 0 18 0 5 3 ...\n",
      " $ X3            : int  5 0 0 6 0 0 8 0 1 0 ...\n",
      " $ X2            : int  0 0 1 0 0 0 1 0 1 0 ...\n",
      " $ X1            : int  2 0 3 3 0 0 1 0 0 1 ...\n",
      " $ m_link        : chr  \"https://tiki.vn/chuot-may-vi-tinh-bosston-d608-led-hang-chinh-hang-p9355345.html?spid=56764717\" \"https://tiki.vn/chuot-may-tinh-co-day-edra-em602-do-phan-giai-1200-dpi-choi-game-cho-laptop-hang-chinh-hang-p74\"| __truncated__ \"https://tiki.vn/chuot-may-tinh-co-day-g5-es-chuot-gaming-dpi-4-cap-do-hieu-ung-den-nen-7-mau-hang-nhap-khau-p75\"| __truncated__ \"https://tiki.vn/chuot-may-tinh-newmen-g10-hang-chinh-hang-p7975728.html?spid=7975732\" ...\n"
     ]
    }
   ],
   "source": [
    "# shows the structure of the data frame\n",
    "str(df)"
   ]
  },
  {
   "cell_type": "code",
   "execution_count": 9,
   "id": "ece2acc7",
   "metadata": {},
   "outputs": [
    {
     "data": {
      "text/plain": [
       "df \n",
       "\n",
       " 19  Variables      252  Observations\n",
       "--------------------------------------------------------------------------------\n",
       "X \n",
       "       n  missing distinct     Info     Mean      Gmd      .05      .10 \n",
       "     252        0      252        1    125.5    84.33    12.55    25.10 \n",
       "     .25      .50      .75      .90      .95 \n",
       "   62.75   125.50   188.25   225.90   238.45 \n",
       "\n",
       "lowest :   0   1   2   3   4, highest: 247 248 249 250 251\n",
       "--------------------------------------------------------------------------------\n",
       "Name \n",
       "       n  missing distinct \n",
       "     252        0      246 \n",
       "\n",
       "lowest : .Chu<U+1ED9>t Máy Tính có dây Forter FT - 3900P C<U+1EF1>c B<U+1EC1>n Hàng nh<U+1EAD>p kh<U+1EA9>u                                                                                     [ XU<U+1EA4>T KH<U+1EA8>U M<U+1EF8> ] - CHU<U+1ED8>T BLUETOOTH KHÔNG DÂY MÁY TÍNH CHOI GAME - GAME TH<U+1EE6> CHUYÊN NGHI<U+1EC6>P - THE DEOSD - TD-WME29 - HÀNG CHÍNH HÃNG            [Lo<U+1EA1>i T<U+1ED1>t] Chu<U+1ED9>t Dây Máy Tính KhoNCC RFN100 Hàng Chính Hãng - Ð<U+1ED9> Nh<U+1EA1>y Ð<U+1EBF>n 1600dpi - C<U+1ED5>ng USB Dây 1.5 mét - KLVQ-3288-RPN100           {SIÊU R<U+1EBA>} Chu<U+1ED9>t Game Có Dây LED d<U+1ED5>i màu c<U+1EF1>c d<U+1EB9>p chuyên gaming, dây siêu b<U+1EC1>n, ch<U+1EC9>nh du<U+1EE3>c dpi m<U+1EAB>u m<U+1EDB>i 2020 -DC4245 B<U+1ED9> Bàn Phím Và Chu<U+1ED9>t Choi Game Có 10 Ch<U+1EBF> Ð<U+1ED9> Led Khác Nhau XSmart T6RGB Super PRO 2021 Tuong Thích Máy Tính PC Laptop - Hàng Chính Hãng                    \n",
       "highest: K<U+1EB8>P ÐI<U+1EC6>N THO<U+1EA0>I HÌNH CHU<U+1ED8>T MÁY TÍNH SIÊU G<U+1ECC>N                                                                                                         LÓT CHU<U+1ED8>T HELLO KITTY KITTY HOUSE                                                                                                                                               Máy Tính CASIO FX580VN X                                                                                                                                                               Máy Tính Khoa H<U+1ECD>c Casio FX-580VN X                                                                                                                                              T<U+1EB7>ng bàn di chu<U+1ED9>t cao c<U+1EA5>p - Chu<U+1ED9>t choi game K059 phù h<U+1EE3>p v<U+1EDB>i m<U+1ECD>i game th<U+1EE7> - Hàng nh<U+1EAD>p kh<U+1EA9>u                      \n",
       "--------------------------------------------------------------------------------\n",
       "Product_price \n",
       "       n  missing distinct     Info     Mean      Gmd      .05      .10 \n",
       "     252        0      120        1    184.2    156.6    52.75    69.00 \n",
       "     .25      .50      .75      .90      .95 \n",
       "   89.00   121.50   189.00   358.00   499.00 \n",
       "\n",
       "lowest :   35.0   38.0   39.0   40.0   43.5, highest:  990.0 1149.0 1200.0 1580.0 2090.0\n",
       "--------------------------------------------------------------------------------\n",
       "Discount \n",
       "       n  missing distinct     Info     Mean      Gmd      .05      .10 \n",
       "     252        0       28    0.485  0.04647  0.08204   0.0000   0.0000 \n",
       "     .25      .50      .75      .90      .95 \n",
       "  0.0000   0.0000   0.0000   0.2170   0.3445 \n",
       "\n",
       "lowest : 0.00 0.05 0.06 0.07 0.09, highest: 0.43 0.46 0.55 0.58 0.88\n",
       "--------------------------------------------------------------------------------\n",
       "Sale_price \n",
       "       n  missing distinct     Info     Mean      Gmd      .05      .10 \n",
       "     252        0      136        1    167.7    133.8    49.55    68.00 \n",
       "     .25      .50      .75      .90      .95 \n",
       "   86.00   120.00   179.00   286.20   433.55 \n",
       "\n",
       "lowest :   30.0   35.0   38.0   39.0   40.0, highest:  650.0  699.0  990.0 1489.9 2090.0\n",
       "--------------------------------------------------------------------------------\n",
       "Shop \n",
       "       n  missing distinct \n",
       "     234       18      120 \n",
       "\n",
       "lowest : AB STORE               AChauComputer          AIG MediaTech          Allmall                Anh Tr<U+1ECB>nh LInh \n",
       "highest: Vstar Technology Store Wook Store             XSmart                 Yes or No              ZADEZ Official Store  \n",
       "--------------------------------------------------------------------------------\n",
       "Brand \n",
       "       n  missing distinct \n",
       "     252        0       66 \n",
       "\n",
       "lowest : #NAME?  A4Tec   ACTTO   ADBLink Ajazz  \n",
       "highest: VSP     XSmart  Xtec    Zadez   Zealot \n",
       "--------------------------------------------------------------------------------\n",
       "Warranty \n",
       "       n  missing distinct     Info     Mean      Gmd      .05      .10 \n",
       "     252        0       11    0.895    6.905    8.663        0        0 \n",
       "     .25      .50      .75      .90      .95 \n",
       "       0        3       12       12       24 \n",
       "\n",
       "lowest :  0  1  3  6  9, highest: 12 18 24 36 84\n",
       "                                                                            \n",
       "Value          0     1     3     6     9    11    12    18    24    36    84\n",
       "Frequency    108     7    19    19     1     1    74     1    17     4     1\n",
       "Proportion 0.429 0.028 0.075 0.075 0.004 0.004 0.294 0.004 0.067 0.016 0.004\n",
       "--------------------------------------------------------------------------------\n",
       "Warranty_way \n",
       "       n  missing distinct \n",
       "     252        0        5 \n",
       "\n",
       "lowest : 0                            Ði<U+1EC7>n t<U+1EED>        Hóa don                      Phi<U+1EBF>u b<U+1EA3>o hành Tem b<U+1EA3>o hành         \n",
       "highest: 0                            Ði<U+1EC7>n t<U+1EED>        Hóa don                      Phi<U+1EBF>u b<U+1EA3>o hành Tem b<U+1EA3>o hành         \n",
       "\n",
       "0 (118, 0.468), Ði<U+1EC7>n t<U+1EED> (21, 0.083), Hóa don (24, 0.095), Phi<U+1EBF>u b<U+1EA3>o hành (9,\n",
       "0.036), Tem b<U+1EA3>o hành (80, 0.317)\n",
       "--------------------------------------------------------------------------------\n",
       "Warranty_place \n",
       "       n  missing distinct \n",
       "     252        0        3 \n",
       "\n",
       "0 (118, 0.468), B<U+1EA3>o hành b<U+1EDF>i nhà bán hàng thông qua Tiki (70, 0.278), B<U+1EA3>o hành\n",
       "chính hãng (64, 0.254)\n",
       "--------------------------------------------------------------------------------\n",
       "Sold \n",
       "       n  missing distinct     Info     Mean      Gmd      .05      .10 \n",
       "     252        0       69    0.859    66.89    117.8     0.00     0.00 \n",
       "     .25      .50      .75      .90      .95 \n",
       "    0.00     0.00    22.25   162.20   404.60 \n",
       "\n",
       "lowest :    0    1    2    3    4, highest:  575  602  706  727 1000\n",
       "--------------------------------------------------------------------------------\n",
       "Rate \n",
       "       n  missing distinct     Info     Mean      Gmd      .05      .10 \n",
       "     252        0       18    0.864    2.169    2.395      0.0      0.0 \n",
       "     .25      .50      .75      .90      .95 \n",
       "     0.0      0.0      4.7      5.0      5.0 \n",
       "\n",
       "lowest : 0.0 1.0 1.5 2.0 3.0, highest: 4.6 4.7 4.8 4.9 5.0\n",
       "                                                                            \n",
       "Value        0.0   1.0   1.5   2.0   3.0   3.5   3.8   4.0   4.1   4.2   4.3\n",
       "Frequency    129     2     1     2     7     1     1     8     1     3     4\n",
       "Proportion 0.512 0.008 0.004 0.008 0.028 0.004 0.004 0.032 0.004 0.012 0.016\n",
       "                                                    \n",
       "Value        4.4   4.5   4.6   4.7   4.8   4.9   5.0\n",
       "Frequency      3     7    12    19    18     6    28\n",
       "Proportion 0.012 0.028 0.048 0.075 0.071 0.024 0.111\n",
       "--------------------------------------------------------------------------------\n",
       "Comment \n",
       "       n  missing distinct     Info     Mean      Gmd      .05      .10 \n",
       "     252        0       50    0.865    37.25    70.45     0.00     0.00 \n",
       "     .25      .50      .75      .90      .95 \n",
       "    0.00     0.00     6.25    50.10    93.00 \n",
       "\n",
       "lowest :    0    1    2    3    4, highest:  179  298  398  814 4945\n",
       "--------------------------------------------------------------------------------\n",
       "X5 \n",
       "       n  missing distinct     Info     Mean      Gmd      .05      .10 \n",
       "     252        0       47    0.816     31.5    59.92      0.0      0.0 \n",
       "     .25      .50      .75      .90      .95 \n",
       "     0.0      0.0      5.0     34.9     76.9 \n",
       "\n",
       "lowest :    0    1    2    3    4, highest:  158  238  354  676 4338\n",
       "                                                                            \n",
       "Value          0    10    20    30    40    50    60    70    80    90   110\n",
       "Frequency    193    21    10     2     3     3     3     1     4     2     3\n",
       "Proportion 0.766 0.083 0.040 0.008 0.012 0.012 0.012 0.004 0.016 0.008 0.012\n",
       "                                              \n",
       "Value        140   160   240   350   680  4340\n",
       "Frequency      2     1     1     1     1     1\n",
       "Proportion 0.008 0.004 0.004 0.004 0.004 0.004\n",
       "\n",
       "For the frequency table, variable is rounded to the nearest 10\n",
       "--------------------------------------------------------------------------------\n",
       "X4 \n",
       "       n  missing distinct     Info     Mean      Gmd      .05      .10 \n",
       "     252        0       25    0.664    4.218    7.872     0.00     0.00 \n",
       "     .25      .50      .75      .90      .95 \n",
       "    0.00     0.00     1.00     6.00    14.45 \n",
       "\n",
       "lowest :   0   1   2   3   4, highest:  32  36  51 122 431\n",
       "--------------------------------------------------------------------------------\n",
       "X3 \n",
       "       n  missing distinct     Info     Mean      Gmd      .05      .10 \n",
       "     252        0       12    0.421   0.6984     1.31        0        0 \n",
       "     .25      .50      .75      .90      .95 \n",
       "       0        0        0        1        3 \n",
       "\n",
       "lowest :  0  1  2  3  4, highest:  7  8  9 10 63\n",
       "                                                                            \n",
       "Value          0     1     2     3     4     5     6     7     8     9    10\n",
       "Frequency    210    18    10     2     2     3     2     1     1     1     1\n",
       "Proportion 0.833 0.071 0.040 0.008 0.008 0.012 0.008 0.004 0.004 0.004 0.004\n",
       "                \n",
       "Value         63\n",
       "Frequency      1\n",
       "Proportion 0.004\n",
       "--------------------------------------------------------------------------------\n",
       "X2 \n",
       "       n  missing distinct     Info     Mean      Gmd \n",
       "     252        0        6    0.259   0.2738   0.5286 \n",
       "\n",
       "lowest :  0  1  2  3  4, highest:  1  2  3  4 37\n",
       "                                              \n",
       "Value          0     1     2     3     4    37\n",
       "Frequency    228    17     4     1     1     1\n",
       "Proportion 0.905 0.067 0.016 0.004 0.004 0.004\n",
       "--------------------------------------------------------------------------------\n",
       "X1 \n",
       "       n  missing distinct     Info     Mean      Gmd \n",
       "     252        0        7    0.412   0.5833    1.103 \n",
       "\n",
       "lowest :  0  1  2  3  4, highest:  2  3  4  5 76\n",
       "                                                    \n",
       "Value          0     1     2     3     4     5    76\n",
       "Frequency    211    25     5     5     4     1     1\n",
       "Proportion 0.837 0.099 0.020 0.020 0.016 0.004 0.004\n",
       "--------------------------------------------------------------------------------\n",
       "m_link \n",
       "       n  missing distinct \n",
       "     252        0      252 \n",
       "\n",
       "lowest : https://tiki.vn/bo-chuot-co-day-va-mieng-lot-kitty-p106887670.html?spid=106887676                                                                                                                                                                                                                                                                                                                                                                                                                                                                                                                                                                                                                                                                                                                                                                                                                                                                                                                                                                                                                                                                                                                                                                                                                                                                                                                                                                                                                                https://tiki.vn/bo-chuot-quang-co-day-cho-game-thu-tang-mieng-lot-chuot-p98735853.html?spid=98735856                                                                                                                                                                                                                                                                                                                                                                                                                                                                                                                                                                                                                                                                                                                                                                                                                                                                                                                                                                                                                                                                                                                                                                                                                                                                                                                                                                                                             https://tiki.vn/chuo-t-co-day-bosston-x15-1200dpi-hang-chinh-hang-p2883923.html?spid=56341301                                                                                                                                                                                                                                                                                                                                                                                                                                                                                                                                                                                                                                                                                                                                                                                                                                                                                                                                                                                                                                                                                                                                                                                                                                                                                                                                                                                                                    https://tiki.vn/chuo-t-co-day-genius-dx-120-hang-chinh-hang-p310917.html?spid=135217196                                                                                                                                                                                                                                                                                                                                                                                                                                                                                                                                                                                                                                                                                                                                                                                                                                                                                                                                                                                                                                                                                                                                                                                                                                                                                                                                                                                                                          https://tiki.vn/chuot-akko-ag325-pink-hang-nhap-khau-p42715225.html?spid=130961622                                                                                                                                                                                                                                                                                                                                                                                                                                                                                                                                                                                                                                                                                                                                                                                                                                                                                                                                                                                                                                                                                                                                                                                                                                                                                                                                                                                                                              \n",
       "highest: https://tka.tiki.vn/pixel/pixel?CLICK=&data=djAwMSyIbh5CNIGydq2vNoOTpF2CMrp92kToX9GhoxEN7bHFZSWoM2J2mhvMrZ1GCpOU_jGf5ysLzefwI3v4Nt2-_dVyCW6x3hXkbKDFS4lzgQ1_kZAhPTTvw6SK0yswAB6otDjWHk_HV-y6chN_mmoU2bc0iDzRH4J0xAyKwuJE7lQYOPpm6M246NvnGwg9TDCkjADugu1Nk0TxyLE-DFkE6-21i1F1Fv_EkwYOfRvAfk8AAVqt8W0Afk3t0jBwIhVa3tFP1nUhCAqJEEOyWLRnpquE7FRWESdmkEU9EFZkBPVoLAbGmAs_zzfo9rvi54RcyP87DdqMEHYA_gRy05qqP34lOjBDkPu3tWO17LMIB1EjUNlHYJk50BfcIRLg2juqohqpDXg8N-K2dfhbWORQ3yAU7V2h4OdEHQrGs_uMPTTUopke3Vsq59kQrUgTYoVUA5o4rWQa0ExJJpAQYFthdg60wqrJPxxzcVWsS77AhWDsVcrXErSQwiuuxuEiqiMFXpFpvSzrIkWtb6xLtt-EdPlgwsW8hl7fkU1WSGLCTnvVAQ2-WYIs36YIwRBbjPP6EweSLYVcnWy5TP0zpTvvuHPxmvvlvMA7Ja7_jPxf-Jqr1LUa3evz-EE-ve4LTuGOJl6OPESd-OA1aYwYWUjtummxQqgvjzBWjFsk-w8oIdT3-dhwyot6m_AI-U1h_ajC9jNa-jyx7tJc6_ymNjoHIzBk-4xXI4sLzVckef4Hek-w-Tb53d0GZcGHFCs_RSzMcagA_24fuZC8bB1inPKmaqACWl0lkxBtLWLsHNjXbTM8oO12qOXARrIHFiIC_c-kkKh4PVmMFcgVMjHqu6uoFZb4zSuj8pAKCFZ3Hiad1udwE8n4h_JUgM3tF_N_SnR4-Mwnj-s5xpZq7qbpWJH0WBsQu4Bxv23zEv0ZEMYXdCTdKPOKD0PuQSrWU03busquoBPXh66R6iNsGqkBm6XLqVaIIyrz9My3TLJACWntKWmgttcKMmkbxLqZoqgAekC8CnNDUV0rV69VTwFRkEZIGc4lLmqsrvbr2TKV6Ss&itm_campaign=SRC_YPD_TKA_PLA_UNK_ALL_UNK_UNK_UNK_UNK_X.5781_Y.491986_Z.1075578_CN.Chuot-VP-khong-day-HXSJ---1&itm_medium=CPC&itm_source=tiki-ads&reqid=F6Is70XiAa&pos=81&redirect=https%3A%2F%2Ftiki.vn%2Fchuot-khong-day-choi-game-hxsj-x801-thiet-ke-doc-la-led-rgb-doi-mau-click-chong-on-dpi-1600-hang-chinh-hang-p104261141.html%3Fspid%3D104261143 https://tka.tiki.vn/pixel/pixel?CLICK=&data=djAwMTj8Y32nyA4jxIi50Bztav2XZNZOwTnvPfxa1A7Mz4_6aY15zffFOQOalxN28E8IPKIva7w1fnu_CynyZgFwm8LDjVrE6z5UgHsWipmQAsOT20UsgwDx7hHN9CCKSgUuIhYv7GzKYkLeqiNLREGSMlyYy4cTwCrFIyI4-RV-qBDh069VlgPTpm7Yw5lY1Em61GMjNRXs90iXQV4oRznAWd1EDLmIqrFnDdZsLZNm2CoL1xHJyYJ4qTb3tS5t9_AdskSHA0UhUxuGHDlHuAvC7MxZv8FE1WKmCc8mc5qcHf0XnAJqKpYRyHPPzQMFMyD2-swbcfcscFcekoriQVcAEvUyDEUCE9gksB5Fzi1enqBp-ZzbC976ginrujrhEnJ8YCDzfxhQxDPy1u8pFI83moJFNWJ1RXEGB0aDYYj63D36Ud3BeSGWRzc34bA1QAswPfdW-UV4RGa080p_wL5CHRmiNr-UZZ76cxWf9L9TgzdRQQYmtwpJzEKFz0AzRYWFhdCqQ4rlVk29Wj_owB4JuuxlMIbvvFg_og536KNOV6_CjdAD2EKNDzoBBWEhM-gtWPrCH2qbk_WFOhJMMHhUNTVZlaY-5e6ML36NArJc0GMpcxaiSgV-v-sagxMlRfBOS7naQMgVfWSvjLp8PjI-CWTH_262zRXz0Ul0M1_xXBMSHTBIBBGVZsPtTQMkeh8kWU9ncvcyLWeDVqpWxoVl9nCquSh4UWRQhuKfNBssgFPOYaSeeOQRnbkF3BrvtvPKduPWRa7w9DuNTBXKE-bjk3J6uGfGqt2CkSBUjuiNh9vsJsplbhQsZhbyVE_C5PmU1GLgkiWBZ0uKeKyIo3pFncCs0FkS4t5unKT4Wazusq-znRGf4tRBzKzUOmoNG3Arm6iJiNi1Zx-q2aXzfXJIeYIlFasxM7TunIlyCHi4cutwhIFJDTDpvz8Jp7kHLW99I-H7IUyr1z8Kmi9pIvwtmeq9kgwRIJhToYv2gnF5Q05_M9i-PJ4_fQXbK8QwwSDSZNj0phOHN9-uuQ&itm_campaign=SRC_YPD_TKA_PLA_UNK_ALL_UNK_UNK_UNK_UNK_X.26446_Y.264597_Z.672065_CN.chuot&itm_medium=CPC&itm_source=tiki-ads&reqid=F6Is70XiAa&pos=49&redirect=https%3A%2F%2Ftiki.vn%2Fchuot-choi-game-co-day-7-nut-led-16000-dpi-den-nen-danh-cho-may-tinh-laptop-hang-chinh-hang-p51530573.html%3Fspid%3D51530574                                                                  https://tka.tiki.vn/pixel/pixel?CLICK=&data=djAwMVPQE0sxSEJlzkYZDp4K3mQbgqPdddplQUpEQ-rzt15z7qFHSWvntCoYrPPSiqZbOC3mSvzno1es2VV508mObVpCaRC_D7vGuNYt7O8hkjaP-ZfqZKkGOss5TEkD2TRaaKe-3GDPV6h-ufOqBTBt6Iv7qMcupfHodTIQYbxLugvUTpid-NVX6iusl0PaRJuSK-m_JnRSSMIKpuMJ-0o3rLJiKO9YSwVW0oOid-s_aCsgA_mkQLLxS4AjMp-2WdAU5N4WaRZPDOEF3Lfm0eCEi9vKlycG2QKxVRgqzK8zcCT2s44N-4gApI_tnp2SwXs5rQlpctWBiPKoWAkjPvC5EPB0OfWLNvfp5XnTMzNDhiRDgnTP6BMCxMsqmR2DNpcAw4Uoy6Mei-ahVZbMii781IhG5CjbgzSSbR_1lCG-CrqzJ8gzMDwwSodN9l0QEHrwifi_xpyj50vmqJt_vbrhlwAwM3UFnBiYYazCUHQpbZDUZvW84AgsniAetuVslfcURleqqSMxDbJGCaXNqXpY0f0FkJV5_PcMieiuvfQXqVRFXjb7xmdozUVn4jiXRwO4U76TfngjlABzY41z0PPIOfnjMrjrvZXG1UgpR1Pc-tENm6S1JClE1-64Xb5mb1lzLSd-R8V87A7aBNJFWs-VAwpy17vmHSbafZ3AyY-CLD-vWJd6nEm20RjcJpFHnhEdDNoPUukaC44EUofUsqptb6nJeSY1s0CcBtuMQ-zdLszpA4p5_qrDf-2jlgm4u3Ng-pY5C6kevn-wSsEDBSxFTiWRV5p6OCaQskICjKMQu_b3aGHU4duyYhR63whbkV3OkCrF4JQAu4XBbCHVylj3SYddGTMwOnIiuKsGOC2_A7M0WWzSSbuugSPWAmLb1ZD74t_KgJ50icR13Va_IZO4x2hVDumYTJahFpsWg_71QvxkU9lt0PfYLc3oRp1Hn4ptu6gcJG1BEurmzcF8p1fCWmmFhZ0j6nCh7xiEiQ&itm_campaign=SRC_YPD_TKA_PLA_UNK_ALL_UNK_UNK_UNK_UNK_X.79823_Y.709681_Z.1419942_CN.Product-Ads-16%252F10%252F2021&itm_medium=CPC&itm_source=tiki-ads&reqid=F6Is70XiAa&pos=77&redirect=https%3A%2F%2Ftiki.vn%2Fchuot-vi-tinh-logitech-b100-p121747210.html%3Fspid%3D121747211                                                                                                                                              https://tka.tiki.vn/pixel/pixel?CLICK=&data=djAwMY7mLzOVAa1nKYyPby2bO1PzIq-YoFOZjd9LBF9P4KZwvBrxeLEBOKHkWrtsVyi2_bxF-go7iueGczGx8bw_ycxC4wioJ4QRcwTNZ_Ugpl6QxToJXg2qtRbyrYmwoXeo2H9mhWOovy6bWQSGSL7_EyL8CLhUs6Uy4Z69TQbU-gaYOxtAmSSNRjgJRbrZ_cqs5JP8OekjF1V4tAxv3DF6RQgDle_-0tK2fu2ZnQDu5zykJN4I6ng3YDC9ariyVzEJu5z-pvrQ1bh9bTSiP3osd6nnGtVTbSVAUDUkAOO_gWeRrnSPUWfIpyx6xHjklCZHyXrLk_bS-XktDfwJOmfMWEAdBgYxbDjiUMpEHNZYifS4Atbz3b2hiwXfQDx5MUWl_wUfF6SZ33I3Y1CLNECbVX2-wEoOxAIsU2vvWwA1eTGacHXMK-CqZHo1EyO6BQ1cTCUIUxSQJ_Hejs8N7hu3JVAuqovbH1CNRvPVYA0D4aGc6X4CDHy2a4ygvQ4OQEIP5V37XO4FGuiJ-91k-Wo3OgD3jYO-UzBkWf0BiLJTTyryjhS-Ai70_cUDjW4Y_Rk0Prp6iP1WL2tTVqvcciFpyyRDJTfDgaseYRWLXRLgj1sERkbm9lJeAK7XCXeizXQowXvHY3Zm2LRAJU66jwyM5Fpddq0zp_rafYBSexAMQVzNoPaLiU5Ivn2FF-5RGqDk1GPByld29UBV6rgXoLlFAfIBAvBTmCywCRuoEsRFBoEP2IM3uu_Nh-gzDckSI2IapX3_02NXXlsYBnL05PpSy40zX2gN9A8PnsKV4E0nszr5n7oqUSXRgnBhVk6glPfuyY1NEUh1H1frwNIov0gRAnQv7A4gUyxu7zPN1a3GS-DEX7DFSrCLlq6fuaRQmxSuvkAPnqquCuOcTwsIKBIqFjAGSTte8TBu8d-1aOvtAOkj8NBJ2HdhwDVz2si4CvURmC6mneIEE4nrdjKC_IBvtmlFwWumI-3NN0B_FQ-9-37ZMH566w8DpoyHByDNRecmmIiryeqJoDmopx6lToJzJmQ0yg&itm_campaign=SRC_YPD_TKA_PLA_UNK_ALL_UNK_UNK_UNK_UNK_X.74407_Y.657997_Z.1343745_CN.400d-new&itm_medium=CPC&itm_source=tiki-ads&reqid=F6Is70XiAa&pos=97&redirect=https%3A%2F%2Ftiki.vn%2Fchuot-game-co-day-xsmart-free-wolf-v5-led-7-mau-cuc-dep-chuyen-gaming-sieu-ben-chinh-duoc-dpi-hang-chinh-hang-p96466997.html%3Fspid%3D96467002                                https://tka.tiki.vn/pixel/pixel?CLICK=&data=djAwMYJxrkVMdf3NFsa130XhGkt0sFRDOa5m26R9CIzAQkzaekBKp9B8M0wg4lWJMywu4oruvu5jz9Ruw6s5I5dX2IPlclSqyIbT2ljhn-uBDtEQM0C58ukfX2hb3fmmZwqSr7aH-N2bWWO6l4No-oxesXeDEZhBummZUxt3OTjHOn_WIVthXEmwJpKcOm_LdzrPWHnkChqDpUvDKEMXIvA99vQVVMPnUUUFOoagfekQU6xoksaeEIH9u-NsJtodrhB4mtzBdQXiiW2WEp3jzpr11gekeUjf32_tR6E3tmyl6DidWkJFUQ4iE85IrLtCkNVVEmeAs3pFcCHanwy2d8dkqs-RmBg7dXe9BaaDqnFR1CSN3Bbipzbi9EH7S0OggtWbA8GIkT2bSFgHld95UM8kfuz2GemRBOJu7bOFTFJ5bXfCNgQpxIMcwBb7XUtbD12Hkn-z-c0dMvy4tSeVlysBHe2qGwZs11-xGLX0ypC1MOmOZh23WtXSnrAnyqxXBcecav2fRmJMz5pradjvfCakTt9TzT3s-PVCNYt24EM1-AgWRFGuzg4oJDYOQJ9TiFn9xeIIWtIrdOjJ0QWFRkmuJKYVQFZTfsbRI-ng3sqfwHfazUSkNCV5b_ggg1hzsLankhRV9WScjAgeGftmosPE0C_6-9CBATbRzRFE9WjQ7s7hZEtwz-DT0RQgtn0yVJ5FCEucth93n7_C4NnTk7HdHccRSUbqpZYECEGFbAbEZMgnR-cHJDoeHmnH328_ffjD6Pn0u9nvUfrkjtIRHxayt0BSpWVBiJUAxEjs5-xjTgO3qWHkJGfdnnaWfAg0y745up5anE90qAiqlb7bc-CsXqDVpL9PNhwwXBCmwTS6engc36sbkS5TirQxXn48eBBJCN2lPmrzyHvjm_XVvJByYfaoWS1c53fclytaOYOsV-ggWXL1rZm3WcmC16Th1UtwxrZ9WDrvvxpPtk6SZdPYcKK1T-YCYKU3jQza9XwwY4xe7cMefDbsdgKYKXKSD51W5iqWqnuLpOCEIU1V25zVQ9-5xPeP&itm_campaign=SRC_YPD_TKA_PLA_UNK_ALL_UNK_UNK_UNK_UNK_X.93118_Y.858036_Z.1625655_CN.chuot&itm_medium=CPC&itm_source=tiki-ads&reqid=F6Is70XiAa&pos=57&redirect=https%3A%2F%2Ftiki.vn%2Fxuat-khau-my-chuot-bluetooth-khong-day-may-tinh-choi-game-game-thu-chuyen-nghiep-the-deosd-td-wme29-p134226332.html%3Fspid%3D134226334                                        \n",
       "--------------------------------------------------------------------------------"
      ]
     },
     "metadata": {},
     "output_type": "display_data"
    }
   ],
   "source": [
    "describe(df)"
   ]
  },
  {
   "cell_type": "markdown",
   "id": "d26f3582",
   "metadata": {},
   "source": [
    "Sau khi kiếm tra thông số dữ liệu ta thấy răng không có dữ liệu bị thiếu hụt trong data frame. Bây giờ, tôi sẽ tạo thêm 3 cột thể hiện tính chất của dữ liệu để ta có thể hiểu hơn\n",
    "\n",
    "+ Valuation (Định giá) : gồm 3 phân loại: low price, good price, hight price( Giá cao, Giá tốt, Giá thấp) thể hiện tính chất của giá bán\n",
    "+ Liquidity (Thanh khoản) : gồm 3 phân loại: Fast, Good, Slow (Nhanh, tốt, chậm) thể hiện xu thế của chuột máy tính trên thị trường\n",
    "+ Quality (Chất lượng) : gồm 3 phân loại: Highquality, Goodquality, Lowquality, Unknow (Chất lượng cao, Chất lượng tốt, Chất lượng thấp, Chưa xác định)thể hiện chất lượng của sản phẩm dựa trên lượt đánh giá "
   ]
  },
  {
   "cell_type": "markdown",
   "id": "ac2f59fa",
   "metadata": {},
   "source": [
    "Với Valuation(Định giá) dựa trên thông tin ở mục Data information ta chia ra làm 3 mức \n",
    "+ Dưới 100k: Low price( Giá thấp)\n",
    "+ Từ 100 --> 400k : Good price (Giá tốt)\n",
    "+ Trên 400k : High price( Giá cao)"
   ]
  },
  {
   "cell_type": "code",
   "execution_count": 10,
   "id": "30744de9",
   "metadata": {},
   "outputs": [],
   "source": [
    "Valuation <- list()\n",
    "for (i in df[,c('Sale_price')]) {\n",
    "    if (i < 100){\n",
    "        Valuation <- c(Valuation,'low price')\n",
    "    } else if (i < 400) {\n",
    "        Valuation <- c(Valuation,'good price')  \n",
    "    } else {\n",
    "        Valuation <- c(Valuation,'high price')\n",
    "    }\n",
    "}"
   ]
  },
  {
   "cell_type": "markdown",
   "id": "8985d067",
   "metadata": {},
   "source": [
    "Tương tự với Liquidity(Thanh khoản) ta cũng dựa vào Data Information và chia làm 3 mức:\n",
    "+ Slow(chậm) : Số lượng sản phẩm bán ra < 30\n",
    "+ Good(tốt) : Số lượng sản phẩm bán ra từ 30 -> 300\n",
    "+ Fast(nhanh) : Số lượng sản phẩm bán ra từ 300\n"
   ]
  },
  {
   "cell_type": "code",
   "execution_count": 11,
   "id": "f518a75a",
   "metadata": {},
   "outputs": [],
   "source": [
    "Liquidity <- list()\n",
    "for (i in df[,c('Sold')]) {\n",
    "    if (i < 30){\n",
    "        Liquidity <- c(Liquidity,'Slow')\n",
    "    } else if (i < 300) {\n",
    "        Liquidity <- c(Liquidity,'Good')  \n",
    "    } else {\n",
    "        Liquidity <- c(Liquidity,'Fast')\n",
    "    }\n",
    "}"
   ]
  },
  {
   "cell_type": "markdown",
   "id": "2640cf3e",
   "metadata": {},
   "source": [
    "Cuối cùng là cột Quality(Chất lượng) dựa trên đánh giá của người tiêu dùng.\n",
    "\n",
    "Với những sản phẩm chưa có đánh giá thì ta chưa thể xác định rõ chất lượng nên sẽ thuộc loại \"Unknow\" (Chưa xác định)\n",
    "Với những sản phẩm có lượt đânhs giá từ dười 15 thì:\n",
    "+ Điểm đánh giá trên 4.7 : Good quality (Chất lượng tốt)\n",
    "+ Điểm đánh giá dưới 4.7 : Low qualiy (Chất lượng thấp)\n",
    "\n",
    "Sở  dĩ như vậy là bởi với 20 sản phẩm thì ta không thể cho rẳng sản phẩm có chất lượng cao được, ngoài ra chỉ với 20 sản phẩm mà điểm đánh giá nhỏ hơn 4.7 tức là có những lượt đánh giá 1,2,3 khá nhiều.\n",
    "Với 20 lượt bán mà có lượt đánh giá 1,2,3 khá nhiều thì đây không thể là sản phẩm tốt được \n",
    "\n",
    "Cuối cùng, khi lượt đánh giá nhiều hơn thì cũng dễ phân loại hơn hẵn, ở đây tôi cũng sẽ phân làm 3 loại:\n",
    "+ Điểm đánh giá trên 4.7 : High quality (Chất lượng cao)\n",
    "+ Điểm đánh giá từ 4.4 - 4.6 : Good quality (Chất lượng tốt)\n",
    "+ Điểm đánh giá dưới 4.4 : Low qualiy (Chất lượng thấp)"
   ]
  },
  {
   "cell_type": "code",
   "execution_count": 12,
   "id": "2113f0cd",
   "metadata": {},
   "outputs": [],
   "source": [
    "Quality <- list()\n",
    "n = 1\n",
    "for (i in df[,c('Comment')]) {\n",
    "\n",
    "    rate <- df[,c('Rate')][n]\n",
    "    \n",
    "    if (i == 0){\n",
    "        Quality <- c(Quality,'Unknown')\n",
    "    } else if (i < 20){\n",
    "        if (rate > 4.7){\n",
    "            Quality <- c(Quality,'Good quality')\n",
    "        } else {\n",
    "            Quality <- c(Quality,'Low quality')\n",
    "        }\n",
    "    } else {\n",
    "        if (rate > 4.7){\n",
    "            Quality <- c(Quality,'High quality')\n",
    "        } else if (rate >= 4.4){\n",
    "            Quality <- c(Quality,'Good quality')\n",
    "        } else {\n",
    "            Quality <- c(Quality,'Low quality')\n",
    "        }\n",
    "    }\n",
    "    n <- n+1\n",
    "}"
   ]
  },
  {
   "cell_type": "markdown",
   "id": "0ccc0167",
   "metadata": {},
   "source": [
    "Cuối cùng, thêm các cột trên vào dataframe với vị trí tương ứng."
   ]
  },
  {
   "cell_type": "code",
   "execution_count": 13,
   "id": "ec554d5f",
   "metadata": {},
   "outputs": [],
   "source": [
    "df <- df %>%\n",
    "  add_column(Valuation = as.character(Valuation),\n",
    "             .after = \"Sale_price\")\n",
    "df <- df %>%\n",
    "  add_column(Liquidity = as.character(Liquidity),\n",
    "             .after = \"Sold\")\n",
    "df <- df %>%\n",
    "  add_column(Quality = as.character(Quality),\n",
    "             .after  = 'Warranty_place')"
   ]
  },
  {
   "cell_type": "code",
   "execution_count": 14,
   "id": "727396c2",
   "metadata": {},
   "outputs": [
    {
     "data": {
      "text/html": [
       "<table class=\"dataframe\">\n",
       "<caption>A data.frame: 10 × 22</caption>\n",
       "<thead>\n",
       "\t<tr><th></th><th scope=col>X</th><th scope=col>Name</th><th scope=col>Product_price</th><th scope=col>Discount</th><th scope=col>Sale_price</th><th scope=col>Valuation</th><th scope=col>Shop</th><th scope=col>Brand</th><th scope=col>Warranty</th><th scope=col>Warranty_way</th><th scope=col>...</th><th scope=col>Sold</th><th scope=col>Liquidity</th><th scope=col>Rate</th><th scope=col>Comment</th><th scope=col>X5</th><th scope=col>X4</th><th scope=col>X3</th><th scope=col>X2</th><th scope=col>X1</th><th scope=col>m_link</th></tr>\n",
       "\t<tr><th></th><th scope=col>&lt;int&gt;</th><th scope=col>&lt;chr&gt;</th><th scope=col>&lt;dbl&gt;</th><th scope=col>&lt;dbl&gt;</th><th scope=col>&lt;dbl&gt;</th><th scope=col>&lt;chr&gt;</th><th scope=col>&lt;chr&gt;</th><th scope=col>&lt;chr&gt;</th><th scope=col>&lt;int&gt;</th><th scope=col>&lt;chr&gt;</th><th scope=col>...</th><th scope=col>&lt;int&gt;</th><th scope=col>&lt;chr&gt;</th><th scope=col>&lt;dbl&gt;</th><th scope=col>&lt;int&gt;</th><th scope=col>&lt;int&gt;</th><th scope=col>&lt;int&gt;</th><th scope=col>&lt;int&gt;</th><th scope=col>&lt;int&gt;</th><th scope=col>&lt;int&gt;</th><th scope=col>&lt;chr&gt;</th></tr>\n",
       "</thead>\n",
       "<tbody>\n",
       "\t<tr><th scope=row>1</th><td>0</td><td><span style=white-space:pre-wrap>Chu&lt;U+1ED9&gt;t máy vi tính Bosston D608 led - Hàng Chính Hãng                                                                                                      </span></td><td> 60.00</td><td>0.05</td><td> 57.10</td><td>low price </td><td><span style=white-space:pre-wrap>                            </span></td><td><span style=white-space:pre-wrap>Bossto    </span></td><td> 0</td><td><span style=white-space:pre-wrap>0                           </span></td><td>...</td><td> 364</td><td>Fast</td><td>4.7</td><td> 93</td><td> 78</td><td> 8</td><td>5</td><td>0</td><td>2</td><td><span style=white-space:pre-wrap>https://tiki.vn/chuot-may-vi-tinh-bosston-d608-led-hang-chinh-hang-p9355345.html?spid=56764717                                               </span></td></tr>\n",
       "\t<tr><th scope=row>2</th><td>1</td><td><span style=white-space:pre-wrap>Chu&lt;U+1ED9&gt;t máy tính có dây EDRA EM602 Ð&lt;U+1ED9&gt; Phân Gi&lt;U+1EA3&gt;i 1200 DPI, choi game, cho Laptop hàng chính hãng                                               </span></td><td>148.00</td><td>0.00</td><td>148.00</td><td>good price</td><td><span style=white-space:pre-wrap>Extreme Zero Online         </span></td><td><span style=white-space:pre-wrap>E-DRA     </span></td><td>24</td><td><span style=white-space:pre-wrap>Tem b&lt;U+1EA3&gt;o hành         </span></td><td>...</td><td><span style=white-space:pre-wrap>  85</span></td><td>Good</td><td>4.9</td><td> 24</td><td> 22</td><td> 2</td><td>0</td><td>0</td><td>0</td><td><span style=white-space:pre-wrap>https://tiki.vn/chuot-may-tinh-co-day-edra-em602-do-phan-giai-1200-dpi-choi-game-cho-laptop-hang-chinh-hang-p74463237.html?spid=90107321     </span></td></tr>\n",
       "\t<tr><th scope=row>3</th><td>2</td><td><span style=white-space:pre-wrap>Chu&lt;U+1ED9&gt;t máy tính có dây G5 ES, chu&lt;U+1ED9&gt;t gaming DPI 4 c&lt;U+1EA5&gt;p d&lt;U+1ED9&gt;, hi&lt;U+1EC7&gt;u &lt;U+1EE9&gt;ng dèn n&lt;U+1EC1&gt;n 7 màu- Hàng nh&lt;U+1EAD&gt;p kh&lt;U+1EA9&gt;u    </span></td><td>129.00</td><td>0.00</td><td>129.00</td><td>good price</td><td><span style=white-space:pre-wrap>HOÀNG NHÂN COMPUTER         </span></td><td><span style=white-space:pre-wrap>Zealot    </span></td><td> 3</td><td><span style=white-space:pre-wrap>Tem b&lt;U+1EA3&gt;o hành         </span></td><td>...</td><td> 185</td><td>Good</td><td>4.7</td><td> 64</td><td> 53</td><td> 7</td><td>0</td><td>1</td><td>3</td><td><span style=white-space:pre-wrap>https://tiki.vn/chuot-may-tinh-co-day-g5-es-chuot-gaming-dpi-4-cap-do-hieu-ung-den-nen-7-mau-hang-nhap-khau-p75614175.html?spid=91088172     </span></td></tr>\n",
       "\t<tr><th scope=row>4</th><td>3</td><td><span style=white-space:pre-wrap>Chu&lt;U+1ED9&gt;t máy tính Newmen G10 - Hàng Chính Hãng                                                                                                               </span></td><td>145.00</td><td>0.00</td><td>145.00</td><td>good price</td><td><span style=white-space:pre-wrap>Vi Tính Lê Huy              </span></td><td><span style=white-space:pre-wrap>Newme     </span></td><td> 0</td><td><span style=white-space:pre-wrap>0                           </span></td><td>...</td><td>1000</td><td>Fast</td><td>4.7</td><td>135</td><td>106</td><td>20</td><td>6</td><td>0</td><td>3</td><td><span style=white-space:pre-wrap>https://tiki.vn/chuot-may-tinh-newmen-g10-hang-chinh-hang-p7975728.html?spid=7975732                                                         </span></td></tr>\n",
       "\t<tr><th scope=row>5</th><td>4</td><td><span style=white-space:pre-wrap>Chu&lt;U+1ED9&gt;t máy tính van phòng T&lt;U+1EB7&gt;ng lót chu&lt;U+1ED9&gt;t cao c&lt;U+1EA5&gt;p                                                                                      </span></td><td>158.00</td><td>0.00</td><td>158.00</td><td>good price</td><td><span style=white-space:pre-wrap>VLC6 Store                  </span></td><td><span style=white-space:pre-wrap>OEM       </span></td><td> 0</td><td><span style=white-space:pre-wrap>0                           </span></td><td>...</td><td><span style=white-space:pre-wrap>  55</span></td><td>Good</td><td>5.0</td><td><span style=white-space:pre-wrap>  9</span></td><td><span style=white-space:pre-wrap>  9</span></td><td> 0</td><td>0</td><td>0</td><td>0</td><td><span style=white-space:pre-wrap>https://tiki.vn/chuot-may-tinh-van-phong-tang-lot-chuot-cao-cap-p86900816.html?spid=120777689                                                </span></td></tr>\n",
       "\t<tr><th scope=row>6</th><td>5</td><td>Chu&lt;U+1ED9&gt;t van phòng có dây, chu&lt;U+1ED9&gt;t Game HXSJ A885 DPI 5500, RGB d&lt;U+1ED5&gt;i 7 màu liên t&lt;U+1EE5&gt;c, chuyên dùng cho laptop, máy tính, pc - Hàng chính hãng</td><td>299.00</td><td>0.36</td><td>192.00</td><td>good price</td><td><span style=white-space:pre-wrap>HXSJ Official Store         </span></td><td><span style=white-space:pre-wrap>HXSJ      </span></td><td> 6</td><td><span style=white-space:pre-wrap>Hóa don                     </span></td><td>...</td><td><span style=white-space:pre-wrap>  39</span></td><td>Good</td><td>5.0</td><td> 13</td><td> 13</td><td> 0</td><td>0</td><td>0</td><td>0</td><td><span style=white-space:pre-wrap>https://tiki.vn/chuot-van-phong-co-day-chuot-game-hxsj-a885-dpi-5500-rgb-doi-7-mau-lien-tuc-hang-chinh-hang-p121169235.html?spid=121169237   </span></td></tr>\n",
       "\t<tr><th scope=row>7</th><td>6</td><td><span style=white-space:pre-wrap>Chu&lt;U+1ED9&gt;t máy tính cao c&lt;U+1EA5&gt;p                                                                                                                             </span></td><td> 81.44</td><td>0.00</td><td> 81.44</td><td>low price </td><td><span style=white-space:pre-wrap>vinet shop                  </span></td><td><span style=white-space:pre-wrap>OEM       </span></td><td> 1</td><td><span style=white-space:pre-wrap>Tem b&lt;U+1EA3&gt;o hành         </span></td><td>...</td><td> 204</td><td>Good</td><td>4.5</td><td> 79</td><td> 51</td><td>18</td><td>8</td><td>1</td><td>1</td><td><span style=white-space:pre-wrap>https://tiki.vn/chuot-may-tinh-cao-cap-p56288980.html?spid=58946387                                                                          </span></td></tr>\n",
       "\t<tr><th scope=row>8</th><td>7</td><td><span style=white-space:pre-wrap>Chu&lt;U+1ED9&gt;t máy tính có dây PROLiNK PMC1006 BDLU (den xanh), c&lt;U+1EA3&gt;m bi&lt;U+1EBF&gt;n quang h&lt;U+1ECD&gt;c 1000DPI - Hàng chính hãng                                  </span></td><td>120.00</td><td>0.26</td><td> 89.00</td><td>low price </td><td><span style=white-space:pre-wrap>                            </span></td><td><span style=white-space:pre-wrap>Prolink   </span></td><td>12</td><td><span style=white-space:pre-wrap>Tem b&lt;U+1EA3&gt;o hành         </span></td><td>...</td><td><span style=white-space:pre-wrap>  15</span></td><td>Slow</td><td>5.0</td><td><span style=white-space:pre-wrap>  4</span></td><td><span style=white-space:pre-wrap>  4</span></td><td> 0</td><td>0</td><td>0</td><td>0</td><td>https://tiki.vn/chuot-may-tinh-co-day-prolink-pmc1006-bdlu-den-xanh-cam-bien-quang-hoc-1000dpi-hang-chinh-hang-p112529886.html?spid=112529887</td></tr>\n",
       "\t<tr><th scope=row>9</th><td>8</td><td><span style=white-space:pre-wrap>Chu&lt;U+1ED9&gt;t máy vi tính Bosston D608 LED - Ðen-Hàng Chính Hãng                                                                                                  </span></td><td> 57.40</td><td>0.00</td><td> 57.40</td><td>low price </td><td>VI TÍNH NAM TRUNG H&lt;U+1EA2&gt;I</td><td><span style=white-space:pre-wrap>Bossto    </span></td><td> 0</td><td><span style=white-space:pre-wrap>0                           </span></td><td>...</td><td> 111</td><td>Good</td><td>4.7</td><td> 29</td><td> 22</td><td> 5</td><td>1</td><td>1</td><td>0</td><td><span style=white-space:pre-wrap>https://tiki.vn/chuot-may-vi-tinh-bosston-d608-led-den-hang-chinh-hang-p11191145.html?spid=48957656                                          </span></td></tr>\n",
       "\t<tr><th scope=row>10</th><td>9</td><td><span style=white-space:pre-wrap>Chu&lt;U+1ED9&gt;t led Ghost Wolf G830 cho máy tính - hàng nh&lt;U+1EAD&gt;p kh&lt;U+1EA9&gt;u                                                                                     </span></td><td>125.00</td><td>0.00</td><td>125.00</td><td>good price</td><td><span style=white-space:pre-wrap>Tech7                       </span></td><td>Ghost Wolf</td><td> 3</td><td>Phi&lt;U+1EBF&gt;u b&lt;U+1EA3&gt;o hành</td><td>...</td><td><span style=white-space:pre-wrap>  35</span></td><td>Good</td><td>4.4</td><td> 11</td><td><span style=white-space:pre-wrap>  7</span></td><td> 3</td><td>0</td><td>0</td><td>1</td><td><span style=white-space:pre-wrap>https://tiki.vn/chuot-led-ghost-wolf-g830-cho-may-tinh-hang-nhap-khau-p95528617.html?spid=95528618                                           </span></td></tr>\n",
       "</tbody>\n",
       "</table>\n"
      ],
      "text/latex": [
       "A data.frame: 10 × 22\n",
       "\\begin{tabular}{r|lllllllllllllllllllll}\n",
       "  & X & Name & Product\\_price & Discount & Sale\\_price & Valuation & Shop & Brand & Warranty & Warranty\\_way & ... & Sold & Liquidity & Rate & Comment & X5 & X4 & X3 & X2 & X1 & m\\_link\\\\\n",
       "  & <int> & <chr> & <dbl> & <dbl> & <dbl> & <chr> & <chr> & <chr> & <int> & <chr> & ... & <int> & <chr> & <dbl> & <int> & <int> & <int> & <int> & <int> & <int> & <chr>\\\\\n",
       "\\hline\n",
       "\t1 & 0 & Chu<U+1ED9>t máy vi tính Bosston D608 led - Hàng Chính Hãng                                                                                                       &  60.00 & 0.05 &  57.10 & low price  &                              & Bossto     &  0 & 0                            & ... &  364 & Fast & 4.7 &  93 &  78 &  8 & 5 & 0 & 2 & https://tiki.vn/chuot-may-vi-tinh-bosston-d608-led-hang-chinh-hang-p9355345.html?spid=56764717                                               \\\\\n",
       "\t2 & 1 & Chu<U+1ED9>t máy tính có dây EDRA EM602 Ð<U+1ED9> Phân Gi<U+1EA3>i 1200 DPI, choi game, cho Laptop hàng chính hãng                                                & 148.00 & 0.00 & 148.00 & good price & Extreme Zero Online          & E-DRA      & 24 & Tem b<U+1EA3>o hành          & ... &   85 & Good & 4.9 &  24 &  22 &  2 & 0 & 0 & 0 & https://tiki.vn/chuot-may-tinh-co-day-edra-em602-do-phan-giai-1200-dpi-choi-game-cho-laptop-hang-chinh-hang-p74463237.html?spid=90107321     \\\\\n",
       "\t3 & 2 & Chu<U+1ED9>t máy tính có dây G5 ES, chu<U+1ED9>t gaming DPI 4 c<U+1EA5>p d<U+1ED9>, hi<U+1EC7>u <U+1EE9>ng dèn n<U+1EC1>n 7 màu- Hàng nh<U+1EAD>p kh<U+1EA9>u     & 129.00 & 0.00 & 129.00 & good price & HOÀNG NHÂN COMPUTER          & Zealot     &  3 & Tem b<U+1EA3>o hành          & ... &  185 & Good & 4.7 &  64 &  53 &  7 & 0 & 1 & 3 & https://tiki.vn/chuot-may-tinh-co-day-g5-es-chuot-gaming-dpi-4-cap-do-hieu-ung-den-nen-7-mau-hang-nhap-khau-p75614175.html?spid=91088172     \\\\\n",
       "\t4 & 3 & Chu<U+1ED9>t máy tính Newmen G10 - Hàng Chính Hãng                                                                                                                & 145.00 & 0.00 & 145.00 & good price & Vi Tính Lê Huy               & Newme      &  0 & 0                            & ... & 1000 & Fast & 4.7 & 135 & 106 & 20 & 6 & 0 & 3 & https://tiki.vn/chuot-may-tinh-newmen-g10-hang-chinh-hang-p7975728.html?spid=7975732                                                         \\\\\n",
       "\t5 & 4 & Chu<U+1ED9>t máy tính van phòng T<U+1EB7>ng lót chu<U+1ED9>t cao c<U+1EA5>p                                                                                       & 158.00 & 0.00 & 158.00 & good price & VLC6 Store                   & OEM        &  0 & 0                            & ... &   55 & Good & 5.0 &   9 &   9 &  0 & 0 & 0 & 0 & https://tiki.vn/chuot-may-tinh-van-phong-tang-lot-chuot-cao-cap-p86900816.html?spid=120777689                                                \\\\\n",
       "\t6 & 5 & Chu<U+1ED9>t van phòng có dây, chu<U+1ED9>t Game HXSJ A885 DPI 5500, RGB d<U+1ED5>i 7 màu liên t<U+1EE5>c, chuyên dùng cho laptop, máy tính, pc - Hàng chính hãng & 299.00 & 0.36 & 192.00 & good price & HXSJ Official Store          & HXSJ       &  6 & Hóa don                      & ... &   39 & Good & 5.0 &  13 &  13 &  0 & 0 & 0 & 0 & https://tiki.vn/chuot-van-phong-co-day-chuot-game-hxsj-a885-dpi-5500-rgb-doi-7-mau-lien-tuc-hang-chinh-hang-p121169235.html?spid=121169237   \\\\\n",
       "\t7 & 6 & Chu<U+1ED9>t máy tính cao c<U+1EA5>p                                                                                                                              &  81.44 & 0.00 &  81.44 & low price  & vinet shop                   & OEM        &  1 & Tem b<U+1EA3>o hành          & ... &  204 & Good & 4.5 &  79 &  51 & 18 & 8 & 1 & 1 & https://tiki.vn/chuot-may-tinh-cao-cap-p56288980.html?spid=58946387                                                                          \\\\\n",
       "\t8 & 7 & Chu<U+1ED9>t máy tính có dây PROLiNK PMC1006 BDLU (den xanh), c<U+1EA3>m bi<U+1EBF>n quang h<U+1ECD>c 1000DPI - Hàng chính hãng                                   & 120.00 & 0.26 &  89.00 & low price  &                              & Prolink    & 12 & Tem b<U+1EA3>o hành          & ... &   15 & Slow & 5.0 &   4 &   4 &  0 & 0 & 0 & 0 & https://tiki.vn/chuot-may-tinh-co-day-prolink-pmc1006-bdlu-den-xanh-cam-bien-quang-hoc-1000dpi-hang-chinh-hang-p112529886.html?spid=112529887\\\\\n",
       "\t9 & 8 & Chu<U+1ED9>t máy vi tính Bosston D608 LED - Ðen-Hàng Chính Hãng                                                                                                   &  57.40 & 0.00 &  57.40 & low price  & VI TÍNH NAM TRUNG H<U+1EA2>I & Bossto     &  0 & 0                            & ... &  111 & Good & 4.7 &  29 &  22 &  5 & 1 & 1 & 0 & https://tiki.vn/chuot-may-vi-tinh-bosston-d608-led-den-hang-chinh-hang-p11191145.html?spid=48957656                                          \\\\\n",
       "\t10 & 9 & Chu<U+1ED9>t led Ghost Wolf G830 cho máy tính - hàng nh<U+1EAD>p kh<U+1EA9>u                                                                                      & 125.00 & 0.00 & 125.00 & good price & Tech7                        & Ghost Wolf &  3 & Phi<U+1EBF>u b<U+1EA3>o hành & ... &   35 & Good & 4.4 &  11 &   7 &  3 & 0 & 0 & 1 & https://tiki.vn/chuot-led-ghost-wolf-g830-cho-may-tinh-hang-nhap-khau-p95528617.html?spid=95528618                                           \\\\\n",
       "\\end{tabular}\n"
      ],
      "text/markdown": [
       "\n",
       "A data.frame: 10 × 22\n",
       "\n",
       "| <!--/--> | X &lt;int&gt; | Name &lt;chr&gt; | Product_price &lt;dbl&gt; | Discount &lt;dbl&gt; | Sale_price &lt;dbl&gt; | Valuation &lt;chr&gt; | Shop &lt;chr&gt; | Brand &lt;chr&gt; | Warranty &lt;int&gt; | Warranty_way &lt;chr&gt; | ... ... | Sold &lt;int&gt; | Liquidity &lt;chr&gt; | Rate &lt;dbl&gt; | Comment &lt;int&gt; | X5 &lt;int&gt; | X4 &lt;int&gt; | X3 &lt;int&gt; | X2 &lt;int&gt; | X1 &lt;int&gt; | m_link &lt;chr&gt; |\n",
       "|---|---|---|---|---|---|---|---|---|---|---|---|---|---|---|---|---|---|---|---|---|---|\n",
       "| 1 | 0 | Chu&lt;U+1ED9&gt;t máy vi tính Bosston D608 led - Hàng Chính Hãng                                                                                                       |  60.00 | 0.05 |  57.10 | low price  | <!----> | Bossto     |  0 | 0                            | ... |  364 | Fast | 4.7 |  93 |  78 |  8 | 5 | 0 | 2 | https://tiki.vn/chuot-may-vi-tinh-bosston-d608-led-hang-chinh-hang-p9355345.html?spid=56764717                                                |\n",
       "| 2 | 1 | Chu&lt;U+1ED9&gt;t máy tính có dây EDRA EM602 Ð&lt;U+1ED9&gt; Phân Gi&lt;U+1EA3&gt;i 1200 DPI, choi game, cho Laptop hàng chính hãng                                                | 148.00 | 0.00 | 148.00 | good price | Extreme Zero Online          | E-DRA      | 24 | Tem b&lt;U+1EA3&gt;o hành          | ... |   85 | Good | 4.9 |  24 |  22 |  2 | 0 | 0 | 0 | https://tiki.vn/chuot-may-tinh-co-day-edra-em602-do-phan-giai-1200-dpi-choi-game-cho-laptop-hang-chinh-hang-p74463237.html?spid=90107321      |\n",
       "| 3 | 2 | Chu&lt;U+1ED9&gt;t máy tính có dây G5 ES, chu&lt;U+1ED9&gt;t gaming DPI 4 c&lt;U+1EA5&gt;p d&lt;U+1ED9&gt;, hi&lt;U+1EC7&gt;u &lt;U+1EE9&gt;ng dèn n&lt;U+1EC1&gt;n 7 màu- Hàng nh&lt;U+1EAD&gt;p kh&lt;U+1EA9&gt;u     | 129.00 | 0.00 | 129.00 | good price | HOÀNG NHÂN COMPUTER          | Zealot     |  3 | Tem b&lt;U+1EA3&gt;o hành          | ... |  185 | Good | 4.7 |  64 |  53 |  7 | 0 | 1 | 3 | https://tiki.vn/chuot-may-tinh-co-day-g5-es-chuot-gaming-dpi-4-cap-do-hieu-ung-den-nen-7-mau-hang-nhap-khau-p75614175.html?spid=91088172      |\n",
       "| 4 | 3 | Chu&lt;U+1ED9&gt;t máy tính Newmen G10 - Hàng Chính Hãng                                                                                                                | 145.00 | 0.00 | 145.00 | good price | Vi Tính Lê Huy               | Newme      |  0 | 0                            | ... | 1000 | Fast | 4.7 | 135 | 106 | 20 | 6 | 0 | 3 | https://tiki.vn/chuot-may-tinh-newmen-g10-hang-chinh-hang-p7975728.html?spid=7975732                                                          |\n",
       "| 5 | 4 | Chu&lt;U+1ED9&gt;t máy tính van phòng T&lt;U+1EB7&gt;ng lót chu&lt;U+1ED9&gt;t cao c&lt;U+1EA5&gt;p                                                                                       | 158.00 | 0.00 | 158.00 | good price | VLC6 Store                   | OEM        |  0 | 0                            | ... |   55 | Good | 5.0 |   9 |   9 |  0 | 0 | 0 | 0 | https://tiki.vn/chuot-may-tinh-van-phong-tang-lot-chuot-cao-cap-p86900816.html?spid=120777689                                                 |\n",
       "| 6 | 5 | Chu&lt;U+1ED9&gt;t van phòng có dây, chu&lt;U+1ED9&gt;t Game HXSJ A885 DPI 5500, RGB d&lt;U+1ED5&gt;i 7 màu liên t&lt;U+1EE5&gt;c, chuyên dùng cho laptop, máy tính, pc - Hàng chính hãng | 299.00 | 0.36 | 192.00 | good price | HXSJ Official Store          | HXSJ       |  6 | Hóa don                      | ... |   39 | Good | 5.0 |  13 |  13 |  0 | 0 | 0 | 0 | https://tiki.vn/chuot-van-phong-co-day-chuot-game-hxsj-a885-dpi-5500-rgb-doi-7-mau-lien-tuc-hang-chinh-hang-p121169235.html?spid=121169237    |\n",
       "| 7 | 6 | Chu&lt;U+1ED9&gt;t máy tính cao c&lt;U+1EA5&gt;p                                                                                                                              |  81.44 | 0.00 |  81.44 | low price  | vinet shop                   | OEM        |  1 | Tem b&lt;U+1EA3&gt;o hành          | ... |  204 | Good | 4.5 |  79 |  51 | 18 | 8 | 1 | 1 | https://tiki.vn/chuot-may-tinh-cao-cap-p56288980.html?spid=58946387                                                                           |\n",
       "| 8 | 7 | Chu&lt;U+1ED9&gt;t máy tính có dây PROLiNK PMC1006 BDLU (den xanh), c&lt;U+1EA3&gt;m bi&lt;U+1EBF&gt;n quang h&lt;U+1ECD&gt;c 1000DPI - Hàng chính hãng                                   | 120.00 | 0.26 |  89.00 | low price  | <!----> | Prolink    | 12 | Tem b&lt;U+1EA3&gt;o hành          | ... |   15 | Slow | 5.0 |   4 |   4 |  0 | 0 | 0 | 0 | https://tiki.vn/chuot-may-tinh-co-day-prolink-pmc1006-bdlu-den-xanh-cam-bien-quang-hoc-1000dpi-hang-chinh-hang-p112529886.html?spid=112529887 |\n",
       "| 9 | 8 | Chu&lt;U+1ED9&gt;t máy vi tính Bosston D608 LED - Ðen-Hàng Chính Hãng                                                                                                   |  57.40 | 0.00 |  57.40 | low price  | VI TÍNH NAM TRUNG H&lt;U+1EA2&gt;I | Bossto     |  0 | 0                            | ... |  111 | Good | 4.7 |  29 |  22 |  5 | 1 | 1 | 0 | https://tiki.vn/chuot-may-vi-tinh-bosston-d608-led-den-hang-chinh-hang-p11191145.html?spid=48957656                                           |\n",
       "| 10 | 9 | Chu&lt;U+1ED9&gt;t led Ghost Wolf G830 cho máy tính - hàng nh&lt;U+1EAD&gt;p kh&lt;U+1EA9&gt;u                                                                                      | 125.00 | 0.00 | 125.00 | good price | Tech7                        | Ghost Wolf |  3 | Phi&lt;U+1EBF&gt;u b&lt;U+1EA3&gt;o hành | ... |   35 | Good | 4.4 |  11 |   7 |  3 | 0 | 0 | 1 | https://tiki.vn/chuot-led-ghost-wolf-g830-cho-may-tinh-hang-nhap-khau-p95528617.html?spid=95528618                                            |\n",
       "\n"
      ],
      "text/plain": [
       "   X\n",
       "1  0\n",
       "2  1\n",
       "3  2\n",
       "4  3\n",
       "5  4\n",
       "6  5\n",
       "7  6\n",
       "8  7\n",
       "9  8\n",
       "10 9\n",
       "   Name                                                                                                                                                             \n",
       "1  Chu<U+1ED9>t máy vi tính Bosston D608 led - Hàng Chính Hãng                                                                                                      \n",
       "2  Chu<U+1ED9>t máy tính có dây EDRA EM602 Ð<U+1ED9> Phân Gi<U+1EA3>i 1200 DPI, choi game, cho Laptop hàng chính hãng                                               \n",
       "3  Chu<U+1ED9>t máy tính có dây G5 ES, chu<U+1ED9>t gaming DPI 4 c<U+1EA5>p d<U+1ED9>, hi<U+1EC7>u <U+1EE9>ng dèn n<U+1EC1>n 7 màu- Hàng nh<U+1EAD>p kh<U+1EA9>u    \n",
       "4  Chu<U+1ED9>t máy tính Newmen G10 - Hàng Chính Hãng                                                                                                               \n",
       "5  Chu<U+1ED9>t máy tính van phòng T<U+1EB7>ng lót chu<U+1ED9>t cao c<U+1EA5>p                                                                                      \n",
       "6  Chu<U+1ED9>t van phòng có dây, chu<U+1ED9>t Game HXSJ A885 DPI 5500, RGB d<U+1ED5>i 7 màu liên t<U+1EE5>c, chuyên dùng cho laptop, máy tính, pc - Hàng chính hãng\n",
       "7  Chu<U+1ED9>t máy tính cao c<U+1EA5>p                                                                                                                             \n",
       "8  Chu<U+1ED9>t máy tính có dây PROLiNK PMC1006 BDLU (den xanh), c<U+1EA3>m bi<U+1EBF>n quang h<U+1ECD>c 1000DPI - Hàng chính hãng                                  \n",
       "9  Chu<U+1ED9>t máy vi tính Bosston D608 LED - Ðen-Hàng Chính Hãng                                                                                                  \n",
       "10 Chu<U+1ED9>t led Ghost Wolf G830 cho máy tính - hàng nh<U+1EAD>p kh<U+1EA9>u                                                                                     \n",
       "   Product_price Discount Sale_price Valuation  Shop                        \n",
       "1   60.00        0.05      57.10     low price                              \n",
       "2  148.00        0.00     148.00     good price Extreme Zero Online         \n",
       "3  129.00        0.00     129.00     good price HOÀNG NHÂN COMPUTER         \n",
       "4  145.00        0.00     145.00     good price Vi Tính Lê Huy              \n",
       "5  158.00        0.00     158.00     good price VLC6 Store                  \n",
       "6  299.00        0.36     192.00     good price HXSJ Official Store         \n",
       "7   81.44        0.00      81.44     low price  vinet shop                  \n",
       "8  120.00        0.26      89.00     low price                              \n",
       "9   57.40        0.00      57.40     low price  VI TÍNH NAM TRUNG H<U+1EA2>I\n",
       "10 125.00        0.00     125.00     good price Tech7                       \n",
       "   Brand      Warranty Warranty_way                 ... Sold Liquidity Rate\n",
       "1  Bossto      0       0                            ...  364 Fast      4.7 \n",
       "2  E-DRA      24       Tem b<U+1EA3>o hành          ...   85 Good      4.9 \n",
       "3  Zealot      3       Tem b<U+1EA3>o hành          ...  185 Good      4.7 \n",
       "4  Newme       0       0                            ... 1000 Fast      4.7 \n",
       "5  OEM         0       0                            ...   55 Good      5.0 \n",
       "6  HXSJ        6       Hóa don                      ...   39 Good      5.0 \n",
       "7  OEM         1       Tem b<U+1EA3>o hành          ...  204 Good      4.5 \n",
       "8  Prolink    12       Tem b<U+1EA3>o hành          ...   15 Slow      5.0 \n",
       "9  Bossto      0       0                            ...  111 Good      4.7 \n",
       "10 Ghost Wolf  3       Phi<U+1EBF>u b<U+1EA3>o hành ...   35 Good      4.4 \n",
       "   Comment X5  X4 X3 X2 X1\n",
       "1   93      78  8 5  0  2 \n",
       "2   24      22  2 0  0  0 \n",
       "3   64      53  7 0  1  3 \n",
       "4  135     106 20 6  0  3 \n",
       "5    9       9  0 0  0  0 \n",
       "6   13      13  0 0  0  0 \n",
       "7   79      51 18 8  1  1 \n",
       "8    4       4  0 0  0  0 \n",
       "9   29      22  5 1  1  0 \n",
       "10  11       7  3 0  0  1 \n",
       "   m_link                                                                                                                                       \n",
       "1  https://tiki.vn/chuot-may-vi-tinh-bosston-d608-led-hang-chinh-hang-p9355345.html?spid=56764717                                               \n",
       "2  https://tiki.vn/chuot-may-tinh-co-day-edra-em602-do-phan-giai-1200-dpi-choi-game-cho-laptop-hang-chinh-hang-p74463237.html?spid=90107321     \n",
       "3  https://tiki.vn/chuot-may-tinh-co-day-g5-es-chuot-gaming-dpi-4-cap-do-hieu-ung-den-nen-7-mau-hang-nhap-khau-p75614175.html?spid=91088172     \n",
       "4  https://tiki.vn/chuot-may-tinh-newmen-g10-hang-chinh-hang-p7975728.html?spid=7975732                                                         \n",
       "5  https://tiki.vn/chuot-may-tinh-van-phong-tang-lot-chuot-cao-cap-p86900816.html?spid=120777689                                                \n",
       "6  https://tiki.vn/chuot-van-phong-co-day-chuot-game-hxsj-a885-dpi-5500-rgb-doi-7-mau-lien-tuc-hang-chinh-hang-p121169235.html?spid=121169237   \n",
       "7  https://tiki.vn/chuot-may-tinh-cao-cap-p56288980.html?spid=58946387                                                                          \n",
       "8  https://tiki.vn/chuot-may-tinh-co-day-prolink-pmc1006-bdlu-den-xanh-cam-bien-quang-hoc-1000dpi-hang-chinh-hang-p112529886.html?spid=112529887\n",
       "9  https://tiki.vn/chuot-may-vi-tinh-bosston-d608-led-den-hang-chinh-hang-p11191145.html?spid=48957656                                          \n",
       "10 https://tiki.vn/chuot-led-ghost-wolf-g830-cho-may-tinh-hang-nhap-khau-p95528617.html?spid=95528618                                           "
      ]
     },
     "metadata": {},
     "output_type": "display_data"
    }
   ],
   "source": [
    "head(df, 10)"
   ]
  },
  {
   "cell_type": "markdown",
   "id": "9f691033",
   "metadata": {},
   "source": [
    "# The Center Tendency (Các phép tính hướng tâm)\n"
   ]
  },
  {
   "cell_type": "markdown",
   "id": "ff19e6df",
   "metadata": {},
   "source": [
    "Ta thấy cột \"Link\" trong dataframe không cung cấp thông tin cho việc phân tích dữ liệu nên ta sẽ tiến hành loại bỏ cột này khỏi dataframe để tiến hành phân tích dữ liệu một cách tiện và gọn hơn"
   ]
  },
  {
   "cell_type": "code",
   "execution_count": 15,
   "id": "23e9c746",
   "metadata": {},
   "outputs": [],
   "source": [
    "df <- subset( df, select = - m_link)\n",
    "df <- subset( df, select = - X)"
   ]
  },
  {
   "cell_type": "markdown",
   "id": "656bc2af",
   "metadata": {},
   "source": [
    "Nhờ việc xem thông số dữ liệu, ta có thể dễ dàng tìm ra được các biến định tính và định lượng:\n",
    "+ Quantitative variable( Biến định lượng) : Product_price, Sale_price, Discount, Warranty, Sold, Rate, Comment, 5, 4, 3, 2, 1\n",
    "+ Categorical variable( Biến định tính) : Valuation, Brand ,Warranty_way, Warranty_place, Liquidity\n"
   ]
  },
  {
   "cell_type": "code",
   "execution_count": 16,
   "id": "541a5ec5",
   "metadata": {},
   "outputs": [
    {
     "data": {
      "text/html": [
       "<table class=\"dataframe\">\n",
       "<caption>A data.frame: 6 × 20</caption>\n",
       "<thead>\n",
       "\t<tr><th></th><th scope=col>Name</th><th scope=col>Product_price</th><th scope=col>Discount</th><th scope=col>Sale_price</th><th scope=col>Valuation</th><th scope=col>Shop</th><th scope=col>Brand</th><th scope=col>Warranty</th><th scope=col>Warranty_way</th><th scope=col>Warranty_place</th><th scope=col>Quality</th><th scope=col>Sold</th><th scope=col>Liquidity</th><th scope=col>Rate</th><th scope=col>Comment</th><th scope=col>X5</th><th scope=col>X4</th><th scope=col>X3</th><th scope=col>X2</th><th scope=col>X1</th></tr>\n",
       "\t<tr><th></th><th scope=col>&lt;chr&gt;</th><th scope=col>&lt;dbl&gt;</th><th scope=col>&lt;dbl&gt;</th><th scope=col>&lt;dbl&gt;</th><th scope=col>&lt;chr&gt;</th><th scope=col>&lt;chr&gt;</th><th scope=col>&lt;chr&gt;</th><th scope=col>&lt;int&gt;</th><th scope=col>&lt;chr&gt;</th><th scope=col>&lt;chr&gt;</th><th scope=col>&lt;chr&gt;</th><th scope=col>&lt;int&gt;</th><th scope=col>&lt;chr&gt;</th><th scope=col>&lt;dbl&gt;</th><th scope=col>&lt;int&gt;</th><th scope=col>&lt;int&gt;</th><th scope=col>&lt;int&gt;</th><th scope=col>&lt;int&gt;</th><th scope=col>&lt;int&gt;</th><th scope=col>&lt;int&gt;</th></tr>\n",
       "</thead>\n",
       "<tbody>\n",
       "\t<tr><th scope=row>1</th><td><span style=white-space:pre-wrap>Chu&lt;U+1ED9&gt;t máy vi tính Bosston D608 led - Hàng Chính Hãng                                                                                                      </span></td><td> 60</td><td>0.05</td><td> 57.1</td><td>low price </td><td><span style=white-space:pre-wrap>                   </span></td><td>Bossto</td><td> 0</td><td><span style=white-space:pre-wrap>0                  </span></td><td><span style=white-space:pre-wrap>0                                                     </span></td><td>Good quality</td><td> 364</td><td>Fast</td><td>4.7</td><td> 93</td><td> 78</td><td> 8</td><td>5</td><td>0</td><td>2</td></tr>\n",
       "\t<tr><th scope=row>2</th><td><span style=white-space:pre-wrap>Chu&lt;U+1ED9&gt;t máy tính có dây EDRA EM602 Ð&lt;U+1ED9&gt; Phân Gi&lt;U+1EA3&gt;i 1200 DPI, choi game, cho Laptop hàng chính hãng                                               </span></td><td>148</td><td>0.00</td><td>148.0</td><td>good price</td><td>Extreme Zero Online</td><td>E-DRA </td><td>24</td><td>Tem b&lt;U+1EA3&gt;o hành</td><td><span style=white-space:pre-wrap>B&lt;U+1EA3&gt;o hành chính hãng                            </span></td><td>High quality</td><td><span style=white-space:pre-wrap>  85</span></td><td>Good</td><td>4.9</td><td> 24</td><td> 22</td><td> 2</td><td>0</td><td>0</td><td>0</td></tr>\n",
       "\t<tr><th scope=row>3</th><td><span style=white-space:pre-wrap>Chu&lt;U+1ED9&gt;t máy tính có dây G5 ES, chu&lt;U+1ED9&gt;t gaming DPI 4 c&lt;U+1EA5&gt;p d&lt;U+1ED9&gt;, hi&lt;U+1EC7&gt;u &lt;U+1EE9&gt;ng dèn n&lt;U+1EC1&gt;n 7 màu- Hàng nh&lt;U+1EAD&gt;p kh&lt;U+1EA9&gt;u    </span></td><td>129</td><td>0.00</td><td>129.0</td><td>good price</td><td>HOÀNG NHÂN COMPUTER</td><td>Zealot</td><td> 3</td><td>Tem b&lt;U+1EA3&gt;o hành</td><td>B&lt;U+1EA3&gt;o hành b&lt;U+1EDF&gt;i nhà bán hàng thông qua Tiki</td><td>Good quality</td><td> 185</td><td>Good</td><td>4.7</td><td> 64</td><td> 53</td><td> 7</td><td>0</td><td>1</td><td>3</td></tr>\n",
       "\t<tr><th scope=row>4</th><td><span style=white-space:pre-wrap>Chu&lt;U+1ED9&gt;t máy tính Newmen G10 - Hàng Chính Hãng                                                                                                               </span></td><td>145</td><td>0.00</td><td>145.0</td><td>good price</td><td><span style=white-space:pre-wrap>Vi Tính Lê Huy     </span></td><td>Newme </td><td> 0</td><td><span style=white-space:pre-wrap>0                  </span></td><td><span style=white-space:pre-wrap>0                                                     </span></td><td>Good quality</td><td>1000</td><td>Fast</td><td>4.7</td><td>135</td><td>106</td><td>20</td><td>6</td><td>0</td><td>3</td></tr>\n",
       "\t<tr><th scope=row>5</th><td><span style=white-space:pre-wrap>Chu&lt;U+1ED9&gt;t máy tính van phòng T&lt;U+1EB7&gt;ng lót chu&lt;U+1ED9&gt;t cao c&lt;U+1EA5&gt;p                                                                                      </span></td><td>158</td><td>0.00</td><td>158.0</td><td>good price</td><td><span style=white-space:pre-wrap>VLC6 Store         </span></td><td><span style=white-space:pre-wrap>OEM   </span></td><td> 0</td><td><span style=white-space:pre-wrap>0                  </span></td><td><span style=white-space:pre-wrap>0                                                     </span></td><td>Good quality</td><td><span style=white-space:pre-wrap>  55</span></td><td>Good</td><td>5.0</td><td><span style=white-space:pre-wrap>  9</span></td><td><span style=white-space:pre-wrap>  9</span></td><td> 0</td><td>0</td><td>0</td><td>0</td></tr>\n",
       "\t<tr><th scope=row>6</th><td>Chu&lt;U+1ED9&gt;t van phòng có dây, chu&lt;U+1ED9&gt;t Game HXSJ A885 DPI 5500, RGB d&lt;U+1ED5&gt;i 7 màu liên t&lt;U+1EE5&gt;c, chuyên dùng cho laptop, máy tính, pc - Hàng chính hãng</td><td>299</td><td>0.36</td><td>192.0</td><td>good price</td><td>HXSJ Official Store</td><td><span style=white-space:pre-wrap>HXSJ  </span></td><td> 6</td><td><span style=white-space:pre-wrap>Hóa don            </span></td><td>B&lt;U+1EA3&gt;o hành b&lt;U+1EDF&gt;i nhà bán hàng thông qua Tiki</td><td>Good quality</td><td><span style=white-space:pre-wrap>  39</span></td><td>Good</td><td>5.0</td><td> 13</td><td> 13</td><td> 0</td><td>0</td><td>0</td><td>0</td></tr>\n",
       "</tbody>\n",
       "</table>\n"
      ],
      "text/latex": [
       "A data.frame: 6 × 20\n",
       "\\begin{tabular}{r|llllllllllllllllllll}\n",
       "  & Name & Product\\_price & Discount & Sale\\_price & Valuation & Shop & Brand & Warranty & Warranty\\_way & Warranty\\_place & Quality & Sold & Liquidity & Rate & Comment & X5 & X4 & X3 & X2 & X1\\\\\n",
       "  & <chr> & <dbl> & <dbl> & <dbl> & <chr> & <chr> & <chr> & <int> & <chr> & <chr> & <chr> & <int> & <chr> & <dbl> & <int> & <int> & <int> & <int> & <int> & <int>\\\\\n",
       "\\hline\n",
       "\t1 & Chu<U+1ED9>t máy vi tính Bosston D608 led - Hàng Chính Hãng                                                                                                       &  60 & 0.05 &  57.1 & low price  &                     & Bossto &  0 & 0                   & 0                                                      & Good quality &  364 & Fast & 4.7 &  93 &  78 &  8 & 5 & 0 & 2\\\\\n",
       "\t2 & Chu<U+1ED9>t máy tính có dây EDRA EM602 Ð<U+1ED9> Phân Gi<U+1EA3>i 1200 DPI, choi game, cho Laptop hàng chính hãng                                                & 148 & 0.00 & 148.0 & good price & Extreme Zero Online & E-DRA  & 24 & Tem b<U+1EA3>o hành & B<U+1EA3>o hành chính hãng                             & High quality &   85 & Good & 4.9 &  24 &  22 &  2 & 0 & 0 & 0\\\\\n",
       "\t3 & Chu<U+1ED9>t máy tính có dây G5 ES, chu<U+1ED9>t gaming DPI 4 c<U+1EA5>p d<U+1ED9>, hi<U+1EC7>u <U+1EE9>ng dèn n<U+1EC1>n 7 màu- Hàng nh<U+1EAD>p kh<U+1EA9>u     & 129 & 0.00 & 129.0 & good price & HOÀNG NHÂN COMPUTER & Zealot &  3 & Tem b<U+1EA3>o hành & B<U+1EA3>o hành b<U+1EDF>i nhà bán hàng thông qua Tiki & Good quality &  185 & Good & 4.7 &  64 &  53 &  7 & 0 & 1 & 3\\\\\n",
       "\t4 & Chu<U+1ED9>t máy tính Newmen G10 - Hàng Chính Hãng                                                                                                                & 145 & 0.00 & 145.0 & good price & Vi Tính Lê Huy      & Newme  &  0 & 0                   & 0                                                      & Good quality & 1000 & Fast & 4.7 & 135 & 106 & 20 & 6 & 0 & 3\\\\\n",
       "\t5 & Chu<U+1ED9>t máy tính van phòng T<U+1EB7>ng lót chu<U+1ED9>t cao c<U+1EA5>p                                                                                       & 158 & 0.00 & 158.0 & good price & VLC6 Store          & OEM    &  0 & 0                   & 0                                                      & Good quality &   55 & Good & 5.0 &   9 &   9 &  0 & 0 & 0 & 0\\\\\n",
       "\t6 & Chu<U+1ED9>t van phòng có dây, chu<U+1ED9>t Game HXSJ A885 DPI 5500, RGB d<U+1ED5>i 7 màu liên t<U+1EE5>c, chuyên dùng cho laptop, máy tính, pc - Hàng chính hãng & 299 & 0.36 & 192.0 & good price & HXSJ Official Store & HXSJ   &  6 & Hóa don             & B<U+1EA3>o hành b<U+1EDF>i nhà bán hàng thông qua Tiki & Good quality &   39 & Good & 5.0 &  13 &  13 &  0 & 0 & 0 & 0\\\\\n",
       "\\end{tabular}\n"
      ],
      "text/markdown": [
       "\n",
       "A data.frame: 6 × 20\n",
       "\n",
       "| <!--/--> | Name &lt;chr&gt; | Product_price &lt;dbl&gt; | Discount &lt;dbl&gt; | Sale_price &lt;dbl&gt; | Valuation &lt;chr&gt; | Shop &lt;chr&gt; | Brand &lt;chr&gt; | Warranty &lt;int&gt; | Warranty_way &lt;chr&gt; | Warranty_place &lt;chr&gt; | Quality &lt;chr&gt; | Sold &lt;int&gt; | Liquidity &lt;chr&gt; | Rate &lt;dbl&gt; | Comment &lt;int&gt; | X5 &lt;int&gt; | X4 &lt;int&gt; | X3 &lt;int&gt; | X2 &lt;int&gt; | X1 &lt;int&gt; |\n",
       "|---|---|---|---|---|---|---|---|---|---|---|---|---|---|---|---|---|---|---|---|---|\n",
       "| 1 | Chu&lt;U+1ED9&gt;t máy vi tính Bosston D608 led - Hàng Chính Hãng                                                                                                       |  60 | 0.05 |  57.1 | low price  | <!----> | Bossto |  0 | 0                   | 0                                                      | Good quality |  364 | Fast | 4.7 |  93 |  78 |  8 | 5 | 0 | 2 |\n",
       "| 2 | Chu&lt;U+1ED9&gt;t máy tính có dây EDRA EM602 Ð&lt;U+1ED9&gt; Phân Gi&lt;U+1EA3&gt;i 1200 DPI, choi game, cho Laptop hàng chính hãng                                                | 148 | 0.00 | 148.0 | good price | Extreme Zero Online | E-DRA  | 24 | Tem b&lt;U+1EA3&gt;o hành | B&lt;U+1EA3&gt;o hành chính hãng                             | High quality |   85 | Good | 4.9 |  24 |  22 |  2 | 0 | 0 | 0 |\n",
       "| 3 | Chu&lt;U+1ED9&gt;t máy tính có dây G5 ES, chu&lt;U+1ED9&gt;t gaming DPI 4 c&lt;U+1EA5&gt;p d&lt;U+1ED9&gt;, hi&lt;U+1EC7&gt;u &lt;U+1EE9&gt;ng dèn n&lt;U+1EC1&gt;n 7 màu- Hàng nh&lt;U+1EAD&gt;p kh&lt;U+1EA9&gt;u     | 129 | 0.00 | 129.0 | good price | HOÀNG NHÂN COMPUTER | Zealot |  3 | Tem b&lt;U+1EA3&gt;o hành | B&lt;U+1EA3&gt;o hành b&lt;U+1EDF&gt;i nhà bán hàng thông qua Tiki | Good quality |  185 | Good | 4.7 |  64 |  53 |  7 | 0 | 1 | 3 |\n",
       "| 4 | Chu&lt;U+1ED9&gt;t máy tính Newmen G10 - Hàng Chính Hãng                                                                                                                | 145 | 0.00 | 145.0 | good price | Vi Tính Lê Huy      | Newme  |  0 | 0                   | 0                                                      | Good quality | 1000 | Fast | 4.7 | 135 | 106 | 20 | 6 | 0 | 3 |\n",
       "| 5 | Chu&lt;U+1ED9&gt;t máy tính van phòng T&lt;U+1EB7&gt;ng lót chu&lt;U+1ED9&gt;t cao c&lt;U+1EA5&gt;p                                                                                       | 158 | 0.00 | 158.0 | good price | VLC6 Store          | OEM    |  0 | 0                   | 0                                                      | Good quality |   55 | Good | 5.0 |   9 |   9 |  0 | 0 | 0 | 0 |\n",
       "| 6 | Chu&lt;U+1ED9&gt;t van phòng có dây, chu&lt;U+1ED9&gt;t Game HXSJ A885 DPI 5500, RGB d&lt;U+1ED5&gt;i 7 màu liên t&lt;U+1EE5&gt;c, chuyên dùng cho laptop, máy tính, pc - Hàng chính hãng | 299 | 0.36 | 192.0 | good price | HXSJ Official Store | HXSJ   |  6 | Hóa don             | B&lt;U+1EA3&gt;o hành b&lt;U+1EDF&gt;i nhà bán hàng thông qua Tiki | Good quality |   39 | Good | 5.0 |  13 |  13 |  0 | 0 | 0 | 0 |\n",
       "\n"
      ],
      "text/plain": [
       "  Name                                                                                                                                                             \n",
       "1 Chu<U+1ED9>t máy vi tính Bosston D608 led - Hàng Chính Hãng                                                                                                      \n",
       "2 Chu<U+1ED9>t máy tính có dây EDRA EM602 Ð<U+1ED9> Phân Gi<U+1EA3>i 1200 DPI, choi game, cho Laptop hàng chính hãng                                               \n",
       "3 Chu<U+1ED9>t máy tính có dây G5 ES, chu<U+1ED9>t gaming DPI 4 c<U+1EA5>p d<U+1ED9>, hi<U+1EC7>u <U+1EE9>ng dèn n<U+1EC1>n 7 màu- Hàng nh<U+1EAD>p kh<U+1EA9>u    \n",
       "4 Chu<U+1ED9>t máy tính Newmen G10 - Hàng Chính Hãng                                                                                                               \n",
       "5 Chu<U+1ED9>t máy tính van phòng T<U+1EB7>ng lót chu<U+1ED9>t cao c<U+1EA5>p                                                                                      \n",
       "6 Chu<U+1ED9>t van phòng có dây, chu<U+1ED9>t Game HXSJ A885 DPI 5500, RGB d<U+1ED5>i 7 màu liên t<U+1EE5>c, chuyên dùng cho laptop, máy tính, pc - Hàng chính hãng\n",
       "  Product_price Discount Sale_price Valuation  Shop                Brand \n",
       "1  60           0.05      57.1      low price                      Bossto\n",
       "2 148           0.00     148.0      good price Extreme Zero Online E-DRA \n",
       "3 129           0.00     129.0      good price HOÀNG NHÂN COMPUTER Zealot\n",
       "4 145           0.00     145.0      good price Vi Tính Lê Huy      Newme \n",
       "5 158           0.00     158.0      good price VLC6 Store          OEM   \n",
       "6 299           0.36     192.0      good price HXSJ Official Store HXSJ  \n",
       "  Warranty Warranty_way       \n",
       "1  0       0                  \n",
       "2 24       Tem b<U+1EA3>o hành\n",
       "3  3       Tem b<U+1EA3>o hành\n",
       "4  0       0                  \n",
       "5  0       0                  \n",
       "6  6       Hóa don            \n",
       "  Warranty_place                                         Quality      Sold\n",
       "1 0                                                      Good quality  364\n",
       "2 B<U+1EA3>o hành chính hãng                             High quality   85\n",
       "3 B<U+1EA3>o hành b<U+1EDF>i nhà bán hàng thông qua Tiki Good quality  185\n",
       "4 0                                                      Good quality 1000\n",
       "5 0                                                      Good quality   55\n",
       "6 B<U+1EA3>o hành b<U+1EDF>i nhà bán hàng thông qua Tiki Good quality   39\n",
       "  Liquidity Rate Comment X5  X4 X3 X2 X1\n",
       "1 Fast      4.7   93      78  8 5  0  2 \n",
       "2 Good      4.9   24      22  2 0  0  0 \n",
       "3 Good      4.7   64      53  7 0  1  3 \n",
       "4 Fast      4.7  135     106 20 6  0  3 \n",
       "5 Good      5.0    9       9  0 0  0  0 \n",
       "6 Good      5.0   13      13  0 0  0  0 "
      ]
     },
     "metadata": {},
     "output_type": "display_data"
    }
   ],
   "source": [
    "head(df)"
   ]
  },
  {
   "cell_type": "code",
   "execution_count": 17,
   "id": "077ee5a5",
   "metadata": {},
   "outputs": [],
   "source": [
    "quantitative <- c('Product_price','Sale_price', 'Discount', 'Warranty', 'Sold', 'Rate', 'Comment', 'X5', 'X4', 'X3', 'X2', 'X1')\n",
    "categorical <- c('Valuation', 'Brand' ,'Warranty_way', 'Warranty_place', 'Liquidity')"
   ]
  },
  {
   "cell_type": "code",
   "execution_count": 18,
   "id": "fbf91e52",
   "metadata": {},
   "outputs": [
    {
     "data": {
      "text/plain": [
       "df \n",
       "\n",
       " 20  Variables      252  Observations\n",
       "--------------------------------------------------------------------------------\n",
       "Name \n",
       "       n  missing distinct \n",
       "     252        0      246 \n",
       "\n",
       "lowest : .Chu<U+1ED9>t Máy Tính có dây Forter FT - 3900P C<U+1EF1>c B<U+1EC1>n Hàng nh<U+1EAD>p kh<U+1EA9>u                                                                                     [ XU<U+1EA4>T KH<U+1EA8>U M<U+1EF8> ] - CHU<U+1ED8>T BLUETOOTH KHÔNG DÂY MÁY TÍNH CHOI GAME - GAME TH<U+1EE6> CHUYÊN NGHI<U+1EC6>P - THE DEOSD - TD-WME29 - HÀNG CHÍNH HÃNG            [Lo<U+1EA1>i T<U+1ED1>t] Chu<U+1ED9>t Dây Máy Tính KhoNCC RFN100 Hàng Chính Hãng - Ð<U+1ED9> Nh<U+1EA1>y Ð<U+1EBF>n 1600dpi - C<U+1ED5>ng USB Dây 1.5 mét - KLVQ-3288-RPN100           {SIÊU R<U+1EBA>} Chu<U+1ED9>t Game Có Dây LED d<U+1ED5>i màu c<U+1EF1>c d<U+1EB9>p chuyên gaming, dây siêu b<U+1EC1>n, ch<U+1EC9>nh du<U+1EE3>c dpi m<U+1EAB>u m<U+1EDB>i 2020 -DC4245 B<U+1ED9> Bàn Phím Và Chu<U+1ED9>t Choi Game Có 10 Ch<U+1EBF> Ð<U+1ED9> Led Khác Nhau XSmart T6RGB Super PRO 2021 Tuong Thích Máy Tính PC Laptop - Hàng Chính Hãng                    \n",
       "highest: K<U+1EB8>P ÐI<U+1EC6>N THO<U+1EA0>I HÌNH CHU<U+1ED8>T MÁY TÍNH SIÊU G<U+1ECC>N                                                                                                         LÓT CHU<U+1ED8>T HELLO KITTY KITTY HOUSE                                                                                                                                               Máy Tính CASIO FX580VN X                                                                                                                                                               Máy Tính Khoa H<U+1ECD>c Casio FX-580VN X                                                                                                                                              T<U+1EB7>ng bàn di chu<U+1ED9>t cao c<U+1EA5>p - Chu<U+1ED9>t choi game K059 phù h<U+1EE3>p v<U+1EDB>i m<U+1ECD>i game th<U+1EE7> - Hàng nh<U+1EAD>p kh<U+1EA9>u                      \n",
       "--------------------------------------------------------------------------------\n",
       "Product_price \n",
       "       n  missing distinct     Info     Mean      Gmd      .05      .10 \n",
       "     252        0      120        1    184.2    156.6    52.75    69.00 \n",
       "     .25      .50      .75      .90      .95 \n",
       "   89.00   121.50   189.00   358.00   499.00 \n",
       "\n",
       "lowest :   35.0   38.0   39.0   40.0   43.5, highest:  990.0 1149.0 1200.0 1580.0 2090.0\n",
       "--------------------------------------------------------------------------------\n",
       "Discount \n",
       "       n  missing distinct     Info     Mean      Gmd      .05      .10 \n",
       "     252        0       28    0.485  0.04647  0.08204   0.0000   0.0000 \n",
       "     .25      .50      .75      .90      .95 \n",
       "  0.0000   0.0000   0.0000   0.2170   0.3445 \n",
       "\n",
       "lowest : 0.00 0.05 0.06 0.07 0.09, highest: 0.43 0.46 0.55 0.58 0.88\n",
       "--------------------------------------------------------------------------------\n",
       "Sale_price \n",
       "       n  missing distinct     Info     Mean      Gmd      .05      .10 \n",
       "     252        0      136        1    167.7    133.8    49.55    68.00 \n",
       "     .25      .50      .75      .90      .95 \n",
       "   86.00   120.00   179.00   286.20   433.55 \n",
       "\n",
       "lowest :   30.0   35.0   38.0   39.0   40.0, highest:  650.0  699.0  990.0 1489.9 2090.0\n",
       "--------------------------------------------------------------------------------\n",
       "Valuation \n",
       "       n  missing distinct \n",
       "     252        0        3 \n",
       "                                           \n",
       "Value      good price high price  low price\n",
       "Frequency         139         15         98\n",
       "Proportion      0.552      0.060      0.389\n",
       "--------------------------------------------------------------------------------\n",
       "Shop \n",
       "       n  missing distinct \n",
       "     234       18      120 \n",
       "\n",
       "lowest : AB STORE               AChauComputer          AIG MediaTech          Allmall                Anh Tr<U+1ECB>nh LInh \n",
       "highest: Vstar Technology Store Wook Store             XSmart                 Yes or No              ZADEZ Official Store  \n",
       "--------------------------------------------------------------------------------\n",
       "Brand \n",
       "       n  missing distinct \n",
       "     252        0       66 \n",
       "\n",
       "lowest : #NAME?  A4Tec   ACTTO   ADBLink Ajazz  \n",
       "highest: VSP     XSmart  Xtec    Zadez   Zealot \n",
       "--------------------------------------------------------------------------------\n",
       "Warranty \n",
       "       n  missing distinct     Info     Mean      Gmd      .05      .10 \n",
       "     252        0       11    0.895    6.905    8.663        0        0 \n",
       "     .25      .50      .75      .90      .95 \n",
       "       0        3       12       12       24 \n",
       "\n",
       "lowest :  0  1  3  6  9, highest: 12 18 24 36 84\n",
       "                                                                            \n",
       "Value          0     1     3     6     9    11    12    18    24    36    84\n",
       "Frequency    108     7    19    19     1     1    74     1    17     4     1\n",
       "Proportion 0.429 0.028 0.075 0.075 0.004 0.004 0.294 0.004 0.067 0.016 0.004\n",
       "--------------------------------------------------------------------------------\n",
       "Warranty_way \n",
       "       n  missing distinct \n",
       "     252        0        5 \n",
       "\n",
       "lowest : 0                            Ði<U+1EC7>n t<U+1EED>        Hóa don                      Phi<U+1EBF>u b<U+1EA3>o hành Tem b<U+1EA3>o hành         \n",
       "highest: 0                            Ði<U+1EC7>n t<U+1EED>        Hóa don                      Phi<U+1EBF>u b<U+1EA3>o hành Tem b<U+1EA3>o hành         \n",
       "\n",
       "0 (118, 0.468), Ði<U+1EC7>n t<U+1EED> (21, 0.083), Hóa don (24, 0.095), Phi<U+1EBF>u b<U+1EA3>o hành (9,\n",
       "0.036), Tem b<U+1EA3>o hành (80, 0.317)\n",
       "--------------------------------------------------------------------------------\n",
       "Warranty_place \n",
       "       n  missing distinct \n",
       "     252        0        3 \n",
       "\n",
       "0 (118, 0.468), B<U+1EA3>o hành b<U+1EDF>i nhà bán hàng thông qua Tiki (70, 0.278), B<U+1EA3>o hành\n",
       "chính hãng (64, 0.254)\n",
       "--------------------------------------------------------------------------------\n",
       "Quality \n",
       "       n  missing distinct \n",
       "     252        0        4 \n",
       "                                                              \n",
       "Value      Good quality High quality  Low quality      Unknown\n",
       "Frequency            56           17           50          129\n",
       "Proportion        0.222        0.067        0.198        0.512\n",
       "--------------------------------------------------------------------------------\n",
       "Sold \n",
       "       n  missing distinct     Info     Mean      Gmd      .05      .10 \n",
       "     252        0       69    0.859    66.89    117.8     0.00     0.00 \n",
       "     .25      .50      .75      .90      .95 \n",
       "    0.00     0.00    22.25   162.20   404.60 \n",
       "\n",
       "lowest :    0    1    2    3    4, highest:  575  602  706  727 1000\n",
       "--------------------------------------------------------------------------------\n",
       "Liquidity \n",
       "       n  missing distinct \n",
       "     252        0        3 \n",
       "                            \n",
       "Value       Fast  Good  Slow\n",
       "Frequency     17    40   195\n",
       "Proportion 0.067 0.159 0.774\n",
       "--------------------------------------------------------------------------------\n",
       "Rate \n",
       "       n  missing distinct     Info     Mean      Gmd      .05      .10 \n",
       "     252        0       18    0.864    2.169    2.395      0.0      0.0 \n",
       "     .25      .50      .75      .90      .95 \n",
       "     0.0      0.0      4.7      5.0      5.0 \n",
       "\n",
       "lowest : 0.0 1.0 1.5 2.0 3.0, highest: 4.6 4.7 4.8 4.9 5.0\n",
       "                                                                            \n",
       "Value        0.0   1.0   1.5   2.0   3.0   3.5   3.8   4.0   4.1   4.2   4.3\n",
       "Frequency    129     2     1     2     7     1     1     8     1     3     4\n",
       "Proportion 0.512 0.008 0.004 0.008 0.028 0.004 0.004 0.032 0.004 0.012 0.016\n",
       "                                                    \n",
       "Value        4.4   4.5   4.6   4.7   4.8   4.9   5.0\n",
       "Frequency      3     7    12    19    18     6    28\n",
       "Proportion 0.012 0.028 0.048 0.075 0.071 0.024 0.111\n",
       "--------------------------------------------------------------------------------\n",
       "Comment \n",
       "       n  missing distinct     Info     Mean      Gmd      .05      .10 \n",
       "     252        0       50    0.865    37.25    70.45     0.00     0.00 \n",
       "     .25      .50      .75      .90      .95 \n",
       "    0.00     0.00     6.25    50.10    93.00 \n",
       "\n",
       "lowest :    0    1    2    3    4, highest:  179  298  398  814 4945\n",
       "--------------------------------------------------------------------------------\n",
       "X5 \n",
       "       n  missing distinct     Info     Mean      Gmd      .05      .10 \n",
       "     252        0       47    0.816     31.5    59.92      0.0      0.0 \n",
       "     .25      .50      .75      .90      .95 \n",
       "     0.0      0.0      5.0     34.9     76.9 \n",
       "\n",
       "lowest :    0    1    2    3    4, highest:  158  238  354  676 4338\n",
       "                                                                            \n",
       "Value          0    10    20    30    40    50    60    70    80    90   110\n",
       "Frequency    193    21    10     2     3     3     3     1     4     2     3\n",
       "Proportion 0.766 0.083 0.040 0.008 0.012 0.012 0.012 0.004 0.016 0.008 0.012\n",
       "                                              \n",
       "Value        140   160   240   350   680  4340\n",
       "Frequency      2     1     1     1     1     1\n",
       "Proportion 0.008 0.004 0.004 0.004 0.004 0.004\n",
       "\n",
       "For the frequency table, variable is rounded to the nearest 10\n",
       "--------------------------------------------------------------------------------\n",
       "X4 \n",
       "       n  missing distinct     Info     Mean      Gmd      .05      .10 \n",
       "     252        0       25    0.664    4.218    7.872     0.00     0.00 \n",
       "     .25      .50      .75      .90      .95 \n",
       "    0.00     0.00     1.00     6.00    14.45 \n",
       "\n",
       "lowest :   0   1   2   3   4, highest:  32  36  51 122 431\n",
       "--------------------------------------------------------------------------------\n",
       "X3 \n",
       "       n  missing distinct     Info     Mean      Gmd      .05      .10 \n",
       "     252        0       12    0.421   0.6984     1.31        0        0 \n",
       "     .25      .50      .75      .90      .95 \n",
       "       0        0        0        1        3 \n",
       "\n",
       "lowest :  0  1  2  3  4, highest:  7  8  9 10 63\n",
       "                                                                            \n",
       "Value          0     1     2     3     4     5     6     7     8     9    10\n",
       "Frequency    210    18    10     2     2     3     2     1     1     1     1\n",
       "Proportion 0.833 0.071 0.040 0.008 0.008 0.012 0.008 0.004 0.004 0.004 0.004\n",
       "                \n",
       "Value         63\n",
       "Frequency      1\n",
       "Proportion 0.004\n",
       "--------------------------------------------------------------------------------\n",
       "X2 \n",
       "       n  missing distinct     Info     Mean      Gmd \n",
       "     252        0        6    0.259   0.2738   0.5286 \n",
       "\n",
       "lowest :  0  1  2  3  4, highest:  1  2  3  4 37\n",
       "                                              \n",
       "Value          0     1     2     3     4    37\n",
       "Frequency    228    17     4     1     1     1\n",
       "Proportion 0.905 0.067 0.016 0.004 0.004 0.004\n",
       "--------------------------------------------------------------------------------\n",
       "X1 \n",
       "       n  missing distinct     Info     Mean      Gmd \n",
       "     252        0        7    0.412   0.5833    1.103 \n",
       "\n",
       "lowest :  0  1  2  3  4, highest:  2  3  4  5 76\n",
       "                                                    \n",
       "Value          0     1     2     3     4     5    76\n",
       "Frequency    211    25     5     5     4     1     1\n",
       "Proportion 0.837 0.099 0.020 0.020 0.016 0.004 0.004\n",
       "--------------------------------------------------------------------------------"
      ]
     },
     "metadata": {},
     "output_type": "display_data"
    }
   ],
   "source": [
    "# describe table \n",
    "describe(df)"
   ]
  },
  {
   "cell_type": "markdown",
   "id": "01330d35",
   "metadata": {},
   "source": [
    "Sử dụng hàm summary() để xem các kết quả vầ một số phép kiểm tra dữ liệu."
   ]
  },
  {
   "cell_type": "code",
   "execution_count": 19,
   "id": "b0af00a4",
   "metadata": {},
   "outputs": [
    {
     "data": {
      "text/plain": [
       "     Name           Product_price       Discount         Sale_price    \n",
       " Length:252         Min.   :  35.0   Min.   :0.00000   Min.   :  30.0  \n",
       " Class :character   1st Qu.:  89.0   1st Qu.:0.00000   1st Qu.:  86.0  \n",
       " Mode  :character   Median : 121.5   Median :0.00000   Median : 120.0  \n",
       "                    Mean   : 184.2   Mean   :0.04647   Mean   : 167.7  \n",
       "                    3rd Qu.: 189.0   3rd Qu.:0.00000   3rd Qu.: 179.0  \n",
       "                    Max.   :2090.0   Max.   :0.88000   Max.   :2090.0  \n",
       "  Valuation             Shop              Brand              Warranty     \n",
       " Length:252         Length:252         Length:252         Min.   : 0.000  \n",
       " Class :character   Class :character   Class :character   1st Qu.: 0.000  \n",
       " Mode  :character   Mode  :character   Mode  :character   Median : 3.000  \n",
       "                                                          Mean   : 6.905  \n",
       "                                                          3rd Qu.:12.000  \n",
       "                                                          Max.   :84.000  \n",
       " Warranty_way       Warranty_place       Quality               Sold        \n",
       " Length:252         Length:252         Length:252         Min.   :   0.00  \n",
       " Class :character   Class :character   Class :character   1st Qu.:   0.00  \n",
       " Mode  :character   Mode  :character   Mode  :character   Median :   0.00  \n",
       "                                                          Mean   :  66.89  \n",
       "                                                          3rd Qu.:  22.25  \n",
       "                                                          Max.   :1000.00  \n",
       "  Liquidity              Rate          Comment              X5        \n",
       " Length:252         Min.   :0.000   Min.   :   0.00   Min.   :   0.0  \n",
       " Class :character   1st Qu.:0.000   1st Qu.:   0.00   1st Qu.:   0.0  \n",
       " Mode  :character   Median :0.000   Median :   0.00   Median :   0.0  \n",
       "                    Mean   :2.169   Mean   :  37.25   Mean   :  31.5  \n",
       "                    3rd Qu.:4.700   3rd Qu.:   6.25   3rd Qu.:   5.0  \n",
       "                    Max.   :5.000   Max.   :4945.00   Max.   :4338.0  \n",
       "       X4                X3                X2                X1         \n",
       " Min.   :  0.000   Min.   : 0.0000   Min.   : 0.0000   Min.   : 0.0000  \n",
       " 1st Qu.:  0.000   1st Qu.: 0.0000   1st Qu.: 0.0000   1st Qu.: 0.0000  \n",
       " Median :  0.000   Median : 0.0000   Median : 0.0000   Median : 0.0000  \n",
       " Mean   :  4.218   Mean   : 0.6984   Mean   : 0.2738   Mean   : 0.5833  \n",
       " 3rd Qu.:  1.000   3rd Qu.: 0.0000   3rd Qu.: 0.0000   3rd Qu.: 0.0000  \n",
       " Max.   :431.000   Max.   :63.0000   Max.   :37.0000   Max.   :76.0000  "
      ]
     },
     "metadata": {},
     "output_type": "display_data"
    }
   ],
   "source": [
    "summary(df)"
   ]
  },
  {
   "cell_type": "markdown",
   "id": "26925296",
   "metadata": {},
   "source": [
    "Bảng tính phương sai các biến định lượng"
   ]
  },
  {
   "cell_type": "code",
   "execution_count": 20,
   "id": "81972e27",
   "metadata": {},
   "outputs": [
    {
     "data": {
      "text/html": [
       "<table class=\"dataframe\">\n",
       "<caption>A matrix: 12 × 12 of type dbl</caption>\n",
       "<thead>\n",
       "\t<tr><th></th><th scope=col>Product_price</th><th scope=col>Sale_price</th><th scope=col>Discount</th><th scope=col>Warranty</th><th scope=col>Sold</th><th scope=col>Rate</th><th scope=col>Comment</th><th scope=col>X5</th><th scope=col>X4</th><th scope=col>X3</th><th scope=col>X2</th><th scope=col>X1</th></tr>\n",
       "</thead>\n",
       "<tbody>\n",
       "\t<tr><th scope=row>Product_price</th><td>46968.004389</td><td>38365.3807316</td><td> 7.981696919</td><td>3.063491e+02</td><td> 4483.885368</td><td>  7.12213994</td><td>1.007544e+04</td><td>8.869824e+03</td><td>8.588805e+02</td><td>1.270026e+02</td><td> 71.788378628</td><td>1.453502e+02</td></tr>\n",
       "\t<tr><th scope=row>Sale_price</th><td>38365.380732</td><td>36683.7557610</td><td> 0.474227643</td><td>3.027500e+02</td><td> 3589.598684</td><td>-15.84781131</td><td>1.008206e+04</td><td>8.893236e+03</td><td>8.495374e+02</td><td>1.187428e+02</td><td> 72.815537374</td><td>1.453902e+02</td></tr>\n",
       "\t<tr><th scope=row>Discount</th><td>    7.981697</td><td>    0.4742276</td><td> 0.014593453</td><td>4.292924e-02</td><td>    2.653724</td><td>  0.05657691</td><td>1.320559e-01</td><td>3.618115e-02</td><td>7.272608e-02</td><td>2.032505e-02</td><td> -0.001977329</td><td>4.060425e-03</td></tr>\n",
       "\t<tr><th scope=row>Warranty</th><td>  306.349131</td><td>  302.7499979</td><td> 0.042929235</td><td>8.789528e+01</td><td>  352.607285</td><td>  0.89508632</td><td>1.532196e+03</td><td>1.341800e+03</td><td>1.367898e+02</td><td>1.938152e+01</td><td> 11.528173022</td><td>2.330279e+01</td></tr>\n",
       "\t<tr><th scope=row>Sold</th><td> 4483.885368</td><td> 3589.5986844</td><td> 2.653723677</td><td>3.526073e+02</td><td>36352.542260</td><td>161.06205179</td><td>2.764985e+04</td><td>2.388020e+04</td><td>2.821474e+03</td><td>4.105014e+02</td><td>180.961724530</td><td>3.568675e+02</td></tr>\n",
       "\t<tr><th scope=row>Rate</th><td>    7.122140</td><td>  -15.8478113</td><td> 0.056576915</td><td>8.950863e-01</td><td>  161.062052</td><td>  5.25830567</td><td>9.729345e+01</td><td>8.261681e+01</td><td>1.090191e+01</td><td>1.726605e+00</td><td>  0.679316069</td><td>1.408732e+00</td></tr>\n",
       "\t<tr><th scope=row>Comment</th><td>10075.441987</td><td>10082.0561158</td><td> 0.132055903</td><td>1.532196e+03</td><td>27649.848036</td><td> 97.29344843</td><td>1.006956e+05</td><td>8.816972e+04</td><td>8.985908e+03</td><td>1.292184e+03</td><td>739.838550560</td><td>1.508321e+03</td></tr>\n",
       "\t<tr><th scope=row>X5</th><td> 8869.823817</td><td> 8893.2364161</td><td> 0.036181148</td><td>1.341800e+03</td><td>23880.200768</td><td> 82.61681054</td><td>8.816972e+04</td><td>7.721928e+04</td><td>7.852258e+03</td><td>1.128915e+03</td><td>648.062843863</td><td>1.321303e+03</td></tr>\n",
       "\t<tr><th scope=row>X4</th><td>  858.880520</td><td>  849.5373944</td><td> 0.072726080</td><td>1.367898e+02</td><td> 2821.473677</td><td> 10.90191456</td><td>8.985908e+03</td><td>7.852258e+03</td><td>8.188167e+02</td><td>1.167593e+02</td><td> 65.370280782</td><td>1.329200e+02</td></tr>\n",
       "\t<tr><th scope=row>X3</th><td>  127.002569</td><td>  118.7428373</td><td> 0.020325049</td><td>1.938152e+01</td><td>  410.501423</td><td>  1.72660469</td><td>1.292184e+03</td><td>1.128915e+03</td><td>1.167593e+02</td><td>1.751028e+01</td><td>  9.576930374</td><td>1.951129e+01</td></tr>\n",
       "\t<tr><th scope=row>X2</th><td>   71.788379</td><td>   72.8155374</td><td>-0.001977329</td><td>1.152817e+01</td><td>  180.961725</td><td>  0.67931607</td><td>7.398386e+02</td><td>6.480628e+02</td><td>6.537028e+01</td><td>9.576930e+00</td><td>  5.609988617</td><td>1.125398e+01</td></tr>\n",
       "\t<tr><th scope=row>X1</th><td>  145.350200</td><td>  145.3902185</td><td> 0.004060425</td><td>2.330279e+01</td><td>  356.867530</td><td>  1.40873174</td><td>1.508321e+03</td><td>1.321303e+03</td><td>1.329200e+02</td><td>1.951129e+01</td><td> 11.253984064</td><td>2.338347e+01</td></tr>\n",
       "</tbody>\n",
       "</table>\n"
      ],
      "text/latex": [
       "A matrix: 12 × 12 of type dbl\n",
       "\\begin{tabular}{r|llllllllllll}\n",
       "  & Product\\_price & Sale\\_price & Discount & Warranty & Sold & Rate & Comment & X5 & X4 & X3 & X2 & X1\\\\\n",
       "\\hline\n",
       "\tProduct\\_price & 46968.004389 & 38365.3807316 &  7.981696919 & 3.063491e+02 &  4483.885368 &   7.12213994 & 1.007544e+04 & 8.869824e+03 & 8.588805e+02 & 1.270026e+02 &  71.788378628 & 1.453502e+02\\\\\n",
       "\tSale\\_price & 38365.380732 & 36683.7557610 &  0.474227643 & 3.027500e+02 &  3589.598684 & -15.84781131 & 1.008206e+04 & 8.893236e+03 & 8.495374e+02 & 1.187428e+02 &  72.815537374 & 1.453902e+02\\\\\n",
       "\tDiscount &     7.981697 &     0.4742276 &  0.014593453 & 4.292924e-02 &     2.653724 &   0.05657691 & 1.320559e-01 & 3.618115e-02 & 7.272608e-02 & 2.032505e-02 &  -0.001977329 & 4.060425e-03\\\\\n",
       "\tWarranty &   306.349131 &   302.7499979 &  0.042929235 & 8.789528e+01 &   352.607285 &   0.89508632 & 1.532196e+03 & 1.341800e+03 & 1.367898e+02 & 1.938152e+01 &  11.528173022 & 2.330279e+01\\\\\n",
       "\tSold &  4483.885368 &  3589.5986844 &  2.653723677 & 3.526073e+02 & 36352.542260 & 161.06205179 & 2.764985e+04 & 2.388020e+04 & 2.821474e+03 & 4.105014e+02 & 180.961724530 & 3.568675e+02\\\\\n",
       "\tRate &     7.122140 &   -15.8478113 &  0.056576915 & 8.950863e-01 &   161.062052 &   5.25830567 & 9.729345e+01 & 8.261681e+01 & 1.090191e+01 & 1.726605e+00 &   0.679316069 & 1.408732e+00\\\\\n",
       "\tComment & 10075.441987 & 10082.0561158 &  0.132055903 & 1.532196e+03 & 27649.848036 &  97.29344843 & 1.006956e+05 & 8.816972e+04 & 8.985908e+03 & 1.292184e+03 & 739.838550560 & 1.508321e+03\\\\\n",
       "\tX5 &  8869.823817 &  8893.2364161 &  0.036181148 & 1.341800e+03 & 23880.200768 &  82.61681054 & 8.816972e+04 & 7.721928e+04 & 7.852258e+03 & 1.128915e+03 & 648.062843863 & 1.321303e+03\\\\\n",
       "\tX4 &   858.880520 &   849.5373944 &  0.072726080 & 1.367898e+02 &  2821.473677 &  10.90191456 & 8.985908e+03 & 7.852258e+03 & 8.188167e+02 & 1.167593e+02 &  65.370280782 & 1.329200e+02\\\\\n",
       "\tX3 &   127.002569 &   118.7428373 &  0.020325049 & 1.938152e+01 &   410.501423 &   1.72660469 & 1.292184e+03 & 1.128915e+03 & 1.167593e+02 & 1.751028e+01 &   9.576930374 & 1.951129e+01\\\\\n",
       "\tX2 &    71.788379 &    72.8155374 & -0.001977329 & 1.152817e+01 &   180.961725 &   0.67931607 & 7.398386e+02 & 6.480628e+02 & 6.537028e+01 & 9.576930e+00 &   5.609988617 & 1.125398e+01\\\\\n",
       "\tX1 &   145.350200 &   145.3902185 &  0.004060425 & 2.330279e+01 &   356.867530 &   1.40873174 & 1.508321e+03 & 1.321303e+03 & 1.329200e+02 & 1.951129e+01 &  11.253984064 & 2.338347e+01\\\\\n",
       "\\end{tabular}\n"
      ],
      "text/markdown": [
       "\n",
       "A matrix: 12 × 12 of type dbl\n",
       "\n",
       "| <!--/--> | Product_price | Sale_price | Discount | Warranty | Sold | Rate | Comment | X5 | X4 | X3 | X2 | X1 |\n",
       "|---|---|---|---|---|---|---|---|---|---|---|---|---|\n",
       "| Product_price | 46968.004389 | 38365.3807316 |  7.981696919 | 3.063491e+02 |  4483.885368 |   7.12213994 | 1.007544e+04 | 8.869824e+03 | 8.588805e+02 | 1.270026e+02 |  71.788378628 | 1.453502e+02 |\n",
       "| Sale_price | 38365.380732 | 36683.7557610 |  0.474227643 | 3.027500e+02 |  3589.598684 | -15.84781131 | 1.008206e+04 | 8.893236e+03 | 8.495374e+02 | 1.187428e+02 |  72.815537374 | 1.453902e+02 |\n",
       "| Discount |     7.981697 |     0.4742276 |  0.014593453 | 4.292924e-02 |     2.653724 |   0.05657691 | 1.320559e-01 | 3.618115e-02 | 7.272608e-02 | 2.032505e-02 |  -0.001977329 | 4.060425e-03 |\n",
       "| Warranty |   306.349131 |   302.7499979 |  0.042929235 | 8.789528e+01 |   352.607285 |   0.89508632 | 1.532196e+03 | 1.341800e+03 | 1.367898e+02 | 1.938152e+01 |  11.528173022 | 2.330279e+01 |\n",
       "| Sold |  4483.885368 |  3589.5986844 |  2.653723677 | 3.526073e+02 | 36352.542260 | 161.06205179 | 2.764985e+04 | 2.388020e+04 | 2.821474e+03 | 4.105014e+02 | 180.961724530 | 3.568675e+02 |\n",
       "| Rate |     7.122140 |   -15.8478113 |  0.056576915 | 8.950863e-01 |   161.062052 |   5.25830567 | 9.729345e+01 | 8.261681e+01 | 1.090191e+01 | 1.726605e+00 |   0.679316069 | 1.408732e+00 |\n",
       "| Comment | 10075.441987 | 10082.0561158 |  0.132055903 | 1.532196e+03 | 27649.848036 |  97.29344843 | 1.006956e+05 | 8.816972e+04 | 8.985908e+03 | 1.292184e+03 | 739.838550560 | 1.508321e+03 |\n",
       "| X5 |  8869.823817 |  8893.2364161 |  0.036181148 | 1.341800e+03 | 23880.200768 |  82.61681054 | 8.816972e+04 | 7.721928e+04 | 7.852258e+03 | 1.128915e+03 | 648.062843863 | 1.321303e+03 |\n",
       "| X4 |   858.880520 |   849.5373944 |  0.072726080 | 1.367898e+02 |  2821.473677 |  10.90191456 | 8.985908e+03 | 7.852258e+03 | 8.188167e+02 | 1.167593e+02 |  65.370280782 | 1.329200e+02 |\n",
       "| X3 |   127.002569 |   118.7428373 |  0.020325049 | 1.938152e+01 |   410.501423 |   1.72660469 | 1.292184e+03 | 1.128915e+03 | 1.167593e+02 | 1.751028e+01 |   9.576930374 | 1.951129e+01 |\n",
       "| X2 |    71.788379 |    72.8155374 | -0.001977329 | 1.152817e+01 |   180.961725 |   0.67931607 | 7.398386e+02 | 6.480628e+02 | 6.537028e+01 | 9.576930e+00 |   5.609988617 | 1.125398e+01 |\n",
       "| X1 |   145.350200 |   145.3902185 |  0.004060425 | 2.330279e+01 |   356.867530 |   1.40873174 | 1.508321e+03 | 1.321303e+03 | 1.329200e+02 | 1.951129e+01 |  11.253984064 | 2.338347e+01 |\n",
       "\n"
      ],
      "text/plain": [
       "              Product_price Sale_price    Discount     Warranty    \n",
       "Product_price 46968.004389  38365.3807316  7.981696919 3.063491e+02\n",
       "Sale_price    38365.380732  36683.7557610  0.474227643 3.027500e+02\n",
       "Discount          7.981697      0.4742276  0.014593453 4.292924e-02\n",
       "Warranty        306.349131    302.7499979  0.042929235 8.789528e+01\n",
       "Sold           4483.885368   3589.5986844  2.653723677 3.526073e+02\n",
       "Rate              7.122140    -15.8478113  0.056576915 8.950863e-01\n",
       "Comment       10075.441987  10082.0561158  0.132055903 1.532196e+03\n",
       "X5             8869.823817   8893.2364161  0.036181148 1.341800e+03\n",
       "X4              858.880520    849.5373944  0.072726080 1.367898e+02\n",
       "X3              127.002569    118.7428373  0.020325049 1.938152e+01\n",
       "X2               71.788379     72.8155374 -0.001977329 1.152817e+01\n",
       "X1              145.350200    145.3902185  0.004060425 2.330279e+01\n",
       "              Sold         Rate         Comment      X5           X4          \n",
       "Product_price  4483.885368   7.12213994 1.007544e+04 8.869824e+03 8.588805e+02\n",
       "Sale_price     3589.598684 -15.84781131 1.008206e+04 8.893236e+03 8.495374e+02\n",
       "Discount          2.653724   0.05657691 1.320559e-01 3.618115e-02 7.272608e-02\n",
       "Warranty        352.607285   0.89508632 1.532196e+03 1.341800e+03 1.367898e+02\n",
       "Sold          36352.542260 161.06205179 2.764985e+04 2.388020e+04 2.821474e+03\n",
       "Rate            161.062052   5.25830567 9.729345e+01 8.261681e+01 1.090191e+01\n",
       "Comment       27649.848036  97.29344843 1.006956e+05 8.816972e+04 8.985908e+03\n",
       "X5            23880.200768  82.61681054 8.816972e+04 7.721928e+04 7.852258e+03\n",
       "X4             2821.473677  10.90191456 8.985908e+03 7.852258e+03 8.188167e+02\n",
       "X3              410.501423   1.72660469 1.292184e+03 1.128915e+03 1.167593e+02\n",
       "X2              180.961725   0.67931607 7.398386e+02 6.480628e+02 6.537028e+01\n",
       "X1              356.867530   1.40873174 1.508321e+03 1.321303e+03 1.329200e+02\n",
       "              X3           X2            X1          \n",
       "Product_price 1.270026e+02  71.788378628 1.453502e+02\n",
       "Sale_price    1.187428e+02  72.815537374 1.453902e+02\n",
       "Discount      2.032505e-02  -0.001977329 4.060425e-03\n",
       "Warranty      1.938152e+01  11.528173022 2.330279e+01\n",
       "Sold          4.105014e+02 180.961724530 3.568675e+02\n",
       "Rate          1.726605e+00   0.679316069 1.408732e+00\n",
       "Comment       1.292184e+03 739.838550560 1.508321e+03\n",
       "X5            1.128915e+03 648.062843863 1.321303e+03\n",
       "X4            1.167593e+02  65.370280782 1.329200e+02\n",
       "X3            1.751028e+01   9.576930374 1.951129e+01\n",
       "X2            9.576930e+00   5.609988617 1.125398e+01\n",
       "X1            1.951129e+01  11.253984064 2.338347e+01"
      ]
     },
     "metadata": {},
     "output_type": "display_data"
    }
   ],
   "source": [
    "#Varrian value(Phương sai)\n",
    "var(df[,c(quantitative)])"
   ]
  },
  {
   "cell_type": "markdown",
   "id": "657c52a9",
   "metadata": {},
   "source": [
    "Tính giá trị yếu vị của dữ liệu."
   ]
  },
  {
   "cell_type": "code",
   "execution_count": 21,
   "id": "afd83c5c",
   "metadata": {},
   "outputs": [],
   "source": [
    "Mode <- function(dataframe){\n",
    "    mode <- c()\n",
    "    name <- c()\n",
    "\n",
    "    getmode <- function(v) {\n",
    "        uniqv <- unique(v)\n",
    "        uniqv[which.max(tabulate(match(v, uniqv)))]\n",
    "    }\n",
    "    for (i in names(dataframe)){\n",
    "        name <- c(name,i)\n",
    "    } \n",
    "    for (i in 1:length(dataframe)){\n",
    "        mode <- c(mode, getmode(df[,i]))\n",
    "    }\n",
    "    data.frame(name,mode)\n",
    "}"
   ]
  },
  {
   "cell_type": "code",
   "execution_count": 22,
   "id": "a30e44f9",
   "metadata": {},
   "outputs": [
    {
     "data": {
      "text/html": [
       "<table class=\"dataframe\">\n",
       "<caption>A data.frame: 20 × 2</caption>\n",
       "<thead>\n",
       "\t<tr><th scope=col>name</th><th scope=col>mode</th></tr>\n",
       "\t<tr><th scope=col>&lt;chr&gt;</th><th scope=col>&lt;chr&gt;</th></tr>\n",
       "</thead>\n",
       "<tbody>\n",
       "\t<tr><td><span style=white-space:pre-wrap>Name          </span></td><td>Chu&lt;U+1ED9&gt;t máy tính có dây G3SE thi&lt;U+1EBF&gt;t k&lt;U+1EBF&gt; nh&lt;U+1ECF&gt; g&lt;U+1ECD&gt;n, Led bao quanh d&lt;U+1EB9&gt;p m&lt;U+1EAF&gt;t, DPI tùy ch&lt;U+1EC9&gt;nh</td></tr>\n",
       "\t<tr><td>Product_price </td><td>99                                                                                                                                       </td></tr>\n",
       "\t<tr><td>Discount      </td><td>0                                                                                                                                        </td></tr>\n",
       "\t<tr><td>Sale_price    </td><td>99                                                                                                                                       </td></tr>\n",
       "\t<tr><td>Valuation     </td><td>good price                                                                                                                               </td></tr>\n",
       "\t<tr><td>Shop          </td><td>                                                                                                                                         </td></tr>\n",
       "\t<tr><td>Brand         </td><td>OEM                                                                                                                                      </td></tr>\n",
       "\t<tr><td>Warranty      </td><td>0                                                                                                                                        </td></tr>\n",
       "\t<tr><td>Warranty_way  </td><td>0                                                                                                                                        </td></tr>\n",
       "\t<tr><td>Warranty_place</td><td>0                                                                                                                                        </td></tr>\n",
       "\t<tr><td>Quality       </td><td>Unknown                                                                                                                                  </td></tr>\n",
       "\t<tr><td>Sold          </td><td>0                                                                                                                                        </td></tr>\n",
       "\t<tr><td>Liquidity     </td><td>Slow                                                                                                                                     </td></tr>\n",
       "\t<tr><td>Rate          </td><td>0                                                                                                                                        </td></tr>\n",
       "\t<tr><td>Comment       </td><td>0                                                                                                                                        </td></tr>\n",
       "\t<tr><td>X5            </td><td>0                                                                                                                                        </td></tr>\n",
       "\t<tr><td>X4            </td><td>0                                                                                                                                        </td></tr>\n",
       "\t<tr><td>X3            </td><td>0                                                                                                                                        </td></tr>\n",
       "\t<tr><td>X2            </td><td>0                                                                                                                                        </td></tr>\n",
       "\t<tr><td>X1            </td><td>0                                                                                                                                        </td></tr>\n",
       "</tbody>\n",
       "</table>\n"
      ],
      "text/latex": [
       "A data.frame: 20 × 2\n",
       "\\begin{tabular}{ll}\n",
       " name & mode\\\\\n",
       " <chr> & <chr>\\\\\n",
       "\\hline\n",
       "\t Name           & Chu<U+1ED9>t máy tính có dây G3SE thi<U+1EBF>t k<U+1EBF> nh<U+1ECF> g<U+1ECD>n, Led bao quanh d<U+1EB9>p m<U+1EAF>t, DPI tùy ch<U+1EC9>nh\\\\\n",
       "\t Product\\_price  & 99                                                                                                                                       \\\\\n",
       "\t Discount       & 0                                                                                                                                        \\\\\n",
       "\t Sale\\_price     & 99                                                                                                                                       \\\\\n",
       "\t Valuation      & good price                                                                                                                               \\\\\n",
       "\t Shop           &                                                                                                                                          \\\\\n",
       "\t Brand          & OEM                                                                                                                                      \\\\\n",
       "\t Warranty       & 0                                                                                                                                        \\\\\n",
       "\t Warranty\\_way   & 0                                                                                                                                        \\\\\n",
       "\t Warranty\\_place & 0                                                                                                                                        \\\\\n",
       "\t Quality        & Unknown                                                                                                                                  \\\\\n",
       "\t Sold           & 0                                                                                                                                        \\\\\n",
       "\t Liquidity      & Slow                                                                                                                                     \\\\\n",
       "\t Rate           & 0                                                                                                                                        \\\\\n",
       "\t Comment        & 0                                                                                                                                        \\\\\n",
       "\t X5             & 0                                                                                                                                        \\\\\n",
       "\t X4             & 0                                                                                                                                        \\\\\n",
       "\t X3             & 0                                                                                                                                        \\\\\n",
       "\t X2             & 0                                                                                                                                        \\\\\n",
       "\t X1             & 0                                                                                                                                        \\\\\n",
       "\\end{tabular}\n"
      ],
      "text/markdown": [
       "\n",
       "A data.frame: 20 × 2\n",
       "\n",
       "| name &lt;chr&gt; | mode &lt;chr&gt; |\n",
       "|---|---|\n",
       "| Name           | Chu&lt;U+1ED9&gt;t máy tính có dây G3SE thi&lt;U+1EBF&gt;t k&lt;U+1EBF&gt; nh&lt;U+1ECF&gt; g&lt;U+1ECD&gt;n, Led bao quanh d&lt;U+1EB9&gt;p m&lt;U+1EAF&gt;t, DPI tùy ch&lt;U+1EC9&gt;nh |\n",
       "| Product_price  | 99                                                                                                                                        |\n",
       "| Discount       | 0                                                                                                                                         |\n",
       "| Sale_price     | 99                                                                                                                                        |\n",
       "| Valuation      | good price                                                                                                                                |\n",
       "| Shop           | <!----> |\n",
       "| Brand          | OEM                                                                                                                                       |\n",
       "| Warranty       | 0                                                                                                                                         |\n",
       "| Warranty_way   | 0                                                                                                                                         |\n",
       "| Warranty_place | 0                                                                                                                                         |\n",
       "| Quality        | Unknown                                                                                                                                   |\n",
       "| Sold           | 0                                                                                                                                         |\n",
       "| Liquidity      | Slow                                                                                                                                      |\n",
       "| Rate           | 0                                                                                                                                         |\n",
       "| Comment        | 0                                                                                                                                         |\n",
       "| X5             | 0                                                                                                                                         |\n",
       "| X4             | 0                                                                                                                                         |\n",
       "| X3             | 0                                                                                                                                         |\n",
       "| X2             | 0                                                                                                                                         |\n",
       "| X1             | 0                                                                                                                                         |\n",
       "\n"
      ],
      "text/plain": [
       "   name          \n",
       "1  Name          \n",
       "2  Product_price \n",
       "3  Discount      \n",
       "4  Sale_price    \n",
       "5  Valuation     \n",
       "6  Shop          \n",
       "7  Brand         \n",
       "8  Warranty      \n",
       "9  Warranty_way  \n",
       "10 Warranty_place\n",
       "11 Quality       \n",
       "12 Sold          \n",
       "13 Liquidity     \n",
       "14 Rate          \n",
       "15 Comment       \n",
       "16 X5            \n",
       "17 X4            \n",
       "18 X3            \n",
       "19 X2            \n",
       "20 X1            \n",
       "   mode                                                                                                                                     \n",
       "1  Chu<U+1ED9>t máy tính có dây G3SE thi<U+1EBF>t k<U+1EBF> nh<U+1ECF> g<U+1ECD>n, Led bao quanh d<U+1EB9>p m<U+1EAF>t, DPI tùy ch<U+1EC9>nh\n",
       "2  99                                                                                                                                       \n",
       "3  0                                                                                                                                        \n",
       "4  99                                                                                                                                       \n",
       "5  good price                                                                                                                               \n",
       "6                                                                                                                                           \n",
       "7  OEM                                                                                                                                      \n",
       "8  0                                                                                                                                        \n",
       "9  0                                                                                                                                        \n",
       "10 0                                                                                                                                        \n",
       "11 Unknown                                                                                                                                  \n",
       "12 0                                                                                                                                        \n",
       "13 Slow                                                                                                                                     \n",
       "14 0                                                                                                                                        \n",
       "15 0                                                                                                                                        \n",
       "16 0                                                                                                                                        \n",
       "17 0                                                                                                                                        \n",
       "18 0                                                                                                                                        \n",
       "19 0                                                                                                                                        \n",
       "20 0                                                                                                                                        "
      ]
     },
     "metadata": {},
     "output_type": "display_data"
    }
   ],
   "source": [
    "Mode(df)"
   ]
  },
  {
   "cell_type": "markdown",
   "id": "49a64964",
   "metadata": {},
   "source": [
    "Dưới đây là số lượng sản phẩm mà của các brand."
   ]
  },
  {
   "cell_type": "code",
   "execution_count": 23,
   "id": "c3552a31",
   "metadata": {},
   "outputs": [
    {
     "data": {
      "text/plain": [
       "\n",
       "      #NAME?        A4Tec        ACTTO      ADBLink        Ajazz         AKKO \n",
       "           6            7            1            1            1            2 \n",
       "     amayoko       APEDRA        argus    Assassins       Bossto        Casio \n",
       "           3            3            1            1            9            2 \n",
       "    CHOETECH        DareU         Dell        E-DRA      e Deosd      eamwolf \n",
       "           1            2            2            5            1            1 \n",
       "     Earldom        EIPLN       Elecom        Extec       Forder        FOREV \n",
       "           2            1            8            1            1            1 \n",
       "      Fortec       Forter        Fuhle      GENERAL       Genius   Ghost Wolf \n",
       "           1            2           12            1           11            1 \n",
       "Golden Field           HP         HXSJ        Imice       Inphic          Kak \n",
       "           2            1            4            1            1            1 \n",
       "      KhoNCC     King Jim           Ko        Langt        LDK.a      Limeide \n",
       "           1            1            2            1            1            2 \n",
       "     Logitec    Microsoft       Mitsum        MIXIE          Mof    Motospeed \n",
       "           7            1            6            2            1            1 \n",
       "       Newme          oco          OEM     PIX-LINK      Prolink           R8 \n",
       "          23            1           65            1           10            2 \n",
       "       Rapoo        Robot      Simetec       SINGPC       USLION       VinBuy \n",
       "           4            1            3            1            1            1 \n",
       "   VINETTEAM          VSP       XSmart         Xtec        Zadez       Zealot \n",
       "           3            2            3            1            2            1 "
      ]
     },
     "metadata": {},
     "output_type": "display_data"
    }
   ],
   "source": [
    "table(df$Brand)"
   ]
  },
  {
   "cell_type": "code",
   "execution_count": 24,
   "id": "511f15a1",
   "metadata": {},
   "outputs": [
    {
     "data": {
      "text/html": [
       "<table class=\"dataframe\">\n",
       "<caption>A data.frame: 6 × 2</caption>\n",
       "<thead>\n",
       "\t<tr><th></th><th scope=col>Var1</th><th scope=col>Freq</th></tr>\n",
       "\t<tr><th></th><th scope=col>&lt;fct&gt;</th><th scope=col>&lt;int&gt;</th></tr>\n",
       "</thead>\n",
       "<tbody>\n",
       "\t<tr><th scope=row>1</th><td>#NAME? </td><td>6</td></tr>\n",
       "\t<tr><th scope=row>2</th><td>A4Tec  </td><td>7</td></tr>\n",
       "\t<tr><th scope=row>3</th><td>ACTTO  </td><td>1</td></tr>\n",
       "\t<tr><th scope=row>4</th><td>ADBLink</td><td>1</td></tr>\n",
       "\t<tr><th scope=row>5</th><td>Ajazz  </td><td>1</td></tr>\n",
       "\t<tr><th scope=row>6</th><td>AKKO   </td><td>2</td></tr>\n",
       "</tbody>\n",
       "</table>\n"
      ],
      "text/latex": [
       "A data.frame: 6 × 2\n",
       "\\begin{tabular}{r|ll}\n",
       "  & Var1 & Freq\\\\\n",
       "  & <fct> & <int>\\\\\n",
       "\\hline\n",
       "\t1 & \\#NAME?  & 6\\\\\n",
       "\t2 & A4Tec   & 7\\\\\n",
       "\t3 & ACTTO   & 1\\\\\n",
       "\t4 & ADBLink & 1\\\\\n",
       "\t5 & Ajazz   & 1\\\\\n",
       "\t6 & AKKO    & 2\\\\\n",
       "\\end{tabular}\n"
      ],
      "text/markdown": [
       "\n",
       "A data.frame: 6 × 2\n",
       "\n",
       "| <!--/--> | Var1 &lt;fct&gt; | Freq &lt;int&gt; |\n",
       "|---|---|---|\n",
       "| 1 | #NAME?  | 6 |\n",
       "| 2 | A4Tec   | 7 |\n",
       "| 3 | ACTTO   | 1 |\n",
       "| 4 | ADBLink | 1 |\n",
       "| 5 | Ajazz   | 1 |\n",
       "| 6 | AKKO    | 2 |\n",
       "\n"
      ],
      "text/plain": [
       "  Var1    Freq\n",
       "1 #NAME?  6   \n",
       "2 A4Tec   7   \n",
       "3 ACTTO   1   \n",
       "4 ADBLink 1   \n",
       "5 Ajazz   1   \n",
       "6 AKKO    2   "
      ]
     },
     "metadata": {},
     "output_type": "display_data"
    }
   ],
   "source": [
    "data = data.frame(table(df$Brand))\n",
    "head(data)"
   ]
  },
  {
   "cell_type": "code",
   "execution_count": 25,
   "id": "76dd84d6",
   "metadata": {},
   "outputs": [
    {
     "data": {
      "text/plain": [
       "\n",
       " 1  2  3  4  5  6  7  8  9 10 11 12 23 65 \n",
       "34 13  5  2  1  2  2  1  1  1  1  1  1  1 "
      ]
     },
     "metadata": {},
     "output_type": "display_data"
    }
   ],
   "source": [
    "table(data$Freq)"
   ]
  },
  {
   "cell_type": "markdown",
   "id": "2c01c500",
   "metadata": {},
   "source": [
    "Bảng giá trị Correlation"
   ]
  },
  {
   "cell_type": "code",
   "execution_count": 26,
   "id": "413474eb",
   "metadata": {},
   "outputs": [
    {
     "name": "stderr",
     "output_type": "stream",
     "text": [
      "Your code contains a unicode char which cannot be displayed in your\n",
      "current locale and R will silently convert it to an escaped form when the\n",
      "R kernel executes this code. This can lead to subtle errors if you use\n",
      "such chars to do comparisons. For more information, please see\n",
      "https://github.com/IRkernel/repr/wiki/Problems-with-unicode-on-windows"
     ]
    },
    {
     "data": {
      "text/html": [
       "<table class=\"dataframe\">\n",
       "<caption>A matrix: 12 × 12 of type dbl</caption>\n",
       "<thead>\n",
       "\t<tr><th></th><th scope=col>Product_price</th><th scope=col>Sale_price</th><th scope=col>Discount</th><th scope=col>Warranty</th><th scope=col>Sold</th><th scope=col>Rate</th><th scope=col>Comment</th><th scope=col>X5</th><th scope=col>X4</th><th scope=col>X3</th><th scope=col>X2</th><th scope=col>X1</th></tr>\n",
       "</thead>\n",
       "<tbody>\n",
       "\t<tr><th scope=row>Product_price</th><td>1.00000000</td><td> 0.92427576</td><td> 0.304870318</td><td>0.15077621</td><td>0.1085141</td><td> 0.01433133</td><td>0.146506813</td><td>0.147282473</td><td>0.13849636</td><td>0.14004414</td><td> 0.139853101</td><td>0.138694787</td></tr>\n",
       "\t<tr><th scope=row>Sale_price</th><td>0.92427576</td><td> 1.00000000</td><td> 0.020496086</td><td>0.16860268</td><td>0.0982973</td><td>-0.03608357</td><td>0.165884949</td><td>0.167093698</td><td>0.15500734</td><td>0.14815763</td><td> 0.160511507</td><td>0.156979828</td></tr>\n",
       "\t<tr><th scope=row>Discount</th><td>0.30487032</td><td> 0.02049609</td><td> 1.000000000</td><td>0.03790455</td><td>0.1152151</td><td> 0.20423836</td><td>0.003444876</td><td>0.001077806</td><td>0.02103865</td><td>0.04020741</td><td>-0.006910649</td><td>0.006950852</td></tr>\n",
       "\t<tr><th scope=row>Warranty</th><td>0.15077621</td><td> 0.16860268</td><td> 0.037904551</td><td>1.00000000</td><td>0.1972609</td><td> 0.04163506</td><td>0.515022511</td><td>0.515041572</td><td>0.50989127</td><td>0.49403600</td><td> 0.519154627</td><td>0.514008960</td></tr>\n",
       "\t<tr><th scope=row>Sold</th><td>0.10851407</td><td> 0.09829730</td><td> 0.115215065</td><td>0.19726095</td><td>1.0000000</td><td> 0.36838583</td><td>0.457004129</td><td>0.450720913</td><td>0.51714849</td><td>0.51451824</td><td> 0.400717531</td><td>0.387066154</td></tr>\n",
       "\t<tr><th scope=row>Rate</th><td>0.01433133</td><td>-0.03608357</td><td> 0.204238358</td><td>0.04163506</td><td>0.3683858</td><td> 1.00000000</td><td>0.133707402</td><td>0.129653021</td><td>0.16614471</td><td>0.17993825</td><td> 0.125074272</td><td>0.127043059</td></tr>\n",
       "\t<tr><th scope=row>Comment</th><td>0.14650681</td><td> 0.16588495</td><td> 0.003444876</td><td>0.51502251</td><td>0.4570041</td><td> 0.13370740</td><td>1.000000000</td><td>0.999888032</td><td>0.98960848</td><td>0.97313431</td><td> 0.984352698</td><td>0.982956305</td></tr>\n",
       "\t<tr><th scope=row>X5</th><td>0.14728247</td><td> 0.16709370</td><td> 0.001077806</td><td>0.51504157</td><td>0.4507209</td><td> 0.12965302</td><td>0.999888032</td><td>1.000000000</td><td>0.98750279</td><td>0.97084953</td><td> 0.984630448</td><td>0.983297979</td></tr>\n",
       "\t<tr><th scope=row>X4</th><td>0.13849636</td><td> 0.15500734</td><td> 0.021038646</td><td>0.50989127</td><td>0.5171485</td><td> 0.16614471</td><td>0.989608485</td><td>0.987502789</td><td>1.00000000</td><td>0.97510566</td><td> 0.964508390</td><td>0.960599807</td></tr>\n",
       "\t<tr><th scope=row>X3</th><td>0.14004414</td><td> 0.14815763</td><td> 0.040207407</td><td>0.49403600</td><td>0.5145182</td><td> 0.17993825</td><td>0.973134311</td><td>0.970849528</td><td>0.97510566</td><td>1.00000000</td><td> 0.966270765</td><td>0.964239681</td></tr>\n",
       "\t<tr><th scope=row>X2</th><td>0.13985310</td><td> 0.16051151</td><td>-0.006910649</td><td>0.51915463</td><td>0.4007175</td><td> 0.12507427</td><td>0.984352698</td><td>0.984630448</td><td>0.96450839</td><td>0.96627076</td><td> 1.000000000</td><td>0.982586657</td></tr>\n",
       "\t<tr><th scope=row>X1</th><td>0.13869479</td><td> 0.15697983</td><td> 0.006950852</td><td>0.51400896</td><td>0.3870662</td><td> 0.12704306</td><td>0.982956305</td><td>0.983297979</td><td>0.96059981</td><td>0.96423968</td><td> 0.982586657</td><td>1.000000000</td></tr>\n",
       "</tbody>\n",
       "</table>\n"
      ],
      "text/latex": [
       "A matrix: 12 × 12 of type dbl\n",
       "\\begin{tabular}{r|llllllllllll}\n",
       "  & Product\\_price & Sale\\_price & Discount & Warranty & Sold & Rate & Comment & X5 & X4 & X3 & X2 & X1\\\\\n",
       "\\hline\n",
       "\tProduct\\_price & 1.00000000 &  0.92427576 &  0.304870318 & 0.15077621 & 0.1085141 &  0.01433133 & 0.146506813 & 0.147282473 & 0.13849636 & 0.14004414 &  0.139853101 & 0.138694787\\\\\n",
       "\tSale\\_price & 0.92427576 &  1.00000000 &  0.020496086 & 0.16860268 & 0.0982973 & -0.03608357 & 0.165884949 & 0.167093698 & 0.15500734 & 0.14815763 &  0.160511507 & 0.156979828\\\\\n",
       "\tDiscount & 0.30487032 &  0.02049609 &  1.000000000 & 0.03790455 & 0.1152151 &  0.20423836 & 0.003444876 & 0.001077806 & 0.02103865 & 0.04020741 & -0.006910649 & 0.006950852\\\\\n",
       "\tWarranty & 0.15077621 &  0.16860268 &  0.037904551 & 1.00000000 & 0.1972609 &  0.04163506 & 0.515022511 & 0.515041572 & 0.50989127 & 0.49403600 &  0.519154627 & 0.514008960\\\\\n",
       "\tSold & 0.10851407 &  0.09829730 &  0.115215065 & 0.19726095 & 1.0000000 &  0.36838583 & 0.457004129 & 0.450720913 & 0.51714849 & 0.51451824 &  0.400717531 & 0.387066154\\\\\n",
       "\tRate & 0.01433133 & -0.03608357 &  0.204238358 & 0.04163506 & 0.3683858 &  1.00000000 & 0.133707402 & 0.129653021 & 0.16614471 & 0.17993825 &  0.125074272 & 0.127043059\\\\\n",
       "\tComment & 0.14650681 &  0.16588495 &  0.003444876 & 0.51502251 & 0.4570041 &  0.13370740 & 1.000000000 & 0.999888032 & 0.98960848 & 0.97313431 &  0.984352698 & 0.982956305\\\\\n",
       "\tX5 & 0.14728247 &  0.16709370 &  0.001077806 & 0.51504157 & 0.4507209 &  0.12965302 & 0.999888032 & 1.000000000 & 0.98750279 & 0.97084953 &  0.984630448 & 0.983297979\\\\\n",
       "\tX4 & 0.13849636 &  0.15500734 &  0.021038646 & 0.50989127 & 0.5171485 &  0.16614471 & 0.989608485 & 0.987502789 & 1.00000000 & 0.97510566 &  0.964508390 & 0.960599807\\\\\n",
       "\tX3 & 0.14004414 &  0.14815763 &  0.040207407 & 0.49403600 & 0.5145182 &  0.17993825 & 0.973134311 & 0.970849528 & 0.97510566 & 1.00000000 &  0.966270765 & 0.964239681\\\\\n",
       "\tX2 & 0.13985310 &  0.16051151 & -0.006910649 & 0.51915463 & 0.4007175 &  0.12507427 & 0.984352698 & 0.984630448 & 0.96450839 & 0.96627076 &  1.000000000 & 0.982586657\\\\\n",
       "\tX1 & 0.13869479 &  0.15697983 &  0.006950852 & 0.51400896 & 0.3870662 &  0.12704306 & 0.982956305 & 0.983297979 & 0.96059981 & 0.96423968 &  0.982586657 & 1.000000000\\\\\n",
       "\\end{tabular}\n"
      ],
      "text/markdown": [
       "\n",
       "A matrix: 12 × 12 of type dbl\n",
       "\n",
       "| <!--/--> | Product_price | Sale_price | Discount | Warranty | Sold | Rate | Comment | X5 | X4 | X3 | X2 | X1 |\n",
       "|---|---|---|---|---|---|---|---|---|---|---|---|---|\n",
       "| Product_price | 1.00000000 |  0.92427576 |  0.304870318 | 0.15077621 | 0.1085141 |  0.01433133 | 0.146506813 | 0.147282473 | 0.13849636 | 0.14004414 |  0.139853101 | 0.138694787 |\n",
       "| Sale_price | 0.92427576 |  1.00000000 |  0.020496086 | 0.16860268 | 0.0982973 | -0.03608357 | 0.165884949 | 0.167093698 | 0.15500734 | 0.14815763 |  0.160511507 | 0.156979828 |\n",
       "| Discount | 0.30487032 |  0.02049609 |  1.000000000 | 0.03790455 | 0.1152151 |  0.20423836 | 0.003444876 | 0.001077806 | 0.02103865 | 0.04020741 | -0.006910649 | 0.006950852 |\n",
       "| Warranty | 0.15077621 |  0.16860268 |  0.037904551 | 1.00000000 | 0.1972609 |  0.04163506 | 0.515022511 | 0.515041572 | 0.50989127 | 0.49403600 |  0.519154627 | 0.514008960 |\n",
       "| Sold | 0.10851407 |  0.09829730 |  0.115215065 | 0.19726095 | 1.0000000 |  0.36838583 | 0.457004129 | 0.450720913 | 0.51714849 | 0.51451824 |  0.400717531 | 0.387066154 |\n",
       "| Rate | 0.01433133 | -0.03608357 |  0.204238358 | 0.04163506 | 0.3683858 |  1.00000000 | 0.133707402 | 0.129653021 | 0.16614471 | 0.17993825 |  0.125074272 | 0.127043059 |\n",
       "| Comment | 0.14650681 |  0.16588495 |  0.003444876 | 0.51502251 | 0.4570041 |  0.13370740 | 1.000000000 | 0.999888032 | 0.98960848 | 0.97313431 |  0.984352698 | 0.982956305 |\n",
       "| X5 | 0.14728247 |  0.16709370 |  0.001077806 | 0.51504157 | 0.4507209 |  0.12965302 | 0.999888032 | 1.000000000 | 0.98750279 | 0.97084953 |  0.984630448 | 0.983297979 |\n",
       "| X4 | 0.13849636 |  0.15500734 |  0.021038646 | 0.50989127 | 0.5171485 |  0.16614471 | 0.989608485 | 0.987502789 | 1.00000000 | 0.97510566 |  0.964508390 | 0.960599807 |\n",
       "| X3 | 0.14004414 |  0.14815763 |  0.040207407 | 0.49403600 | 0.5145182 |  0.17993825 | 0.973134311 | 0.970849528 | 0.97510566 | 1.00000000 |  0.966270765 | 0.964239681 |\n",
       "| X2 | 0.13985310 |  0.16051151 | -0.006910649 | 0.51915463 | 0.4007175 |  0.12507427 | 0.984352698 | 0.984630448 | 0.96450839 | 0.96627076 |  1.000000000 | 0.982586657 |\n",
       "| X1 | 0.13869479 |  0.15697983 |  0.006950852 | 0.51400896 | 0.3870662 |  0.12704306 | 0.982956305 | 0.983297979 | 0.96059981 | 0.96423968 |  0.982586657 | 1.000000000 |\n",
       "\n"
      ],
      "text/plain": [
       "              Product_price Sale_price  Discount     Warranty   Sold     \n",
       "Product_price 1.00000000     0.92427576  0.304870318 0.15077621 0.1085141\n",
       "Sale_price    0.92427576     1.00000000  0.020496086 0.16860268 0.0982973\n",
       "Discount      0.30487032     0.02049609  1.000000000 0.03790455 0.1152151\n",
       "Warranty      0.15077621     0.16860268  0.037904551 1.00000000 0.1972609\n",
       "Sold          0.10851407     0.09829730  0.115215065 0.19726095 1.0000000\n",
       "Rate          0.01433133    -0.03608357  0.204238358 0.04163506 0.3683858\n",
       "Comment       0.14650681     0.16588495  0.003444876 0.51502251 0.4570041\n",
       "X5            0.14728247     0.16709370  0.001077806 0.51504157 0.4507209\n",
       "X4            0.13849636     0.15500734  0.021038646 0.50989127 0.5171485\n",
       "X3            0.14004414     0.14815763  0.040207407 0.49403600 0.5145182\n",
       "X2            0.13985310     0.16051151 -0.006910649 0.51915463 0.4007175\n",
       "X1            0.13869479     0.15697983  0.006950852 0.51400896 0.3870662\n",
       "              Rate        Comment     X5          X4         X3        \n",
       "Product_price  0.01433133 0.146506813 0.147282473 0.13849636 0.14004414\n",
       "Sale_price    -0.03608357 0.165884949 0.167093698 0.15500734 0.14815763\n",
       "Discount       0.20423836 0.003444876 0.001077806 0.02103865 0.04020741\n",
       "Warranty       0.04163506 0.515022511 0.515041572 0.50989127 0.49403600\n",
       "Sold           0.36838583 0.457004129 0.450720913 0.51714849 0.51451824\n",
       "Rate           1.00000000 0.133707402 0.129653021 0.16614471 0.17993825\n",
       "Comment        0.13370740 1.000000000 0.999888032 0.98960848 0.97313431\n",
       "X5             0.12965302 0.999888032 1.000000000 0.98750279 0.97084953\n",
       "X4             0.16614471 0.989608485 0.987502789 1.00000000 0.97510566\n",
       "X3             0.17993825 0.973134311 0.970849528 0.97510566 1.00000000\n",
       "X2             0.12507427 0.984352698 0.984630448 0.96450839 0.96627076\n",
       "X1             0.12704306 0.982956305 0.983297979 0.96059981 0.96423968\n",
       "              X2           X1         \n",
       "Product_price  0.139853101 0.138694787\n",
       "Sale_price     0.160511507 0.156979828\n",
       "Discount      -0.006910649 0.006950852\n",
       "Warranty       0.519154627 0.514008960\n",
       "Sold           0.400717531 0.387066154\n",
       "Rate           0.125074272 0.127043059\n",
       "Comment        0.984352698 0.982956305\n",
       "X5             0.984630448 0.983297979\n",
       "X4             0.964508390 0.960599807\n",
       "X3             0.966270765 0.964239681\n",
       "X2             1.000000000 0.982586657\n",
       "X1             0.982586657 1.000000000"
      ]
     },
     "metadata": {},
     "output_type": "display_data"
    }
   ],
   "source": [
    "# dependencies between values(sư phụ thuộc của dữ liệu)\n",
    "correlation = cor(df[,c(quantitative)])\n",
    "correlation"
   ]
  },
  {
   "cell_type": "code",
   "execution_count": 27,
   "id": "ec10583c",
   "metadata": {},
   "outputs": [
    {
     "name": "stderr",
     "output_type": "stream",
     "text": [
      "Your code contains a unicode char which cannot be displayed in your\n",
      "current locale and R will silently convert it to an escaped form when the\n",
      "R kernel executes this code. This can lead to subtle errors if you use\n",
      "such chars to do comparisons. For more information, please see\n",
      "https://github.com/IRkernel/repr/wiki/Problems-with-unicode-on-windows"
     ]
    },
    {
     "data": {
      "image/png": "[encoded data removed]",
      "text/plain": [
       "Plot with title \"\""
      ]
     },
     "metadata": {
      "image/png": {
       "height": 420,
       "width": 420
      }
     },
     "output_type": "display_data"
    }
   ],
   "source": [
    "# plot of dependencies value (biểu đồ thể hiện sự phụ thuộc của dữ liệu)\n",
    "testRes = cor.mtest(df[,c(quantitative)], conf.level = 0.95)\n",
    "\n",
    "corrplot(correlation, order = 'hclust', addrect = 4,p.mat = testRes$p, sig.level = 0.10)"
   ]
  },
  {
   "cell_type": "markdown",
   "id": "ef102b6b",
   "metadata": {},
   "source": [
    "# Data Visualization( Trực quan hóa dữ liệu)\n",
    "\n",
    "Trực quan hóa dữ liệu là việc sử dụng các biểu đồ, hình ảnh để thể hiện dữ liệu\n",
    "\n",
    "Việc trực quan hóa dữ liệu giúp ta có một cái nhìn rõ ràng và thêm tổng quát hơn về dữ liệu, giúp nhìn nhận rõ ràng những vấn đề của dữ liệu và so sánh một cách dễ dàng"
   ]
  },
  {
   "cell_type": "markdown",
   "id": "93e70b8d",
   "metadata": {},
   "source": [
    "**Biểu đồ thể hiện số lượng sản phẩm bán ra thị trưởng ở Tiki của các Brand**"
   ]
  },
  {
   "cell_type": "code",
   "execution_count": 28,
   "id": "1f348b3f",
   "metadata": {},
   "outputs": [
    {
     "data": {
      "text/html": [
       "<table class=\"dataframe\">\n",
       "<caption>A data.frame: 10 × 2</caption>\n",
       "<thead>\n",
       "\t<tr><th></th><th scope=col>Brand</th><th scope=col>Sold</th></tr>\n",
       "\t<tr><th></th><th scope=col>&lt;chr&gt;</th><th scope=col>&lt;int&gt;</th></tr>\n",
       "</thead>\n",
       "<tbody>\n",
       "\t<tr><th scope=row>1</th><td>#NAME?   </td><td>   0</td></tr>\n",
       "\t<tr><th scope=row>2</th><td>A4Tec    </td><td> 170</td></tr>\n",
       "\t<tr><th scope=row>3</th><td>ACTTO    </td><td>   0</td></tr>\n",
       "\t<tr><th scope=row>4</th><td>ADBLink  </td><td>   0</td></tr>\n",
       "\t<tr><th scope=row>5</th><td>Ajazz    </td><td>   0</td></tr>\n",
       "\t<tr><th scope=row>6</th><td>AKKO     </td><td>   0</td></tr>\n",
       "\t<tr><th scope=row>7</th><td>amayoko  </td><td>2318</td></tr>\n",
       "\t<tr><th scope=row>8</th><td>APEDRA   </td><td>  19</td></tr>\n",
       "\t<tr><th scope=row>9</th><td>argus    </td><td>   0</td></tr>\n",
       "\t<tr><th scope=row>10</th><td>Assassins</td><td>  18</td></tr>\n",
       "</tbody>\n",
       "</table>\n"
      ],
      "text/latex": [
       "A data.frame: 10 × 2\n",
       "\\begin{tabular}{r|ll}\n",
       "  & Brand & Sold\\\\\n",
       "  & <chr> & <int>\\\\\n",
       "\\hline\n",
       "\t1 & \\#NAME?    &    0\\\\\n",
       "\t2 & A4Tec     &  170\\\\\n",
       "\t3 & ACTTO     &    0\\\\\n",
       "\t4 & ADBLink   &    0\\\\\n",
       "\t5 & Ajazz     &    0\\\\\n",
       "\t6 & AKKO      &    0\\\\\n",
       "\t7 & amayoko   & 2318\\\\\n",
       "\t8 & APEDRA    &   19\\\\\n",
       "\t9 & argus     &    0\\\\\n",
       "\t10 & Assassins &   18\\\\\n",
       "\\end{tabular}\n"
      ],
      "text/markdown": [
       "\n",
       "A data.frame: 10 × 2\n",
       "\n",
       "| <!--/--> | Brand &lt;chr&gt; | Sold &lt;int&gt; |\n",
       "|---|---|---|\n",
       "| 1 | #NAME?    |    0 |\n",
       "| 2 | A4Tec     |  170 |\n",
       "| 3 | ACTTO     |    0 |\n",
       "| 4 | ADBLink   |    0 |\n",
       "| 5 | Ajazz     |    0 |\n",
       "| 6 | AKKO      |    0 |\n",
       "| 7 | amayoko   | 2318 |\n",
       "| 8 | APEDRA    |   19 |\n",
       "| 9 | argus     |    0 |\n",
       "| 10 | Assassins |   18 |\n",
       "\n"
      ],
      "text/plain": [
       "   Brand     Sold\n",
       "1  #NAME?       0\n",
       "2  A4Tec      170\n",
       "3  ACTTO        0\n",
       "4  ADBLink      0\n",
       "5  Ajazz        0\n",
       "6  AKKO         0\n",
       "7  amayoko   2318\n",
       "8  APEDRA      19\n",
       "9  argus        0\n",
       "10 Assassins   18"
      ]
     },
     "metadata": {},
     "output_type": "display_data"
    }
   ],
   "source": [
    "data = aggregate(Sold ~ Brand, df, sum)\n",
    "head(data, 10)"
   ]
  },
  {
   "cell_type": "code",
   "execution_count": 29,
   "id": "ae60ed7b",
   "metadata": {},
   "outputs": [
    {
     "name": "stderr",
     "output_type": "stream",
     "text": [
      "Your code contains a unicode char which cannot be displayed in your\n",
      "current locale and R will silently convert it to an escaped form when the\n",
      "R kernel executes this code. This can lead to subtle errors if you use\n",
      "such chars to do comparisons. For more information, please see\n",
      "https://github.com/IRkernel/repr/wiki/Problems-with-unicode-on-windows"
     ]
    },
    {
     "data": {
      "image/png": "[encoded data removed]",
      "text/plain": [
       "plot without title"
      ]
     },
     "metadata": {
      "image/png": {
       "height": 420,
       "width": 420
      }
     },
     "output_type": "display_data"
    }
   ],
   "source": [
    "# Biểu đồ thể hiện số lượng sản phẩm bán được giữa các brand\n",
    "\n",
    "ggplot(data, aes(x=Brand, y=Sold)) + \n",
    "  geom_bar(stat = \"identity\") + \n",
    "  coord_flip()"
   ]
  },
  {
   "cell_type": "markdown",
   "id": "97e12ea4",
   "metadata": {},
   "source": [
    "**Nhận xét:**\n",
    "+ Từ biểu đồ ta có thể thấy được có rất nhiều Brand ở đây.Tuy nhiên giữa các Brand có sự chênh lệch rất lớn về số lượng sản phẩm bán ra\n",
    "+ Dẫn đầu là các hãng rất nổi tiếng như Logitech, OEM, Amayoko, Newme... Đây đều là những thương hiệu rất nổi tiếng và có được sự tin cậy từ người dùng nên việc số lượng chuột được bán ra tập trung vào cấc hãng này cũng là điều dễ hiểu\n",
    "+ Đa số các Brand khác bán được rất ít hoặc không bán được sản phẩm của mình ở Tiki \n",
    "+ Ngoài ra ở tiki dữ liệu hiển thị số lượt bán ra tối da là 1000 nên dữ liệu thật tế có thể còn chênh lệch nhiều hơn nữa"
   ]
  },
  {
   "cell_type": "markdown",
   "id": "ab2668b6",
   "metadata": {},
   "source": [
    "**Biểu đồ thể hiện giá bán ở Tiki**"
   ]
  },
  {
   "cell_type": "code",
   "execution_count": 30,
   "id": "da54f445",
   "metadata": {},
   "outputs": [
    {
     "data": {
      "text/html": [
       "<table class=\"dataframe\">\n",
       "<caption>A data.frame: 3 × 2</caption>\n",
       "<thead>\n",
       "\t<tr><th scope=col>Var1</th><th scope=col>Freq</th></tr>\n",
       "\t<tr><th scope=col>&lt;fct&gt;</th><th scope=col>&lt;int&gt;</th></tr>\n",
       "</thead>\n",
       "<tbody>\n",
       "\t<tr><td>good price</td><td>139</td></tr>\n",
       "\t<tr><td>high price</td><td> 15</td></tr>\n",
       "\t<tr><td>low price </td><td> 98</td></tr>\n",
       "</tbody>\n",
       "</table>\n"
      ],
      "text/latex": [
       "A data.frame: 3 × 2\n",
       "\\begin{tabular}{ll}\n",
       " Var1 & Freq\\\\\n",
       " <fct> & <int>\\\\\n",
       "\\hline\n",
       "\t good price & 139\\\\\n",
       "\t high price &  15\\\\\n",
       "\t low price  &  98\\\\\n",
       "\\end{tabular}\n"
      ],
      "text/markdown": [
       "\n",
       "A data.frame: 3 × 2\n",
       "\n",
       "| Var1 &lt;fct&gt; | Freq &lt;int&gt; |\n",
       "|---|---|\n",
       "| good price | 139 |\n",
       "| high price |  15 |\n",
       "| low price  |  98 |\n",
       "\n"
      ],
      "text/plain": [
       "  Var1       Freq\n",
       "1 good price 139 \n",
       "2 high price  15 \n",
       "3 low price   98 "
      ]
     },
     "metadata": {},
     "output_type": "display_data"
    }
   ],
   "source": [
    "data = data.frame(table(df$Valuation))\n",
    "data"
   ]
  },
  {
   "cell_type": "code",
   "execution_count": 31,
   "id": "b216c74d",
   "metadata": {},
   "outputs": [
    {
     "data": {
      "image/png": "[encoded data removed]",
      "text/plain": [
       "Plot with title \"Compare the number between the different Valuation\""
      ]
     },
     "metadata": {
      "image/png": {
       "height": 420,
       "width": 420
      }
     },
     "output_type": "display_data"
    }
   ],
   "source": [
    "barplot(height=data$Freq, names=data$Var1,  \n",
    "        col=\"#69b3a2\",\n",
    "        horiz=T, las=0,\n",
    "        xlab=\"Quantily\", \n",
    "        main=\"Compare the number between the different Valuation\",\n",
    "        )"
   ]
  },
  {
   "cell_type": "markdown",
   "id": "97eed5d0",
   "metadata": {},
   "source": [
    "**Nhận xét:**\n",
    "+ Đa số sản phẩm đều có mức giá thấp(lowprice) hoặc giá tốt(Goodprice)\n",
    "+ Sản phẩm có giá cao(Highprice) có số lượng ít hơn các mức giá còn lại rất nhiều(khoảng 20 sản phẩm)\n",
    "+ Từ đồ thị ta thấy các mặt hàng chuột máy tính trên Tiki được bán với giá Giá mềm và chủ yếu dưới 400k"
   ]
  },
  {
   "cell_type": "markdown",
   "id": "166e40bb",
   "metadata": {},
   "source": [
    "**Biều đồ thể hiện tốc độ bán của các mặt hàng trên Tiki**"
   ]
  },
  {
   "cell_type": "code",
   "execution_count": 32,
   "id": "a52fd560",
   "metadata": {},
   "outputs": [
    {
     "data": {
      "text/html": [
       "<table class=\"dataframe\">\n",
       "<caption>A data.frame: 3 × 2</caption>\n",
       "<thead>\n",
       "\t<tr><th scope=col>Var1</th><th scope=col>Freq</th></tr>\n",
       "\t<tr><th scope=col>&lt;fct&gt;</th><th scope=col>&lt;int&gt;</th></tr>\n",
       "</thead>\n",
       "<tbody>\n",
       "\t<tr><td>Fast</td><td> 17</td></tr>\n",
       "\t<tr><td>Good</td><td> 40</td></tr>\n",
       "\t<tr><td>Slow</td><td>195</td></tr>\n",
       "</tbody>\n",
       "</table>\n"
      ],
      "text/latex": [
       "A data.frame: 3 × 2\n",
       "\\begin{tabular}{ll}\n",
       " Var1 & Freq\\\\\n",
       " <fct> & <int>\\\\\n",
       "\\hline\n",
       "\t Fast &  17\\\\\n",
       "\t Good &  40\\\\\n",
       "\t Slow & 195\\\\\n",
       "\\end{tabular}\n"
      ],
      "text/markdown": [
       "\n",
       "A data.frame: 3 × 2\n",
       "\n",
       "| Var1 &lt;fct&gt; | Freq &lt;int&gt; |\n",
       "|---|---|\n",
       "| Fast |  17 |\n",
       "| Good |  40 |\n",
       "| Slow | 195 |\n",
       "\n"
      ],
      "text/plain": [
       "  Var1 Freq\n",
       "1 Fast  17 \n",
       "2 Good  40 \n",
       "3 Slow 195 "
      ]
     },
     "metadata": {},
     "output_type": "display_data"
    }
   ],
   "source": [
    "data = data.frame(table(df$Liquidity))\n",
    "data"
   ]
  },
  {
   "cell_type": "code",
   "execution_count": 33,
   "id": "5d7f867b",
   "metadata": {},
   "outputs": [
    {
     "data": {
      "image/png": "[encoded data removed]",
      "text/plain": [
       "Plot with title \"Compare the number between the different Liquidity\""
      ]
     },
     "metadata": {
      "image/png": {
       "height": 420,
       "width": 420
      }
     },
     "output_type": "display_data"
    }
   ],
   "source": [
    "barplot(height=data$Freq, names=data$Var1,  \n",
    "        col=\"#69b3a2\",\n",
    "        horiz=T, las=0,\n",
    "        xlab=\"Quantily\", \n",
    "        main=\"Compare the number between the different Liquidity\",\n",
    "        )"
   ]
  },
  {
   "cell_type": "markdown",
   "id": "daa4c586",
   "metadata": {},
   "source": [
    "**Nhận xét:**\n",
    "+ Tốc độ bán càng nhanh thì số lượng càng ít\n",
    "+ Ở mức slow có sự chênh lệch lớn chiếm đến tận hơn 50% tổng số sản phẩm được bán ra. Xem ra khách hàng vẫn chưa thật sự tin tưởng khi mua hàng trên Tiki\n",
    "+ Các hãng vẫn chưa thể bán tốt sản phẩm của mình ở thị trưởng của Tiki"
   ]
  },
  {
   "cell_type": "markdown",
   "id": "70e92cda",
   "metadata": {},
   "source": [
    "**Biểu đồ thể hiện chất lượng sản phẩm dựa trên đánh giá người dùng ở Tiki**"
   ]
  },
  {
   "cell_type": "code",
   "execution_count": 34,
   "id": "63abba9d",
   "metadata": {},
   "outputs": [
    {
     "data": {
      "text/html": [
       "<table class=\"dataframe\">\n",
       "<caption>A data.frame: 4 × 2</caption>\n",
       "<thead>\n",
       "\t<tr><th scope=col>Group.1</th><th scope=col>x</th></tr>\n",
       "\t<tr><th scope=col>&lt;chr&gt;</th><th scope=col>&lt;int&gt;</th></tr>\n",
       "</thead>\n",
       "<tbody>\n",
       "\t<tr><td>Good quality</td><td> 56</td></tr>\n",
       "\t<tr><td>High quality</td><td> 17</td></tr>\n",
       "\t<tr><td>Low quality </td><td> 50</td></tr>\n",
       "\t<tr><td>Unknown     </td><td>129</td></tr>\n",
       "</tbody>\n",
       "</table>\n"
      ],
      "text/latex": [
       "A data.frame: 4 × 2\n",
       "\\begin{tabular}{ll}\n",
       " Group.1 & x\\\\\n",
       " <chr> & <int>\\\\\n",
       "\\hline\n",
       "\t Good quality &  56\\\\\n",
       "\t High quality &  17\\\\\n",
       "\t Low quality  &  50\\\\\n",
       "\t Unknown      & 129\\\\\n",
       "\\end{tabular}\n"
      ],
      "text/markdown": [
       "\n",
       "A data.frame: 4 × 2\n",
       "\n",
       "| Group.1 &lt;chr&gt; | x &lt;int&gt; |\n",
       "|---|---|\n",
       "| Good quality |  56 |\n",
       "| High quality |  17 |\n",
       "| Low quality  |  50 |\n",
       "| Unknown      | 129 |\n",
       "\n"
      ],
      "text/plain": [
       "  Group.1      x  \n",
       "1 Good quality  56\n",
       "2 High quality  17\n",
       "3 Low quality   50\n",
       "4 Unknown      129"
      ]
     },
     "metadata": {},
     "output_type": "display_data"
    }
   ],
   "source": [
    "data = aggregate(df$Quality, by=list(df$Quality), FUN=length)\n",
    "data"
   ]
  },
  {
   "cell_type": "code",
   "execution_count": 35,
   "id": "4ef0c6e7",
   "metadata": {},
   "outputs": [
    {
     "data": {
      "image/png": "[encoded data removed]",
      "text/plain": [
       "Plot with title \"Compare the number between the diffrent quality\""
      ]
     },
     "metadata": {
      "image/png": {
       "height": 420,
       "width": 420
      }
     },
     "output_type": "display_data"
    }
   ],
   "source": [
    "barplot(height=data$x, names=data$Group.1,\n",
    "        col=\"#69b3a2\",\n",
    "        horiz=T, las=0,\n",
    "        xlab=\"Quantily\", \n",
    "        main=\"Compare the number between the diffrent quality\",\n",
    "        )"
   ]
  },
  {
   "cell_type": "markdown",
   "id": "a4911d09",
   "metadata": {},
   "source": [
    "**Nhận xét:**\n",
    "+ Mục Unknow có số lượng sản phẩm lớn hơn hẳn so với tất cả các mục chất lượng còn lại\n",
    "+ Số lượng sản phẩm đạt chất lượng cao ơ trên Tiki rất ít dưới 10% tổng số lượng\n",
    "+ Nhìn chung những sản phẩm được bán trên Tiki khi đã được đánh giá thì có tỉ lệ đạt chất lượng tốt trở lên khá cao( điểm đánh giá trên 4.4)"
   ]
  },
  {
   "cell_type": "code",
   "execution_count": 36,
   "id": "33ee5381",
   "metadata": {},
   "outputs": [
    {
     "data": {
      "text/html": [
       "<table class=\"dataframe\">\n",
       "<caption>A data.frame: 11 × 2</caption>\n",
       "<thead>\n",
       "\t<tr><th scope=col>Time</th><th scope=col>Number</th></tr>\n",
       "\t<tr><th scope=col>&lt;fct&gt;</th><th scope=col>&lt;int&gt;</th></tr>\n",
       "</thead>\n",
       "<tbody>\n",
       "\t<tr><td>0 </td><td>108</td></tr>\n",
       "\t<tr><td>1 </td><td>  7</td></tr>\n",
       "\t<tr><td>3 </td><td> 19</td></tr>\n",
       "\t<tr><td>6 </td><td> 19</td></tr>\n",
       "\t<tr><td>9 </td><td>  1</td></tr>\n",
       "\t<tr><td>11</td><td>  1</td></tr>\n",
       "\t<tr><td>12</td><td> 74</td></tr>\n",
       "\t<tr><td>18</td><td>  1</td></tr>\n",
       "\t<tr><td>24</td><td> 17</td></tr>\n",
       "\t<tr><td>36</td><td>  4</td></tr>\n",
       "\t<tr><td>84</td><td>  1</td></tr>\n",
       "</tbody>\n",
       "</table>\n"
      ],
      "text/latex": [
       "A data.frame: 11 × 2\n",
       "\\begin{tabular}{ll}\n",
       " Time & Number\\\\\n",
       " <fct> & <int>\\\\\n",
       "\\hline\n",
       "\t 0  & 108\\\\\n",
       "\t 1  &   7\\\\\n",
       "\t 3  &  19\\\\\n",
       "\t 6  &  19\\\\\n",
       "\t 9  &   1\\\\\n",
       "\t 11 &   1\\\\\n",
       "\t 12 &  74\\\\\n",
       "\t 18 &   1\\\\\n",
       "\t 24 &  17\\\\\n",
       "\t 36 &   4\\\\\n",
       "\t 84 &   1\\\\\n",
       "\\end{tabular}\n"
      ],
      "text/markdown": [
       "\n",
       "A data.frame: 11 × 2\n",
       "\n",
       "| Time &lt;fct&gt; | Number &lt;int&gt; |\n",
       "|---|---|\n",
       "| 0  | 108 |\n",
       "| 1  |   7 |\n",
       "| 3  |  19 |\n",
       "| 6  |  19 |\n",
       "| 9  |   1 |\n",
       "| 11 |   1 |\n",
       "| 12 |  74 |\n",
       "| 18 |   1 |\n",
       "| 24 |  17 |\n",
       "| 36 |   4 |\n",
       "| 84 |   1 |\n",
       "\n"
      ],
      "text/plain": [
       "   Time Number\n",
       "1  0    108   \n",
       "2  1      7   \n",
       "3  3     19   \n",
       "4  6     19   \n",
       "5  9      1   \n",
       "6  11     1   \n",
       "7  12    74   \n",
       "8  18     1   \n",
       "9  24    17   \n",
       "10 36     4   \n",
       "11 84     1   "
      ]
     },
     "metadata": {},
     "output_type": "display_data"
    }
   ],
   "source": [
    "counts <- data.frame(table(df$Warranty))\n",
    "names(counts) <- c('Time','Number')\n",
    "counts"
   ]
  },
  {
   "cell_type": "code",
   "execution_count": 37,
   "id": "cbb82964",
   "metadata": {},
   "outputs": [
    {
     "data": {
      "image/png": "[encoded data removed]",
      "text/plain": [
       "Plot with title \"Compare the number between the diffrent Warranty time\""
      ]
     },
     "metadata": {
      "image/png": {
       "height": 420,
       "width": 420
      }
     },
     "output_type": "display_data"
    }
   ],
   "source": [
    "barplot(height=counts$Number, names=counts$Time,\n",
    "        col=\"#69b3a2\",\n",
    "        horiz=T, las=0,\n",
    "        ylab=\"Time(Month)\", \n",
    "        main=\"Compare the number between the diffrent Warranty time\",\n",
    "        )"
   ]
  },
  {
   "cell_type": "markdown",
   "id": "90094a3b",
   "metadata": {},
   "source": [
    "**Nhận xét:**\n",
    "+ Có rất nhiều sản phẩm được bán mà không có chính sách bảo hành kèm theo\n",
    "+ Trong các sản phẩm nếu đươc bảo hành thì đa số đều bảo hành 1 năm\n",
    "+ Sản phảm hưởng chính sách bảo hành cao nhất lên đến 84 tháng(7năm)"
   ]
  },
  {
   "cell_type": "code",
   "execution_count": 38,
   "id": "5cf4cfd2",
   "metadata": {},
   "outputs": [
    {
     "data": {
      "text/html": [
       "<table class=\"dataframe\">\n",
       "<caption>A data.frame: 5 × 2</caption>\n",
       "<thead>\n",
       "\t<tr><th scope=col>Var1</th><th scope=col>Freq</th></tr>\n",
       "\t<tr><th scope=col>&lt;fct&gt;</th><th scope=col>&lt;int&gt;</th></tr>\n",
       "</thead>\n",
       "<tbody>\n",
       "\t<tr><td>0                           </td><td>118</td></tr>\n",
       "\t<tr><td><span style=white-space:pre-wrap>Ði&lt;U+1EC7&gt;n t&lt;U+1EED&gt;       </span></td><td> 21</td></tr>\n",
       "\t<tr><td>Hóa don                     </td><td> 24</td></tr>\n",
       "\t<tr><td>Phi&lt;U+1EBF&gt;u b&lt;U+1EA3&gt;o hành</td><td><span style=white-space:pre-wrap>  9</span></td></tr>\n",
       "\t<tr><td><span style=white-space:pre-wrap>Tem b&lt;U+1EA3&gt;o hành         </span></td><td> 80</td></tr>\n",
       "</tbody>\n",
       "</table>\n"
      ],
      "text/latex": [
       "A data.frame: 5 × 2\n",
       "\\begin{tabular}{ll}\n",
       " Var1 & Freq\\\\\n",
       " <fct> & <int>\\\\\n",
       "\\hline\n",
       "\t 0                            & 118\\\\\n",
       "\t Ði<U+1EC7>n t<U+1EED>        &  21\\\\\n",
       "\t Hóa don                      &  24\\\\\n",
       "\t Phi<U+1EBF>u b<U+1EA3>o hành &   9\\\\\n",
       "\t Tem b<U+1EA3>o hành          &  80\\\\\n",
       "\\end{tabular}\n"
      ],
      "text/markdown": [
       "\n",
       "A data.frame: 5 × 2\n",
       "\n",
       "| Var1 &lt;fct&gt; | Freq &lt;int&gt; |\n",
       "|---|---|\n",
       "| 0                            | 118 |\n",
       "| Ði&lt;U+1EC7&gt;n t&lt;U+1EED&gt;        |  21 |\n",
       "| Hóa don                      |  24 |\n",
       "| Phi&lt;U+1EBF&gt;u b&lt;U+1EA3&gt;o hành |   9 |\n",
       "| Tem b&lt;U+1EA3&gt;o hành          |  80 |\n",
       "\n"
      ],
      "text/plain": [
       "  Var1                         Freq\n",
       "1 0                            118 \n",
       "2 Ði<U+1EC7>n t<U+1EED>         21 \n",
       "3 Hóa don                       24 \n",
       "4 Phi<U+1EBF>u b<U+1EA3>o hành   9 \n",
       "5 Tem b<U+1EA3>o hành           80 "
      ]
     },
     "metadata": {},
     "output_type": "display_data"
    }
   ],
   "source": [
    "data = data.frame(table(df$Warranty_way))\n",
    "data"
   ]
  },
  {
   "cell_type": "code",
   "execution_count": 39,
   "id": "7ee727d4",
   "metadata": {},
   "outputs": [
    {
     "data": {
      "image/png": "[encoded data removed]",
      "text/plain": [
       "Plot with title \"Compare the number between the diffrent Warranty way\""
      ]
     },
     "metadata": {
      "image/png": {
       "height": 420,
       "width": 420
      }
     },
     "output_type": "display_data"
    }
   ],
   "source": [
    "barplot(height=data$Freq, names=data$Var1,\n",
    "        col=\"#69b3a2\",\n",
    "        horiz=T, las=0,\n",
    "        main=\"Compare the number between the diffrent Warranty way\",\n",
    "        )"
   ]
  },
  {
   "cell_type": "markdown",
   "id": "7ae95b07",
   "metadata": {},
   "source": [
    "**Nhận xét:**\n",
    "+ Có rất nhiều sản phẩm không có hình thức bảo hành rõ ràng trên thị trường.\n",
    "+ Rất ít sản phẩm được bảo hành theo phiếu bảo hành, trong khi đó hình thức bảo hành phổ biến nhất là team bảo hành.\n",
    "+ Bảo hành dựa trên hóa đơn và team bảo hành dường như không được phổ biến do không tiện lợi\n"
   ]
  },
  {
   "cell_type": "markdown",
   "id": "ee0817de",
   "metadata": {},
   "source": [
    "**Biểu đồ cho thấy các nơi bảo hành của Tiki**"
   ]
  },
  {
   "cell_type": "code",
   "execution_count": 40,
   "id": "848a299e",
   "metadata": {},
   "outputs": [
    {
     "data": {
      "text/html": [
       "<table class=\"dataframe\">\n",
       "<caption>A data.frame: 3 × 2</caption>\n",
       "<thead>\n",
       "\t<tr><th scope=col>Var1</th><th scope=col>Freq</th></tr>\n",
       "\t<tr><th scope=col>&lt;fct&gt;</th><th scope=col>&lt;int&gt;</th></tr>\n",
       "</thead>\n",
       "<tbody>\n",
       "\t<tr><td>0                                                     </td><td>118</td></tr>\n",
       "\t<tr><td>B&lt;U+1EA3&gt;o hành b&lt;U+1EDF&gt;i nhà bán hàng thông qua Tiki</td><td> 70</td></tr>\n",
       "\t<tr><td><span style=white-space:pre-wrap>B&lt;U+1EA3&gt;o hành chính hãng                            </span></td><td> 64</td></tr>\n",
       "</tbody>\n",
       "</table>\n"
      ],
      "text/latex": [
       "A data.frame: 3 × 2\n",
       "\\begin{tabular}{ll}\n",
       " Var1 & Freq\\\\\n",
       " <fct> & <int>\\\\\n",
       "\\hline\n",
       "\t 0                                                      & 118\\\\\n",
       "\t B<U+1EA3>o hành b<U+1EDF>i nhà bán hàng thông qua Tiki &  70\\\\\n",
       "\t B<U+1EA3>o hành chính hãng                             &  64\\\\\n",
       "\\end{tabular}\n"
      ],
      "text/markdown": [
       "\n",
       "A data.frame: 3 × 2\n",
       "\n",
       "| Var1 &lt;fct&gt; | Freq &lt;int&gt; |\n",
       "|---|---|\n",
       "| 0                                                      | 118 |\n",
       "| B&lt;U+1EA3&gt;o hành b&lt;U+1EDF&gt;i nhà bán hàng thông qua Tiki |  70 |\n",
       "| B&lt;U+1EA3&gt;o hành chính hãng                             |  64 |\n",
       "\n"
      ],
      "text/plain": [
       "  Var1                                                   Freq\n",
       "1 0                                                      118 \n",
       "2 B<U+1EA3>o hành b<U+1EDF>i nhà bán hàng thông qua Tiki  70 \n",
       "3 B<U+1EA3>o hành chính hãng                              64 "
      ]
     },
     "metadata": {},
     "output_type": "display_data"
    }
   ],
   "source": [
    "data = data.frame(table(df$Warranty_place))\n",
    "data"
   ]
  },
  {
   "cell_type": "code",
   "execution_count": 41,
   "id": "ab7fd8e3",
   "metadata": {},
   "outputs": [
    {
     "data": {
      "image/png": "[encoded data removed]",
      "text/plain": [
       "Plot with title \"Compare the number between the diffrent Warranty place\""
      ]
     },
     "metadata": {
      "image/png": {
       "height": 420,
       "width": 420
      }
     },
     "output_type": "display_data"
    }
   ],
   "source": [
    "barplot(height=data$Freq, names=data$Var1,\n",
    "        col=\"#69b3a2\",\n",
    "        horiz=T, las=0,\n",
    "        main=\"Compare the number between the diffrent Warranty place\",\n",
    "        )"
   ]
  },
  {
   "cell_type": "markdown",
   "id": "9367303f",
   "metadata": {},
   "source": []
  },
  {
   "cell_type": "code",
   "execution_count": 42,
   "id": "089371ae",
   "metadata": {},
   "outputs": [
    {
     "data": {
      "text/html": [
       "<table class=\"dataframe\">\n",
       "<caption>A data.frame: 6 × 20</caption>\n",
       "<thead>\n",
       "\t<tr><th></th><th scope=col>Name</th><th scope=col>Product_price</th><th scope=col>Discount</th><th scope=col>Sale_price</th><th scope=col>Valuation</th><th scope=col>Shop</th><th scope=col>Brand</th><th scope=col>Warranty</th><th scope=col>Warranty_way</th><th scope=col>Warranty_place</th><th scope=col>Quality</th><th scope=col>Sold</th><th scope=col>Liquidity</th><th scope=col>Rate</th><th scope=col>Comment</th><th scope=col>X5</th><th scope=col>X4</th><th scope=col>X3</th><th scope=col>X2</th><th scope=col>X1</th></tr>\n",
       "\t<tr><th></th><th scope=col>&lt;chr&gt;</th><th scope=col>&lt;dbl&gt;</th><th scope=col>&lt;dbl&gt;</th><th scope=col>&lt;dbl&gt;</th><th scope=col>&lt;chr&gt;</th><th scope=col>&lt;chr&gt;</th><th scope=col>&lt;chr&gt;</th><th scope=col>&lt;int&gt;</th><th scope=col>&lt;chr&gt;</th><th scope=col>&lt;chr&gt;</th><th scope=col>&lt;chr&gt;</th><th scope=col>&lt;int&gt;</th><th scope=col>&lt;chr&gt;</th><th scope=col>&lt;dbl&gt;</th><th scope=col>&lt;int&gt;</th><th scope=col>&lt;int&gt;</th><th scope=col>&lt;int&gt;</th><th scope=col>&lt;int&gt;</th><th scope=col>&lt;int&gt;</th><th scope=col>&lt;int&gt;</th></tr>\n",
       "</thead>\n",
       "<tbody>\n",
       "\t<tr><th scope=row>1</th><td><span style=white-space:pre-wrap>Chu&lt;U+1ED9&gt;t máy vi tính Bosston D608 led - Hàng Chính Hãng                                                                                                      </span></td><td> 60</td><td>0.05</td><td> 57.1</td><td>low price </td><td><span style=white-space:pre-wrap>                   </span></td><td>Bossto</td><td> 0</td><td><span style=white-space:pre-wrap>0                  </span></td><td><span style=white-space:pre-wrap>0                                                     </span></td><td>Good quality</td><td> 364</td><td>Fast</td><td>4.7</td><td> 93</td><td> 78</td><td> 8</td><td>5</td><td>0</td><td>2</td></tr>\n",
       "\t<tr><th scope=row>2</th><td><span style=white-space:pre-wrap>Chu&lt;U+1ED9&gt;t máy tính có dây EDRA EM602 Ð&lt;U+1ED9&gt; Phân Gi&lt;U+1EA3&gt;i 1200 DPI, choi game, cho Laptop hàng chính hãng                                               </span></td><td>148</td><td>0.00</td><td>148.0</td><td>good price</td><td>Extreme Zero Online</td><td>E-DRA </td><td>24</td><td>Tem b&lt;U+1EA3&gt;o hành</td><td><span style=white-space:pre-wrap>B&lt;U+1EA3&gt;o hành chính hãng                            </span></td><td>High quality</td><td><span style=white-space:pre-wrap>  85</span></td><td>Good</td><td>4.9</td><td> 24</td><td> 22</td><td> 2</td><td>0</td><td>0</td><td>0</td></tr>\n",
       "\t<tr><th scope=row>3</th><td><span style=white-space:pre-wrap>Chu&lt;U+1ED9&gt;t máy tính có dây G5 ES, chu&lt;U+1ED9&gt;t gaming DPI 4 c&lt;U+1EA5&gt;p d&lt;U+1ED9&gt;, hi&lt;U+1EC7&gt;u &lt;U+1EE9&gt;ng dèn n&lt;U+1EC1&gt;n 7 màu- Hàng nh&lt;U+1EAD&gt;p kh&lt;U+1EA9&gt;u    </span></td><td>129</td><td>0.00</td><td>129.0</td><td>good price</td><td>HOÀNG NHÂN COMPUTER</td><td>Zealot</td><td> 3</td><td>Tem b&lt;U+1EA3&gt;o hành</td><td>B&lt;U+1EA3&gt;o hành b&lt;U+1EDF&gt;i nhà bán hàng thông qua Tiki</td><td>Good quality</td><td> 185</td><td>Good</td><td>4.7</td><td> 64</td><td> 53</td><td> 7</td><td>0</td><td>1</td><td>3</td></tr>\n",
       "\t<tr><th scope=row>4</th><td><span style=white-space:pre-wrap>Chu&lt;U+1ED9&gt;t máy tính Newmen G10 - Hàng Chính Hãng                                                                                                               </span></td><td>145</td><td>0.00</td><td>145.0</td><td>good price</td><td><span style=white-space:pre-wrap>Vi Tính Lê Huy     </span></td><td>Newme </td><td> 0</td><td><span style=white-space:pre-wrap>0                  </span></td><td><span style=white-space:pre-wrap>0                                                     </span></td><td>Good quality</td><td>1000</td><td>Fast</td><td>4.7</td><td>135</td><td>106</td><td>20</td><td>6</td><td>0</td><td>3</td></tr>\n",
       "\t<tr><th scope=row>5</th><td><span style=white-space:pre-wrap>Chu&lt;U+1ED9&gt;t máy tính van phòng T&lt;U+1EB7&gt;ng lót chu&lt;U+1ED9&gt;t cao c&lt;U+1EA5&gt;p                                                                                      </span></td><td>158</td><td>0.00</td><td>158.0</td><td>good price</td><td><span style=white-space:pre-wrap>VLC6 Store         </span></td><td><span style=white-space:pre-wrap>OEM   </span></td><td> 0</td><td><span style=white-space:pre-wrap>0                  </span></td><td><span style=white-space:pre-wrap>0                                                     </span></td><td>Good quality</td><td><span style=white-space:pre-wrap>  55</span></td><td>Good</td><td>5.0</td><td><span style=white-space:pre-wrap>  9</span></td><td><span style=white-space:pre-wrap>  9</span></td><td> 0</td><td>0</td><td>0</td><td>0</td></tr>\n",
       "\t<tr><th scope=row>6</th><td>Chu&lt;U+1ED9&gt;t van phòng có dây, chu&lt;U+1ED9&gt;t Game HXSJ A885 DPI 5500, RGB d&lt;U+1ED5&gt;i 7 màu liên t&lt;U+1EE5&gt;c, chuyên dùng cho laptop, máy tính, pc - Hàng chính hãng</td><td>299</td><td>0.36</td><td>192.0</td><td>good price</td><td>HXSJ Official Store</td><td><span style=white-space:pre-wrap>HXSJ  </span></td><td> 6</td><td><span style=white-space:pre-wrap>Hóa don            </span></td><td>B&lt;U+1EA3&gt;o hành b&lt;U+1EDF&gt;i nhà bán hàng thông qua Tiki</td><td>Good quality</td><td><span style=white-space:pre-wrap>  39</span></td><td>Good</td><td>5.0</td><td> 13</td><td> 13</td><td> 0</td><td>0</td><td>0</td><td>0</td></tr>\n",
       "</tbody>\n",
       "</table>\n"
      ],
      "text/latex": [
       "A data.frame: 6 × 20\n",
       "\\begin{tabular}{r|llllllllllllllllllll}\n",
       "  & Name & Product\\_price & Discount & Sale\\_price & Valuation & Shop & Brand & Warranty & Warranty\\_way & Warranty\\_place & Quality & Sold & Liquidity & Rate & Comment & X5 & X4 & X3 & X2 & X1\\\\\n",
       "  & <chr> & <dbl> & <dbl> & <dbl> & <chr> & <chr> & <chr> & <int> & <chr> & <chr> & <chr> & <int> & <chr> & <dbl> & <int> & <int> & <int> & <int> & <int> & <int>\\\\\n",
       "\\hline\n",
       "\t1 & Chu<U+1ED9>t máy vi tính Bosston D608 led - Hàng Chính Hãng                                                                                                       &  60 & 0.05 &  57.1 & low price  &                     & Bossto &  0 & 0                   & 0                                                      & Good quality &  364 & Fast & 4.7 &  93 &  78 &  8 & 5 & 0 & 2\\\\\n",
       "\t2 & Chu<U+1ED9>t máy tính có dây EDRA EM602 Ð<U+1ED9> Phân Gi<U+1EA3>i 1200 DPI, choi game, cho Laptop hàng chính hãng                                                & 148 & 0.00 & 148.0 & good price & Extreme Zero Online & E-DRA  & 24 & Tem b<U+1EA3>o hành & B<U+1EA3>o hành chính hãng                             & High quality &   85 & Good & 4.9 &  24 &  22 &  2 & 0 & 0 & 0\\\\\n",
       "\t3 & Chu<U+1ED9>t máy tính có dây G5 ES, chu<U+1ED9>t gaming DPI 4 c<U+1EA5>p d<U+1ED9>, hi<U+1EC7>u <U+1EE9>ng dèn n<U+1EC1>n 7 màu- Hàng nh<U+1EAD>p kh<U+1EA9>u     & 129 & 0.00 & 129.0 & good price & HOÀNG NHÂN COMPUTER & Zealot &  3 & Tem b<U+1EA3>o hành & B<U+1EA3>o hành b<U+1EDF>i nhà bán hàng thông qua Tiki & Good quality &  185 & Good & 4.7 &  64 &  53 &  7 & 0 & 1 & 3\\\\\n",
       "\t4 & Chu<U+1ED9>t máy tính Newmen G10 - Hàng Chính Hãng                                                                                                                & 145 & 0.00 & 145.0 & good price & Vi Tính Lê Huy      & Newme  &  0 & 0                   & 0                                                      & Good quality & 1000 & Fast & 4.7 & 135 & 106 & 20 & 6 & 0 & 3\\\\\n",
       "\t5 & Chu<U+1ED9>t máy tính van phòng T<U+1EB7>ng lót chu<U+1ED9>t cao c<U+1EA5>p                                                                                       & 158 & 0.00 & 158.0 & good price & VLC6 Store          & OEM    &  0 & 0                   & 0                                                      & Good quality &   55 & Good & 5.0 &   9 &   9 &  0 & 0 & 0 & 0\\\\\n",
       "\t6 & Chu<U+1ED9>t van phòng có dây, chu<U+1ED9>t Game HXSJ A885 DPI 5500, RGB d<U+1ED5>i 7 màu liên t<U+1EE5>c, chuyên dùng cho laptop, máy tính, pc - Hàng chính hãng & 299 & 0.36 & 192.0 & good price & HXSJ Official Store & HXSJ   &  6 & Hóa don             & B<U+1EA3>o hành b<U+1EDF>i nhà bán hàng thông qua Tiki & Good quality &   39 & Good & 5.0 &  13 &  13 &  0 & 0 & 0 & 0\\\\\n",
       "\\end{tabular}\n"
      ],
      "text/markdown": [
       "\n",
       "A data.frame: 6 × 20\n",
       "\n",
       "| <!--/--> | Name &lt;chr&gt; | Product_price &lt;dbl&gt; | Discount &lt;dbl&gt; | Sale_price &lt;dbl&gt; | Valuation &lt;chr&gt; | Shop &lt;chr&gt; | Brand &lt;chr&gt; | Warranty &lt;int&gt; | Warranty_way &lt;chr&gt; | Warranty_place &lt;chr&gt; | Quality &lt;chr&gt; | Sold &lt;int&gt; | Liquidity &lt;chr&gt; | Rate &lt;dbl&gt; | Comment &lt;int&gt; | X5 &lt;int&gt; | X4 &lt;int&gt; | X3 &lt;int&gt; | X2 &lt;int&gt; | X1 &lt;int&gt; |\n",
       "|---|---|---|---|---|---|---|---|---|---|---|---|---|---|---|---|---|---|---|---|---|\n",
       "| 1 | Chu&lt;U+1ED9&gt;t máy vi tính Bosston D608 led - Hàng Chính Hãng                                                                                                       |  60 | 0.05 |  57.1 | low price  | <!----> | Bossto |  0 | 0                   | 0                                                      | Good quality |  364 | Fast | 4.7 |  93 |  78 |  8 | 5 | 0 | 2 |\n",
       "| 2 | Chu&lt;U+1ED9&gt;t máy tính có dây EDRA EM602 Ð&lt;U+1ED9&gt; Phân Gi&lt;U+1EA3&gt;i 1200 DPI, choi game, cho Laptop hàng chính hãng                                                | 148 | 0.00 | 148.0 | good price | Extreme Zero Online | E-DRA  | 24 | Tem b&lt;U+1EA3&gt;o hành | B&lt;U+1EA3&gt;o hành chính hãng                             | High quality |   85 | Good | 4.9 |  24 |  22 |  2 | 0 | 0 | 0 |\n",
       "| 3 | Chu&lt;U+1ED9&gt;t máy tính có dây G5 ES, chu&lt;U+1ED9&gt;t gaming DPI 4 c&lt;U+1EA5&gt;p d&lt;U+1ED9&gt;, hi&lt;U+1EC7&gt;u &lt;U+1EE9&gt;ng dèn n&lt;U+1EC1&gt;n 7 màu- Hàng nh&lt;U+1EAD&gt;p kh&lt;U+1EA9&gt;u     | 129 | 0.00 | 129.0 | good price | HOÀNG NHÂN COMPUTER | Zealot |  3 | Tem b&lt;U+1EA3&gt;o hành | B&lt;U+1EA3&gt;o hành b&lt;U+1EDF&gt;i nhà bán hàng thông qua Tiki | Good quality |  185 | Good | 4.7 |  64 |  53 |  7 | 0 | 1 | 3 |\n",
       "| 4 | Chu&lt;U+1ED9&gt;t máy tính Newmen G10 - Hàng Chính Hãng                                                                                                                | 145 | 0.00 | 145.0 | good price | Vi Tính Lê Huy      | Newme  |  0 | 0                   | 0                                                      | Good quality | 1000 | Fast | 4.7 | 135 | 106 | 20 | 6 | 0 | 3 |\n",
       "| 5 | Chu&lt;U+1ED9&gt;t máy tính van phòng T&lt;U+1EB7&gt;ng lót chu&lt;U+1ED9&gt;t cao c&lt;U+1EA5&gt;p                                                                                       | 158 | 0.00 | 158.0 | good price | VLC6 Store          | OEM    |  0 | 0                   | 0                                                      | Good quality |   55 | Good | 5.0 |   9 |   9 |  0 | 0 | 0 | 0 |\n",
       "| 6 | Chu&lt;U+1ED9&gt;t van phòng có dây, chu&lt;U+1ED9&gt;t Game HXSJ A885 DPI 5500, RGB d&lt;U+1ED5&gt;i 7 màu liên t&lt;U+1EE5&gt;c, chuyên dùng cho laptop, máy tính, pc - Hàng chính hãng | 299 | 0.36 | 192.0 | good price | HXSJ Official Store | HXSJ   |  6 | Hóa don             | B&lt;U+1EA3&gt;o hành b&lt;U+1EDF&gt;i nhà bán hàng thông qua Tiki | Good quality |   39 | Good | 5.0 |  13 |  13 |  0 | 0 | 0 | 0 |\n",
       "\n"
      ],
      "text/plain": [
       "  Name                                                                                                                                                             \n",
       "1 Chu<U+1ED9>t máy vi tính Bosston D608 led - Hàng Chính Hãng                                                                                                      \n",
       "2 Chu<U+1ED9>t máy tính có dây EDRA EM602 Ð<U+1ED9> Phân Gi<U+1EA3>i 1200 DPI, choi game, cho Laptop hàng chính hãng                                               \n",
       "3 Chu<U+1ED9>t máy tính có dây G5 ES, chu<U+1ED9>t gaming DPI 4 c<U+1EA5>p d<U+1ED9>, hi<U+1EC7>u <U+1EE9>ng dèn n<U+1EC1>n 7 màu- Hàng nh<U+1EAD>p kh<U+1EA9>u    \n",
       "4 Chu<U+1ED9>t máy tính Newmen G10 - Hàng Chính Hãng                                                                                                               \n",
       "5 Chu<U+1ED9>t máy tính van phòng T<U+1EB7>ng lót chu<U+1ED9>t cao c<U+1EA5>p                                                                                      \n",
       "6 Chu<U+1ED9>t van phòng có dây, chu<U+1ED9>t Game HXSJ A885 DPI 5500, RGB d<U+1ED5>i 7 màu liên t<U+1EE5>c, chuyên dùng cho laptop, máy tính, pc - Hàng chính hãng\n",
       "  Product_price Discount Sale_price Valuation  Shop                Brand \n",
       "1  60           0.05      57.1      low price                      Bossto\n",
       "2 148           0.00     148.0      good price Extreme Zero Online E-DRA \n",
       "3 129           0.00     129.0      good price HOÀNG NHÂN COMPUTER Zealot\n",
       "4 145           0.00     145.0      good price Vi Tính Lê Huy      Newme \n",
       "5 158           0.00     158.0      good price VLC6 Store          OEM   \n",
       "6 299           0.36     192.0      good price HXSJ Official Store HXSJ  \n",
       "  Warranty Warranty_way       \n",
       "1  0       0                  \n",
       "2 24       Tem b<U+1EA3>o hành\n",
       "3  3       Tem b<U+1EA3>o hành\n",
       "4  0       0                  \n",
       "5  0       0                  \n",
       "6  6       Hóa don            \n",
       "  Warranty_place                                         Quality      Sold\n",
       "1 0                                                      Good quality  364\n",
       "2 B<U+1EA3>o hành chính hãng                             High quality   85\n",
       "3 B<U+1EA3>o hành b<U+1EDF>i nhà bán hàng thông qua Tiki Good quality  185\n",
       "4 0                                                      Good quality 1000\n",
       "5 0                                                      Good quality   55\n",
       "6 B<U+1EA3>o hành b<U+1EDF>i nhà bán hàng thông qua Tiki Good quality   39\n",
       "  Liquidity Rate Comment X5  X4 X3 X2 X1\n",
       "1 Fast      4.7   93      78  8 5  0  2 \n",
       "2 Good      4.9   24      22  2 0  0  0 \n",
       "3 Good      4.7   64      53  7 0  1  3 \n",
       "4 Fast      4.7  135     106 20 6  0  3 \n",
       "5 Good      5.0    9       9  0 0  0  0 \n",
       "6 Good      5.0   13      13  0 0  0  0 "
      ]
     },
     "metadata": {},
     "output_type": "display_data"
    }
   ],
   "source": [
    "head(df)"
   ]
  },
  {
   "cell_type": "code",
   "execution_count": 43,
   "id": "1b08b2e8",
   "metadata": {},
   "outputs": [
    {
     "data": {
      "image/png": "[encoded data removed]",
      "text/plain": [
       "plot without title"
      ]
     },
     "metadata": {
      "image/png": {
       "height": 420,
       "width": 420
      }
     },
     "output_type": "display_data"
    }
   ],
   "source": [
    "ggbetweenstats(\n",
    "  data = df,\n",
    "  x = Liquidity,\n",
    "  y = Sale_price\n",
    ") + labs(\n",
    "    title = \"Distribution of Price across Liquidity\"\n",
    "  ) "
   ]
  },
  {
   "cell_type": "markdown",
   "id": "98fd2044",
   "metadata": {},
   "source": [
    "# Các phép kiểm định\n",
    "---\n",
    "\n",
    "# Kiểm tra phân phối chuẩn(Normal ditribution)\n",
    "\n",
    "Trước khi tiến hành các phép kiểm định, ta cần kiểm tra phân phối chuẩn của dữ liệu. Nếu dữ liệu không chuẩn, thì ta phải chọn những phép kiểm định phi tham số để kiểm định\n",
    "\n",
    "Ở đây, tôi sẽ xây dựng hàm kiểm định phân phối chuẩn trước, như vậy trc khi tiến hành kiểm định tôi có thể dễ dàng kiểm tra phân phối chuẩn và chọn một phép kiểm định khác\n",
    "\n"
   ]
  },
  {
   "cell_type": "code",
   "execution_count": 43,
   "id": "39a7e848",
   "metadata": {},
   "outputs": [],
   "source": [
    "#install.packages(\"nortest\")\n",
    "library(nortest)"
   ]
  },
  {
   "cell_type": "code",
   "execution_count": 44,
   "id": "cc839aa4",
   "metadata": {},
   "outputs": [],
   "source": [
    "normal_ditribution <- function(data, col){\n",
    "    \n",
    "    # shapiro - wilk\n",
    "    print(shapiro.test(col))\n",
    "    # Anderson-Darling\n",
    "    print(ad.test(col))\n",
    "    # histplot\n",
    "    histplot = ggplot(data = data,aes(col))+\n",
    "    geom_histogram(aes(y=..density..),color=\"black\",fill=\"cyan\")+\n",
    "    stat_function(fun = dnorm,\n",
    "                    args = list(mean = mean(col,na.rm = TRUE),\n",
    "                                sd = sd(col,na.rm = TRUE)),\n",
    "                    color ='red',size = 1)\n",
    "    print(histplot)\n",
    "    # qqplot\n",
    "    qqplot = ggqqplot(col)\n",
    "    print(qqplot)\n",
    "}\n",
    "#normal_ditribution(df,df$Rate)"
   ]
  },
  {
   "cell_type": "code",
   "execution_count": 45,
   "id": "92910e53",
   "metadata": {},
   "outputs": [
    {
     "name": "stdout",
     "output_type": "stream",
     "text": [
      "\n",
      "\tShapiro-Wilk normality test\n",
      "\n",
      "data:  col\n",
      "W = 0.70251, p-value < 2.2e-16\n",
      "\n",
      "\n",
      "\tAnderson-Darling normality test\n",
      "\n",
      "data:  col\n",
      "A = 34.679, p-value < 2.2e-16\n",
      "\n"
     ]
    },
    {
     "name": "stderr",
     "output_type": "stream",
     "text": [
      "`stat_bin()` using `bins = 30`. Pick better value with `binwidth`.\n",
      "\n"
     ]
    },
    {
     "data": {
      "image/png": "[encoded data removed]",
      "text/plain": [
       "plot without title"
      ]
     },
     "metadata": {
      "image/png": {
       "height": 420,
       "width": 420
      }
     },
     "output_type": "display_data"
    },
    {
     "data": {
      "image/png": "[encoded data removed]",
      "text/plain": [
       "plot without title"
      ]
     },
     "metadata": {
      "image/png": {
       "height": 420,
       "width": 420
      }
     },
     "output_type": "display_data"
    }
   ],
   "source": [
    "normal_ditribution(df, df$Rate)"
   ]
  },
  {
   "cell_type": "code",
   "execution_count": 46,
   "id": "f50702d3",
   "metadata": {},
   "outputs": [
    {
     "name": "stdout",
     "output_type": "stream",
     "text": [
      "\n",
      "\tShapiro-Wilk normality test\n",
      "\n",
      "data:  col\n",
      "W = 0.48515, p-value < 2.2e-16\n",
      "\n",
      "\n",
      "\tAnderson-Darling normality test\n",
      "\n",
      "data:  col\n",
      "A = 32.164, p-value < 2.2e-16\n",
      "\n"
     ]
    },
    {
     "name": "stderr",
     "output_type": "stream",
     "text": [
      "`stat_bin()` using `bins = 30`. Pick better value with `binwidth`.\n",
      "\n"
     ]
    },
    {
     "data": {
      "image/png": "[encoded data removed]",
      "text/plain": [
       "plot without title"
      ]
     },
     "metadata": {
      "image/png": {
       "height": 420,
       "width": 420
      }
     },
     "output_type": "display_data"
    },
    {
     "data": {
      "image/png": "[encoded data removed]",
      "text/plain": [
       "plot without title"
      ]
     },
     "metadata": {
      "image/png": {
       "height": 420,
       "width": 420
      }
     },
     "output_type": "display_data"
    }
   ],
   "source": [
    "normal_ditribution(df, df$Sale_price)"
   ]
  },
  {
   "cell_type": "code",
   "execution_count": 47,
   "id": "dd456270",
   "metadata": {},
   "outputs": [
    {
     "name": "stdout",
     "output_type": "stream",
     "text": [
      "\n",
      "\tShapiro-Wilk normality test\n",
      "\n",
      "data:  col\n",
      "W = 0.3905, p-value < 2.2e-16\n",
      "\n",
      "\n",
      "\tAnderson-Darling normality test\n",
      "\n",
      "data:  col\n",
      "A = 60.371, p-value < 2.2e-16\n",
      "\n"
     ]
    },
    {
     "name": "stderr",
     "output_type": "stream",
     "text": [
      "`stat_bin()` using `bins = 30`. Pick better value with `binwidth`.\n",
      "\n"
     ]
    },
    {
     "data": {
      "image/png": "[encoded data removed]",
      "text/plain": [
       "plot without title"
      ]
     },
     "metadata": {
      "image/png": {
       "height": 420,
       "width": 420
      }
     },
     "output_type": "display_data"
    },
    {
     "data": {
      "image/png": "[encoded data removed]",
      "text/plain": [
       "plot without title"
      ]
     },
     "metadata": {
      "image/png": {
       "height": 420,
       "width": 420
      }
     },
     "output_type": "display_data"
    }
   ],
   "source": [
    "normal_ditribution(df, df$Sold)"
   ]
  },
  {
   "cell_type": "code",
   "execution_count": 48,
   "id": "832fb1d5",
   "metadata": {},
   "outputs": [
    {
     "name": "stdout",
     "output_type": "stream",
     "text": [
      "\n",
      "\tShapiro-Wilk normality test\n",
      "\n",
      "data:  col\n",
      "W = 0.083118, p-value < 2.2e-16\n",
      "\n",
      "\n",
      "\tAnderson-Darling normality test\n",
      "\n",
      "data:  col\n",
      "A = 82.622, p-value < 2.2e-16\n",
      "\n"
     ]
    },
    {
     "name": "stderr",
     "output_type": "stream",
     "text": [
      "`stat_bin()` using `bins = 30`. Pick better value with `binwidth`.\n",
      "\n"
     ]
    },
    {
     "data": {
      "image/png": "[encoded data removed]",
      "text/plain": [
       "plot without title"
      ]
     },
     "metadata": {
      "image/png": {
       "height": 420,
       "width": 420
      }
     },
     "output_type": "display_data"
    },
    {
     "data": {
      "image/png": "[encoded data removed]",
      "text/plain": [
       "plot without title"
      ]
     },
     "metadata": {
      "image/png": {
       "height": 420,
       "width": 420
      }
     },
     "output_type": "display_data"
    }
   ],
   "source": [
    "normal_ditribution(df, df$Comment)"
   ]
  },
  {
   "cell_type": "markdown",
   "id": "6d591f2c",
   "metadata": {},
   "source": [
    "Sau khi kiểm tra các các trường dữ liệu thì kết quả cho thấy dữ liệu không có phân phối chuẩn nên ta sẽ sử dụng các loại kiểm định phi tham số để kiểm tra các giả thuyết"
   ]
  },
  {
   "cell_type": "markdown",
   "id": "200a88a4",
   "metadata": {},
   "source": [
    "# Kiểm định Chisquare\n",
    "\n",
    "Chisquare là kiểm định kiểm tra sự độc lập giữa hai biến mà không cần kiểm tra phân phối chuẩn\n"
   ]
  },
  {
   "cell_type": "markdown",
   "id": "12524fef",
   "metadata": {},
   "source": [
    "---------\n",
    "**Phát biểu giả thuyết:**\n",
    "\n",
    "Kiểm định xem Giá cả có ảnh hưởng đến chất lượng của sản phẩm với sự đánh giá của khách hàng không.\n",
    "\n",
    "+ H0 : Giá cả Không ảnh hưởng đến chất lượng sản phẩm (Hai giá trị này độc lập với nhau)\n",
    "+ H1 : Giá cả ảnh hưởng đến chất lượng sản phẩm (Hai giá trị này phụ thuộc nhau)"
   ]
  },
  {
   "cell_type": "code",
   "execution_count": 49,
   "id": "54e86347",
   "metadata": {},
   "outputs": [
    {
     "data": {
      "text/plain": [
       "            \n",
       "             Good quality High quality Low quality Unknown\n",
       "  good price           30           13          29      67\n",
       "  high price            1            3           1      10\n",
       "  low price            25            1          20      52"
      ]
     },
     "metadata": {},
     "output_type": "display_data"
    },
    {
     "name": "stderr",
     "output_type": "stream",
     "text": [
      "Warning message in chisq.test(df$Valuation, df$Quality):\n",
      "\"Chi-squared approximation may be incorrect\"\n"
     ]
    },
    {
     "data": {
      "text/plain": [
       "\n",
       "\tPearson's Chi-squared test\n",
       "\n",
       "data:  df$Valuation and df$Quality\n",
       "X-squared = 14.617, df = 6, p-value = 0.02346\n"
      ]
     },
     "metadata": {},
     "output_type": "display_data"
    }
   ],
   "source": [
    "table(df$Valuation,df$Quality)\n",
    "chisq.test(df$Valuation, df$Quality)"
   ]
  },
  {
   "cell_type": "markdown",
   "id": "cda6ceb4",
   "metadata": {},
   "source": [
    "pvalue < 0.05 \n",
    "\n",
    "Chưa giả đủ điều kiện chấp nhận giả thuyết H0. Điều này có nghĩa là Giá cả ảnh hưởng đến chất lượng sản phẩm"
   ]
  },
  {
   "cell_type": "markdown",
   "id": "4596d014",
   "metadata": {},
   "source": [
    "Chú ý: Chất lượng ở đây nói về sự phù hợp của giá cả so với chất lượng sản phẩm "
   ]
  },
  {
   "cell_type": "code",
   "execution_count": 50,
   "id": "1b450b55",
   "metadata": {},
   "outputs": [
    {
     "data": {
      "image/png": "[encoded data removed]",
      "text/plain": [
       "plot without title"
      ]
     },
     "metadata": {
      "image/png": {
       "height": 420,
       "width": 420
      }
     },
     "output_type": "display_data"
    }
   ],
   "source": [
    "ggbetweenstats(\n",
    "  data = df,\n",
    "  x = Quality,\n",
    "  y = Sale_price\n",
    ") + labs(\n",
    "    title = \"Distribution of Price across Quality\"\n",
    "  ) +\n",
    "    theme(\n",
    "    # This is the new default font in the plot\n",
    "    text = element_text(size = 12, color = \"black\"),\n",
    "    plot.title = element_text(\n",
    "      #family = \"Tahoma\", \n",
    "      size = 20,\n",
    "      face = \"bold\",\n",
    "      color = \"#2a475e\"\n",
    "    ))"
   ]
  },
  {
   "cell_type": "markdown",
   "id": "6418c7e8",
   "metadata": {},
   "source": [
    "**Nhận xét:**\n",
    "+ Từ biểu đồ ta có thể thấy chất lượng sản phẩm càng tốt thì khoảng tập trung giá cả của dữ liệu càng cao hơn\n",
    "+ Mục Unknow chiếm tỉ lệ rất cao trong tổ số lượng sản phẩm khiến việc phân loại chất lượng và đánh giá gặp khó khăn\n",
    "+ Các sản phẩm Highquality có sự phân bố đồng đều hơn về giá. Trong khi đó Lowquality và Goodquality só sự tập trung dữ liệu về 1 điểm khá giống nhau\n"
   ]
  },
  {
   "cell_type": "markdown",
   "id": "36f74ee4",
   "metadata": {},
   "source": [
    "-------------------------------------------------------\n",
    "**Phát biểu giả thuyết:**\n",
    "\n",
    "Kiểm định xem chất lượng sản phẩm có ảnh hưởng đến tốc độ bán của sản phẩm không ?\n",
    "\n",
    "+ H0 : Chất lượng sản phẩm(Quality) không ảnh hưởng đến tốc độ bán của sản phẩm(Liquidity) (Hai Biến này độc lập với nhau)\n",
    "+ H1 : Chất lượng sản phẩm(Quality) ảnh hưởng đến tốc độ bán của sản phẩm( Liquidity)( Hai biến này phụ thuộc nhau)"
   ]
  },
  {
   "cell_type": "code",
   "execution_count": 51,
   "id": "81a8d03f",
   "metadata": {},
   "outputs": [
    {
     "data": {
      "text/plain": [
       "      \n",
       "       Good quality High quality Low quality Unknown\n",
       "  Fast            6            9           1       1\n",
       "  Good           23            8           9       0\n",
       "  Slow           27            0          40     128"
      ]
     },
     "metadata": {},
     "output_type": "display_data"
    },
    {
     "name": "stderr",
     "output_type": "stream",
     "text": [
      "Warning message in chisq.test(df$Liquidity, df$Quality):\n",
      "\"Chi-squared approximation may be incorrect\"\n"
     ]
    },
    {
     "data": {
      "text/plain": [
       "\n",
       "\tPearson's Chi-squared test\n",
       "\n",
       "data:  df$Liquidity and df$Quality\n",
       "X-squared = 144.32, df = 6, p-value < 2.2e-16\n"
      ]
     },
     "metadata": {},
     "output_type": "display_data"
    }
   ],
   "source": [
    "table(df$Liquidity,df$Quality)\n",
    "chisq.test(df$Liquidity,df$Quality)"
   ]
  },
  {
   "cell_type": "markdown",
   "id": "8c4fcfc3",
   "metadata": {},
   "source": [
    "pvalue < 0.05 \n",
    "\n",
    "Chấp nhận giả thuyết H1. Điều này có nghĩa là chất lưởng sản phẩm ảnh hưởng đến tốc độ bán của sản phẩm"
   ]
  },
  {
   "cell_type": "code",
   "execution_count": 52,
   "id": "edafe590",
   "metadata": {},
   "outputs": [
    {
     "data": {
      "image/png": "[encoded data removed]",
      "text/plain": [
       "plot without title"
      ]
     },
     "metadata": {
      "image/png": {
       "height": 420,
       "width": 420
      }
     },
     "output_type": "display_data"
    }
   ],
   "source": [
    "ggbetweenstats(\n",
    "  data = df,\n",
    "  x = Quality,\n",
    "  y = Sold\n",
    ") + labs(\n",
    "    title = \"Distribution of Sold across Quality\"\n",
    "  ) +\n",
    "    theme(\n",
    "    # This is the new default font in the plot\n",
    "    text = element_text(size = 15, color = \"black\"),\n",
    "    plot.title = element_text(\n",
    "      #family = \"Tahoma\", \n",
    "      size = 20,\n",
    "      face = \"bold\",\n",
    "      color = \"#2a475e\"\n",
    "    ))"
   ]
  },
  {
   "cell_type": "markdown",
   "id": "52729a6a",
   "metadata": {},
   "source": [
    "**Nhận xét:**\n",
    "+ Nhìn vào biểu đồ lập tức có thể thấy rằng có sự khác biệt rõ ràng giữa Highquality - Goodquality  và Lowquality - Uknow. Đăc biệt sản phẩm chất lượng cao có lượt bán ra chệnh lệch rất lớn.\n",
    "+ Ta thấy riêng nhóm High quality có điểm xuất phát cao hơn hẵn so với các nhóm khác do quy định cần ít nhất 20 lượt bán mới có thể coi đạt chất lượng cao.\n",
    "+ Ta thấy rằng sản phẩm có chất lượng tốt(lượt đánh giá tốt) thì có số lượng bán ra cao hơn rõ rệt. Điều nãy cũng dễ hiểu bởi ngay tại thời điểm mà sản phẩm đó có lượt đánh giá thấp, người tiêu dùng sẽ lập tức không để tâm hay phí tiền để mua nó nữa. Ngược lại sẽ có xu hướng tập trung vào những sản phẩm có lượt đánh giá tốt nên các sản phẩm đó lại có lượt bán tăng nhanh.\n",
    "+ Ta nhận thấy có hơn 50% số lượng cho phân loại Unknow. Điều này cho thấy thị trường Tiki vẫn còn nghèo nàn và khó cho các doanh nghiệp mới có thể phát triển khi chưa có được sự tin tưởng từ khách hàng. Bởi khi chưa có lượt đánh giá để hiểu hơn về sản phẩm thì người tiêu dùng thường sẽ chọn 1 sản phẩm đáng tin hơn cho bản thân khiến các sản phẩm khó để bán ra trong thời gian đầu.\n",
    "+ Không có nhiều sản phẩm đạt Highquality bởi khi càng có nhiều đánh giá thì chất lượng sản phẩm sẽ càng rõ ràng, những nhược điểm của sản phẩm sẽ lộ ra nhiều hơn và đưa sản phẩm về đúng chất lượng của nó."
   ]
  },
  {
   "cell_type": "markdown",
   "id": "9c8060e4",
   "metadata": {},
   "source": [
    "----\n",
    "**Phát biểu giả thuyết:**\n",
    "\n",
    "Kiểm tra xem có sự ảnh hưởng giữa giá tiền đến số lượng sản phẩm bán ra không ?\n",
    "+ H0: Giá bán không có sự ảnh hưởng  đến tốc độ bán sản phẩm (Hai biến này là độc lập)\n",
    "+ H1: Giá bán ảnh hưởng đến tốc độ bán sản phẩm (Hai biến này có phụ tuộc vào nhau)\n",
    "\n"
   ]
  },
  {
   "cell_type": "code",
   "execution_count": 53,
   "id": "4bfb7974",
   "metadata": {},
   "outputs": [
    {
     "data": {
      "text/plain": [
       "            \n",
       "             Fast Good Slow\n",
       "  good price   12   25  102\n",
       "  high price    3    0   12\n",
       "  low price     2   15   81"
      ]
     },
     "metadata": {},
     "output_type": "display_data"
    },
    {
     "name": "stderr",
     "output_type": "stream",
     "text": [
      "Warning message in chisq.test(df$Valuation, df$Liquidity):\n",
      "\"Chi-squared approximation may be incorrect\"\n"
     ]
    },
    {
     "data": {
      "text/plain": [
       "\n",
       "\tPearson's Chi-squared test\n",
       "\n",
       "data:  df$Valuation and df$Liquidity\n",
       "X-squared = 11.3, df = 4, p-value = 0.02339\n"
      ]
     },
     "metadata": {},
     "output_type": "display_data"
    }
   ],
   "source": [
    "table(df$Valuation,df$Liquidity)\n",
    "chisq.test(df$Valuation,df$Liquidity)"
   ]
  },
  {
   "cell_type": "markdown",
   "id": "61f13dd5",
   "metadata": {},
   "source": [
    "pvalue < 0.05\n",
    "\n",
    "Chấp nhận giả thuyết H1. Điều này có nghĩa là Giá bán có ảnh hưởng đến tốc độ bán của sản phẩm\n",
    " "
   ]
  },
  {
   "cell_type": "code",
   "execution_count": 54,
   "id": "6b5c5946",
   "metadata": {},
   "outputs": [
    {
     "data": {
      "image/png": "[encoded data removed]",
      "text/plain": [
       "plot without title"
      ]
     },
     "metadata": {
      "image/png": {
       "height": 420,
       "width": 420
      }
     },
     "output_type": "display_data"
    }
   ],
   "source": [
    "ggbetweenstats(\n",
    "  data = df,\n",
    "  x = Liquidity,\n",
    "  y = Sale_price\n",
    ") + labs(\n",
    "    title = \"Distribution of Sold across Quality\"\n",
    "  ) +\n",
    "    theme(\n",
    "    # This is the new default font in the plot\n",
    "    text = element_text(size = 15, color = \"black\"),\n",
    "    plot.title = element_text(\n",
    "      #family = \"Tahoma\", \n",
    "      size = 20,\n",
    "      face = \"bold\",\n",
    "      color = \"#2a475e\"\n",
    "    ))"
   ]
  },
  {
   "cell_type": "markdown",
   "id": "234106be",
   "metadata": {},
   "source": [
    "**Nhận xét:**\n",
    "+ Ở mục Slow có nhiều sản phẩm chưa bán được nên có sự phân bố giá tương đối rộng hơn so với cái thanh khoản(Liquidity) khác.\n",
    "+ Sản phẩm ở thanh khoản Good và Fast có sự phân bố rõ rằng tập trung nằm trong một khoảng nhất định.\n",
    "+ Các sản phẩm có tốc độ bán càng cao thì có điểm xuất phát càng cao hơn.\n",
    "+ Có khoảng 70% sản phẩm trên Tiki được bán với tốc độ chậm, Tiki nên xem xét lại chính sách của mình và quảng cáo, thu hút người dùng nhiều hơn.\n",
    "+ Có rất ít sản phẩm có thể phát triển tốt ở Tiki khi mục Fast chỉ chiếm chưa đến 10% trên tông sản phẩm.\n"
   ]
  },
  {
   "cell_type": "markdown",
   "id": "5ad154b9",
   "metadata": {},
   "source": [
    "# Kiểm định Kruskal - Wallis\n",
    "\n",
    "Kiểm định Kruskal - Wallis giúp kiểm tra sự phân phối của hai mẫu(khá giống kiểm định ANOVA) mà không cần phải giả định phân phối chuẩn"
   ]
  },
  {
   "cell_type": "markdown",
   "id": "2fe2b208",
   "metadata": {},
   "source": [
    "**Phát biểu giả thuyết:**\n",
    "\n",
    "Kiểm tra xem liệu các sản phẩm có bảo hành có bán sản phẩm với giá cao hơn các sản phẩm khác ?\n",
    "\n",
    "+ H0 : Không có sự khác biệt về giá giữa các sẩn phẩm có bảo hành và không bảo hành\n",
    "+ H1 : Có sự khác biệt về giá giữa các sản phẩm có bảo hành và không có bảo hành"
   ]
  },
  {
   "cell_type": "code",
   "execution_count": 55,
   "id": "ce66ffae",
   "metadata": {},
   "outputs": [
    {
     "data": {
      "text/html": [
       "<table class=\"dataframe\">\n",
       "<caption>A data.frame: 2 × 2</caption>\n",
       "<thead>\n",
       "\t<tr><th scope=col>check_w</th><th scope=col>Freq</th></tr>\n",
       "\t<tr><th scope=col>&lt;fct&gt;</th><th scope=col>&lt;int&gt;</th></tr>\n",
       "</thead>\n",
       "<tbody>\n",
       "\t<tr><td>Non     </td><td>108</td></tr>\n",
       "\t<tr><td>Warranty</td><td>144</td></tr>\n",
       "</tbody>\n",
       "</table>\n"
      ],
      "text/latex": [
       "A data.frame: 2 × 2\n",
       "\\begin{tabular}{ll}\n",
       " check\\_w & Freq\\\\\n",
       " <fct> & <int>\\\\\n",
       "\\hline\n",
       "\t Non      & 108\\\\\n",
       "\t Warranty & 144\\\\\n",
       "\\end{tabular}\n"
      ],
      "text/markdown": [
       "\n",
       "A data.frame: 2 × 2\n",
       "\n",
       "| check_w &lt;fct&gt; | Freq &lt;int&gt; |\n",
       "|---|---|\n",
       "| Non      | 108 |\n",
       "| Warranty | 144 |\n",
       "\n"
      ],
      "text/plain": [
       "  check_w  Freq\n",
       "1 Non      108 \n",
       "2 Warranty 144 "
      ]
     },
     "metadata": {},
     "output_type": "display_data"
    },
    {
     "data": {
      "text/html": [
       "<table class=\"dataframe\">\n",
       "<caption>A data.frame: 6 × 2</caption>\n",
       "<thead>\n",
       "\t<tr><th></th><th scope=col>Price</th><th scope=col>Warranty</th></tr>\n",
       "\t<tr><th></th><th scope=col>&lt;dbl&gt;</th><th scope=col>&lt;chr&gt;</th></tr>\n",
       "</thead>\n",
       "<tbody>\n",
       "\t<tr><th scope=row>1</th><td> 57.1</td><td>Non     </td></tr>\n",
       "\t<tr><th scope=row>2</th><td>148.0</td><td>Warranty</td></tr>\n",
       "\t<tr><th scope=row>3</th><td>129.0</td><td>Warranty</td></tr>\n",
       "\t<tr><th scope=row>4</th><td>145.0</td><td>Non     </td></tr>\n",
       "\t<tr><th scope=row>5</th><td>158.0</td><td>Non     </td></tr>\n",
       "\t<tr><th scope=row>6</th><td>192.0</td><td>Warranty</td></tr>\n",
       "</tbody>\n",
       "</table>\n"
      ],
      "text/latex": [
       "A data.frame: 6 × 2\n",
       "\\begin{tabular}{r|ll}\n",
       "  & Price & Warranty\\\\\n",
       "  & <dbl> & <chr>\\\\\n",
       "\\hline\n",
       "\t1 &  57.1 & Non     \\\\\n",
       "\t2 & 148.0 & Warranty\\\\\n",
       "\t3 & 129.0 & Warranty\\\\\n",
       "\t4 & 145.0 & Non     \\\\\n",
       "\t5 & 158.0 & Non     \\\\\n",
       "\t6 & 192.0 & Warranty\\\\\n",
       "\\end{tabular}\n"
      ],
      "text/markdown": [
       "\n",
       "A data.frame: 6 × 2\n",
       "\n",
       "| <!--/--> | Price &lt;dbl&gt; | Warranty &lt;chr&gt; |\n",
       "|---|---|---|\n",
       "| 1 |  57.1 | Non      |\n",
       "| 2 | 148.0 | Warranty |\n",
       "| 3 | 129.0 | Warranty |\n",
       "| 4 | 145.0 | Non      |\n",
       "| 5 | 158.0 | Non      |\n",
       "| 6 | 192.0 | Warranty |\n",
       "\n"
      ],
      "text/plain": [
       "  Price Warranty\n",
       "1  57.1 Non     \n",
       "2 148.0 Warranty\n",
       "3 129.0 Warranty\n",
       "4 145.0 Non     \n",
       "5 158.0 Non     \n",
       "6 192.0 Warranty"
      ]
     },
     "metadata": {},
     "output_type": "display_data"
    }
   ],
   "source": [
    "check_w = c() \n",
    "for (i in df$Warranty) {\n",
    "    if (i == 0){\n",
    "        check_w <- c(check_w,'Non')\n",
    "    } else { \n",
    "        check_w <- c(check_w,'Warranty')\n",
    "    }\n",
    "}\n",
    "War_tab = data.frame(df$Sale_price,check_w)\n",
    "data.frame(table(check_w))\n",
    "names(War_tab) <- c('Price','Warranty')\n",
    "head(War_tab)"
   ]
  },
  {
   "cell_type": "code",
   "execution_count": 56,
   "id": "c63d3e57",
   "metadata": {},
   "outputs": [
    {
     "data": {
      "text/plain": [
       "\n",
       "\tKruskal-Wallis rank sum test\n",
       "\n",
       "data:  Warranty by Price\n",
       "Kruskal-Wallis chi-squared = 139.39, df = 135, p-value = 0.3803\n"
      ]
     },
     "metadata": {},
     "output_type": "display_data"
    }
   ],
   "source": [
    "kruskal.test(Warranty ~ Price, data = War_tab) "
   ]
  },
  {
   "cell_type": "markdown",
   "id": "7a68e6fd",
   "metadata": {},
   "source": [
    "pvalue > 0.05 \n",
    "\n",
    "Với mức ý nghĩa 0.05, có thể chấp nhận giả thuyết H0 rằng không có sự khác biệt giữa nhóm có bảo hành và nhóm không có bảo hành"
   ]
  },
  {
   "cell_type": "code",
   "execution_count": 57,
   "id": "611932dc",
   "metadata": {},
   "outputs": [
    {
     "data": {
      "image/png": "[encoded data removed]",
      "text/plain": [
       "plot without title"
      ]
     },
     "metadata": {
      "image/png": {
       "height": 420,
       "width": 420
      }
     },
     "output_type": "display_data"
    }
   ],
   "source": [
    "ggbetweenstats(\n",
    "  data = War_tab,\n",
    "  x = Warranty,\n",
    "  y = Price\n",
    ") + labs(\n",
    "    title = \"The distribution of data between two groups\"\n",
    "  ) +\n",
    "    theme(\n",
    "    # This is the new default font in the plot\n",
    "    text = element_text(size = 15, color = \"black\"),\n",
    "    plot.title = element_text(\n",
    "      #family = \"Tahoma\", \n",
    "      size = 20,\n",
    "      face = \"bold\",\n",
    "      color = \"#2a475e\"\n",
    "    ))"
   ]
  },
  {
   "cell_type": "markdown",
   "id": "2652503f",
   "metadata": {},
   "source": [
    "----\n",
    "**Phát biểu giả thuyết:**\n",
    "\n",
    "Kiểm tra xem có sự khác biệt về lượng sản phẩm bán ra giữa các sản phẩm có chính sách bảo hành và không có chinh sách bảo hành\n",
    "\n",
    "+ H0: Không có sự khác biệt về lượng sản phẩm bán ra giữa nhóm sản phẩm có chính sách bảo hành và nhóm sản phẩm không có chính sách bảo hành.\n",
    "+ H1:  Có sự khác biệt về lượng sản phẩm bán ra giữa nhóm sản phẩm có chính sách bảo hành và nhóm sản phẩm không có chính sách bảo hành."
   ]
  },
  {
   "cell_type": "code",
   "execution_count": 58,
   "id": "71f65c95",
   "metadata": {},
   "outputs": [
    {
     "data": {
      "text/html": [
       "<table class=\"dataframe\">\n",
       "<caption>A data.frame: 6 × 2</caption>\n",
       "<thead>\n",
       "\t<tr><th></th><th scope=col>Sold</th><th scope=col>Warranty</th></tr>\n",
       "\t<tr><th></th><th scope=col>&lt;int&gt;</th><th scope=col>&lt;chr&gt;</th></tr>\n",
       "</thead>\n",
       "<tbody>\n",
       "\t<tr><th scope=row>1</th><td> 364</td><td>Non     </td></tr>\n",
       "\t<tr><th scope=row>2</th><td>  85</td><td>Warranty</td></tr>\n",
       "\t<tr><th scope=row>3</th><td> 185</td><td>Warranty</td></tr>\n",
       "\t<tr><th scope=row>4</th><td>1000</td><td>Non     </td></tr>\n",
       "\t<tr><th scope=row>5</th><td>  55</td><td>Non     </td></tr>\n",
       "\t<tr><th scope=row>6</th><td>  39</td><td>Warranty</td></tr>\n",
       "</tbody>\n",
       "</table>\n"
      ],
      "text/latex": [
       "A data.frame: 6 × 2\n",
       "\\begin{tabular}{r|ll}\n",
       "  & Sold & Warranty\\\\\n",
       "  & <int> & <chr>\\\\\n",
       "\\hline\n",
       "\t1 &  364 & Non     \\\\\n",
       "\t2 &   85 & Warranty\\\\\n",
       "\t3 &  185 & Warranty\\\\\n",
       "\t4 & 1000 & Non     \\\\\n",
       "\t5 &   55 & Non     \\\\\n",
       "\t6 &   39 & Warranty\\\\\n",
       "\\end{tabular}\n"
      ],
      "text/markdown": [
       "\n",
       "A data.frame: 6 × 2\n",
       "\n",
       "| <!--/--> | Sold &lt;int&gt; | Warranty &lt;chr&gt; |\n",
       "|---|---|---|\n",
       "| 1 |  364 | Non      |\n",
       "| 2 |   85 | Warranty |\n",
       "| 3 |  185 | Warranty |\n",
       "| 4 | 1000 | Non      |\n",
       "| 5 |   55 | Non      |\n",
       "| 6 |   39 | Warranty |\n",
       "\n"
      ],
      "text/plain": [
       "  Sold Warranty\n",
       "1  364 Non     \n",
       "2   85 Warranty\n",
       "3  185 Warranty\n",
       "4 1000 Non     \n",
       "5   55 Non     \n",
       "6   39 Warranty"
      ]
     },
     "metadata": {},
     "output_type": "display_data"
    }
   ],
   "source": [
    "Sold_in_Wrt <- data.frame(df$Sold,check_w)s\n",
    "names(Sold_in_Wrt) <- c('Sold','Warranty')\n",
    "head(Sold_in_Wrt)"
   ]
  },
  {
   "cell_type": "code",
   "execution_count": 59,
   "id": "caa534d0",
   "metadata": {},
   "outputs": [
    {
     "data": {
      "text/plain": [
       "\n",
       "\tKruskal-Wallis rank sum test\n",
       "\n",
       "data:  Warranty by Sold\n",
       "Kruskal-Wallis chi-squared = 70.702, df = 68, p-value = 0.3875\n"
      ]
     },
     "metadata": {},
     "output_type": "display_data"
    }
   ],
   "source": [
    "kruskal.test(Warranty ~ Sold, data = Sold_in_Wrt) "
   ]
  },
  {
   "cell_type": "code",
   "execution_count": 60,
   "id": "09522f52",
   "metadata": {},
   "outputs": [
    {
     "data": {
      "image/png": "[encoded data removed]",
      "text/plain": [
       "plot without title"
      ]
     },
     "metadata": {
      "image/png": {
       "height": 420,
       "width": 420
      }
     },
     "output_type": "display_data"
    }
   ],
   "source": [
    "ggbetweenstats(\n",
    "  data = Sold_in_Wrt,\n",
    "  x = Warranty,\n",
    "  y = Sold\n",
    ") + labs(\n",
    "    title = \"The distribution of data between two groups\"\n",
    "  ) +\n",
    "    theme(\n",
    "    # This is the new default font in the plot\n",
    "    text = element_text(size = 15, color = \"black\"),\n",
    "    plot.title = element_text(\n",
    "      #family = \"Tahoma\", \n",
    "      size = 20,\n",
    "      face = \"bold\",\n",
    "      color = \"#2a475e\"\n",
    "    ))"
   ]
  }
 ],
 "metadata": {
  "kernelspec": {
   "display_name": "R",
   "language": "R",
   "name": "ir"
  },
  "language_info": {
   "codemirror_mode": "r",
   "file_extension": ".r",
   "mimetype": "text/x-r-source",
   "name": "R",
   "pygments_lexer": "r",
   "version": "4.1.2"
  }
 },
 "nbformat": 4,
 "nbformat_minor": 5
}
