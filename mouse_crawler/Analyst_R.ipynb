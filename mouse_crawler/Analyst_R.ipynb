{
 "cells": [
  {
   "cell_type": "code",
   "execution_count": 1,
   "id": "e72bd53d",
   "metadata": {},
   "outputs": [
    {
     "name": "stderr",
     "output_type": "stream",
     "text": [
      "-- \u001b[1mAttaching packages\u001b[22m --------------------------------------- tidyverse 1.3.1 --\n",
      "\n",
      "\u001b[32mv\u001b[39m \u001b[34mggplot2\u001b[39m 3.3.5     \u001b[32mv\u001b[39m \u001b[34mpurrr  \u001b[39m 0.3.4\n",
      "\u001b[32mv\u001b[39m \u001b[34mtibble \u001b[39m 3.1.6     \u001b[32mv\u001b[39m \u001b[34mdplyr  \u001b[39m 1.0.7\n",
      "\u001b[32mv\u001b[39m \u001b[34mtidyr  \u001b[39m 1.1.4     \u001b[32mv\u001b[39m \u001b[34mstringr\u001b[39m 1.4.0\n",
      "\u001b[32mv\u001b[39m \u001b[34mreadr  \u001b[39m 2.1.1     \u001b[32mv\u001b[39m \u001b[34mforcats\u001b[39m 0.5.1\n",
      "\n",
      "-- \u001b[1mConflicts\u001b[22m ------------------------------------------ tidyverse_conflicts() --\n",
      "\u001b[31mx\u001b[39m \u001b[34mdplyr\u001b[39m::\u001b[32mfilter()\u001b[39m masks \u001b[34mstats\u001b[39m::filter()\n",
      "\u001b[31mx\u001b[39m \u001b[34mdplyr\u001b[39m::\u001b[32mlag()\u001b[39m    masks \u001b[34mstats\u001b[39m::lag()\n",
      "\n",
      "Loading required package: lattice\n",
      "\n",
      "Loading required package: survival\n",
      "\n",
      "Loading required package: Formula\n",
      "\n",
      "\n",
      "Attaching package: 'Hmisc'\n",
      "\n",
      "\n",
      "The following objects are masked from 'package:dplyr':\n",
      "\n",
      "    src, summarize\n",
      "\n",
      "\n",
      "The following objects are masked from 'package:base':\n",
      "\n",
      "    format.pval, units\n",
      "\n",
      "\n",
      "------------------------------------------------------------------------------\n",
      "\n",
      "You have loaded plyr after dplyr - this is likely to cause problems.\n",
      "If you need functions from both plyr and dplyr, please load plyr first, then dplyr:\n",
      "library(plyr); library(dplyr)\n",
      "\n",
      "------------------------------------------------------------------------------\n",
      "\n",
      "\n",
      "Attaching package: 'plyr'\n",
      "\n",
      "\n",
      "The following objects are masked from 'package:Hmisc':\n",
      "\n",
      "    is.discrete, summarize\n",
      "\n",
      "\n",
      "The following objects are masked from 'package:dplyr':\n",
      "\n",
      "    arrange, count, desc, failwith, id, mutate, rename, summarise,\n",
      "    summarize\n",
      "\n",
      "\n",
      "The following object is masked from 'package:purrr':\n",
      "\n",
      "    compact\n",
      "\n",
      "\n"
     ]
    }
   ],
   "source": [
    "# packages\n",
    "#install.packages(\"ggcharts\")\n",
    "#install.packages(\"rhandsontable\")\n",
    "#install.packages(\"gridExtra\")\n",
    "#install.packages(\"Hmisc\")\n",
    "#install.packages(\"tidyverse\")\n",
    "#install.packages(\"plyr\")\n",
    "library(tidyverse)\n",
    "library(Hmisc)\n",
    "library(rhandsontable)\n",
    "library(readxl)\n",
    "library(plyr)\n",
    "# turn off warning\n",
    "options(warn=0)"
   ]
  },
  {
   "cell_type": "markdown",
   "id": "75c8b908",
   "metadata": {},
   "source": [
    "Tôi đã đưa file dữ liệu này lên github nên ở đây tôi sẽ đọc trực tiếp nó từ github, như vậy thì bất cứ ai khi tải source code này về đều có thể đọc ngay được mà không cần chỉnh sửa.\n",
    " "
   ]
  },
  {
   "cell_type": "code",
   "execution_count": 2,
   "id": "bcc6e62e",
   "metadata": {},
   "outputs": [],
   "source": [
    "url <-\"https://raw.githubusercontent.com/ThanhHung2112/PTDL_R/main/mouse_crawler/Ecommer_tiki(mouse).csv\"\n",
    "df <- read.csv('Ecommer_tiki(mouse).csv', header = TRUE, quote = \"\\\"\",  fill = TRUE, comment.char = \"\", encoding = \"UTF-8\")"
   ]
  },
  {
   "cell_type": "code",
   "execution_count": 3,
   "id": "b943c60d",
   "metadata": {},
   "outputs": [
    {
     "data": {
      "text/html": [
       "<table class=\"dataframe\">\n",
       "<caption>A data.frame: 6 × 19</caption>\n",
       "<thead>\n",
       "\t<tr><th></th><th scope=col>X</th><th scope=col>Name</th><th scope=col>Product_price</th><th scope=col>Discount</th><th scope=col>Sale_price</th><th scope=col>Shop</th><th scope=col>Brand</th><th scope=col>Warranty</th><th scope=col>Warranty_way</th><th scope=col>Warranty_place</th><th scope=col>Sold</th><th scope=col>Rate</th><th scope=col>Comment</th><th scope=col>X5</th><th scope=col>X4</th><th scope=col>X3</th><th scope=col>X2</th><th scope=col>X1</th><th scope=col>m_link</th></tr>\n",
       "\t<tr><th></th><th scope=col>&lt;int&gt;</th><th scope=col>&lt;chr&gt;</th><th scope=col>&lt;dbl&gt;</th><th scope=col>&lt;dbl&gt;</th><th scope=col>&lt;dbl&gt;</th><th scope=col>&lt;chr&gt;</th><th scope=col>&lt;chr&gt;</th><th scope=col>&lt;dbl&gt;</th><th scope=col>&lt;chr&gt;</th><th scope=col>&lt;chr&gt;</th><th scope=col>&lt;dbl&gt;</th><th scope=col>&lt;dbl&gt;</th><th scope=col>&lt;dbl&gt;</th><th scope=col>&lt;int&gt;</th><th scope=col>&lt;int&gt;</th><th scope=col>&lt;int&gt;</th><th scope=col>&lt;int&gt;</th><th scope=col>&lt;int&gt;</th><th scope=col>&lt;chr&gt;</th></tr>\n",
       "</thead>\n",
       "<tbody>\n",
       "\t<tr><th scope=row>1</th><td>0</td><td><span style=white-space:pre-wrap>Chu&lt;U+1ED9&gt;t máy vi tính Bosston D608 led - Hàng Chính Hãng                                                                                                      </span></td><td> 60</td><td>0.05</td><td> 57.1</td><td><span style=white-space:pre-wrap>                   </span></td><td>Bossto</td><td> 0</td><td><span style=white-space:pre-wrap>0                  </span></td><td><span style=white-space:pre-wrap>0                                                     </span></td><td> 364</td><td>4.7</td><td> 93</td><td> 78</td><td> 8</td><td>5</td><td>0</td><td>2</td><td><span style=white-space:pre-wrap>https://tiki.vn/chuot-may-vi-tinh-bosston-d608-led-hang-chinh-hang-p9355345.html?spid=56764717                                            </span></td></tr>\n",
       "\t<tr><th scope=row>2</th><td>1</td><td><span style=white-space:pre-wrap>Chu&lt;U+1ED9&gt;t máy tính có dây EDRA EM602 Ð&lt;U+1ED9&gt; Phân Gi&lt;U+1EA3&gt;i 1200 DPI, choi game, cho Laptop hàng chính hãng                                               </span></td><td>148</td><td>0.00</td><td>148.0</td><td>Extreme Zero Online</td><td>E-DRA </td><td>24</td><td>Tem b&lt;U+1EA3&gt;o hành</td><td><span style=white-space:pre-wrap>B&lt;U+1EA3&gt;o hành chính hãng                            </span></td><td><span style=white-space:pre-wrap>  85</span></td><td>4.9</td><td> 24</td><td> 22</td><td> 2</td><td>0</td><td>0</td><td>0</td><td><span style=white-space:pre-wrap>https://tiki.vn/chuot-may-tinh-co-day-edra-em602-do-phan-giai-1200-dpi-choi-game-cho-laptop-hang-chinh-hang-p74463237.html?spid=90107321  </span></td></tr>\n",
       "\t<tr><th scope=row>3</th><td>2</td><td><span style=white-space:pre-wrap>Chu&lt;U+1ED9&gt;t máy tính có dây G5 ES, chu&lt;U+1ED9&gt;t gaming DPI 4 c&lt;U+1EA5&gt;p d&lt;U+1ED9&gt;, hi&lt;U+1EC7&gt;u &lt;U+1EE9&gt;ng dèn n&lt;U+1EC1&gt;n 7 màu- Hàng nh&lt;U+1EAD&gt;p kh&lt;U+1EA9&gt;u    </span></td><td>129</td><td>0.00</td><td>129.0</td><td>HOÀNG NHÂN COMPUTER</td><td>Zealot</td><td> 3</td><td>Tem b&lt;U+1EA3&gt;o hành</td><td>B&lt;U+1EA3&gt;o hành b&lt;U+1EDF&gt;i nhà bán hàng thông qua Tiki</td><td> 185</td><td>4.7</td><td> 64</td><td> 53</td><td> 7</td><td>0</td><td>1</td><td>3</td><td><span style=white-space:pre-wrap>https://tiki.vn/chuot-may-tinh-co-day-g5-es-chuot-gaming-dpi-4-cap-do-hieu-ung-den-nen-7-mau-hang-nhap-khau-p75614175.html?spid=91088172  </span></td></tr>\n",
       "\t<tr><th scope=row>4</th><td>3</td><td><span style=white-space:pre-wrap>Chu&lt;U+1ED9&gt;t máy tính Newmen G10 - Hàng Chính Hãng                                                                                                               </span></td><td>145</td><td>0.00</td><td>145.0</td><td><span style=white-space:pre-wrap>Vi Tính Lê Huy     </span></td><td>Newme </td><td> 0</td><td><span style=white-space:pre-wrap>0                  </span></td><td><span style=white-space:pre-wrap>0                                                     </span></td><td>1000</td><td>4.7</td><td>135</td><td>106</td><td>20</td><td>6</td><td>0</td><td>3</td><td><span style=white-space:pre-wrap>https://tiki.vn/chuot-may-tinh-newmen-g10-hang-chinh-hang-p7975728.html?spid=7975732                                                      </span></td></tr>\n",
       "\t<tr><th scope=row>5</th><td>4</td><td><span style=white-space:pre-wrap>Chu&lt;U+1ED9&gt;t máy tính van phòng T&lt;U+1EB7&gt;ng lót chu&lt;U+1ED9&gt;t cao c&lt;U+1EA5&gt;p                                                                                      </span></td><td>158</td><td>0.00</td><td>158.0</td><td><span style=white-space:pre-wrap>VLC6 Store         </span></td><td><span style=white-space:pre-wrap>OEM   </span></td><td> 0</td><td><span style=white-space:pre-wrap>0                  </span></td><td><span style=white-space:pre-wrap>0                                                     </span></td><td><span style=white-space:pre-wrap>  55</span></td><td>5.0</td><td><span style=white-space:pre-wrap>  9</span></td><td><span style=white-space:pre-wrap>  9</span></td><td> 0</td><td>0</td><td>0</td><td>0</td><td><span style=white-space:pre-wrap>https://tiki.vn/chuot-may-tinh-van-phong-tang-lot-chuot-cao-cap-p86900816.html?spid=120777689                                             </span></td></tr>\n",
       "\t<tr><th scope=row>6</th><td>5</td><td>Chu&lt;U+1ED9&gt;t van phòng có dây, chu&lt;U+1ED9&gt;t Game HXSJ A885 DPI 5500, RGB d&lt;U+1ED5&gt;i 7 màu liên t&lt;U+1EE5&gt;c, chuyên dùng cho laptop, máy tính, pc - Hàng chính hãng</td><td>299</td><td>0.36</td><td>192.0</td><td>HXSJ Official Store</td><td><span style=white-space:pre-wrap>HXSJ  </span></td><td> 6</td><td><span style=white-space:pre-wrap>Hóa don            </span></td><td>B&lt;U+1EA3&gt;o hành b&lt;U+1EDF&gt;i nhà bán hàng thông qua Tiki</td><td><span style=white-space:pre-wrap>  39</span></td><td>5.0</td><td> 13</td><td> 13</td><td> 0</td><td>0</td><td>0</td><td>0</td><td>https://tiki.vn/chuot-van-phong-co-day-chuot-game-hxsj-a885-dpi-5500-rgb-doi-7-mau-lien-tuc-hang-chinh-hang-p121169235.html?spid=121169237</td></tr>\n",
       "</tbody>\n",
       "</table>\n"
      ],
      "text/latex": [
       "A data.frame: 6 × 19\n",
       "\\begin{tabular}{r|lllllllllllllllllll}\n",
       "  & X & Name & Product\\_price & Discount & Sale\\_price & Shop & Brand & Warranty & Warranty\\_way & Warranty\\_place & Sold & Rate & Comment & X5 & X4 & X3 & X2 & X1 & m\\_link\\\\\n",
       "  & <int> & <chr> & <dbl> & <dbl> & <dbl> & <chr> & <chr> & <dbl> & <chr> & <chr> & <dbl> & <dbl> & <dbl> & <int> & <int> & <int> & <int> & <int> & <chr>\\\\\n",
       "\\hline\n",
       "\t1 & 0 & Chu<U+1ED9>t máy vi tính Bosston D608 led - Hàng Chính Hãng                                                                                                       &  60 & 0.05 &  57.1 &                     & Bossto &  0 & 0                   & 0                                                      &  364 & 4.7 &  93 &  78 &  8 & 5 & 0 & 2 & https://tiki.vn/chuot-may-vi-tinh-bosston-d608-led-hang-chinh-hang-p9355345.html?spid=56764717                                            \\\\\n",
       "\t2 & 1 & Chu<U+1ED9>t máy tính có dây EDRA EM602 Ð<U+1ED9> Phân Gi<U+1EA3>i 1200 DPI, choi game, cho Laptop hàng chính hãng                                                & 148 & 0.00 & 148.0 & Extreme Zero Online & E-DRA  & 24 & Tem b<U+1EA3>o hành & B<U+1EA3>o hành chính hãng                             &   85 & 4.9 &  24 &  22 &  2 & 0 & 0 & 0 & https://tiki.vn/chuot-may-tinh-co-day-edra-em602-do-phan-giai-1200-dpi-choi-game-cho-laptop-hang-chinh-hang-p74463237.html?spid=90107321  \\\\\n",
       "\t3 & 2 & Chu<U+1ED9>t máy tính có dây G5 ES, chu<U+1ED9>t gaming DPI 4 c<U+1EA5>p d<U+1ED9>, hi<U+1EC7>u <U+1EE9>ng dèn n<U+1EC1>n 7 màu- Hàng nh<U+1EAD>p kh<U+1EA9>u     & 129 & 0.00 & 129.0 & HOÀNG NHÂN COMPUTER & Zealot &  3 & Tem b<U+1EA3>o hành & B<U+1EA3>o hành b<U+1EDF>i nhà bán hàng thông qua Tiki &  185 & 4.7 &  64 &  53 &  7 & 0 & 1 & 3 & https://tiki.vn/chuot-may-tinh-co-day-g5-es-chuot-gaming-dpi-4-cap-do-hieu-ung-den-nen-7-mau-hang-nhap-khau-p75614175.html?spid=91088172  \\\\\n",
       "\t4 & 3 & Chu<U+1ED9>t máy tính Newmen G10 - Hàng Chính Hãng                                                                                                                & 145 & 0.00 & 145.0 & Vi Tính Lê Huy      & Newme  &  0 & 0                   & 0                                                      & 1000 & 4.7 & 135 & 106 & 20 & 6 & 0 & 3 & https://tiki.vn/chuot-may-tinh-newmen-g10-hang-chinh-hang-p7975728.html?spid=7975732                                                      \\\\\n",
       "\t5 & 4 & Chu<U+1ED9>t máy tính van phòng T<U+1EB7>ng lót chu<U+1ED9>t cao c<U+1EA5>p                                                                                       & 158 & 0.00 & 158.0 & VLC6 Store          & OEM    &  0 & 0                   & 0                                                      &   55 & 5.0 &   9 &   9 &  0 & 0 & 0 & 0 & https://tiki.vn/chuot-may-tinh-van-phong-tang-lot-chuot-cao-cap-p86900816.html?spid=120777689                                             \\\\\n",
       "\t6 & 5 & Chu<U+1ED9>t van phòng có dây, chu<U+1ED9>t Game HXSJ A885 DPI 5500, RGB d<U+1ED5>i 7 màu liên t<U+1EE5>c, chuyên dùng cho laptop, máy tính, pc - Hàng chính hãng & 299 & 0.36 & 192.0 & HXSJ Official Store & HXSJ   &  6 & Hóa don             & B<U+1EA3>o hành b<U+1EDF>i nhà bán hàng thông qua Tiki &   39 & 5.0 &  13 &  13 &  0 & 0 & 0 & 0 & https://tiki.vn/chuot-van-phong-co-day-chuot-game-hxsj-a885-dpi-5500-rgb-doi-7-mau-lien-tuc-hang-chinh-hang-p121169235.html?spid=121169237\\\\\n",
       "\\end{tabular}\n"
      ],
      "text/markdown": [
       "\n",
       "A data.frame: 6 × 19\n",
       "\n",
       "| <!--/--> | X &lt;int&gt; | Name &lt;chr&gt; | Product_price &lt;dbl&gt; | Discount &lt;dbl&gt; | Sale_price &lt;dbl&gt; | Shop &lt;chr&gt; | Brand &lt;chr&gt; | Warranty &lt;dbl&gt; | Warranty_way &lt;chr&gt; | Warranty_place &lt;chr&gt; | Sold &lt;dbl&gt; | Rate &lt;dbl&gt; | Comment &lt;dbl&gt; | X5 &lt;int&gt; | X4 &lt;int&gt; | X3 &lt;int&gt; | X2 &lt;int&gt; | X1 &lt;int&gt; | m_link &lt;chr&gt; |\n",
       "|---|---|---|---|---|---|---|---|---|---|---|---|---|---|---|---|---|---|---|---|\n",
       "| 1 | 0 | Chu&lt;U+1ED9&gt;t máy vi tính Bosston D608 led - Hàng Chính Hãng                                                                                                       |  60 | 0.05 |  57.1 | <!----> | Bossto |  0 | 0                   | 0                                                      |  364 | 4.7 |  93 |  78 |  8 | 5 | 0 | 2 | https://tiki.vn/chuot-may-vi-tinh-bosston-d608-led-hang-chinh-hang-p9355345.html?spid=56764717                                             |\n",
       "| 2 | 1 | Chu&lt;U+1ED9&gt;t máy tính có dây EDRA EM602 Ð&lt;U+1ED9&gt; Phân Gi&lt;U+1EA3&gt;i 1200 DPI, choi game, cho Laptop hàng chính hãng                                                | 148 | 0.00 | 148.0 | Extreme Zero Online | E-DRA  | 24 | Tem b&lt;U+1EA3&gt;o hành | B&lt;U+1EA3&gt;o hành chính hãng                             |   85 | 4.9 |  24 |  22 |  2 | 0 | 0 | 0 | https://tiki.vn/chuot-may-tinh-co-day-edra-em602-do-phan-giai-1200-dpi-choi-game-cho-laptop-hang-chinh-hang-p74463237.html?spid=90107321   |\n",
       "| 3 | 2 | Chu&lt;U+1ED9&gt;t máy tính có dây G5 ES, chu&lt;U+1ED9&gt;t gaming DPI 4 c&lt;U+1EA5&gt;p d&lt;U+1ED9&gt;, hi&lt;U+1EC7&gt;u &lt;U+1EE9&gt;ng dèn n&lt;U+1EC1&gt;n 7 màu- Hàng nh&lt;U+1EAD&gt;p kh&lt;U+1EA9&gt;u     | 129 | 0.00 | 129.0 | HOÀNG NHÂN COMPUTER | Zealot |  3 | Tem b&lt;U+1EA3&gt;o hành | B&lt;U+1EA3&gt;o hành b&lt;U+1EDF&gt;i nhà bán hàng thông qua Tiki |  185 | 4.7 |  64 |  53 |  7 | 0 | 1 | 3 | https://tiki.vn/chuot-may-tinh-co-day-g5-es-chuot-gaming-dpi-4-cap-do-hieu-ung-den-nen-7-mau-hang-nhap-khau-p75614175.html?spid=91088172   |\n",
       "| 4 | 3 | Chu&lt;U+1ED9&gt;t máy tính Newmen G10 - Hàng Chính Hãng                                                                                                                | 145 | 0.00 | 145.0 | Vi Tính Lê Huy      | Newme  |  0 | 0                   | 0                                                      | 1000 | 4.7 | 135 | 106 | 20 | 6 | 0 | 3 | https://tiki.vn/chuot-may-tinh-newmen-g10-hang-chinh-hang-p7975728.html?spid=7975732                                                       |\n",
       "| 5 | 4 | Chu&lt;U+1ED9&gt;t máy tính van phòng T&lt;U+1EB7&gt;ng lót chu&lt;U+1ED9&gt;t cao c&lt;U+1EA5&gt;p                                                                                       | 158 | 0.00 | 158.0 | VLC6 Store          | OEM    |  0 | 0                   | 0                                                      |   55 | 5.0 |   9 |   9 |  0 | 0 | 0 | 0 | https://tiki.vn/chuot-may-tinh-van-phong-tang-lot-chuot-cao-cap-p86900816.html?spid=120777689                                              |\n",
       "| 6 | 5 | Chu&lt;U+1ED9&gt;t van phòng có dây, chu&lt;U+1ED9&gt;t Game HXSJ A885 DPI 5500, RGB d&lt;U+1ED5&gt;i 7 màu liên t&lt;U+1EE5&gt;c, chuyên dùng cho laptop, máy tính, pc - Hàng chính hãng | 299 | 0.36 | 192.0 | HXSJ Official Store | HXSJ   |  6 | Hóa don             | B&lt;U+1EA3&gt;o hành b&lt;U+1EDF&gt;i nhà bán hàng thông qua Tiki |   39 | 5.0 |  13 |  13 |  0 | 0 | 0 | 0 | https://tiki.vn/chuot-van-phong-co-day-chuot-game-hxsj-a885-dpi-5500-rgb-doi-7-mau-lien-tuc-hang-chinh-hang-p121169235.html?spid=121169237 |\n",
       "\n"
      ],
      "text/plain": [
       "  X\n",
       "1 0\n",
       "2 1\n",
       "3 2\n",
       "4 3\n",
       "5 4\n",
       "6 5\n",
       "  Name                                                                                                                                                             \n",
       "1 Chu<U+1ED9>t máy vi tính Bosston D608 led - Hàng Chính Hãng                                                                                                      \n",
       "2 Chu<U+1ED9>t máy tính có dây EDRA EM602 Ð<U+1ED9> Phân Gi<U+1EA3>i 1200 DPI, choi game, cho Laptop hàng chính hãng                                               \n",
       "3 Chu<U+1ED9>t máy tính có dây G5 ES, chu<U+1ED9>t gaming DPI 4 c<U+1EA5>p d<U+1ED9>, hi<U+1EC7>u <U+1EE9>ng dèn n<U+1EC1>n 7 màu- Hàng nh<U+1EAD>p kh<U+1EA9>u    \n",
       "4 Chu<U+1ED9>t máy tính Newmen G10 - Hàng Chính Hãng                                                                                                               \n",
       "5 Chu<U+1ED9>t máy tính van phòng T<U+1EB7>ng lót chu<U+1ED9>t cao c<U+1EA5>p                                                                                      \n",
       "6 Chu<U+1ED9>t van phòng có dây, chu<U+1ED9>t Game HXSJ A885 DPI 5500, RGB d<U+1ED5>i 7 màu liên t<U+1EE5>c, chuyên dùng cho laptop, máy tính, pc - Hàng chính hãng\n",
       "  Product_price Discount Sale_price Shop                Brand  Warranty\n",
       "1  60           0.05      57.1                          Bossto  0      \n",
       "2 148           0.00     148.0      Extreme Zero Online E-DRA  24      \n",
       "3 129           0.00     129.0      HOÀNG NHÂN COMPUTER Zealot  3      \n",
       "4 145           0.00     145.0      Vi Tính Lê Huy      Newme   0      \n",
       "5 158           0.00     158.0      VLC6 Store          OEM     0      \n",
       "6 299           0.36     192.0      HXSJ Official Store HXSJ    6      \n",
       "  Warranty_way        Warranty_place                                        \n",
       "1 0                   0                                                     \n",
       "2 Tem b<U+1EA3>o hành B<U+1EA3>o hành chính hãng                            \n",
       "3 Tem b<U+1EA3>o hành B<U+1EA3>o hành b<U+1EDF>i nhà bán hàng thông qua Tiki\n",
       "4 0                   0                                                     \n",
       "5 0                   0                                                     \n",
       "6 Hóa don             B<U+1EA3>o hành b<U+1EDF>i nhà bán hàng thông qua Tiki\n",
       "  Sold Rate Comment X5  X4 X3 X2 X1\n",
       "1  364 4.7   93      78  8 5  0  2 \n",
       "2   85 4.9   24      22  2 0  0  0 \n",
       "3  185 4.7   64      53  7 0  1  3 \n",
       "4 1000 4.7  135     106 20 6  0  3 \n",
       "5   55 5.0    9       9  0 0  0  0 \n",
       "6   39 5.0   13      13  0 0  0  0 \n",
       "  m_link                                                                                                                                    \n",
       "1 https://tiki.vn/chuot-may-vi-tinh-bosston-d608-led-hang-chinh-hang-p9355345.html?spid=56764717                                            \n",
       "2 https://tiki.vn/chuot-may-tinh-co-day-edra-em602-do-phan-giai-1200-dpi-choi-game-cho-laptop-hang-chinh-hang-p74463237.html?spid=90107321  \n",
       "3 https://tiki.vn/chuot-may-tinh-co-day-g5-es-chuot-gaming-dpi-4-cap-do-hieu-ung-den-nen-7-mau-hang-nhap-khau-p75614175.html?spid=91088172  \n",
       "4 https://tiki.vn/chuot-may-tinh-newmen-g10-hang-chinh-hang-p7975728.html?spid=7975732                                                      \n",
       "5 https://tiki.vn/chuot-may-tinh-van-phong-tang-lot-chuot-cao-cap-p86900816.html?spid=120777689                                             \n",
       "6 https://tiki.vn/chuot-van-phong-co-day-chuot-game-hxsj-a885-dpi-5500-rgb-doi-7-mau-lien-tuc-hang-chinh-hang-p121169235.html?spid=121169237"
      ]
     },
     "metadata": {},
     "output_type": "display_data"
    }
   ],
   "source": [
    "head(df)"
   ]
  },
  {
   "cell_type": "markdown",
   "id": "2454ef65",
   "metadata": {},
   "source": [
    "# Data Information( Thông số dữ liệu)\n",
    "\n",
    "Sau khi mở file dữ liệu chúng ta sử dụng một số hàm để kiểm tra dữ liệu và xác định tính chất của dữ liệu\n",
    "\n",
    "Các hàm sau đây sẽ cho chúng ta thông tin về việc:\n",
    " + Missing data( thiếu dữ liệu)\n",
    " + Số cột, dòng\n",
    " + Thuộc tính dữ liệu( số, ký tự)\n",
    "\n",
    "Từ đó, ta có thể dễ dàng xác định các biến định tính và định lượng"
   ]
  },
  {
   "cell_type": "code",
   "execution_count": 4,
   "id": "cef02656",
   "metadata": {},
   "outputs": [
    {
     "name": "stdout",
     "output_type": "stream",
     "text": [
      "'data.frame':\t253 obs. of  19 variables:\n",
      " $ X             : int  0 1 2 3 4 5 6 7 8 9 ...\n",
      " $ Name          : chr  \"Chu<U+1ED9>t máy vi tính Bosston D608 led - Hàng Chính Hãng\" \"Chu<U+1ED9>t máy tính có dây EDRA EM602 Ð<U+1ED9> Phân Gi<U+1EA3>i 1200 DPI, choi game, cho Laptop hàng chính hãng\" \"Chu<U+1ED9>t máy tính có dây G5 ES, chu<U+1ED9>t gaming DPI 4 c<U+1EA5>p d<U+1ED9>, hi<U+1EC7>u <U+1EE9>ng dèn \"| __truncated__ \"Chu<U+1ED9>t máy tính Newmen G10 - Hàng Chính Hãng\" ...\n",
      " $ Product_price : num  60 148 129 145 158 ...\n",
      " $ Discount      : num  0.05 0 0 0 0 0.36 0 0.26 0 0 ...\n",
      " $ Sale_price    : num  57.1 148 129 145 158 ...\n",
      " $ Shop          : chr  \"\" \"Extreme Zero Online\" \"HOÀNG NHÂN COMPUTER\" \"Vi Tính Lê Huy\" ...\n",
      " $ Brand         : chr  \"Bossto\" \"E-DRA\" \"Zealot\" \"Newme\" ...\n",
      " $ Warranty      : num  0 24 3 0 0 6 1 12 0 3 ...\n",
      " $ Warranty_way  : chr  \"0\" \"Tem b<U+1EA3>o hành\" \"Tem b<U+1EA3>o hành\" \"0\" ...\n",
      " $ Warranty_place: chr  \"0\" \"B<U+1EA3>o hành chính hãng\" \"B<U+1EA3>o hành b<U+1EDF>i nhà bán hàng thông qua Tiki\" \"0\" ...\n",
      " $ Sold          : num  364 85 185 1000 55 39 204 15 111 35 ...\n",
      " $ Rate          : num  4.7 4.9 4.7 4.7 5 5 4.5 5 4.7 4.4 ...\n",
      " $ Comment       : num  93 24 64 135 9 13 79 4 29 11 ...\n",
      " $ X5            : int  78 22 53 106 9 13 51 4 22 7 ...\n",
      " $ X4            : int  8 2 7 20 0 0 18 0 5 3 ...\n",
      " $ X3            : int  5 0 0 6 0 0 8 0 1 0 ...\n",
      " $ X2            : int  0 0 1 0 0 0 1 0 1 0 ...\n",
      " $ X1            : int  2 0 3 3 0 0 1 0 0 1 ...\n",
      " $ m_link        : chr  \"https://tiki.vn/chuot-may-vi-tinh-bosston-d608-led-hang-chinh-hang-p9355345.html?spid=56764717\" \"https://tiki.vn/chuot-may-tinh-co-day-edra-em602-do-phan-giai-1200-dpi-choi-game-cho-laptop-hang-chinh-hang-p74\"| __truncated__ \"https://tiki.vn/chuot-may-tinh-co-day-g5-es-chuot-gaming-dpi-4-cap-do-hieu-ung-den-nen-7-mau-hang-nhap-khau-p75\"| __truncated__ \"https://tiki.vn/chuot-may-tinh-newmen-g10-hang-chinh-hang-p7975728.html?spid=7975732\" ...\n"
     ]
    }
   ],
   "source": [
    "# shows the structure of the data frame\n",
    "str(df)"
   ]
  },
  {
   "cell_type": "code",
   "execution_count": 5,
   "id": "ece2acc7",
   "metadata": {},
   "outputs": [],
   "source": [
    "#describe(df)\n"
   ]
  },
  {
   "cell_type": "markdown",
   "id": "d26f3582",
   "metadata": {},
   "source": [
    "Sau khi kiếm tra thông số dữ liệu ta thấy răng không có dữ liệu bị thiếu hụt trong data frame. Bây giờ, tôi sẽ tạo thêm 3 cột thể hiện tính chất của dữ liệu để ta có thể hiểu hơn\n",
    "\n",
    "+ Định giá : gồm 3 phân loại: low price, good price, hight price( Giá cao, Giá tốt, Giá thấp) thể hiện tính chất của giá bán\n",
    "+ Thanh khoản : gồm 3 phân loại( Bán chạy, Bán được, Bán chậm) thể hiện xu thế của chuột máy tính trên thị trường\n",
    "+ Chất lượng : gồm 3 phân loại( Tốt, Ổn định, Kém, Chưa thể phân loại) thể hiện chất lượng của sản phẩm dựa trên lượt đánh giá \n",
    "\n",
    "\n"
   ]
  },
  {
   "cell_type": "markdown",
   "id": "ac2f59fa",
   "metadata": {},
   "source": [
    "Với Valuation(Định giá) dựa trên thông tin ở mục Data information ta chia ra làm 3 mức \n",
    "+ Dưới 100k: Low price( Giá thấp)\n",
    "+ Từ 100 --> 400k : Good price (Giá tốt)\n",
    "+ Trên 400k : High price( Giá cao)"
   ]
  },
  {
   "cell_type": "code",
   "execution_count": 6,
   "id": "30744de9",
   "metadata": {},
   "outputs": [],
   "source": [
    "Valuation <- list()\n",
    "for (i in df[,c('Sale_price')]) {\n",
    "    if (i < 100){\n",
    "        Valuation <- c(Valuation,'low price')\n",
    "    } else if (i < 400) {\n",
    "        Valuation <- c(Valuation,'good price')  \n",
    "    } else {\n",
    "        Valuation <- c(Valuation,'high price')\n",
    "    }\n",
    "}"
   ]
  },
  {
   "cell_type": "markdown",
   "id": "8985d067",
   "metadata": {},
   "source": [
    "Tương tự với Liquidity(Thanh khoản) ta cũng dựa vào Data Information và chia làm 3 mức:\n",
    "+ Slow(chậm) : Số lượng sản phẩm bán ra < 50\n",
    "+ Good(tốt) : Số lượng sản phẩm bán ra từ 50 - 300\n",
    "+ Fast(nhanh) : Số lượng sản phẩm bán ra từ 300\n"
   ]
  },
  {
   "cell_type": "code",
   "execution_count": 7,
   "id": "f518a75a",
   "metadata": {},
   "outputs": [],
   "source": [
    "Liquidity <- list()\n",
    "for (i in df[,c('Sold')]) {\n",
    "    if (i < 50){\n",
    "        Liquidity <- c(Liquidity,'Slow')\n",
    "    } else if (i < 300) {\n",
    "        Liquidity <- c(Liquidity,'Good')  \n",
    "    } else {\n",
    "        Liquidity <- c(Liquidity,'Fast')\n",
    "    }\n",
    "}"
   ]
  },
  {
   "cell_type": "markdown",
   "id": "2640cf3e",
   "metadata": {},
   "source": [
    "Cuối cùng là cột Quality(Chất lượng) dựa trên đánh giá của người tiêu dùng.\n",
    "\n",
    "Với những sản phẩm chưa có đánh giá thì ta chưa thể xác định rõ chất lượng nên sẽ thuộc loại \"Unknow\" (Chưa xác định)\n",
    "Với những sản phẩm có lượt đânhs giá từ dười 15 thì:\n",
    "+ Điểm đánh giá trên 4.7 : Chất lượng tốt\n",
    "+ Điểm đánh giá dưới 4.7 : Chất lượng thấp\n",
    "\n",
    "Sở  dĩ như vậy là bởi với 20 sản phẩm thì ta không thể cho rẳng sản phẩm có chất lượng cao được, ngoài ra chỉ với 20 sản phẩm mà điểm đánh giá nhỏ hơn 4.7 tức là có những lượt đánh giá 1,2,3 khá nhiều.\n",
    "Với 20 lượt bán mà có lượt đánh giá 1,2,3 khá nhiều thì đây không thể là sản phẩm tốt được \n",
    "\n",
    "Cuối cùng, khi lượt đánh giá nhiều hơn thì cũng dễ phân loại hơn hẵn, ở đây tôi cũng sẽ phân làm 3 loại:\n",
    "+ Điểm đánh giá trên 4.7 : High quality (Chất lượng cao)\n",
    "+ Điểm đánh giá từ 4.4 - 4.6 : Good quality (Chất lượng tốt)\n",
    "+ Điểm đánh giá dưới 4.4 : Low qualiy (Chất lượng thấp)"
   ]
  },
  {
   "cell_type": "code",
   "execution_count": 8,
   "id": "2113f0cd",
   "metadata": {},
   "outputs": [],
   "source": [
    "Quality <- list()\n",
    "n = 1\n",
    "for (i in df[,c('Comment')]) {\n",
    "\n",
    "    rate <- df[,c('Rate')][n]\n",
    "    \n",
    "    if (i == 0){\n",
    "        Quality <- c(Quality,'Unknown')\n",
    "    } else if (i < 20){\n",
    "        if (rate > 4.7){\n",
    "            Quality <- c(Quality,'Good quality')\n",
    "        } else {\n",
    "            Quality <- c(Quality,'Low quality')\n",
    "        }\n",
    "    } else {\n",
    "        if (rate > 4.7){\n",
    "            Quality <- c(Quality,'High quality')\n",
    "        } else if (rate >= 4.4){\n",
    "            Quality <- c(Quality,'Good quality')\n",
    "        } else {\n",
    "            Quality <- c(Quality,'Low quality')\n",
    "        }\n",
    "    }\n",
    "    n <- n+1\n",
    "}"
   ]
  },
  {
   "cell_type": "code",
   "execution_count": 9,
   "id": "ec554d5f",
   "metadata": {},
   "outputs": [],
   "source": [
    "df <- df %>%\n",
    "  add_column(Valuation = as.character(Valuation),\n",
    "             .after = \"Sale_price\")\n",
    "df <- df %>%\n",
    "  add_column(Liquidity = as.character(Liquidity),\n",
    "             .after = \"Sold\")\n",
    "df <- df %>%\n",
    "  add_column(Quality = as.character(Quality),\n",
    "             .after  = 'Warranty_place')"
   ]
  },
  {
   "cell_type": "code",
   "execution_count": 10,
   "id": "727396c2",
   "metadata": {},
   "outputs": [
    {
     "data": {
      "text/html": [
       "<table class=\"dataframe\">\n",
       "<caption>A data.frame: 10 × 22</caption>\n",
       "<thead>\n",
       "\t<tr><th></th><th scope=col>X</th><th scope=col>Name</th><th scope=col>Product_price</th><th scope=col>Discount</th><th scope=col>Sale_price</th><th scope=col>Valuation</th><th scope=col>Shop</th><th scope=col>Brand</th><th scope=col>Warranty</th><th scope=col>Warranty_way</th><th scope=col>...</th><th scope=col>Sold</th><th scope=col>Liquidity</th><th scope=col>Rate</th><th scope=col>Comment</th><th scope=col>X5</th><th scope=col>X4</th><th scope=col>X3</th><th scope=col>X2</th><th scope=col>X1</th><th scope=col>m_link</th></tr>\n",
       "\t<tr><th></th><th scope=col>&lt;int&gt;</th><th scope=col>&lt;chr&gt;</th><th scope=col>&lt;dbl&gt;</th><th scope=col>&lt;dbl&gt;</th><th scope=col>&lt;dbl&gt;</th><th scope=col>&lt;chr&gt;</th><th scope=col>&lt;chr&gt;</th><th scope=col>&lt;chr&gt;</th><th scope=col>&lt;dbl&gt;</th><th scope=col>&lt;chr&gt;</th><th scope=col>...</th><th scope=col>&lt;dbl&gt;</th><th scope=col>&lt;chr&gt;</th><th scope=col>&lt;dbl&gt;</th><th scope=col>&lt;dbl&gt;</th><th scope=col>&lt;int&gt;</th><th scope=col>&lt;int&gt;</th><th scope=col>&lt;int&gt;</th><th scope=col>&lt;int&gt;</th><th scope=col>&lt;int&gt;</th><th scope=col>&lt;chr&gt;</th></tr>\n",
       "</thead>\n",
       "<tbody>\n",
       "\t<tr><th scope=row>1</th><td>0</td><td><span style=white-space:pre-wrap>Chu&lt;U+1ED9&gt;t máy vi tính Bosston D608 led - Hàng Chính Hãng                                                                                                      </span></td><td> 60.00</td><td>0.05</td><td> 57.10</td><td>low price </td><td><span style=white-space:pre-wrap>                            </span></td><td><span style=white-space:pre-wrap>Bossto    </span></td><td> 0</td><td><span style=white-space:pre-wrap>0                           </span></td><td>...</td><td> 364</td><td>Fast</td><td>4.7</td><td> 93</td><td> 78</td><td> 8</td><td>5</td><td>0</td><td>2</td><td><span style=white-space:pre-wrap>https://tiki.vn/chuot-may-vi-tinh-bosston-d608-led-hang-chinh-hang-p9355345.html?spid=56764717                                               </span></td></tr>\n",
       "\t<tr><th scope=row>2</th><td>1</td><td><span style=white-space:pre-wrap>Chu&lt;U+1ED9&gt;t máy tính có dây EDRA EM602 Ð&lt;U+1ED9&gt; Phân Gi&lt;U+1EA3&gt;i 1200 DPI, choi game, cho Laptop hàng chính hãng                                               </span></td><td>148.00</td><td>0.00</td><td>148.00</td><td>good price</td><td><span style=white-space:pre-wrap>Extreme Zero Online         </span></td><td><span style=white-space:pre-wrap>E-DRA     </span></td><td>24</td><td><span style=white-space:pre-wrap>Tem b&lt;U+1EA3&gt;o hành         </span></td><td>...</td><td><span style=white-space:pre-wrap>  85</span></td><td>Good</td><td>4.9</td><td> 24</td><td> 22</td><td> 2</td><td>0</td><td>0</td><td>0</td><td><span style=white-space:pre-wrap>https://tiki.vn/chuot-may-tinh-co-day-edra-em602-do-phan-giai-1200-dpi-choi-game-cho-laptop-hang-chinh-hang-p74463237.html?spid=90107321     </span></td></tr>\n",
       "\t<tr><th scope=row>3</th><td>2</td><td><span style=white-space:pre-wrap>Chu&lt;U+1ED9&gt;t máy tính có dây G5 ES, chu&lt;U+1ED9&gt;t gaming DPI 4 c&lt;U+1EA5&gt;p d&lt;U+1ED9&gt;, hi&lt;U+1EC7&gt;u &lt;U+1EE9&gt;ng dèn n&lt;U+1EC1&gt;n 7 màu- Hàng nh&lt;U+1EAD&gt;p kh&lt;U+1EA9&gt;u    </span></td><td>129.00</td><td>0.00</td><td>129.00</td><td>good price</td><td><span style=white-space:pre-wrap>HOÀNG NHÂN COMPUTER         </span></td><td><span style=white-space:pre-wrap>Zealot    </span></td><td> 3</td><td><span style=white-space:pre-wrap>Tem b&lt;U+1EA3&gt;o hành         </span></td><td>...</td><td> 185</td><td>Good</td><td>4.7</td><td> 64</td><td> 53</td><td> 7</td><td>0</td><td>1</td><td>3</td><td><span style=white-space:pre-wrap>https://tiki.vn/chuot-may-tinh-co-day-g5-es-chuot-gaming-dpi-4-cap-do-hieu-ung-den-nen-7-mau-hang-nhap-khau-p75614175.html?spid=91088172     </span></td></tr>\n",
       "\t<tr><th scope=row>4</th><td>3</td><td><span style=white-space:pre-wrap>Chu&lt;U+1ED9&gt;t máy tính Newmen G10 - Hàng Chính Hãng                                                                                                               </span></td><td>145.00</td><td>0.00</td><td>145.00</td><td>good price</td><td><span style=white-space:pre-wrap>Vi Tính Lê Huy              </span></td><td><span style=white-space:pre-wrap>Newme     </span></td><td> 0</td><td><span style=white-space:pre-wrap>0                           </span></td><td>...</td><td>1000</td><td>Fast</td><td>4.7</td><td>135</td><td>106</td><td>20</td><td>6</td><td>0</td><td>3</td><td><span style=white-space:pre-wrap>https://tiki.vn/chuot-may-tinh-newmen-g10-hang-chinh-hang-p7975728.html?spid=7975732                                                         </span></td></tr>\n",
       "\t<tr><th scope=row>5</th><td>4</td><td><span style=white-space:pre-wrap>Chu&lt;U+1ED9&gt;t máy tính van phòng T&lt;U+1EB7&gt;ng lót chu&lt;U+1ED9&gt;t cao c&lt;U+1EA5&gt;p                                                                                      </span></td><td>158.00</td><td>0.00</td><td>158.00</td><td>good price</td><td><span style=white-space:pre-wrap>VLC6 Store                  </span></td><td><span style=white-space:pre-wrap>OEM       </span></td><td> 0</td><td><span style=white-space:pre-wrap>0                           </span></td><td>...</td><td><span style=white-space:pre-wrap>  55</span></td><td>Good</td><td>5.0</td><td><span style=white-space:pre-wrap>  9</span></td><td><span style=white-space:pre-wrap>  9</span></td><td> 0</td><td>0</td><td>0</td><td>0</td><td><span style=white-space:pre-wrap>https://tiki.vn/chuot-may-tinh-van-phong-tang-lot-chuot-cao-cap-p86900816.html?spid=120777689                                                </span></td></tr>\n",
       "\t<tr><th scope=row>6</th><td>5</td><td>Chu&lt;U+1ED9&gt;t van phòng có dây, chu&lt;U+1ED9&gt;t Game HXSJ A885 DPI 5500, RGB d&lt;U+1ED5&gt;i 7 màu liên t&lt;U+1EE5&gt;c, chuyên dùng cho laptop, máy tính, pc - Hàng chính hãng</td><td>299.00</td><td>0.36</td><td>192.00</td><td>good price</td><td><span style=white-space:pre-wrap>HXSJ Official Store         </span></td><td><span style=white-space:pre-wrap>HXSJ      </span></td><td> 6</td><td><span style=white-space:pre-wrap>Hóa don                     </span></td><td>...</td><td><span style=white-space:pre-wrap>  39</span></td><td>Slow</td><td>5.0</td><td> 13</td><td> 13</td><td> 0</td><td>0</td><td>0</td><td>0</td><td><span style=white-space:pre-wrap>https://tiki.vn/chuot-van-phong-co-day-chuot-game-hxsj-a885-dpi-5500-rgb-doi-7-mau-lien-tuc-hang-chinh-hang-p121169235.html?spid=121169237   </span></td></tr>\n",
       "\t<tr><th scope=row>7</th><td>6</td><td><span style=white-space:pre-wrap>Chu&lt;U+1ED9&gt;t máy tính cao c&lt;U+1EA5&gt;p                                                                                                                             </span></td><td> 81.44</td><td>0.00</td><td> 81.44</td><td>low price </td><td><span style=white-space:pre-wrap>vinet shop                  </span></td><td><span style=white-space:pre-wrap>OEM       </span></td><td> 1</td><td><span style=white-space:pre-wrap>Tem b&lt;U+1EA3&gt;o hành         </span></td><td>...</td><td> 204</td><td>Good</td><td>4.5</td><td> 79</td><td> 51</td><td>18</td><td>8</td><td>1</td><td>1</td><td><span style=white-space:pre-wrap>https://tiki.vn/chuot-may-tinh-cao-cap-p56288980.html?spid=58946387                                                                          </span></td></tr>\n",
       "\t<tr><th scope=row>8</th><td>7</td><td><span style=white-space:pre-wrap>Chu&lt;U+1ED9&gt;t máy tính có dây PROLiNK PMC1006 BDLU (den xanh), c&lt;U+1EA3&gt;m bi&lt;U+1EBF&gt;n quang h&lt;U+1ECD&gt;c 1000DPI - Hàng chính hãng                                  </span></td><td>120.00</td><td>0.26</td><td> 89.00</td><td>low price </td><td><span style=white-space:pre-wrap>                            </span></td><td><span style=white-space:pre-wrap>Prolink   </span></td><td>12</td><td><span style=white-space:pre-wrap>Tem b&lt;U+1EA3&gt;o hành         </span></td><td>...</td><td><span style=white-space:pre-wrap>  15</span></td><td>Slow</td><td>5.0</td><td><span style=white-space:pre-wrap>  4</span></td><td><span style=white-space:pre-wrap>  4</span></td><td> 0</td><td>0</td><td>0</td><td>0</td><td>https://tiki.vn/chuot-may-tinh-co-day-prolink-pmc1006-bdlu-den-xanh-cam-bien-quang-hoc-1000dpi-hang-chinh-hang-p112529886.html?spid=112529887</td></tr>\n",
       "\t<tr><th scope=row>9</th><td>8</td><td><span style=white-space:pre-wrap>Chu&lt;U+1ED9&gt;t máy vi tính Bosston D608 LED - Ðen-Hàng Chính Hãng                                                                                                  </span></td><td> 57.40</td><td>0.00</td><td> 57.40</td><td>low price </td><td>VI TÍNH NAM TRUNG H&lt;U+1EA2&gt;I</td><td><span style=white-space:pre-wrap>Bossto    </span></td><td> 0</td><td><span style=white-space:pre-wrap>0                           </span></td><td>...</td><td> 111</td><td>Good</td><td>4.7</td><td> 29</td><td> 22</td><td> 5</td><td>1</td><td>1</td><td>0</td><td><span style=white-space:pre-wrap>https://tiki.vn/chuot-may-vi-tinh-bosston-d608-led-den-hang-chinh-hang-p11191145.html?spid=48957656                                          </span></td></tr>\n",
       "\t<tr><th scope=row>10</th><td>9</td><td><span style=white-space:pre-wrap>Chu&lt;U+1ED9&gt;t led Ghost Wolf G830 cho máy tính - hàng nh&lt;U+1EAD&gt;p kh&lt;U+1EA9&gt;u                                                                                     </span></td><td>125.00</td><td>0.00</td><td>125.00</td><td>good price</td><td><span style=white-space:pre-wrap>Tech7                       </span></td><td>Ghost Wolf</td><td> 3</td><td>Phi&lt;U+1EBF&gt;u b&lt;U+1EA3&gt;o hành</td><td>...</td><td><span style=white-space:pre-wrap>  35</span></td><td>Slow</td><td>4.4</td><td> 11</td><td><span style=white-space:pre-wrap>  7</span></td><td> 3</td><td>0</td><td>0</td><td>1</td><td><span style=white-space:pre-wrap>https://tiki.vn/chuot-led-ghost-wolf-g830-cho-may-tinh-hang-nhap-khau-p95528617.html?spid=95528618                                           </span></td></tr>\n",
       "</tbody>\n",
       "</table>\n"
      ],
      "text/latex": [
       "A data.frame: 10 × 22\n",
       "\\begin{tabular}{r|lllllllllllllllllllll}\n",
       "  & X & Name & Product\\_price & Discount & Sale\\_price & Valuation & Shop & Brand & Warranty & Warranty\\_way & ... & Sold & Liquidity & Rate & Comment & X5 & X4 & X3 & X2 & X1 & m\\_link\\\\\n",
       "  & <int> & <chr> & <dbl> & <dbl> & <dbl> & <chr> & <chr> & <chr> & <dbl> & <chr> & ... & <dbl> & <chr> & <dbl> & <dbl> & <int> & <int> & <int> & <int> & <int> & <chr>\\\\\n",
       "\\hline\n",
       "\t1 & 0 & Chu<U+1ED9>t máy vi tính Bosston D608 led - Hàng Chính Hãng                                                                                                       &  60.00 & 0.05 &  57.10 & low price  &                              & Bossto     &  0 & 0                            & ... &  364 & Fast & 4.7 &  93 &  78 &  8 & 5 & 0 & 2 & https://tiki.vn/chuot-may-vi-tinh-bosston-d608-led-hang-chinh-hang-p9355345.html?spid=56764717                                               \\\\\n",
       "\t2 & 1 & Chu<U+1ED9>t máy tính có dây EDRA EM602 Ð<U+1ED9> Phân Gi<U+1EA3>i 1200 DPI, choi game, cho Laptop hàng chính hãng                                                & 148.00 & 0.00 & 148.00 & good price & Extreme Zero Online          & E-DRA      & 24 & Tem b<U+1EA3>o hành          & ... &   85 & Good & 4.9 &  24 &  22 &  2 & 0 & 0 & 0 & https://tiki.vn/chuot-may-tinh-co-day-edra-em602-do-phan-giai-1200-dpi-choi-game-cho-laptop-hang-chinh-hang-p74463237.html?spid=90107321     \\\\\n",
       "\t3 & 2 & Chu<U+1ED9>t máy tính có dây G5 ES, chu<U+1ED9>t gaming DPI 4 c<U+1EA5>p d<U+1ED9>, hi<U+1EC7>u <U+1EE9>ng dèn n<U+1EC1>n 7 màu- Hàng nh<U+1EAD>p kh<U+1EA9>u     & 129.00 & 0.00 & 129.00 & good price & HOÀNG NHÂN COMPUTER          & Zealot     &  3 & Tem b<U+1EA3>o hành          & ... &  185 & Good & 4.7 &  64 &  53 &  7 & 0 & 1 & 3 & https://tiki.vn/chuot-may-tinh-co-day-g5-es-chuot-gaming-dpi-4-cap-do-hieu-ung-den-nen-7-mau-hang-nhap-khau-p75614175.html?spid=91088172     \\\\\n",
       "\t4 & 3 & Chu<U+1ED9>t máy tính Newmen G10 - Hàng Chính Hãng                                                                                                                & 145.00 & 0.00 & 145.00 & good price & Vi Tính Lê Huy               & Newme      &  0 & 0                            & ... & 1000 & Fast & 4.7 & 135 & 106 & 20 & 6 & 0 & 3 & https://tiki.vn/chuot-may-tinh-newmen-g10-hang-chinh-hang-p7975728.html?spid=7975732                                                         \\\\\n",
       "\t5 & 4 & Chu<U+1ED9>t máy tính van phòng T<U+1EB7>ng lót chu<U+1ED9>t cao c<U+1EA5>p                                                                                       & 158.00 & 0.00 & 158.00 & good price & VLC6 Store                   & OEM        &  0 & 0                            & ... &   55 & Good & 5.0 &   9 &   9 &  0 & 0 & 0 & 0 & https://tiki.vn/chuot-may-tinh-van-phong-tang-lot-chuot-cao-cap-p86900816.html?spid=120777689                                                \\\\\n",
       "\t6 & 5 & Chu<U+1ED9>t van phòng có dây, chu<U+1ED9>t Game HXSJ A885 DPI 5500, RGB d<U+1ED5>i 7 màu liên t<U+1EE5>c, chuyên dùng cho laptop, máy tính, pc - Hàng chính hãng & 299.00 & 0.36 & 192.00 & good price & HXSJ Official Store          & HXSJ       &  6 & Hóa don                      & ... &   39 & Slow & 5.0 &  13 &  13 &  0 & 0 & 0 & 0 & https://tiki.vn/chuot-van-phong-co-day-chuot-game-hxsj-a885-dpi-5500-rgb-doi-7-mau-lien-tuc-hang-chinh-hang-p121169235.html?spid=121169237   \\\\\n",
       "\t7 & 6 & Chu<U+1ED9>t máy tính cao c<U+1EA5>p                                                                                                                              &  81.44 & 0.00 &  81.44 & low price  & vinet shop                   & OEM        &  1 & Tem b<U+1EA3>o hành          & ... &  204 & Good & 4.5 &  79 &  51 & 18 & 8 & 1 & 1 & https://tiki.vn/chuot-may-tinh-cao-cap-p56288980.html?spid=58946387                                                                          \\\\\n",
       "\t8 & 7 & Chu<U+1ED9>t máy tính có dây PROLiNK PMC1006 BDLU (den xanh), c<U+1EA3>m bi<U+1EBF>n quang h<U+1ECD>c 1000DPI - Hàng chính hãng                                   & 120.00 & 0.26 &  89.00 & low price  &                              & Prolink    & 12 & Tem b<U+1EA3>o hành          & ... &   15 & Slow & 5.0 &   4 &   4 &  0 & 0 & 0 & 0 & https://tiki.vn/chuot-may-tinh-co-day-prolink-pmc1006-bdlu-den-xanh-cam-bien-quang-hoc-1000dpi-hang-chinh-hang-p112529886.html?spid=112529887\\\\\n",
       "\t9 & 8 & Chu<U+1ED9>t máy vi tính Bosston D608 LED - Ðen-Hàng Chính Hãng                                                                                                   &  57.40 & 0.00 &  57.40 & low price  & VI TÍNH NAM TRUNG H<U+1EA2>I & Bossto     &  0 & 0                            & ... &  111 & Good & 4.7 &  29 &  22 &  5 & 1 & 1 & 0 & https://tiki.vn/chuot-may-vi-tinh-bosston-d608-led-den-hang-chinh-hang-p11191145.html?spid=48957656                                          \\\\\n",
       "\t10 & 9 & Chu<U+1ED9>t led Ghost Wolf G830 cho máy tính - hàng nh<U+1EAD>p kh<U+1EA9>u                                                                                      & 125.00 & 0.00 & 125.00 & good price & Tech7                        & Ghost Wolf &  3 & Phi<U+1EBF>u b<U+1EA3>o hành & ... &   35 & Slow & 4.4 &  11 &   7 &  3 & 0 & 0 & 1 & https://tiki.vn/chuot-led-ghost-wolf-g830-cho-may-tinh-hang-nhap-khau-p95528617.html?spid=95528618                                           \\\\\n",
       "\\end{tabular}\n"
      ],
      "text/markdown": [
       "\n",
       "A data.frame: 10 × 22\n",
       "\n",
       "| <!--/--> | X &lt;int&gt; | Name &lt;chr&gt; | Product_price &lt;dbl&gt; | Discount &lt;dbl&gt; | Sale_price &lt;dbl&gt; | Valuation &lt;chr&gt; | Shop &lt;chr&gt; | Brand &lt;chr&gt; | Warranty &lt;dbl&gt; | Warranty_way &lt;chr&gt; | ... ... | Sold &lt;dbl&gt; | Liquidity &lt;chr&gt; | Rate &lt;dbl&gt; | Comment &lt;dbl&gt; | X5 &lt;int&gt; | X4 &lt;int&gt; | X3 &lt;int&gt; | X2 &lt;int&gt; | X1 &lt;int&gt; | m_link &lt;chr&gt; |\n",
       "|---|---|---|---|---|---|---|---|---|---|---|---|---|---|---|---|---|---|---|---|---|---|\n",
       "| 1 | 0 | Chu&lt;U+1ED9&gt;t máy vi tính Bosston D608 led - Hàng Chính Hãng                                                                                                       |  60.00 | 0.05 |  57.10 | low price  | <!----> | Bossto     |  0 | 0                            | ... |  364 | Fast | 4.7 |  93 |  78 |  8 | 5 | 0 | 2 | https://tiki.vn/chuot-may-vi-tinh-bosston-d608-led-hang-chinh-hang-p9355345.html?spid=56764717                                                |\n",
       "| 2 | 1 | Chu&lt;U+1ED9&gt;t máy tính có dây EDRA EM602 Ð&lt;U+1ED9&gt; Phân Gi&lt;U+1EA3&gt;i 1200 DPI, choi game, cho Laptop hàng chính hãng                                                | 148.00 | 0.00 | 148.00 | good price | Extreme Zero Online          | E-DRA      | 24 | Tem b&lt;U+1EA3&gt;o hành          | ... |   85 | Good | 4.9 |  24 |  22 |  2 | 0 | 0 | 0 | https://tiki.vn/chuot-may-tinh-co-day-edra-em602-do-phan-giai-1200-dpi-choi-game-cho-laptop-hang-chinh-hang-p74463237.html?spid=90107321      |\n",
       "| 3 | 2 | Chu&lt;U+1ED9&gt;t máy tính có dây G5 ES, chu&lt;U+1ED9&gt;t gaming DPI 4 c&lt;U+1EA5&gt;p d&lt;U+1ED9&gt;, hi&lt;U+1EC7&gt;u &lt;U+1EE9&gt;ng dèn n&lt;U+1EC1&gt;n 7 màu- Hàng nh&lt;U+1EAD&gt;p kh&lt;U+1EA9&gt;u     | 129.00 | 0.00 | 129.00 | good price | HOÀNG NHÂN COMPUTER          | Zealot     |  3 | Tem b&lt;U+1EA3&gt;o hành          | ... |  185 | Good | 4.7 |  64 |  53 |  7 | 0 | 1 | 3 | https://tiki.vn/chuot-may-tinh-co-day-g5-es-chuot-gaming-dpi-4-cap-do-hieu-ung-den-nen-7-mau-hang-nhap-khau-p75614175.html?spid=91088172      |\n",
       "| 4 | 3 | Chu&lt;U+1ED9&gt;t máy tính Newmen G10 - Hàng Chính Hãng                                                                                                                | 145.00 | 0.00 | 145.00 | good price | Vi Tính Lê Huy               | Newme      |  0 | 0                            | ... | 1000 | Fast | 4.7 | 135 | 106 | 20 | 6 | 0 | 3 | https://tiki.vn/chuot-may-tinh-newmen-g10-hang-chinh-hang-p7975728.html?spid=7975732                                                          |\n",
       "| 5 | 4 | Chu&lt;U+1ED9&gt;t máy tính van phòng T&lt;U+1EB7&gt;ng lót chu&lt;U+1ED9&gt;t cao c&lt;U+1EA5&gt;p                                                                                       | 158.00 | 0.00 | 158.00 | good price | VLC6 Store                   | OEM        |  0 | 0                            | ... |   55 | Good | 5.0 |   9 |   9 |  0 | 0 | 0 | 0 | https://tiki.vn/chuot-may-tinh-van-phong-tang-lot-chuot-cao-cap-p86900816.html?spid=120777689                                                 |\n",
       "| 6 | 5 | Chu&lt;U+1ED9&gt;t van phòng có dây, chu&lt;U+1ED9&gt;t Game HXSJ A885 DPI 5500, RGB d&lt;U+1ED5&gt;i 7 màu liên t&lt;U+1EE5&gt;c, chuyên dùng cho laptop, máy tính, pc - Hàng chính hãng | 299.00 | 0.36 | 192.00 | good price | HXSJ Official Store          | HXSJ       |  6 | Hóa don                      | ... |   39 | Slow | 5.0 |  13 |  13 |  0 | 0 | 0 | 0 | https://tiki.vn/chuot-van-phong-co-day-chuot-game-hxsj-a885-dpi-5500-rgb-doi-7-mau-lien-tuc-hang-chinh-hang-p121169235.html?spid=121169237    |\n",
       "| 7 | 6 | Chu&lt;U+1ED9&gt;t máy tính cao c&lt;U+1EA5&gt;p                                                                                                                              |  81.44 | 0.00 |  81.44 | low price  | vinet shop                   | OEM        |  1 | Tem b&lt;U+1EA3&gt;o hành          | ... |  204 | Good | 4.5 |  79 |  51 | 18 | 8 | 1 | 1 | https://tiki.vn/chuot-may-tinh-cao-cap-p56288980.html?spid=58946387                                                                           |\n",
       "| 8 | 7 | Chu&lt;U+1ED9&gt;t máy tính có dây PROLiNK PMC1006 BDLU (den xanh), c&lt;U+1EA3&gt;m bi&lt;U+1EBF&gt;n quang h&lt;U+1ECD&gt;c 1000DPI - Hàng chính hãng                                   | 120.00 | 0.26 |  89.00 | low price  | <!----> | Prolink    | 12 | Tem b&lt;U+1EA3&gt;o hành          | ... |   15 | Slow | 5.0 |   4 |   4 |  0 | 0 | 0 | 0 | https://tiki.vn/chuot-may-tinh-co-day-prolink-pmc1006-bdlu-den-xanh-cam-bien-quang-hoc-1000dpi-hang-chinh-hang-p112529886.html?spid=112529887 |\n",
       "| 9 | 8 | Chu&lt;U+1ED9&gt;t máy vi tính Bosston D608 LED - Ðen-Hàng Chính Hãng                                                                                                   |  57.40 | 0.00 |  57.40 | low price  | VI TÍNH NAM TRUNG H&lt;U+1EA2&gt;I | Bossto     |  0 | 0                            | ... |  111 | Good | 4.7 |  29 |  22 |  5 | 1 | 1 | 0 | https://tiki.vn/chuot-may-vi-tinh-bosston-d608-led-den-hang-chinh-hang-p11191145.html?spid=48957656                                           |\n",
       "| 10 | 9 | Chu&lt;U+1ED9&gt;t led Ghost Wolf G830 cho máy tính - hàng nh&lt;U+1EAD&gt;p kh&lt;U+1EA9&gt;u                                                                                      | 125.00 | 0.00 | 125.00 | good price | Tech7                        | Ghost Wolf |  3 | Phi&lt;U+1EBF&gt;u b&lt;U+1EA3&gt;o hành | ... |   35 | Slow | 4.4 |  11 |   7 |  3 | 0 | 0 | 1 | https://tiki.vn/chuot-led-ghost-wolf-g830-cho-may-tinh-hang-nhap-khau-p95528617.html?spid=95528618                                            |\n",
       "\n"
      ],
      "text/plain": [
       "   X\n",
       "1  0\n",
       "2  1\n",
       "3  2\n",
       "4  3\n",
       "5  4\n",
       "6  5\n",
       "7  6\n",
       "8  7\n",
       "9  8\n",
       "10 9\n",
       "   Name                                                                                                                                                             \n",
       "1  Chu<U+1ED9>t máy vi tính Bosston D608 led - Hàng Chính Hãng                                                                                                      \n",
       "2  Chu<U+1ED9>t máy tính có dây EDRA EM602 Ð<U+1ED9> Phân Gi<U+1EA3>i 1200 DPI, choi game, cho Laptop hàng chính hãng                                               \n",
       "3  Chu<U+1ED9>t máy tính có dây G5 ES, chu<U+1ED9>t gaming DPI 4 c<U+1EA5>p d<U+1ED9>, hi<U+1EC7>u <U+1EE9>ng dèn n<U+1EC1>n 7 màu- Hàng nh<U+1EAD>p kh<U+1EA9>u    \n",
       "4  Chu<U+1ED9>t máy tính Newmen G10 - Hàng Chính Hãng                                                                                                               \n",
       "5  Chu<U+1ED9>t máy tính van phòng T<U+1EB7>ng lót chu<U+1ED9>t cao c<U+1EA5>p                                                                                      \n",
       "6  Chu<U+1ED9>t van phòng có dây, chu<U+1ED9>t Game HXSJ A885 DPI 5500, RGB d<U+1ED5>i 7 màu liên t<U+1EE5>c, chuyên dùng cho laptop, máy tính, pc - Hàng chính hãng\n",
       "7  Chu<U+1ED9>t máy tính cao c<U+1EA5>p                                                                                                                             \n",
       "8  Chu<U+1ED9>t máy tính có dây PROLiNK PMC1006 BDLU (den xanh), c<U+1EA3>m bi<U+1EBF>n quang h<U+1ECD>c 1000DPI - Hàng chính hãng                                  \n",
       "9  Chu<U+1ED9>t máy vi tính Bosston D608 LED - Ðen-Hàng Chính Hãng                                                                                                  \n",
       "10 Chu<U+1ED9>t led Ghost Wolf G830 cho máy tính - hàng nh<U+1EAD>p kh<U+1EA9>u                                                                                     \n",
       "   Product_price Discount Sale_price Valuation  Shop                        \n",
       "1   60.00        0.05      57.10     low price                              \n",
       "2  148.00        0.00     148.00     good price Extreme Zero Online         \n",
       "3  129.00        0.00     129.00     good price HOÀNG NHÂN COMPUTER         \n",
       "4  145.00        0.00     145.00     good price Vi Tính Lê Huy              \n",
       "5  158.00        0.00     158.00     good price VLC6 Store                  \n",
       "6  299.00        0.36     192.00     good price HXSJ Official Store         \n",
       "7   81.44        0.00      81.44     low price  vinet shop                  \n",
       "8  120.00        0.26      89.00     low price                              \n",
       "9   57.40        0.00      57.40     low price  VI TÍNH NAM TRUNG H<U+1EA2>I\n",
       "10 125.00        0.00     125.00     good price Tech7                       \n",
       "   Brand      Warranty Warranty_way                 ... Sold Liquidity Rate\n",
       "1  Bossto      0       0                            ...  364 Fast      4.7 \n",
       "2  E-DRA      24       Tem b<U+1EA3>o hành          ...   85 Good      4.9 \n",
       "3  Zealot      3       Tem b<U+1EA3>o hành          ...  185 Good      4.7 \n",
       "4  Newme       0       0                            ... 1000 Fast      4.7 \n",
       "5  OEM         0       0                            ...   55 Good      5.0 \n",
       "6  HXSJ        6       Hóa don                      ...   39 Slow      5.0 \n",
       "7  OEM         1       Tem b<U+1EA3>o hành          ...  204 Good      4.5 \n",
       "8  Prolink    12       Tem b<U+1EA3>o hành          ...   15 Slow      5.0 \n",
       "9  Bossto      0       0                            ...  111 Good      4.7 \n",
       "10 Ghost Wolf  3       Phi<U+1EBF>u b<U+1EA3>o hành ...   35 Slow      4.4 \n",
       "   Comment X5  X4 X3 X2 X1\n",
       "1   93      78  8 5  0  2 \n",
       "2   24      22  2 0  0  0 \n",
       "3   64      53  7 0  1  3 \n",
       "4  135     106 20 6  0  3 \n",
       "5    9       9  0 0  0  0 \n",
       "6   13      13  0 0  0  0 \n",
       "7   79      51 18 8  1  1 \n",
       "8    4       4  0 0  0  0 \n",
       "9   29      22  5 1  1  0 \n",
       "10  11       7  3 0  0  1 \n",
       "   m_link                                                                                                                                       \n",
       "1  https://tiki.vn/chuot-may-vi-tinh-bosston-d608-led-hang-chinh-hang-p9355345.html?spid=56764717                                               \n",
       "2  https://tiki.vn/chuot-may-tinh-co-day-edra-em602-do-phan-giai-1200-dpi-choi-game-cho-laptop-hang-chinh-hang-p74463237.html?spid=90107321     \n",
       "3  https://tiki.vn/chuot-may-tinh-co-day-g5-es-chuot-gaming-dpi-4-cap-do-hieu-ung-den-nen-7-mau-hang-nhap-khau-p75614175.html?spid=91088172     \n",
       "4  https://tiki.vn/chuot-may-tinh-newmen-g10-hang-chinh-hang-p7975728.html?spid=7975732                                                         \n",
       "5  https://tiki.vn/chuot-may-tinh-van-phong-tang-lot-chuot-cao-cap-p86900816.html?spid=120777689                                                \n",
       "6  https://tiki.vn/chuot-van-phong-co-day-chuot-game-hxsj-a885-dpi-5500-rgb-doi-7-mau-lien-tuc-hang-chinh-hang-p121169235.html?spid=121169237   \n",
       "7  https://tiki.vn/chuot-may-tinh-cao-cap-p56288980.html?spid=58946387                                                                          \n",
       "8  https://tiki.vn/chuot-may-tinh-co-day-prolink-pmc1006-bdlu-den-xanh-cam-bien-quang-hoc-1000dpi-hang-chinh-hang-p112529886.html?spid=112529887\n",
       "9  https://tiki.vn/chuot-may-vi-tinh-bosston-d608-led-den-hang-chinh-hang-p11191145.html?spid=48957656                                          \n",
       "10 https://tiki.vn/chuot-led-ghost-wolf-g830-cho-may-tinh-hang-nhap-khau-p95528617.html?spid=95528618                                           "
      ]
     },
     "metadata": {},
     "output_type": "display_data"
    }
   ],
   "source": [
    "head(df, 10)"
   ]
  },
  {
   "cell_type": "markdown",
   "id": "9f691033",
   "metadata": {},
   "source": [
    "# The Center Tendency (Các phép tính hướng tâm)\n"
   ]
  },
  {
   "cell_type": "markdown",
   "id": "ff19e6df",
   "metadata": {},
   "source": [
    "Ta thấy cột \"Link\" trong dataframe không cung cấp thông tin cho việc phân tích dữ liệu nên ta sẽ tiến hành loại bỏ cột này khỏi dataframe để tiến hành phân tích dữ liệu một cách tiện và gọn hơn"
   ]
  },
  {
   "cell_type": "code",
   "execution_count": 11,
   "id": "23e9c746",
   "metadata": {},
   "outputs": [],
   "source": [
    "df <- subset( df, select = - m_link)\n",
    "df <- subset( df, select = - X)"
   ]
  },
  {
   "cell_type": "markdown",
   "id": "656bc2af",
   "metadata": {},
   "source": [
    "Nhờ việc xem thông số dữ liệu, ta có thể dễ dàng tìm ra được các biến định tính và định lượng:\n",
    "+ quantitative variable( Biến định lượng) : Product_price, Sale_price, Discount, Warranty, Sold, Rate, Comment, 5, 4, 3, 2, 1\n",
    "+ categorical variable( Biến định tính) : Valuation, Brand ,Warranty_way, Warranty_place, Liquidity\n"
   ]
  },
  {
   "cell_type": "code",
   "execution_count": 12,
   "id": "541a5ec5",
   "metadata": {},
   "outputs": [
    {
     "data": {
      "text/html": [
       "<table class=\"dataframe\">\n",
       "<caption>A data.frame: 6 × 20</caption>\n",
       "<thead>\n",
       "\t<tr><th></th><th scope=col>Name</th><th scope=col>Product_price</th><th scope=col>Discount</th><th scope=col>Sale_price</th><th scope=col>Valuation</th><th scope=col>Shop</th><th scope=col>Brand</th><th scope=col>Warranty</th><th scope=col>Warranty_way</th><th scope=col>Warranty_place</th><th scope=col>Quality</th><th scope=col>Sold</th><th scope=col>Liquidity</th><th scope=col>Rate</th><th scope=col>Comment</th><th scope=col>X5</th><th scope=col>X4</th><th scope=col>X3</th><th scope=col>X2</th><th scope=col>X1</th></tr>\n",
       "\t<tr><th></th><th scope=col>&lt;chr&gt;</th><th scope=col>&lt;dbl&gt;</th><th scope=col>&lt;dbl&gt;</th><th scope=col>&lt;dbl&gt;</th><th scope=col>&lt;chr&gt;</th><th scope=col>&lt;chr&gt;</th><th scope=col>&lt;chr&gt;</th><th scope=col>&lt;dbl&gt;</th><th scope=col>&lt;chr&gt;</th><th scope=col>&lt;chr&gt;</th><th scope=col>&lt;chr&gt;</th><th scope=col>&lt;dbl&gt;</th><th scope=col>&lt;chr&gt;</th><th scope=col>&lt;dbl&gt;</th><th scope=col>&lt;dbl&gt;</th><th scope=col>&lt;int&gt;</th><th scope=col>&lt;int&gt;</th><th scope=col>&lt;int&gt;</th><th scope=col>&lt;int&gt;</th><th scope=col>&lt;int&gt;</th></tr>\n",
       "</thead>\n",
       "<tbody>\n",
       "\t<tr><th scope=row>1</th><td><span style=white-space:pre-wrap>Chu&lt;U+1ED9&gt;t máy vi tính Bosston D608 led - Hàng Chính Hãng                                                                                                      </span></td><td> 60</td><td>0.05</td><td> 57.1</td><td>low price </td><td><span style=white-space:pre-wrap>                   </span></td><td>Bossto</td><td> 0</td><td><span style=white-space:pre-wrap>0                  </span></td><td><span style=white-space:pre-wrap>0                                                     </span></td><td>Good quality</td><td> 364</td><td>Fast</td><td>4.7</td><td> 93</td><td> 78</td><td> 8</td><td>5</td><td>0</td><td>2</td></tr>\n",
       "\t<tr><th scope=row>2</th><td><span style=white-space:pre-wrap>Chu&lt;U+1ED9&gt;t máy tính có dây EDRA EM602 Ð&lt;U+1ED9&gt; Phân Gi&lt;U+1EA3&gt;i 1200 DPI, choi game, cho Laptop hàng chính hãng                                               </span></td><td>148</td><td>0.00</td><td>148.0</td><td>good price</td><td>Extreme Zero Online</td><td>E-DRA </td><td>24</td><td>Tem b&lt;U+1EA3&gt;o hành</td><td><span style=white-space:pre-wrap>B&lt;U+1EA3&gt;o hành chính hãng                            </span></td><td>High quality</td><td><span style=white-space:pre-wrap>  85</span></td><td>Good</td><td>4.9</td><td> 24</td><td> 22</td><td> 2</td><td>0</td><td>0</td><td>0</td></tr>\n",
       "\t<tr><th scope=row>3</th><td><span style=white-space:pre-wrap>Chu&lt;U+1ED9&gt;t máy tính có dây G5 ES, chu&lt;U+1ED9&gt;t gaming DPI 4 c&lt;U+1EA5&gt;p d&lt;U+1ED9&gt;, hi&lt;U+1EC7&gt;u &lt;U+1EE9&gt;ng dèn n&lt;U+1EC1&gt;n 7 màu- Hàng nh&lt;U+1EAD&gt;p kh&lt;U+1EA9&gt;u    </span></td><td>129</td><td>0.00</td><td>129.0</td><td>good price</td><td>HOÀNG NHÂN COMPUTER</td><td>Zealot</td><td> 3</td><td>Tem b&lt;U+1EA3&gt;o hành</td><td>B&lt;U+1EA3&gt;o hành b&lt;U+1EDF&gt;i nhà bán hàng thông qua Tiki</td><td>Good quality</td><td> 185</td><td>Good</td><td>4.7</td><td> 64</td><td> 53</td><td> 7</td><td>0</td><td>1</td><td>3</td></tr>\n",
       "\t<tr><th scope=row>4</th><td><span style=white-space:pre-wrap>Chu&lt;U+1ED9&gt;t máy tính Newmen G10 - Hàng Chính Hãng                                                                                                               </span></td><td>145</td><td>0.00</td><td>145.0</td><td>good price</td><td><span style=white-space:pre-wrap>Vi Tính Lê Huy     </span></td><td>Newme </td><td> 0</td><td><span style=white-space:pre-wrap>0                  </span></td><td><span style=white-space:pre-wrap>0                                                     </span></td><td>Good quality</td><td>1000</td><td>Fast</td><td>4.7</td><td>135</td><td>106</td><td>20</td><td>6</td><td>0</td><td>3</td></tr>\n",
       "\t<tr><th scope=row>5</th><td><span style=white-space:pre-wrap>Chu&lt;U+1ED9&gt;t máy tính van phòng T&lt;U+1EB7&gt;ng lót chu&lt;U+1ED9&gt;t cao c&lt;U+1EA5&gt;p                                                                                      </span></td><td>158</td><td>0.00</td><td>158.0</td><td>good price</td><td><span style=white-space:pre-wrap>VLC6 Store         </span></td><td><span style=white-space:pre-wrap>OEM   </span></td><td> 0</td><td><span style=white-space:pre-wrap>0                  </span></td><td><span style=white-space:pre-wrap>0                                                     </span></td><td>Good quality</td><td><span style=white-space:pre-wrap>  55</span></td><td>Good</td><td>5.0</td><td><span style=white-space:pre-wrap>  9</span></td><td><span style=white-space:pre-wrap>  9</span></td><td> 0</td><td>0</td><td>0</td><td>0</td></tr>\n",
       "\t<tr><th scope=row>6</th><td>Chu&lt;U+1ED9&gt;t van phòng có dây, chu&lt;U+1ED9&gt;t Game HXSJ A885 DPI 5500, RGB d&lt;U+1ED5&gt;i 7 màu liên t&lt;U+1EE5&gt;c, chuyên dùng cho laptop, máy tính, pc - Hàng chính hãng</td><td>299</td><td>0.36</td><td>192.0</td><td>good price</td><td>HXSJ Official Store</td><td><span style=white-space:pre-wrap>HXSJ  </span></td><td> 6</td><td><span style=white-space:pre-wrap>Hóa don            </span></td><td>B&lt;U+1EA3&gt;o hành b&lt;U+1EDF&gt;i nhà bán hàng thông qua Tiki</td><td>Good quality</td><td><span style=white-space:pre-wrap>  39</span></td><td>Slow</td><td>5.0</td><td> 13</td><td> 13</td><td> 0</td><td>0</td><td>0</td><td>0</td></tr>\n",
       "</tbody>\n",
       "</table>\n"
      ],
      "text/latex": [
       "A data.frame: 6 × 20\n",
       "\\begin{tabular}{r|llllllllllllllllllll}\n",
       "  & Name & Product\\_price & Discount & Sale\\_price & Valuation & Shop & Brand & Warranty & Warranty\\_way & Warranty\\_place & Quality & Sold & Liquidity & Rate & Comment & X5 & X4 & X3 & X2 & X1\\\\\n",
       "  & <chr> & <dbl> & <dbl> & <dbl> & <chr> & <chr> & <chr> & <dbl> & <chr> & <chr> & <chr> & <dbl> & <chr> & <dbl> & <dbl> & <int> & <int> & <int> & <int> & <int>\\\\\n",
       "\\hline\n",
       "\t1 & Chu<U+1ED9>t máy vi tính Bosston D608 led - Hàng Chính Hãng                                                                                                       &  60 & 0.05 &  57.1 & low price  &                     & Bossto &  0 & 0                   & 0                                                      & Good quality &  364 & Fast & 4.7 &  93 &  78 &  8 & 5 & 0 & 2\\\\\n",
       "\t2 & Chu<U+1ED9>t máy tính có dây EDRA EM602 Ð<U+1ED9> Phân Gi<U+1EA3>i 1200 DPI, choi game, cho Laptop hàng chính hãng                                                & 148 & 0.00 & 148.0 & good price & Extreme Zero Online & E-DRA  & 24 & Tem b<U+1EA3>o hành & B<U+1EA3>o hành chính hãng                             & High quality &   85 & Good & 4.9 &  24 &  22 &  2 & 0 & 0 & 0\\\\\n",
       "\t3 & Chu<U+1ED9>t máy tính có dây G5 ES, chu<U+1ED9>t gaming DPI 4 c<U+1EA5>p d<U+1ED9>, hi<U+1EC7>u <U+1EE9>ng dèn n<U+1EC1>n 7 màu- Hàng nh<U+1EAD>p kh<U+1EA9>u     & 129 & 0.00 & 129.0 & good price & HOÀNG NHÂN COMPUTER & Zealot &  3 & Tem b<U+1EA3>o hành & B<U+1EA3>o hành b<U+1EDF>i nhà bán hàng thông qua Tiki & Good quality &  185 & Good & 4.7 &  64 &  53 &  7 & 0 & 1 & 3\\\\\n",
       "\t4 & Chu<U+1ED9>t máy tính Newmen G10 - Hàng Chính Hãng                                                                                                                & 145 & 0.00 & 145.0 & good price & Vi Tính Lê Huy      & Newme  &  0 & 0                   & 0                                                      & Good quality & 1000 & Fast & 4.7 & 135 & 106 & 20 & 6 & 0 & 3\\\\\n",
       "\t5 & Chu<U+1ED9>t máy tính van phòng T<U+1EB7>ng lót chu<U+1ED9>t cao c<U+1EA5>p                                                                                       & 158 & 0.00 & 158.0 & good price & VLC6 Store          & OEM    &  0 & 0                   & 0                                                      & Good quality &   55 & Good & 5.0 &   9 &   9 &  0 & 0 & 0 & 0\\\\\n",
       "\t6 & Chu<U+1ED9>t van phòng có dây, chu<U+1ED9>t Game HXSJ A885 DPI 5500, RGB d<U+1ED5>i 7 màu liên t<U+1EE5>c, chuyên dùng cho laptop, máy tính, pc - Hàng chính hãng & 299 & 0.36 & 192.0 & good price & HXSJ Official Store & HXSJ   &  6 & Hóa don             & B<U+1EA3>o hành b<U+1EDF>i nhà bán hàng thông qua Tiki & Good quality &   39 & Slow & 5.0 &  13 &  13 &  0 & 0 & 0 & 0\\\\\n",
       "\\end{tabular}\n"
      ],
      "text/markdown": [
       "\n",
       "A data.frame: 6 × 20\n",
       "\n",
       "| <!--/--> | Name &lt;chr&gt; | Product_price &lt;dbl&gt; | Discount &lt;dbl&gt; | Sale_price &lt;dbl&gt; | Valuation &lt;chr&gt; | Shop &lt;chr&gt; | Brand &lt;chr&gt; | Warranty &lt;dbl&gt; | Warranty_way &lt;chr&gt; | Warranty_place &lt;chr&gt; | Quality &lt;chr&gt; | Sold &lt;dbl&gt; | Liquidity &lt;chr&gt; | Rate &lt;dbl&gt; | Comment &lt;dbl&gt; | X5 &lt;int&gt; | X4 &lt;int&gt; | X3 &lt;int&gt; | X2 &lt;int&gt; | X1 &lt;int&gt; |\n",
       "|---|---|---|---|---|---|---|---|---|---|---|---|---|---|---|---|---|---|---|---|---|\n",
       "| 1 | Chu&lt;U+1ED9&gt;t máy vi tính Bosston D608 led - Hàng Chính Hãng                                                                                                       |  60 | 0.05 |  57.1 | low price  | <!----> | Bossto |  0 | 0                   | 0                                                      | Good quality |  364 | Fast | 4.7 |  93 |  78 |  8 | 5 | 0 | 2 |\n",
       "| 2 | Chu&lt;U+1ED9&gt;t máy tính có dây EDRA EM602 Ð&lt;U+1ED9&gt; Phân Gi&lt;U+1EA3&gt;i 1200 DPI, choi game, cho Laptop hàng chính hãng                                                | 148 | 0.00 | 148.0 | good price | Extreme Zero Online | E-DRA  | 24 | Tem b&lt;U+1EA3&gt;o hành | B&lt;U+1EA3&gt;o hành chính hãng                             | High quality |   85 | Good | 4.9 |  24 |  22 |  2 | 0 | 0 | 0 |\n",
       "| 3 | Chu&lt;U+1ED9&gt;t máy tính có dây G5 ES, chu&lt;U+1ED9&gt;t gaming DPI 4 c&lt;U+1EA5&gt;p d&lt;U+1ED9&gt;, hi&lt;U+1EC7&gt;u &lt;U+1EE9&gt;ng dèn n&lt;U+1EC1&gt;n 7 màu- Hàng nh&lt;U+1EAD&gt;p kh&lt;U+1EA9&gt;u     | 129 | 0.00 | 129.0 | good price | HOÀNG NHÂN COMPUTER | Zealot |  3 | Tem b&lt;U+1EA3&gt;o hành | B&lt;U+1EA3&gt;o hành b&lt;U+1EDF&gt;i nhà bán hàng thông qua Tiki | Good quality |  185 | Good | 4.7 |  64 |  53 |  7 | 0 | 1 | 3 |\n",
       "| 4 | Chu&lt;U+1ED9&gt;t máy tính Newmen G10 - Hàng Chính Hãng                                                                                                                | 145 | 0.00 | 145.0 | good price | Vi Tính Lê Huy      | Newme  |  0 | 0                   | 0                                                      | Good quality | 1000 | Fast | 4.7 | 135 | 106 | 20 | 6 | 0 | 3 |\n",
       "| 5 | Chu&lt;U+1ED9&gt;t máy tính van phòng T&lt;U+1EB7&gt;ng lót chu&lt;U+1ED9&gt;t cao c&lt;U+1EA5&gt;p                                                                                       | 158 | 0.00 | 158.0 | good price | VLC6 Store          | OEM    |  0 | 0                   | 0                                                      | Good quality |   55 | Good | 5.0 |   9 |   9 |  0 | 0 | 0 | 0 |\n",
       "| 6 | Chu&lt;U+1ED9&gt;t van phòng có dây, chu&lt;U+1ED9&gt;t Game HXSJ A885 DPI 5500, RGB d&lt;U+1ED5&gt;i 7 màu liên t&lt;U+1EE5&gt;c, chuyên dùng cho laptop, máy tính, pc - Hàng chính hãng | 299 | 0.36 | 192.0 | good price | HXSJ Official Store | HXSJ   |  6 | Hóa don             | B&lt;U+1EA3&gt;o hành b&lt;U+1EDF&gt;i nhà bán hàng thông qua Tiki | Good quality |   39 | Slow | 5.0 |  13 |  13 |  0 | 0 | 0 | 0 |\n",
       "\n"
      ],
      "text/plain": [
       "  Name                                                                                                                                                             \n",
       "1 Chu<U+1ED9>t máy vi tính Bosston D608 led - Hàng Chính Hãng                                                                                                      \n",
       "2 Chu<U+1ED9>t máy tính có dây EDRA EM602 Ð<U+1ED9> Phân Gi<U+1EA3>i 1200 DPI, choi game, cho Laptop hàng chính hãng                                               \n",
       "3 Chu<U+1ED9>t máy tính có dây G5 ES, chu<U+1ED9>t gaming DPI 4 c<U+1EA5>p d<U+1ED9>, hi<U+1EC7>u <U+1EE9>ng dèn n<U+1EC1>n 7 màu- Hàng nh<U+1EAD>p kh<U+1EA9>u    \n",
       "4 Chu<U+1ED9>t máy tính Newmen G10 - Hàng Chính Hãng                                                                                                               \n",
       "5 Chu<U+1ED9>t máy tính van phòng T<U+1EB7>ng lót chu<U+1ED9>t cao c<U+1EA5>p                                                                                      \n",
       "6 Chu<U+1ED9>t van phòng có dây, chu<U+1ED9>t Game HXSJ A885 DPI 5500, RGB d<U+1ED5>i 7 màu liên t<U+1EE5>c, chuyên dùng cho laptop, máy tính, pc - Hàng chính hãng\n",
       "  Product_price Discount Sale_price Valuation  Shop                Brand \n",
       "1  60           0.05      57.1      low price                      Bossto\n",
       "2 148           0.00     148.0      good price Extreme Zero Online E-DRA \n",
       "3 129           0.00     129.0      good price HOÀNG NHÂN COMPUTER Zealot\n",
       "4 145           0.00     145.0      good price Vi Tính Lê Huy      Newme \n",
       "5 158           0.00     158.0      good price VLC6 Store          OEM   \n",
       "6 299           0.36     192.0      good price HXSJ Official Store HXSJ  \n",
       "  Warranty Warranty_way       \n",
       "1  0       0                  \n",
       "2 24       Tem b<U+1EA3>o hành\n",
       "3  3       Tem b<U+1EA3>o hành\n",
       "4  0       0                  \n",
       "5  0       0                  \n",
       "6  6       Hóa don            \n",
       "  Warranty_place                                         Quality      Sold\n",
       "1 0                                                      Good quality  364\n",
       "2 B<U+1EA3>o hành chính hãng                             High quality   85\n",
       "3 B<U+1EA3>o hành b<U+1EDF>i nhà bán hàng thông qua Tiki Good quality  185\n",
       "4 0                                                      Good quality 1000\n",
       "5 0                                                      Good quality   55\n",
       "6 B<U+1EA3>o hành b<U+1EDF>i nhà bán hàng thông qua Tiki Good quality   39\n",
       "  Liquidity Rate Comment X5  X4 X3 X2 X1\n",
       "1 Fast      4.7   93      78  8 5  0  2 \n",
       "2 Good      4.9   24      22  2 0  0  0 \n",
       "3 Good      4.7   64      53  7 0  1  3 \n",
       "4 Fast      4.7  135     106 20 6  0  3 \n",
       "5 Good      5.0    9       9  0 0  0  0 \n",
       "6 Slow      5.0   13      13  0 0  0  0 "
      ]
     },
     "metadata": {},
     "output_type": "display_data"
    }
   ],
   "source": [
    "head(df)"
   ]
  },
  {
   "cell_type": "code",
   "execution_count": 13,
   "id": "077ee5a5",
   "metadata": {},
   "outputs": [],
   "source": [
    "quantitative <- c('Product_price','Sale_price', 'Discount', 'Warranty', 'Sold', 'Rate', 'Comment', 'X5', 'X4', 'X3', 'X2', 'X1')\n",
    "categorical <- c('Valuation', 'Brand' ,'Warranty_way', 'Warranty_place', 'Liquidity')"
   ]
  },
  {
   "cell_type": "code",
   "execution_count": 14,
   "id": "fbf91e52",
   "metadata": {},
   "outputs": [],
   "source": [
    "# describe table \n",
    "\n",
    "#describe(df)"
   ]
  },
  {
   "cell_type": "code",
   "execution_count": 15,
   "id": "b0af00a4",
   "metadata": {},
   "outputs": [
    {
     "data": {
      "text/plain": [
       "     Name           Product_price       Discount         Sale_price    \n",
       " Length:253         Min.   :  35.0   Min.   :0.00000   Min.   :  30.0  \n",
       " Class :character   1st Qu.:  89.0   1st Qu.:0.00000   1st Qu.:  86.0  \n",
       " Mode  :character   Median : 123.0   Median :0.00000   Median : 120.0  \n",
       "                    Mean   : 209.9   Mean   :0.04628   Mean   : 193.5  \n",
       "                    3rd Qu.: 189.0   3rd Qu.:0.00000   3rd Qu.: 179.0  \n",
       "                    Max.   :6700.0   Max.   :0.88000   Max.   :6700.0  \n",
       "  Valuation             Shop              Brand              Warranty    \n",
       " Length:253         Length:253         Length:253         Min.   : 0.00  \n",
       " Class :character   Class :character   Class :character   1st Qu.: 0.00  \n",
       " Mode  :character   Mode  :character   Mode  :character   Median : 3.00  \n",
       "                                                          Mean   : 7.02  \n",
       "                                                          3rd Qu.:12.00  \n",
       "                                                          Max.   :84.00  \n",
       " Warranty_way       Warranty_place       Quality               Sold        \n",
       " Length:253         Length:253         Length:253         Min.   :   0.00  \n",
       " Class :character   Class :character   Class :character   1st Qu.:   0.00  \n",
       " Mode  :character   Mode  :character   Mode  :character   Median :   0.00  \n",
       "                                                          Mean   :  67.34  \n",
       "                                                          3rd Qu.:  21.00  \n",
       "                                                          Max.   :1000.00  \n",
       "  Liquidity              Rate          Comment              X5         \n",
       " Length:253         Min.   :0.000   Min.   :   0.00   Min.   :   0.00  \n",
       " Class :character   1st Qu.:0.000   1st Qu.:   0.00   1st Qu.:   0.00  \n",
       " Mode  :character   Median :0.000   Median :   0.00   Median :   0.00  \n",
       "                    Mean   :2.103   Mean   :  37.15   Mean   :  31.42  \n",
       "                    3rd Qu.:4.700   3rd Qu.:   5.00   3rd Qu.:   4.00  \n",
       "                    Max.   :5.000   Max.   :4945.00   Max.   :4338.00  \n",
       "       X4                X3                X2                X1         \n",
       " Min.   :  0.000   Min.   : 0.0000   Min.   : 0.0000   Min.   : 0.0000  \n",
       " 1st Qu.:  0.000   1st Qu.: 0.0000   1st Qu.: 0.0000   1st Qu.: 0.0000  \n",
       " Median :  0.000   Median : 0.0000   Median : 0.0000   Median : 0.0000  \n",
       " Mean   :  4.158   Mean   : 0.6996   Mean   : 0.2767   Mean   : 0.5929  \n",
       " 3rd Qu.:  1.000   3rd Qu.: 0.0000   3rd Qu.: 0.0000   3rd Qu.: 0.0000  \n",
       " Max.   :431.000   Max.   :63.0000   Max.   :37.0000   Max.   :76.0000  "
      ]
     },
     "metadata": {},
     "output_type": "display_data"
    }
   ],
   "source": [
    "summary(df)"
   ]
  },
  {
   "cell_type": "code",
   "execution_count": 16,
   "id": "81972e27",
   "metadata": {},
   "outputs": [
    {
     "data": {
      "text/html": [
       "<table class=\"dataframe\">\n",
       "<caption>A matrix: 12 × 12 of type dbl</caption>\n",
       "<thead>\n",
       "\t<tr><th></th><th scope=col>Product_price</th><th scope=col>Sale_price</th><th scope=col>Discount</th><th scope=col>Warranty</th><th scope=col>Sold</th><th scope=col>Rate</th><th scope=col>Comment</th><th scope=col>X5</th><th scope=col>X4</th><th scope=col>X3</th><th scope=col>X2</th><th scope=col>X1</th></tr>\n",
       "</thead>\n",
       "<tbody>\n",
       "\t<tr><th scope=row>Product_price</th><td>214591.51785</td><td> 2.064477e+05</td><td> 6.753269552</td><td>1.054459e+03</td><td>12608.642712</td><td> 68.03678051</td><td>1.246355e+04</td><td>1.068265e+04</td><td>1.086276e+03</td><td> 265.833198</td><td>142.832962702</td><td>2.859533e+02</td></tr>\n",
       "\t<tr><th scope=row>Sale_price</th><td>206447.72135</td><td> 2.051985e+05</td><td>-0.727436899</td><td>1.052770e+03</td><td>11725.276911</td><td> 44.06497669</td><td>1.246842e+04</td><td>1.070477e+04</td><td>1.075978e+03</td><td> 257.625901</td><td>143.903377251</td><td>2.861506e+02</td></tr>\n",
       "\t<tr><th scope=row>Discount</th><td>     6.75327</td><td>-7.274369e-01</td><td> 0.014544077</td><td>3.741499e-02</td><td>    2.622419</td><td>  0.05943243</td><td>1.363539e-01</td><td>3.943472e-02</td><td>7.523261e-02</td><td>   0.020189</td><td> -0.002102861</td><td>3.600445e-03</td></tr>\n",
       "\t<tr><th scope=row>Warranty</th><td>  1054.45883</td><td> 1.052770e+03</td><td> 0.037414988</td><td>9.089247e+01</td><td>  379.405954</td><td>  0.58684202</td><td>1.530953e+03</td><td>1.341254e+03</td><td>1.353064e+02</td><td>  19.339294</td><td> 11.565938892</td><td>2.348824e+01</td></tr>\n",
       "\t<tr><th scope=row>Sold</th><td> 12608.64271</td><td> 1.172528e+04</td><td> 2.622418753</td><td>3.794060e+02</td><td>36669.328440</td><td>166.48304787</td><td>2.769289e+04</td><td>2.390488e+04</td><td>2.825446e+03</td><td> 416.023151</td><td>183.857958467</td><td>3.626747e+02</td></tr>\n",
       "\t<tr><th scope=row>Rate</th><td>    68.03678</td><td> 4.406498e+01</td><td> 0.059432430</td><td>5.868420e-01</td><td>  166.483048</td><td>  5.22110107</td><td>9.940230e+01</td><td>8.443596e+01</td><td>1.101815e+01</td><td>   1.773970</td><td>  0.703883556</td><td>1.470340e+00</td></tr>\n",
       "\t<tr><th scope=row>Comment</th><td> 12463.54751</td><td> 1.246842e+04</td><td> 0.136353912</td><td>1.530953e+03</td><td>27692.885250</td><td> 99.40230096</td><td>1.003483e+05</td><td>8.786194e+04</td><td>8.955020e+03</td><td>1289.009583</td><td>737.906691135</td><td>1.504419e+03</td></tr>\n",
       "\t<tr><th scope=row>X5</th><td> 10682.65208</td><td> 1.070477e+04</td><td> 0.039434720</td><td>1.341254e+03</td><td>23904.883446</td><td> 84.43595897</td><td>8.786194e+04</td><td>7.694631e+04</td><td>7.825413e+03</td><td>1126.119612</td><td>646.334901813</td><td>1.317764e+03</td></tr>\n",
       "\t<tr><th scope=row>X4</th><td>  1086.27599</td><td> 1.075978e+03</td><td> 0.075232606</td><td>1.353064e+02</td><td> 2825.446044</td><td> 11.01814888</td><td>8.955020e+03</td><td>7.825413e+03</td><td>8.156178e+02</td><td> 116.333396</td><td> 65.146558755</td><td>1.325091e+02</td></tr>\n",
       "\t<tr><th scope=row>X3</th><td>   265.83320</td><td> 2.576259e+02</td><td> 0.020189002</td><td>1.933929e+01</td><td>  416.023151</td><td>  1.77396951</td><td>1.289010e+03</td><td>1.126120e+03</td><td>1.163334e+02</td><td>  17.480833</td><td>  9.567570111</td><td>1.950817e+01</td></tr>\n",
       "\t<tr><th scope=row>X2</th><td>   142.83296</td><td> 1.439034e+02</td><td>-0.002102861</td><td>1.156594e+01</td><td>  183.857958</td><td>  0.70388356</td><td>7.379067e+02</td><td>6.463349e+02</td><td>6.514656e+01</td><td>   9.567570</td><td>  5.605684171</td><td>1.125198e+01</td></tr>\n",
       "\t<tr><th scope=row>X1</th><td>   285.95327</td><td> 2.861506e+02</td><td> 0.003600445</td><td>2.348824e+01</td><td>  362.674650</td><td>  1.47034005</td><td>1.504419e+03</td><td>1.317764e+03</td><td>1.325091e+02</td><td>  19.508172</td><td> 11.251976285</td><td>2.338519e+01</td></tr>\n",
       "</tbody>\n",
       "</table>\n"
      ],
      "text/latex": [
       "A matrix: 12 × 12 of type dbl\n",
       "\\begin{tabular}{r|llllllllllll}\n",
       "  & Product\\_price & Sale\\_price & Discount & Warranty & Sold & Rate & Comment & X5 & X4 & X3 & X2 & X1\\\\\n",
       "\\hline\n",
       "\tProduct\\_price & 214591.51785 &  2.064477e+05 &  6.753269552 & 1.054459e+03 & 12608.642712 &  68.03678051 & 1.246355e+04 & 1.068265e+04 & 1.086276e+03 &  265.833198 & 142.832962702 & 2.859533e+02\\\\\n",
       "\tSale\\_price & 206447.72135 &  2.051985e+05 & -0.727436899 & 1.052770e+03 & 11725.276911 &  44.06497669 & 1.246842e+04 & 1.070477e+04 & 1.075978e+03 &  257.625901 & 143.903377251 & 2.861506e+02\\\\\n",
       "\tDiscount &      6.75327 & -7.274369e-01 &  0.014544077 & 3.741499e-02 &     2.622419 &   0.05943243 & 1.363539e-01 & 3.943472e-02 & 7.523261e-02 &    0.020189 &  -0.002102861 & 3.600445e-03\\\\\n",
       "\tWarranty &   1054.45883 &  1.052770e+03 &  0.037414988 & 9.089247e+01 &   379.405954 &   0.58684202 & 1.530953e+03 & 1.341254e+03 & 1.353064e+02 &   19.339294 &  11.565938892 & 2.348824e+01\\\\\n",
       "\tSold &  12608.64271 &  1.172528e+04 &  2.622418753 & 3.794060e+02 & 36669.328440 & 166.48304787 & 2.769289e+04 & 2.390488e+04 & 2.825446e+03 &  416.023151 & 183.857958467 & 3.626747e+02\\\\\n",
       "\tRate &     68.03678 &  4.406498e+01 &  0.059432430 & 5.868420e-01 &   166.483048 &   5.22110107 & 9.940230e+01 & 8.443596e+01 & 1.101815e+01 &    1.773970 &   0.703883556 & 1.470340e+00\\\\\n",
       "\tComment &  12463.54751 &  1.246842e+04 &  0.136353912 & 1.530953e+03 & 27692.885250 &  99.40230096 & 1.003483e+05 & 8.786194e+04 & 8.955020e+03 & 1289.009583 & 737.906691135 & 1.504419e+03\\\\\n",
       "\tX5 &  10682.65208 &  1.070477e+04 &  0.039434720 & 1.341254e+03 & 23904.883446 &  84.43595897 & 8.786194e+04 & 7.694631e+04 & 7.825413e+03 & 1126.119612 & 646.334901813 & 1.317764e+03\\\\\n",
       "\tX4 &   1086.27599 &  1.075978e+03 &  0.075232606 & 1.353064e+02 &  2825.446044 &  11.01814888 & 8.955020e+03 & 7.825413e+03 & 8.156178e+02 &  116.333396 &  65.146558755 & 1.325091e+02\\\\\n",
       "\tX3 &    265.83320 &  2.576259e+02 &  0.020189002 & 1.933929e+01 &   416.023151 &   1.77396951 & 1.289010e+03 & 1.126120e+03 & 1.163334e+02 &   17.480833 &   9.567570111 & 1.950817e+01\\\\\n",
       "\tX2 &    142.83296 &  1.439034e+02 & -0.002102861 & 1.156594e+01 &   183.857958 &   0.70388356 & 7.379067e+02 & 6.463349e+02 & 6.514656e+01 &    9.567570 &   5.605684171 & 1.125198e+01\\\\\n",
       "\tX1 &    285.95327 &  2.861506e+02 &  0.003600445 & 2.348824e+01 &   362.674650 &   1.47034005 & 1.504419e+03 & 1.317764e+03 & 1.325091e+02 &   19.508172 &  11.251976285 & 2.338519e+01\\\\\n",
       "\\end{tabular}\n"
      ],
      "text/markdown": [
       "\n",
       "A matrix: 12 × 12 of type dbl\n",
       "\n",
       "| <!--/--> | Product_price | Sale_price | Discount | Warranty | Sold | Rate | Comment | X5 | X4 | X3 | X2 | X1 |\n",
       "|---|---|---|---|---|---|---|---|---|---|---|---|---|\n",
       "| Product_price | 214591.51785 |  2.064477e+05 |  6.753269552 | 1.054459e+03 | 12608.642712 |  68.03678051 | 1.246355e+04 | 1.068265e+04 | 1.086276e+03 |  265.833198 | 142.832962702 | 2.859533e+02 |\n",
       "| Sale_price | 206447.72135 |  2.051985e+05 | -0.727436899 | 1.052770e+03 | 11725.276911 |  44.06497669 | 1.246842e+04 | 1.070477e+04 | 1.075978e+03 |  257.625901 | 143.903377251 | 2.861506e+02 |\n",
       "| Discount |      6.75327 | -7.274369e-01 |  0.014544077 | 3.741499e-02 |     2.622419 |   0.05943243 | 1.363539e-01 | 3.943472e-02 | 7.523261e-02 |    0.020189 |  -0.002102861 | 3.600445e-03 |\n",
       "| Warranty |   1054.45883 |  1.052770e+03 |  0.037414988 | 9.089247e+01 |   379.405954 |   0.58684202 | 1.530953e+03 | 1.341254e+03 | 1.353064e+02 |   19.339294 |  11.565938892 | 2.348824e+01 |\n",
       "| Sold |  12608.64271 |  1.172528e+04 |  2.622418753 | 3.794060e+02 | 36669.328440 | 166.48304787 | 2.769289e+04 | 2.390488e+04 | 2.825446e+03 |  416.023151 | 183.857958467 | 3.626747e+02 |\n",
       "| Rate |     68.03678 |  4.406498e+01 |  0.059432430 | 5.868420e-01 |   166.483048 |   5.22110107 | 9.940230e+01 | 8.443596e+01 | 1.101815e+01 |    1.773970 |   0.703883556 | 1.470340e+00 |\n",
       "| Comment |  12463.54751 |  1.246842e+04 |  0.136353912 | 1.530953e+03 | 27692.885250 |  99.40230096 | 1.003483e+05 | 8.786194e+04 | 8.955020e+03 | 1289.009583 | 737.906691135 | 1.504419e+03 |\n",
       "| X5 |  10682.65208 |  1.070477e+04 |  0.039434720 | 1.341254e+03 | 23904.883446 |  84.43595897 | 8.786194e+04 | 7.694631e+04 | 7.825413e+03 | 1126.119612 | 646.334901813 | 1.317764e+03 |\n",
       "| X4 |   1086.27599 |  1.075978e+03 |  0.075232606 | 1.353064e+02 |  2825.446044 |  11.01814888 | 8.955020e+03 | 7.825413e+03 | 8.156178e+02 |  116.333396 |  65.146558755 | 1.325091e+02 |\n",
       "| X3 |    265.83320 |  2.576259e+02 |  0.020189002 | 1.933929e+01 |   416.023151 |   1.77396951 | 1.289010e+03 | 1.126120e+03 | 1.163334e+02 |   17.480833 |   9.567570111 | 1.950817e+01 |\n",
       "| X2 |    142.83296 |  1.439034e+02 | -0.002102861 | 1.156594e+01 |   183.857958 |   0.70388356 | 7.379067e+02 | 6.463349e+02 | 6.514656e+01 |    9.567570 |   5.605684171 | 1.125198e+01 |\n",
       "| X1 |    285.95327 |  2.861506e+02 |  0.003600445 | 2.348824e+01 |   362.674650 |   1.47034005 | 1.504419e+03 | 1.317764e+03 | 1.325091e+02 |   19.508172 |  11.251976285 | 2.338519e+01 |\n",
       "\n"
      ],
      "text/plain": [
       "              Product_price Sale_price    Discount     Warranty    \n",
       "Product_price 214591.51785   2.064477e+05  6.753269552 1.054459e+03\n",
       "Sale_price    206447.72135   2.051985e+05 -0.727436899 1.052770e+03\n",
       "Discount           6.75327  -7.274369e-01  0.014544077 3.741499e-02\n",
       "Warranty        1054.45883   1.052770e+03  0.037414988 9.089247e+01\n",
       "Sold           12608.64271   1.172528e+04  2.622418753 3.794060e+02\n",
       "Rate              68.03678   4.406498e+01  0.059432430 5.868420e-01\n",
       "Comment        12463.54751   1.246842e+04  0.136353912 1.530953e+03\n",
       "X5             10682.65208   1.070477e+04  0.039434720 1.341254e+03\n",
       "X4              1086.27599   1.075978e+03  0.075232606 1.353064e+02\n",
       "X3               265.83320   2.576259e+02  0.020189002 1.933929e+01\n",
       "X2               142.83296   1.439034e+02 -0.002102861 1.156594e+01\n",
       "X1               285.95327   2.861506e+02  0.003600445 2.348824e+01\n",
       "              Sold         Rate         Comment      X5           X4          \n",
       "Product_price 12608.642712  68.03678051 1.246355e+04 1.068265e+04 1.086276e+03\n",
       "Sale_price    11725.276911  44.06497669 1.246842e+04 1.070477e+04 1.075978e+03\n",
       "Discount          2.622419   0.05943243 1.363539e-01 3.943472e-02 7.523261e-02\n",
       "Warranty        379.405954   0.58684202 1.530953e+03 1.341254e+03 1.353064e+02\n",
       "Sold          36669.328440 166.48304787 2.769289e+04 2.390488e+04 2.825446e+03\n",
       "Rate            166.483048   5.22110107 9.940230e+01 8.443596e+01 1.101815e+01\n",
       "Comment       27692.885250  99.40230096 1.003483e+05 8.786194e+04 8.955020e+03\n",
       "X5            23904.883446  84.43595897 8.786194e+04 7.694631e+04 7.825413e+03\n",
       "X4             2825.446044  11.01814888 8.955020e+03 7.825413e+03 8.156178e+02\n",
       "X3              416.023151   1.77396951 1.289010e+03 1.126120e+03 1.163334e+02\n",
       "X2              183.857958   0.70388356 7.379067e+02 6.463349e+02 6.514656e+01\n",
       "X1              362.674650   1.47034005 1.504419e+03 1.317764e+03 1.325091e+02\n",
       "              X3          X2            X1          \n",
       "Product_price  265.833198 142.832962702 2.859533e+02\n",
       "Sale_price     257.625901 143.903377251 2.861506e+02\n",
       "Discount         0.020189  -0.002102861 3.600445e-03\n",
       "Warranty        19.339294  11.565938892 2.348824e+01\n",
       "Sold           416.023151 183.857958467 3.626747e+02\n",
       "Rate             1.773970   0.703883556 1.470340e+00\n",
       "Comment       1289.009583 737.906691135 1.504419e+03\n",
       "X5            1126.119612 646.334901813 1.317764e+03\n",
       "X4             116.333396  65.146558755 1.325091e+02\n",
       "X3              17.480833   9.567570111 1.950817e+01\n",
       "X2               9.567570   5.605684171 1.125198e+01\n",
       "X1              19.508172  11.251976285 2.338519e+01"
      ]
     },
     "metadata": {},
     "output_type": "display_data"
    }
   ],
   "source": [
    "var(df[,c(quantitative)])"
   ]
  },
  {
   "cell_type": "code",
   "execution_count": 17,
   "id": "afd83c5c",
   "metadata": {},
   "outputs": [],
   "source": [
    "Mode <- function(dataframe){\n",
    "    mode <- c()\n",
    "    name <- c()\n",
    "\n",
    "    getmode <- function(v) {\n",
    "        uniqv <- unique(v)\n",
    "        uniqv[which.max(tabulate(match(v, uniqv)))]\n",
    "    }\n",
    "    for (i in names(dataframe)){\n",
    "        name <- c(name,i)\n",
    "    } \n",
    "    for (i in 1:length(dataframe)){\n",
    "        mode <- c(mode, getmode(df[,i]))\n",
    "    }\n",
    "    data.frame(name,mode)\n",
    "}"
   ]
  },
  {
   "cell_type": "code",
   "execution_count": 18,
   "id": "a30e44f9",
   "metadata": {},
   "outputs": [
    {
     "data": {
      "text/html": [
       "<table class=\"dataframe\">\n",
       "<caption>A data.frame: 20 × 2</caption>\n",
       "<thead>\n",
       "\t<tr><th scope=col>name</th><th scope=col>mode</th></tr>\n",
       "\t<tr><th scope=col>&lt;chr&gt;</th><th scope=col>&lt;chr&gt;</th></tr>\n",
       "</thead>\n",
       "<tbody>\n",
       "\t<tr><td><span style=white-space:pre-wrap>Name          </span></td><td>Chu&lt;U+1ED9&gt;t máy tính có dây G3SE thi&lt;U+1EBF&gt;t k&lt;U+1EBF&gt; nh&lt;U+1ECF&gt; g&lt;U+1ECD&gt;n, Led bao quanh d&lt;U+1EB9&gt;p m&lt;U+1EAF&gt;t, DPI tùy ch&lt;U+1EC9&gt;nh</td></tr>\n",
       "\t<tr><td>Product_price </td><td>99                                                                                                                                       </td></tr>\n",
       "\t<tr><td>Discount      </td><td>0                                                                                                                                        </td></tr>\n",
       "\t<tr><td>Sale_price    </td><td>99                                                                                                                                       </td></tr>\n",
       "\t<tr><td>Valuation     </td><td>good price                                                                                                                               </td></tr>\n",
       "\t<tr><td>Shop          </td><td>                                                                                                                                         </td></tr>\n",
       "\t<tr><td>Brand         </td><td>OEM                                                                                                                                      </td></tr>\n",
       "\t<tr><td>Warranty      </td><td>0                                                                                                                                        </td></tr>\n",
       "\t<tr><td>Warranty_way  </td><td>0                                                                                                                                        </td></tr>\n",
       "\t<tr><td>Warranty_place</td><td>0                                                                                                                                        </td></tr>\n",
       "\t<tr><td>Quality       </td><td>Unknown                                                                                                                                  </td></tr>\n",
       "\t<tr><td>Sold          </td><td>0                                                                                                                                        </td></tr>\n",
       "\t<tr><td>Liquidity     </td><td>Slow                                                                                                                                     </td></tr>\n",
       "\t<tr><td>Rate          </td><td>0                                                                                                                                        </td></tr>\n",
       "\t<tr><td>Comment       </td><td>0                                                                                                                                        </td></tr>\n",
       "\t<tr><td>X5            </td><td>0                                                                                                                                        </td></tr>\n",
       "\t<tr><td>X4            </td><td>0                                                                                                                                        </td></tr>\n",
       "\t<tr><td>X3            </td><td>0                                                                                                                                        </td></tr>\n",
       "\t<tr><td>X2            </td><td>0                                                                                                                                        </td></tr>\n",
       "\t<tr><td>X1            </td><td>0                                                                                                                                        </td></tr>\n",
       "</tbody>\n",
       "</table>\n"
      ],
      "text/latex": [
       "A data.frame: 20 × 2\n",
       "\\begin{tabular}{ll}\n",
       " name & mode\\\\\n",
       " <chr> & <chr>\\\\\n",
       "\\hline\n",
       "\t Name           & Chu<U+1ED9>t máy tính có dây G3SE thi<U+1EBF>t k<U+1EBF> nh<U+1ECF> g<U+1ECD>n, Led bao quanh d<U+1EB9>p m<U+1EAF>t, DPI tùy ch<U+1EC9>nh\\\\\n",
       "\t Product\\_price  & 99                                                                                                                                       \\\\\n",
       "\t Discount       & 0                                                                                                                                        \\\\\n",
       "\t Sale\\_price     & 99                                                                                                                                       \\\\\n",
       "\t Valuation      & good price                                                                                                                               \\\\\n",
       "\t Shop           &                                                                                                                                          \\\\\n",
       "\t Brand          & OEM                                                                                                                                      \\\\\n",
       "\t Warranty       & 0                                                                                                                                        \\\\\n",
       "\t Warranty\\_way   & 0                                                                                                                                        \\\\\n",
       "\t Warranty\\_place & 0                                                                                                                                        \\\\\n",
       "\t Quality        & Unknown                                                                                                                                  \\\\\n",
       "\t Sold           & 0                                                                                                                                        \\\\\n",
       "\t Liquidity      & Slow                                                                                                                                     \\\\\n",
       "\t Rate           & 0                                                                                                                                        \\\\\n",
       "\t Comment        & 0                                                                                                                                        \\\\\n",
       "\t X5             & 0                                                                                                                                        \\\\\n",
       "\t X4             & 0                                                                                                                                        \\\\\n",
       "\t X3             & 0                                                                                                                                        \\\\\n",
       "\t X2             & 0                                                                                                                                        \\\\\n",
       "\t X1             & 0                                                                                                                                        \\\\\n",
       "\\end{tabular}\n"
      ],
      "text/markdown": [
       "\n",
       "A data.frame: 20 × 2\n",
       "\n",
       "| name &lt;chr&gt; | mode &lt;chr&gt; |\n",
       "|---|---|\n",
       "| Name           | Chu&lt;U+1ED9&gt;t máy tính có dây G3SE thi&lt;U+1EBF&gt;t k&lt;U+1EBF&gt; nh&lt;U+1ECF&gt; g&lt;U+1ECD&gt;n, Led bao quanh d&lt;U+1EB9&gt;p m&lt;U+1EAF&gt;t, DPI tùy ch&lt;U+1EC9&gt;nh |\n",
       "| Product_price  | 99                                                                                                                                        |\n",
       "| Discount       | 0                                                                                                                                         |\n",
       "| Sale_price     | 99                                                                                                                                        |\n",
       "| Valuation      | good price                                                                                                                                |\n",
       "| Shop           | <!----> |\n",
       "| Brand          | OEM                                                                                                                                       |\n",
       "| Warranty       | 0                                                                                                                                         |\n",
       "| Warranty_way   | 0                                                                                                                                         |\n",
       "| Warranty_place | 0                                                                                                                                         |\n",
       "| Quality        | Unknown                                                                                                                                   |\n",
       "| Sold           | 0                                                                                                                                         |\n",
       "| Liquidity      | Slow                                                                                                                                      |\n",
       "| Rate           | 0                                                                                                                                         |\n",
       "| Comment        | 0                                                                                                                                         |\n",
       "| X5             | 0                                                                                                                                         |\n",
       "| X4             | 0                                                                                                                                         |\n",
       "| X3             | 0                                                                                                                                         |\n",
       "| X2             | 0                                                                                                                                         |\n",
       "| X1             | 0                                                                                                                                         |\n",
       "\n"
      ],
      "text/plain": [
       "   name          \n",
       "1  Name          \n",
       "2  Product_price \n",
       "3  Discount      \n",
       "4  Sale_price    \n",
       "5  Valuation     \n",
       "6  Shop          \n",
       "7  Brand         \n",
       "8  Warranty      \n",
       "9  Warranty_way  \n",
       "10 Warranty_place\n",
       "11 Quality       \n",
       "12 Sold          \n",
       "13 Liquidity     \n",
       "14 Rate          \n",
       "15 Comment       \n",
       "16 X5            \n",
       "17 X4            \n",
       "18 X3            \n",
       "19 X2            \n",
       "20 X1            \n",
       "   mode                                                                                                                                     \n",
       "1  Chu<U+1ED9>t máy tính có dây G3SE thi<U+1EBF>t k<U+1EBF> nh<U+1ECF> g<U+1ECD>n, Led bao quanh d<U+1EB9>p m<U+1EAF>t, DPI tùy ch<U+1EC9>nh\n",
       "2  99                                                                                                                                       \n",
       "3  0                                                                                                                                        \n",
       "4  99                                                                                                                                       \n",
       "5  good price                                                                                                                               \n",
       "6                                                                                                                                           \n",
       "7  OEM                                                                                                                                      \n",
       "8  0                                                                                                                                        \n",
       "9  0                                                                                                                                        \n",
       "10 0                                                                                                                                        \n",
       "11 Unknown                                                                                                                                  \n",
       "12 0                                                                                                                                        \n",
       "13 Slow                                                                                                                                     \n",
       "14 0                                                                                                                                        \n",
       "15 0                                                                                                                                        \n",
       "16 0                                                                                                                                        \n",
       "17 0                                                                                                                                        \n",
       "18 0                                                                                                                                        \n",
       "19 0                                                                                                                                        \n",
       "20 0                                                                                                                                        "
      ]
     },
     "metadata": {},
     "output_type": "display_data"
    }
   ],
   "source": [
    "Mode(df)"
   ]
  },
  {
   "cell_type": "code",
   "execution_count": 19,
   "id": "413474eb",
   "metadata": {},
   "outputs": [],
   "source": [
    "# dependencies between values"
   ]
  },
  {
   "cell_type": "code",
   "execution_count": 20,
   "id": "ec10583c",
   "metadata": {},
   "outputs": [],
   "source": [
    "# plot of dependencies value"
   ]
  },
  {
   "cell_type": "markdown",
   "id": "ef102b6b",
   "metadata": {},
   "source": [
    "# Data Visualization( Trực quan hóa dữ liệu)\n",
    "\n",
    "Việc trực quan hóa dữ liệu giúp ta có một cái nhìn rõ ràng và thêm tổng quát hơn về dữ liệu, giúp nhìn nhận rõ ràng những vấn đề của dữ liệu và so sánh một cách dễ dàng"
   ]
  },
  {
   "cell_type": "code",
   "execution_count": 55,
   "id": "1f348b3f",
   "metadata": {},
   "outputs": [
    {
     "data": {
      "text/html": [
       "<table class=\"dataframe\">\n",
       "<caption>A data.frame: 10 × 2</caption>\n",
       "<thead>\n",
       "\t<tr><th></th><th scope=col>Brand</th><th scope=col>Sold</th></tr>\n",
       "\t<tr><th></th><th scope=col>&lt;chr&gt;</th><th scope=col>&lt;dbl&gt;</th></tr>\n",
       "</thead>\n",
       "<tbody>\n",
       "\t<tr><th scope=row>1</th><td>-WOLF    </td><td>   0</td></tr>\n",
       "\t<tr><th scope=row>2</th><td>A4Tec    </td><td> 170</td></tr>\n",
       "\t<tr><th scope=row>3</th><td>ACTTO    </td><td>   0</td></tr>\n",
       "\t<tr><th scope=row>4</th><td>ADBLink  </td><td>   0</td></tr>\n",
       "\t<tr><th scope=row>5</th><td>Ajazz    </td><td>   0</td></tr>\n",
       "\t<tr><th scope=row>6</th><td>AKKO     </td><td>   0</td></tr>\n",
       "\t<tr><th scope=row>7</th><td>amayoko  </td><td>2318</td></tr>\n",
       "\t<tr><th scope=row>8</th><td>APEDRA   </td><td>  19</td></tr>\n",
       "\t<tr><th scope=row>9</th><td>argus    </td><td>   0</td></tr>\n",
       "\t<tr><th scope=row>10</th><td>Assassins</td><td>  18</td></tr>\n",
       "</tbody>\n",
       "</table>\n"
      ],
      "text/latex": [
       "A data.frame: 10 × 2\n",
       "\\begin{tabular}{r|ll}\n",
       "  & Brand & Sold\\\\\n",
       "  & <chr> & <dbl>\\\\\n",
       "\\hline\n",
       "\t1 & -WOLF     &    0\\\\\n",
       "\t2 & A4Tec     &  170\\\\\n",
       "\t3 & ACTTO     &    0\\\\\n",
       "\t4 & ADBLink   &    0\\\\\n",
       "\t5 & Ajazz     &    0\\\\\n",
       "\t6 & AKKO      &    0\\\\\n",
       "\t7 & amayoko   & 2318\\\\\n",
       "\t8 & APEDRA    &   19\\\\\n",
       "\t9 & argus     &    0\\\\\n",
       "\t10 & Assassins &   18\\\\\n",
       "\\end{tabular}\n"
      ],
      "text/markdown": [
       "\n",
       "A data.frame: 10 × 2\n",
       "\n",
       "| <!--/--> | Brand &lt;chr&gt; | Sold &lt;dbl&gt; |\n",
       "|---|---|---|\n",
       "| 1 | -WOLF     |    0 |\n",
       "| 2 | A4Tec     |  170 |\n",
       "| 3 | ACTTO     |    0 |\n",
       "| 4 | ADBLink   |    0 |\n",
       "| 5 | Ajazz     |    0 |\n",
       "| 6 | AKKO      |    0 |\n",
       "| 7 | amayoko   | 2318 |\n",
       "| 8 | APEDRA    |   19 |\n",
       "| 9 | argus     |    0 |\n",
       "| 10 | Assassins |   18 |\n",
       "\n"
      ],
      "text/plain": [
       "   Brand     Sold\n",
       "1  -WOLF        0\n",
       "2  A4Tec      170\n",
       "3  ACTTO        0\n",
       "4  ADBLink      0\n",
       "5  Ajazz        0\n",
       "6  AKKO         0\n",
       "7  amayoko   2318\n",
       "8  APEDRA      19\n",
       "9  argus        0\n",
       "10 Assassins   18"
      ]
     },
     "metadata": {},
     "output_type": "display_data"
    }
   ],
   "source": [
    "data = aggregate(Sold ~ Brand, df, sum)\n",
    "head(data, 10)"
   ]
  },
  {
   "cell_type": "code",
   "execution_count": 54,
   "id": "ae60ed7b",
   "metadata": {},
   "outputs": [
    {
     "name": "stderr",
     "output_type": "stream",
     "text": [
      "Your code contains a unicode char which cannot be displayed in your\n",
      "current locale and R will silently convert it to an escaped form when the\n",
      "R kernel executes this code. This can lead to subtle errors if you use\n",
      "such chars to do comparisons. For more information, please see\n",
      "https://github.com/IRkernel/repr/wiki/Problems-with-unicode-on-windows"
     ]
    },
    {
     "data": {
      "image/png": "[encoded data removed]",
      "text/plain": [
       "plot without title"
      ]
     },
     "metadata": {
      "image/png": {
       "height": 420,
       "width": 420
      }
     },
     "output_type": "display_data"
    }
   ],
   "source": [
    "# Biểu đồ thể hiện số lượng sản phẩm bán được giữa các brand\n",
    "\n",
    "ggplot(data, aes(x=Brand, y=Sold)) + \n",
    "  geom_bar(stat = \"identity\") + \n",
    "  coord_flip()"
   ]
  },
  {
   "cell_type": "code",
   "execution_count": 23,
   "id": "da54f445",
   "metadata": {},
   "outputs": [
    {
     "data": {
      "text/html": [
       "<table class=\"dataframe\">\n",
       "<caption>A data.frame: 3 × 2</caption>\n",
       "<thead>\n",
       "\t<tr><th scope=col>Group.1</th><th scope=col>x</th></tr>\n",
       "\t<tr><th scope=col>&lt;chr&gt;</th><th scope=col>&lt;int&gt;</th></tr>\n",
       "</thead>\n",
       "<tbody>\n",
       "\t<tr><td>good price</td><td>139</td></tr>\n",
       "\t<tr><td>high price</td><td> 16</td></tr>\n",
       "\t<tr><td>low price </td><td> 98</td></tr>\n",
       "</tbody>\n",
       "</table>\n"
      ],
      "text/latex": [
       "A data.frame: 3 × 2\n",
       "\\begin{tabular}{ll}\n",
       " Group.1 & x\\\\\n",
       " <chr> & <int>\\\\\n",
       "\\hline\n",
       "\t good price & 139\\\\\n",
       "\t high price &  16\\\\\n",
       "\t low price  &  98\\\\\n",
       "\\end{tabular}\n"
      ],
      "text/markdown": [
       "\n",
       "A data.frame: 3 × 2\n",
       "\n",
       "| Group.1 &lt;chr&gt; | x &lt;int&gt; |\n",
       "|---|---|\n",
       "| good price | 139 |\n",
       "| high price |  16 |\n",
       "| low price  |  98 |\n",
       "\n"
      ],
      "text/plain": [
       "  Group.1    x  \n",
       "1 good price 139\n",
       "2 high price  16\n",
       "3 low price   98"
      ]
     },
     "metadata": {},
     "output_type": "display_data"
    }
   ],
   "source": [
    "data = aggregate(df$Valuation, by=list(df$Valuation), FUN=length)\n",
    "data\n"
   ]
  },
  {
   "cell_type": "code",
   "execution_count": 24,
   "id": "a52fd560",
   "metadata": {},
   "outputs": [
    {
     "data": {
      "text/html": [
       "<table class=\"dataframe\">\n",
       "<caption>A data.frame: 3 × 2</caption>\n",
       "<thead>\n",
       "\t<tr><th scope=col>Group.1</th><th scope=col>x</th></tr>\n",
       "\t<tr><th scope=col>&lt;chr&gt;</th><th scope=col>&lt;int&gt;</th></tr>\n",
       "</thead>\n",
       "<tbody>\n",
       "\t<tr><td>Fast</td><td> 18</td></tr>\n",
       "\t<tr><td>Good</td><td> 29</td></tr>\n",
       "\t<tr><td>Slow</td><td>206</td></tr>\n",
       "</tbody>\n",
       "</table>\n"
      ],
      "text/latex": [
       "A data.frame: 3 × 2\n",
       "\\begin{tabular}{ll}\n",
       " Group.1 & x\\\\\n",
       " <chr> & <int>\\\\\n",
       "\\hline\n",
       "\t Fast &  18\\\\\n",
       "\t Good &  29\\\\\n",
       "\t Slow & 206\\\\\n",
       "\\end{tabular}\n"
      ],
      "text/markdown": [
       "\n",
       "A data.frame: 3 × 2\n",
       "\n",
       "| Group.1 &lt;chr&gt; | x &lt;int&gt; |\n",
       "|---|---|\n",
       "| Fast |  18 |\n",
       "| Good |  29 |\n",
       "| Slow | 206 |\n",
       "\n"
      ],
      "text/plain": [
       "  Group.1 x  \n",
       "1 Fast     18\n",
       "2 Good     29\n",
       "3 Slow    206"
      ]
     },
     "metadata": {},
     "output_type": "display_data"
    }
   ],
   "source": [
    "data = aggregate(df$Liquidity, by=list(df$Liquidity), FUN=length)\n",
    "data"
   ]
  },
  {
   "cell_type": "code",
   "execution_count": 45,
   "id": "63abba9d",
   "metadata": {},
   "outputs": [
    {
     "data": {
      "text/html": [
       "<table class=\"dataframe\">\n",
       "<caption>A data.frame: 4 × 2</caption>\n",
       "<thead>\n",
       "\t<tr><th scope=col>Group.1</th><th scope=col>x</th></tr>\n",
       "\t<tr><th scope=col>&lt;chr&gt;</th><th scope=col>&lt;int&gt;</th></tr>\n",
       "</thead>\n",
       "<tbody>\n",
       "\t<tr><td>Good quality</td><td> 56</td></tr>\n",
       "\t<tr><td>High quality</td><td> 15</td></tr>\n",
       "\t<tr><td>Low quality </td><td> 49</td></tr>\n",
       "\t<tr><td>Unknown     </td><td>133</td></tr>\n",
       "</tbody>\n",
       "</table>\n"
      ],
      "text/latex": [
       "A data.frame: 4 × 2\n",
       "\\begin{tabular}{ll}\n",
       " Group.1 & x\\\\\n",
       " <chr> & <int>\\\\\n",
       "\\hline\n",
       "\t Good quality &  56\\\\\n",
       "\t High quality &  15\\\\\n",
       "\t Low quality  &  49\\\\\n",
       "\t Unknown      & 133\\\\\n",
       "\\end{tabular}\n"
      ],
      "text/markdown": [
       "\n",
       "A data.frame: 4 × 2\n",
       "\n",
       "| Group.1 &lt;chr&gt; | x &lt;int&gt; |\n",
       "|---|---|\n",
       "| Good quality |  56 |\n",
       "| High quality |  15 |\n",
       "| Low quality  |  49 |\n",
       "| Unknown      | 133 |\n",
       "\n"
      ],
      "text/plain": [
       "  Group.1      x  \n",
       "1 Good quality  56\n",
       "2 High quality  15\n",
       "3 Low quality   49\n",
       "4 Unknown      133"
      ]
     },
     "metadata": {},
     "output_type": "display_data"
    }
   ],
   "source": [
    "data = aggregate(df$Quality, by=list(df$Quality), FUN=length)\n",
    "data"
   ]
  },
  {
   "cell_type": "code",
   "execution_count": 49,
   "id": "4ef0c6e7",
   "metadata": {},
   "outputs": [
    {
     "data": {
      "image/png": "[encoded data removed]",
      "text/plain": [
       "Plot with title \"Compare the number of quality\""
      ]
     },
     "metadata": {
      "image/png": {
       "height": 420,
       "width": 420
      }
     },
     "output_type": "display_data"
    }
   ],
   "source": [
    "barplot(height=data$x, names=data$Group.1,\n",
    "        col=\"#69b3a2\",\n",
    "        horiz=T, las=0,\n",
    "        xlab=\"Quantily\", \n",
    "        main=\"Compare the number of quality\",\n",
    "        )"
   ]
  },
  {
   "cell_type": "code",
   "execution_count": 36,
   "id": "57af9d5e",
   "metadata": {},
   "outputs": [
    {
     "data": {
      "text/html": [
       "<table class=\"dataframe\">\n",
       "<caption>A data.frame: 8 × 3</caption>\n",
       "<thead>\n",
       "\t<tr><th scope=col>liq</th><th scope=col>Val</th><th scope=col>Num</th></tr>\n",
       "\t<tr><th scope=col>&lt;chr&gt;</th><th scope=col>&lt;chr&gt;</th><th scope=col>&lt;int&gt;</th></tr>\n",
       "</thead>\n",
       "<tbody>\n",
       "\t<tr><td>Fast</td><td>good price</td><td> 12</td></tr>\n",
       "\t<tr><td>Fast</td><td>high price</td><td>  4</td></tr>\n",
       "\t<tr><td>Fast</td><td>low price </td><td>  2</td></tr>\n",
       "\t<tr><td>Good</td><td>good price</td><td> 18</td></tr>\n",
       "\t<tr><td>Good</td><td>low price </td><td> 11</td></tr>\n",
       "\t<tr><td>Slow</td><td>good price</td><td>109</td></tr>\n",
       "\t<tr><td>Slow</td><td>high price</td><td> 12</td></tr>\n",
       "\t<tr><td>Slow</td><td>low price </td><td> 85</td></tr>\n",
       "</tbody>\n",
       "</table>\n"
      ],
      "text/latex": [
       "A data.frame: 8 × 3\n",
       "\\begin{tabular}{lll}\n",
       " liq & Val & Num\\\\\n",
       " <chr> & <chr> & <int>\\\\\n",
       "\\hline\n",
       "\t Fast & good price &  12\\\\\n",
       "\t Fast & high price &   4\\\\\n",
       "\t Fast & low price  &   2\\\\\n",
       "\t Good & good price &  18\\\\\n",
       "\t Good & low price  &  11\\\\\n",
       "\t Slow & good price & 109\\\\\n",
       "\t Slow & high price &  12\\\\\n",
       "\t Slow & low price  &  85\\\\\n",
       "\\end{tabular}\n"
      ],
      "text/markdown": [
       "\n",
       "A data.frame: 8 × 3\n",
       "\n",
       "| liq &lt;chr&gt; | Val &lt;chr&gt; | Num &lt;int&gt; |\n",
       "|---|---|---|\n",
       "| Fast | good price |  12 |\n",
       "| Fast | high price |   4 |\n",
       "| Fast | low price  |   2 |\n",
       "| Good | good price |  18 |\n",
       "| Good | low price  |  11 |\n",
       "| Slow | good price | 109 |\n",
       "| Slow | high price |  12 |\n",
       "| Slow | low price  |  85 |\n",
       "\n"
      ],
      "text/plain": [
       "  liq  Val        Num\n",
       "1 Fast good price  12\n",
       "2 Fast high price   4\n",
       "3 Fast low price    2\n",
       "4 Good good price  18\n",
       "5 Good low price   11\n",
       "6 Slow good price 109\n",
       "7 Slow high price  12\n",
       "8 Slow low price   85"
      ]
     },
     "metadata": {},
     "output_type": "display_data"
    }
   ],
   "source": [
    "\n",
    "counts <- ddply(df, .(df$Liquidity, df$Valuation), nrow)\n",
    "names(counts) <- c('liq', 'Val', 'Num')\n",
    "counts"
   ]
  },
  {
   "cell_type": "code",
   "execution_count": 37,
   "id": "60be172b",
   "metadata": {},
   "outputs": [],
   "source": [
    "fast <- counts[1:3,]\n",
    "good <- counts[4:5,]\n",
    "slow <- counts[6:9,]"
   ]
  },
  {
   "cell_type": "code",
   "execution_count": 38,
   "id": "b7ae5b6d",
   "metadata": {},
   "outputs": [
    {
     "data": {
      "text/html": [
       "<table class=\"dataframe\">\n",
       "<caption>A data.frame: 3 × 3</caption>\n",
       "<thead>\n",
       "\t<tr><th></th><th scope=col>liq</th><th scope=col>Val</th><th scope=col>Num</th></tr>\n",
       "\t<tr><th></th><th scope=col>&lt;chr&gt;</th><th scope=col>&lt;chr&gt;</th><th scope=col>&lt;int&gt;</th></tr>\n",
       "</thead>\n",
       "<tbody>\n",
       "\t<tr><th scope=row>1</th><td>Fast</td><td>good price</td><td>12</td></tr>\n",
       "\t<tr><th scope=row>2</th><td>Fast</td><td>high price</td><td> 4</td></tr>\n",
       "\t<tr><th scope=row>3</th><td>Fast</td><td>low price </td><td> 2</td></tr>\n",
       "</tbody>\n",
       "</table>\n"
      ],
      "text/latex": [
       "A data.frame: 3 × 3\n",
       "\\begin{tabular}{r|lll}\n",
       "  & liq & Val & Num\\\\\n",
       "  & <chr> & <chr> & <int>\\\\\n",
       "\\hline\n",
       "\t1 & Fast & good price & 12\\\\\n",
       "\t2 & Fast & high price &  4\\\\\n",
       "\t3 & Fast & low price  &  2\\\\\n",
       "\\end{tabular}\n"
      ],
      "text/markdown": [
       "\n",
       "A data.frame: 3 × 3\n",
       "\n",
       "| <!--/--> | liq &lt;chr&gt; | Val &lt;chr&gt; | Num &lt;int&gt; |\n",
       "|---|---|---|---|\n",
       "| 1 | Fast | good price | 12 |\n",
       "| 2 | Fast | high price |  4 |\n",
       "| 3 | Fast | low price  |  2 |\n",
       "\n"
      ],
      "text/plain": [
       "  liq  Val        Num\n",
       "1 Fast good price 12 \n",
       "2 Fast high price  4 \n",
       "3 Fast low price   2 "
      ]
     },
     "metadata": {},
     "output_type": "display_data"
    }
   ],
   "source": [
    "fast"
   ]
  },
  {
   "cell_type": "code",
   "execution_count": 43,
   "id": "56f8997a",
   "metadata": {},
   "outputs": [
    {
     "data": {
      "image/png": "[encoded data removed]",
      "text/plain": [
       "Plot with title \"Compare the number of best-selling mice at different prices\""
      ]
     },
     "metadata": {
      "image/png": {
       "height": 420,
       "width": 420
      }
     },
     "output_type": "display_data"
    }
   ],
   "source": [
    "barplot(height=fast$Num, names=fast$Val,\n",
    "        col=\"#69b3a2\",\n",
    "        horiz=T, las=0,\n",
    "        xlab=\"Quantily\", \n",
    "        main=\"Compare the number of best-selling mice at different prices\",\n",
    "        )\n"
   ]
  },
  {
   "cell_type": "code",
   "execution_count": null,
   "id": "0a51a51f",
   "metadata": {},
   "outputs": [],
   "source": [
    "counts <- ddply(df, .(df$Liquidity, df$Warranty), nrow)\n",
    "counts"
   ]
  },
  {
   "cell_type": "code",
   "execution_count": 57,
   "id": "089371ae",
   "metadata": {},
   "outputs": [
    {
     "data": {
      "text/html": [
       "<table class=\"dataframe\">\n",
       "<caption>A data.frame: 6 × 20</caption>\n",
       "<thead>\n",
       "\t<tr><th></th><th scope=col>Name</th><th scope=col>Product_price</th><th scope=col>Discount</th><th scope=col>Sale_price</th><th scope=col>Valuation</th><th scope=col>Shop</th><th scope=col>Brand</th><th scope=col>Warranty</th><th scope=col>Warranty_way</th><th scope=col>Warranty_place</th><th scope=col>Quality</th><th scope=col>Sold</th><th scope=col>Liquidity</th><th scope=col>Rate</th><th scope=col>Comment</th><th scope=col>X5</th><th scope=col>X4</th><th scope=col>X3</th><th scope=col>X2</th><th scope=col>X1</th></tr>\n",
       "\t<tr><th></th><th scope=col>&lt;chr&gt;</th><th scope=col>&lt;dbl&gt;</th><th scope=col>&lt;dbl&gt;</th><th scope=col>&lt;dbl&gt;</th><th scope=col>&lt;chr&gt;</th><th scope=col>&lt;chr&gt;</th><th scope=col>&lt;chr&gt;</th><th scope=col>&lt;dbl&gt;</th><th scope=col>&lt;chr&gt;</th><th scope=col>&lt;chr&gt;</th><th scope=col>&lt;chr&gt;</th><th scope=col>&lt;dbl&gt;</th><th scope=col>&lt;chr&gt;</th><th scope=col>&lt;dbl&gt;</th><th scope=col>&lt;dbl&gt;</th><th scope=col>&lt;int&gt;</th><th scope=col>&lt;int&gt;</th><th scope=col>&lt;int&gt;</th><th scope=col>&lt;int&gt;</th><th scope=col>&lt;int&gt;</th></tr>\n",
       "</thead>\n",
       "<tbody>\n",
       "\t<tr><th scope=row>1</th><td><span style=white-space:pre-wrap>Chu&lt;U+1ED9&gt;t máy vi tính Bosston D608 led - Hàng Chính Hãng                                                                                                      </span></td><td> 60</td><td>0.05</td><td> 57.1</td><td>low price </td><td><span style=white-space:pre-wrap>                   </span></td><td>Bossto</td><td> 0</td><td><span style=white-space:pre-wrap>0                  </span></td><td><span style=white-space:pre-wrap>0                                                     </span></td><td>Good quality</td><td> 364</td><td>Fast</td><td>4.7</td><td> 93</td><td> 78</td><td> 8</td><td>5</td><td>0</td><td>2</td></tr>\n",
       "\t<tr><th scope=row>2</th><td><span style=white-space:pre-wrap>Chu&lt;U+1ED9&gt;t máy tính có dây EDRA EM602 Ð&lt;U+1ED9&gt; Phân Gi&lt;U+1EA3&gt;i 1200 DPI, choi game, cho Laptop hàng chính hãng                                               </span></td><td>148</td><td>0.00</td><td>148.0</td><td>good price</td><td>Extreme Zero Online</td><td>E-DRA </td><td>24</td><td>Tem b&lt;U+1EA3&gt;o hành</td><td><span style=white-space:pre-wrap>B&lt;U+1EA3&gt;o hành chính hãng                            </span></td><td>High quality</td><td><span style=white-space:pre-wrap>  85</span></td><td>Good</td><td>4.9</td><td> 24</td><td> 22</td><td> 2</td><td>0</td><td>0</td><td>0</td></tr>\n",
       "\t<tr><th scope=row>3</th><td><span style=white-space:pre-wrap>Chu&lt;U+1ED9&gt;t máy tính có dây G5 ES, chu&lt;U+1ED9&gt;t gaming DPI 4 c&lt;U+1EA5&gt;p d&lt;U+1ED9&gt;, hi&lt;U+1EC7&gt;u &lt;U+1EE9&gt;ng dèn n&lt;U+1EC1&gt;n 7 màu- Hàng nh&lt;U+1EAD&gt;p kh&lt;U+1EA9&gt;u    </span></td><td>129</td><td>0.00</td><td>129.0</td><td>good price</td><td>HOÀNG NHÂN COMPUTER</td><td>Zealot</td><td> 3</td><td>Tem b&lt;U+1EA3&gt;o hành</td><td>B&lt;U+1EA3&gt;o hành b&lt;U+1EDF&gt;i nhà bán hàng thông qua Tiki</td><td>Good quality</td><td> 185</td><td>Good</td><td>4.7</td><td> 64</td><td> 53</td><td> 7</td><td>0</td><td>1</td><td>3</td></tr>\n",
       "\t<tr><th scope=row>4</th><td><span style=white-space:pre-wrap>Chu&lt;U+1ED9&gt;t máy tính Newmen G10 - Hàng Chính Hãng                                                                                                               </span></td><td>145</td><td>0.00</td><td>145.0</td><td>good price</td><td><span style=white-space:pre-wrap>Vi Tính Lê Huy     </span></td><td>Newme </td><td> 0</td><td><span style=white-space:pre-wrap>0                  </span></td><td><span style=white-space:pre-wrap>0                                                     </span></td><td>Good quality</td><td>1000</td><td>Fast</td><td>4.7</td><td>135</td><td>106</td><td>20</td><td>6</td><td>0</td><td>3</td></tr>\n",
       "\t<tr><th scope=row>5</th><td><span style=white-space:pre-wrap>Chu&lt;U+1ED9&gt;t máy tính van phòng T&lt;U+1EB7&gt;ng lót chu&lt;U+1ED9&gt;t cao c&lt;U+1EA5&gt;p                                                                                      </span></td><td>158</td><td>0.00</td><td>158.0</td><td>good price</td><td><span style=white-space:pre-wrap>VLC6 Store         </span></td><td><span style=white-space:pre-wrap>OEM   </span></td><td> 0</td><td><span style=white-space:pre-wrap>0                  </span></td><td><span style=white-space:pre-wrap>0                                                     </span></td><td>Good quality</td><td><span style=white-space:pre-wrap>  55</span></td><td>Good</td><td>5.0</td><td><span style=white-space:pre-wrap>  9</span></td><td><span style=white-space:pre-wrap>  9</span></td><td> 0</td><td>0</td><td>0</td><td>0</td></tr>\n",
       "\t<tr><th scope=row>6</th><td>Chu&lt;U+1ED9&gt;t van phòng có dây, chu&lt;U+1ED9&gt;t Game HXSJ A885 DPI 5500, RGB d&lt;U+1ED5&gt;i 7 màu liên t&lt;U+1EE5&gt;c, chuyên dùng cho laptop, máy tính, pc - Hàng chính hãng</td><td>299</td><td>0.36</td><td>192.0</td><td>good price</td><td>HXSJ Official Store</td><td><span style=white-space:pre-wrap>HXSJ  </span></td><td> 6</td><td><span style=white-space:pre-wrap>Hóa don            </span></td><td>B&lt;U+1EA3&gt;o hành b&lt;U+1EDF&gt;i nhà bán hàng thông qua Tiki</td><td>Good quality</td><td><span style=white-space:pre-wrap>  39</span></td><td>Slow</td><td>5.0</td><td> 13</td><td> 13</td><td> 0</td><td>0</td><td>0</td><td>0</td></tr>\n",
       "</tbody>\n",
       "</table>\n"
      ],
      "text/latex": [
       "A data.frame: 6 × 20\n",
       "\\begin{tabular}{r|llllllllllllllllllll}\n",
       "  & Name & Product\\_price & Discount & Sale\\_price & Valuation & Shop & Brand & Warranty & Warranty\\_way & Warranty\\_place & Quality & Sold & Liquidity & Rate & Comment & X5 & X4 & X3 & X2 & X1\\\\\n",
       "  & <chr> & <dbl> & <dbl> & <dbl> & <chr> & <chr> & <chr> & <dbl> & <chr> & <chr> & <chr> & <dbl> & <chr> & <dbl> & <dbl> & <int> & <int> & <int> & <int> & <int>\\\\\n",
       "\\hline\n",
       "\t1 & Chu<U+1ED9>t máy vi tính Bosston D608 led - Hàng Chính Hãng                                                                                                       &  60 & 0.05 &  57.1 & low price  &                     & Bossto &  0 & 0                   & 0                                                      & Good quality &  364 & Fast & 4.7 &  93 &  78 &  8 & 5 & 0 & 2\\\\\n",
       "\t2 & Chu<U+1ED9>t máy tính có dây EDRA EM602 Ð<U+1ED9> Phân Gi<U+1EA3>i 1200 DPI, choi game, cho Laptop hàng chính hãng                                                & 148 & 0.00 & 148.0 & good price & Extreme Zero Online & E-DRA  & 24 & Tem b<U+1EA3>o hành & B<U+1EA3>o hành chính hãng                             & High quality &   85 & Good & 4.9 &  24 &  22 &  2 & 0 & 0 & 0\\\\\n",
       "\t3 & Chu<U+1ED9>t máy tính có dây G5 ES, chu<U+1ED9>t gaming DPI 4 c<U+1EA5>p d<U+1ED9>, hi<U+1EC7>u <U+1EE9>ng dèn n<U+1EC1>n 7 màu- Hàng nh<U+1EAD>p kh<U+1EA9>u     & 129 & 0.00 & 129.0 & good price & HOÀNG NHÂN COMPUTER & Zealot &  3 & Tem b<U+1EA3>o hành & B<U+1EA3>o hành b<U+1EDF>i nhà bán hàng thông qua Tiki & Good quality &  185 & Good & 4.7 &  64 &  53 &  7 & 0 & 1 & 3\\\\\n",
       "\t4 & Chu<U+1ED9>t máy tính Newmen G10 - Hàng Chính Hãng                                                                                                                & 145 & 0.00 & 145.0 & good price & Vi Tính Lê Huy      & Newme  &  0 & 0                   & 0                                                      & Good quality & 1000 & Fast & 4.7 & 135 & 106 & 20 & 6 & 0 & 3\\\\\n",
       "\t5 & Chu<U+1ED9>t máy tính van phòng T<U+1EB7>ng lót chu<U+1ED9>t cao c<U+1EA5>p                                                                                       & 158 & 0.00 & 158.0 & good price & VLC6 Store          & OEM    &  0 & 0                   & 0                                                      & Good quality &   55 & Good & 5.0 &   9 &   9 &  0 & 0 & 0 & 0\\\\\n",
       "\t6 & Chu<U+1ED9>t van phòng có dây, chu<U+1ED9>t Game HXSJ A885 DPI 5500, RGB d<U+1ED5>i 7 màu liên t<U+1EE5>c, chuyên dùng cho laptop, máy tính, pc - Hàng chính hãng & 299 & 0.36 & 192.0 & good price & HXSJ Official Store & HXSJ   &  6 & Hóa don             & B<U+1EA3>o hành b<U+1EDF>i nhà bán hàng thông qua Tiki & Good quality &   39 & Slow & 5.0 &  13 &  13 &  0 & 0 & 0 & 0\\\\\n",
       "\\end{tabular}\n"
      ],
      "text/markdown": [
       "\n",
       "A data.frame: 6 × 20\n",
       "\n",
       "| <!--/--> | Name &lt;chr&gt; | Product_price &lt;dbl&gt; | Discount &lt;dbl&gt; | Sale_price &lt;dbl&gt; | Valuation &lt;chr&gt; | Shop &lt;chr&gt; | Brand &lt;chr&gt; | Warranty &lt;dbl&gt; | Warranty_way &lt;chr&gt; | Warranty_place &lt;chr&gt; | Quality &lt;chr&gt; | Sold &lt;dbl&gt; | Liquidity &lt;chr&gt; | Rate &lt;dbl&gt; | Comment &lt;dbl&gt; | X5 &lt;int&gt; | X4 &lt;int&gt; | X3 &lt;int&gt; | X2 &lt;int&gt; | X1 &lt;int&gt; |\n",
       "|---|---|---|---|---|---|---|---|---|---|---|---|---|---|---|---|---|---|---|---|---|\n",
       "| 1 | Chu&lt;U+1ED9&gt;t máy vi tính Bosston D608 led - Hàng Chính Hãng                                                                                                       |  60 | 0.05 |  57.1 | low price  | <!----> | Bossto |  0 | 0                   | 0                                                      | Good quality |  364 | Fast | 4.7 |  93 |  78 |  8 | 5 | 0 | 2 |\n",
       "| 2 | Chu&lt;U+1ED9&gt;t máy tính có dây EDRA EM602 Ð&lt;U+1ED9&gt; Phân Gi&lt;U+1EA3&gt;i 1200 DPI, choi game, cho Laptop hàng chính hãng                                                | 148 | 0.00 | 148.0 | good price | Extreme Zero Online | E-DRA  | 24 | Tem b&lt;U+1EA3&gt;o hành | B&lt;U+1EA3&gt;o hành chính hãng                             | High quality |   85 | Good | 4.9 |  24 |  22 |  2 | 0 | 0 | 0 |\n",
       "| 3 | Chu&lt;U+1ED9&gt;t máy tính có dây G5 ES, chu&lt;U+1ED9&gt;t gaming DPI 4 c&lt;U+1EA5&gt;p d&lt;U+1ED9&gt;, hi&lt;U+1EC7&gt;u &lt;U+1EE9&gt;ng dèn n&lt;U+1EC1&gt;n 7 màu- Hàng nh&lt;U+1EAD&gt;p kh&lt;U+1EA9&gt;u     | 129 | 0.00 | 129.0 | good price | HOÀNG NHÂN COMPUTER | Zealot |  3 | Tem b&lt;U+1EA3&gt;o hành | B&lt;U+1EA3&gt;o hành b&lt;U+1EDF&gt;i nhà bán hàng thông qua Tiki | Good quality |  185 | Good | 4.7 |  64 |  53 |  7 | 0 | 1 | 3 |\n",
       "| 4 | Chu&lt;U+1ED9&gt;t máy tính Newmen G10 - Hàng Chính Hãng                                                                                                                | 145 | 0.00 | 145.0 | good price | Vi Tính Lê Huy      | Newme  |  0 | 0                   | 0                                                      | Good quality | 1000 | Fast | 4.7 | 135 | 106 | 20 | 6 | 0 | 3 |\n",
       "| 5 | Chu&lt;U+1ED9&gt;t máy tính van phòng T&lt;U+1EB7&gt;ng lót chu&lt;U+1ED9&gt;t cao c&lt;U+1EA5&gt;p                                                                                       | 158 | 0.00 | 158.0 | good price | VLC6 Store          | OEM    |  0 | 0                   | 0                                                      | Good quality |   55 | Good | 5.0 |   9 |   9 |  0 | 0 | 0 | 0 |\n",
       "| 6 | Chu&lt;U+1ED9&gt;t van phòng có dây, chu&lt;U+1ED9&gt;t Game HXSJ A885 DPI 5500, RGB d&lt;U+1ED5&gt;i 7 màu liên t&lt;U+1EE5&gt;c, chuyên dùng cho laptop, máy tính, pc - Hàng chính hãng | 299 | 0.36 | 192.0 | good price | HXSJ Official Store | HXSJ   |  6 | Hóa don             | B&lt;U+1EA3&gt;o hành b&lt;U+1EDF&gt;i nhà bán hàng thông qua Tiki | Good quality |   39 | Slow | 5.0 |  13 |  13 |  0 | 0 | 0 | 0 |\n",
       "\n"
      ],
      "text/plain": [
       "  Name                                                                                                                                                             \n",
       "1 Chu<U+1ED9>t máy vi tính Bosston D608 led - Hàng Chính Hãng                                                                                                      \n",
       "2 Chu<U+1ED9>t máy tính có dây EDRA EM602 Ð<U+1ED9> Phân Gi<U+1EA3>i 1200 DPI, choi game, cho Laptop hàng chính hãng                                               \n",
       "3 Chu<U+1ED9>t máy tính có dây G5 ES, chu<U+1ED9>t gaming DPI 4 c<U+1EA5>p d<U+1ED9>, hi<U+1EC7>u <U+1EE9>ng dèn n<U+1EC1>n 7 màu- Hàng nh<U+1EAD>p kh<U+1EA9>u    \n",
       "4 Chu<U+1ED9>t máy tính Newmen G10 - Hàng Chính Hãng                                                                                                               \n",
       "5 Chu<U+1ED9>t máy tính van phòng T<U+1EB7>ng lót chu<U+1ED9>t cao c<U+1EA5>p                                                                                      \n",
       "6 Chu<U+1ED9>t van phòng có dây, chu<U+1ED9>t Game HXSJ A885 DPI 5500, RGB d<U+1ED5>i 7 màu liên t<U+1EE5>c, chuyên dùng cho laptop, máy tính, pc - Hàng chính hãng\n",
       "  Product_price Discount Sale_price Valuation  Shop                Brand \n",
       "1  60           0.05      57.1      low price                      Bossto\n",
       "2 148           0.00     148.0      good price Extreme Zero Online E-DRA \n",
       "3 129           0.00     129.0      good price HOÀNG NHÂN COMPUTER Zealot\n",
       "4 145           0.00     145.0      good price Vi Tính Lê Huy      Newme \n",
       "5 158           0.00     158.0      good price VLC6 Store          OEM   \n",
       "6 299           0.36     192.0      good price HXSJ Official Store HXSJ  \n",
       "  Warranty Warranty_way       \n",
       "1  0       0                  \n",
       "2 24       Tem b<U+1EA3>o hành\n",
       "3  3       Tem b<U+1EA3>o hành\n",
       "4  0       0                  \n",
       "5  0       0                  \n",
       "6  6       Hóa don            \n",
       "  Warranty_place                                         Quality      Sold\n",
       "1 0                                                      Good quality  364\n",
       "2 B<U+1EA3>o hành chính hãng                             High quality   85\n",
       "3 B<U+1EA3>o hành b<U+1EDF>i nhà bán hàng thông qua Tiki Good quality  185\n",
       "4 0                                                      Good quality 1000\n",
       "5 0                                                      Good quality   55\n",
       "6 B<U+1EA3>o hành b<U+1EDF>i nhà bán hàng thông qua Tiki Good quality   39\n",
       "  Liquidity Rate Comment X5  X4 X3 X2 X1\n",
       "1 Fast      4.7   93      78  8 5  0  2 \n",
       "2 Good      4.9   24      22  2 0  0  0 \n",
       "3 Good      4.7   64      53  7 0  1  3 \n",
       "4 Fast      4.7  135     106 20 6  0  3 \n",
       "5 Good      5.0    9       9  0 0  0  0 \n",
       "6 Slow      5.0   13      13  0 0  0  0 "
      ]
     },
     "metadata": {},
     "output_type": "display_data"
    }
   ],
   "source": [
    "head(df)"
   ]
  },
  {
   "cell_type": "code",
   "execution_count": null,
   "id": "55836bc3",
   "metadata": {},
   "outputs": [
    {
     "name": "stderr",
     "output_type": "stream",
     "text": [
      "Your code contains a unicode char which cannot be displayed in your\n",
      "current locale and R will silently convert it to an escaped form when the\n",
      "R kernel executes this code. This can lead to subtle errors if you use\n",
      "such chars to do comparisons. For more information, please see\n",
      "https://github.com/IRkernel/repr/wiki/Problems-with-unicode-on-windows"
     ]
    }
   ],
   "source": [
    "# Biểu đồ thể hiện sự đánh giá sản phẩm giữa các brand"
   ]
  },
  {
   "cell_type": "code",
   "execution_count": null,
   "id": "50b658d8",
   "metadata": {},
   "outputs": [
    {
     "name": "stderr",
     "output_type": "stream",
     "text": [
      "Your code contains a unicode char which cannot be displayed in your\n",
      "current locale and R will silently convert it to an escaped form when the\n",
      "R kernel executes this code. This can lead to subtle errors if you use\n",
      "such chars to do comparisons. For more information, please see\n",
      "https://github.com/IRkernel/repr/wiki/Problems-with-unicode-on-windows"
     ]
    }
   ],
   "source": [
    "# Biểu đồ thể hiện giá cả trung bình giữa các brand\n"
   ]
  },
  {
   "cell_type": "code",
   "execution_count": null,
   "id": "153ada86",
   "metadata": {},
   "outputs": [],
   "source": []
  }
 ],
 "metadata": {
  "kernelspec": {
   "display_name": "R",
   "language": "R",
   "name": "ir"
  },
  "language_info": {
   "codemirror_mode": "r",
   "file_extension": ".r",
   "mimetype": "text/x-r-source",
   "name": "R",
   "pygments_lexer": "r",
   "version": "4.1.2"
  }
 },
 "nbformat": 4,
 "nbformat_minor": 5
}
