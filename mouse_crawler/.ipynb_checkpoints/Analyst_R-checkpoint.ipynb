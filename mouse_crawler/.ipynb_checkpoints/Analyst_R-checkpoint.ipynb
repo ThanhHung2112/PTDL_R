{
 "cells": [
  {
   "cell_type": "code",
   "execution_count": 1,
   "id": "e72bd53d",
   "metadata": {},
   "outputs": [],
   "source": [
    "# packages\n",
    "#install.packages(\"ggcharts\")\n",
    "#install.packages(\"rhandsontable\")\n",
    "#install.packages(\"gridExtra\")\n",
    "\n",
    "# turn off warning\n",
    "options(warn=0)"
   ]
  },
  {
   "cell_type": "code",
   "execution_count": 2,
   "id": "bcc6e62e",
   "metadata": {},
   "outputs": [],
   "source": [
    "url <-\"https://raw.githubusercontent.com/ThanhHung2112/PTDL_R/main/mouse_crawler/mouse_tiki_data.csv\"\n",
    "df <- read.csv(url, header = TRUE)"
   ]
  },
  {
   "cell_type": "code",
   "execution_count": null,
   "id": "7f037f46",
   "metadata": {},
   "outputs": [],
   "source": []
  }
 ],
 "metadata": {
  "kernelspec": {
   "display_name": "R",
   "language": "R",
   "name": "ir"
  },
  "language_info": {
   "codemirror_mode": "r",
   "file_extension": ".r",
   "mimetype": "text/x-r-source",
   "name": "R",
   "pygments_lexer": "r",
   "version": "4.1.2"
  }
 },
 "nbformat": 4,
 "nbformat_minor": 5
}
